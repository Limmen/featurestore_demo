{
 "cells": [
  {
   "cell_type": "markdown",
   "metadata": {},
   "source": [
    "## Feature Store DEMO : HopsML Meetup"
   ]
  },
  {
   "cell_type": "code",
   "execution_count": 39,
   "metadata": {},
   "outputs": [],
   "source": [
    "import numpy as np\n",
    "import pandas as pd\n",
    "from hops import featurestore\n",
    "from hops import hdfs\n",
    "import tensorflow as tf\n",
    "from tensorflow import keras\n",
    "from tensorflow.keras import layers\n",
    "from tensorflow.keras import Sequential\n",
    "import json"
   ]
  },
  {
   "cell_type": "markdown",
   "metadata": {},
   "source": [
    "#### Create Feature Group"
   ]
  },
  {
   "cell_type": "markdown",
   "metadata": {},
   "source": [
    "### Warmup"
   ]
  },
  {
   "cell_type": "code",
   "execution_count": 118,
   "metadata": {},
   "outputs": [],
   "source": [
    "sample_data = np.random.rand(100,3)"
   ]
  },
  {
   "cell_type": "code",
   "execution_count": 119,
   "metadata": {},
   "outputs": [
    {
     "name": "stdout",
     "output_type": "stream",
     "text": [
      "computing descriptive statistics for : test_featuregroup\n",
      "computing feature correlation for: test_featuregroup\n",
      "computing feature histograms for: test_featuregroup\n",
      "computing cluster analysis for: test_featuregroup\n",
      "Running sql: use demo_featurestore"
     ]
    }
   ],
   "source": [
    "featurestore.create_featuregroup(sample_data, \"test_featuregroup\")"
   ]
  },
  {
   "cell_type": "markdown",
   "metadata": {},
   "source": [
    "#### Read Feature Group"
   ]
  },
  {
   "cell_type": "code",
   "execution_count": 120,
   "metadata": {},
   "outputs": [
    {
     "name": "stdout",
     "output_type": "stream",
     "text": [
      "Running sql: use demo_featurestore\n",
      "Running sql: SELECT * FROM test_featuregroup_1"
     ]
    }
   ],
   "source": [
    "feature_df = featurestore.get_featuregroup(\"test_featuregroup\")"
   ]
  },
  {
   "cell_type": "code",
   "execution_count": 121,
   "metadata": {},
   "outputs": [
    {
     "name": "stdout",
     "output_type": "stream",
     "text": [
      "+-------------------+--------------------+-------------------+\n",
      "|              col_0|               col_1|              col_2|\n",
      "+-------------------+--------------------+-------------------+\n",
      "| 0.3029160641845098|  0.5017388251980607|0.04754059121510934|\n",
      "|0.23913436617963568|0.027381417758046922| 0.3692228938383132|\n",
      "|0.29688096188788105|  0.9692048460848801| 0.8411911201564524|\n",
      "|0.09994236920457644|  0.5955398579703832| 0.5036136767768513|\n",
      "| 0.5683744407094079|   0.410476136271438| 0.3579877133507834|\n",
      "+-------------------+--------------------+-------------------+\n",
      "only showing top 5 rows"
     ]
    }
   ],
   "source": [
    "feature_df.show(5)"
   ]
  },
  {
   "cell_type": "markdown",
   "metadata": {},
   "source": [
    "#### Read List of Features"
   ]
  },
  {
   "cell_type": "code",
   "execution_count": 124,
   "metadata": {},
   "outputs": [
    {
     "name": "stderr",
     "output_type": "stream",
     "text": [
      "\"\\nextraneous input 'ON' expecting <EOF>(line 1, pos 45)\\n\\n== SQL ==\\nSELECT col_2, col_1 FROM test_featuregroup_1 ON \\n---------------------------------------------^^^\\n\"\n",
      "Traceback (most recent call last):\n",
      "  File \"/srv/hops/anaconda/anaconda/envs/python36/lib/python3.6/site-packages/hops/featurestore.py\", line 738, in get_features\n",
      "    result = _run_and_log_sql(spark, sql_str)\n",
      "  File \"/srv/hops/anaconda/anaconda/envs/python36/lib/python3.6/site-packages/hops/featurestore.py\", line 201, in _run_and_log_sql\n",
      "    return spark.sql(sql_str)\n",
      "  File \"/srv/hops/hopsdata/tmp/nm-local-dir/usercache/dUl-vu18ajCkzC4xuTb_o-BiwK37RbZYnHhZHO79D9k/appcache/application_1548288975304_0017/container_e01_1548288975304_0017_01_000001/pyspark.zip/pyspark/sql/session.py\", line 710, in sql\n",
      "    return DataFrame(self._jsparkSession.sql(sqlQuery), self._wrapped)\n",
      "  File \"/srv/hops/hopsdata/tmp/nm-local-dir/usercache/dUl-vu18ajCkzC4xuTb_o-BiwK37RbZYnHhZHO79D9k/appcache/application_1548288975304_0017/container_e01_1548288975304_0017_01_000001/py4j-0.10.7-src.zip/py4j/java_gateway.py\", line 1257, in __call__\n",
      "    answer, self.gateway_client, self.target_id, self.name)\n",
      "  File \"/srv/hops/hopsdata/tmp/nm-local-dir/usercache/dUl-vu18ajCkzC4xuTb_o-BiwK37RbZYnHhZHO79D9k/appcache/application_1548288975304_0017/container_e01_1548288975304_0017_01_000001/pyspark.zip/pyspark/sql/utils.py\", line 73, in deco\n",
      "    raise ParseException(s.split(': ', 1)[1], stackTrace)\n",
      "pyspark.sql.utils.ParseException: \"\\nextraneous input 'ON' expecting <EOF>(line 1, pos 45)\\n\\n== SQL ==\\nSELECT col_2, col_1 FROM test_featuregroup_1 ON \\n---------------------------------------------^^^\\n\"\n",
      "\n"
     ]
    }
   ],
   "source": [
    "feature_df = featurestore.get_features([\"col_1\", \"col_2\"])"
   ]
  },
  {
   "cell_type": "code",
   "execution_count": null,
   "metadata": {},
   "outputs": [],
   "source": [
    "feature_df.show(5)"
   ]
  },
  {
   "cell_type": "markdown",
   "metadata": {},
   "source": [
    "![\"Client Service\"](./images/query_optimizer.png \"Client Service\")"
   ]
  },
  {
   "cell_type": "markdown",
   "metadata": {},
   "source": [
    "#### Create Training Dataset"
   ]
  },
  {
   "cell_type": "code",
   "execution_count": null,
   "metadata": {},
   "outputs": [],
   "source": [
    "featurestore.create_training_dataset(sample_data, \"test_training_dataset\", data_format=\"tfrecords\")"
   ]
  },
  {
   "cell_type": "markdown",
   "metadata": {},
   "source": [
    "#### Read Training Dataset"
   ]
  },
  {
   "cell_type": "code",
   "execution_count": null,
   "metadata": {},
   "outputs": [],
   "source": [
    "featurestore.get_training_dataset(\"test_training_dataset\").show(5)"
   ]
  },
  {
   "cell_type": "markdown",
   "metadata": {},
   "source": [
    "![\"abstractions\"](./images/concepts.png \"Abstractions\")"
   ]
  },
  {
   "cell_type": "markdown",
   "metadata": {},
   "source": [
    "### Titanic Disaster Prediction"
   ]
  },
  {
   "cell_type": "markdown",
   "metadata": {},
   "source": [
    "#### Read Raw Dataset"
   ]
  },
  {
   "cell_type": "code",
   "execution_count": 127,
   "metadata": {},
   "outputs": [],
   "source": [
    "titanic_data = spark.read.format(\"csv\").option(\"header\", True).option(\"inferSchema\", True).load(hdfs.project_path() + \"/Titanic/passenger_titanic.csv\")"
   ]
  },
  {
   "cell_type": "code",
   "execution_count": 128,
   "metadata": {},
   "outputs": [
    {
     "name": "stdout",
     "output_type": "stream",
     "text": [
      "+------------+--------+------+----------------+-------+-----+--------+-----+-----+\n",
      "|passenger_id|survived|pclass|          ticket|   fare|cabin|embarked|parch|sibsp|\n",
      "+------------+--------+------+----------------+-------+-----+--------+-----+-----+\n",
      "|           1|       0|     3|       A/5 21171|   7.25| null|       S|    0|    1|\n",
      "|           2|       1|     1|        PC 17599|71.2833|  C85|       C|    0|    1|\n",
      "|           3|       1|     3|STON/O2. 3101282|  7.925| null|       S|    0|    0|\n",
      "|           4|       1|     1|          113803|   53.1| C123|       S|    0|    1|\n",
      "|           5|       0|     3|          373450|   8.05| null|       S|    0|    0|\n",
      "+------------+--------+------+----------------+-------+-----+--------+-----+-----+\n",
      "only showing top 5 rows"
     ]
    }
   ],
   "source": [
    "titanic_data.show(5)"
   ]
  },
  {
   "cell_type": "code",
   "execution_count": 129,
   "metadata": {},
   "outputs": [
    {
     "name": "stdout",
     "output_type": "stream",
     "text": [
      "root\n",
      " |-- passenger_id: integer (nullable = true)\n",
      " |-- survived: integer (nullable = true)\n",
      " |-- pclass: integer (nullable = true)\n",
      " |-- ticket: string (nullable = true)\n",
      " |-- fare: double (nullable = true)\n",
      " |-- cabin: string (nullable = true)\n",
      " |-- embarked: string (nullable = true)\n",
      " |-- parch: integer (nullable = true)\n",
      " |-- sibsp: integer (nullable = true)"
     ]
    }
   ],
   "source": [
    "titanic_data.printSchema()"
   ]
  },
  {
   "cell_type": "code",
   "execution_count": null,
   "metadata": {},
   "outputs": [],
   "source": [
    "titanic_data = titanic_data.toPandas()"
   ]
  },
  {
   "cell_type": "markdown",
   "metadata": {},
   "source": [
    "#### Basic Feature Engineering"
   ]
  },
  {
   "cell_type": "code",
   "execution_count": null,
   "metadata": {},
   "outputs": [],
   "source": [
    "titanic_data[\"embarked\"].fillna('S', inplace=True)\n",
    "titanic_data['cabin'].fillna('X', inplace=True)"
   ]
  },
  {
   "cell_type": "code",
   "execution_count": null,
   "metadata": {},
   "outputs": [],
   "source": [
    "titanic_data['family_size'] = titanic_data['sibsp'] + titanic_data['parch'] + 1"
   ]
  },
  {
   "cell_type": "code",
   "execution_count": null,
   "metadata": {},
   "outputs": [],
   "source": [
    "del titanic_data[\"ticket\"]"
   ]
  },
  {
   "cell_type": "code",
   "execution_count": null,
   "metadata": {},
   "outputs": [],
   "source": [
    "del titanic_data[\"cabin\"]"
   ]
  },
  {
   "cell_type": "code",
   "execution_count": null,
   "metadata": {},
   "outputs": [],
   "source": [
    "del titanic_data[\"embarked\"]"
   ]
  },
  {
   "cell_type": "code",
   "execution_count": null,
   "metadata": {},
   "outputs": [],
   "source": [
    "titanic_data.columns"
   ]
  },
  {
   "cell_type": "code",
   "execution_count": null,
   "metadata": {},
   "outputs": [],
   "source": [
    "titanic_data.head()"
   ]
  },
  {
   "cell_type": "markdown",
   "metadata": {},
   "source": [
    "#### Publish engineered features to the Feature Store"
   ]
  },
  {
   "cell_type": "code",
   "execution_count": null,
   "metadata": {},
   "outputs": [],
   "source": [
    "featurestore.create_featuregroup(titanic_data, \"titanic_data_passengers\")"
   ]
  },
  {
   "cell_type": "markdown",
   "metadata": {},
   "source": [
    "#### Create TrainingDataset"
   ]
  },
  {
   "cell_type": "code",
   "execution_count": 2,
   "metadata": {},
   "outputs": [
    {
     "name": "stdout",
     "output_type": "stream",
     "text": [
      "Running sql: use demo_featurestore\n",
      "Running sql: SELECT family_size, fare, sibsp, pclass, age, survived, sex, married, parch, income, country FROM titanic_data_passengers_1 JOIN demographic_data_1 ON titanic_data_passengers_1.`passenger_id`=demographic_data_1.`passenger_id`"
     ]
    }
   ],
   "source": [
    "#\"survived\", \"pclass\", \"fare\", \"embarked\", \"parch\", \"sibsp\", \"family_size\",\n",
    "# \"age\", \"country\", \"income\", \"sex\", \"married\"\n",
    "feature_names = [\"pclass\", \"fare\", \"parch\", \"sibsp\", \"family_size\",\n",
    "                \"age\", \"country\", \"income\", \"sex\", \"married\"]\n",
    "label_name = \"survived\"\n",
    "features_df = featurestore.get_features(feature_names + [label_name])"
   ]
  },
  {
   "cell_type": "code",
   "execution_count": 3,
   "metadata": {},
   "outputs": [
    {
     "name": "stdout",
     "output_type": "stream",
     "text": [
      "+-----------+-------+-----+------+----+--------+---+-------+-----+------------------+-------+\n",
      "|family_size|   fare|sibsp|pclass| age|survived|sex|married|parch|            income|country|\n",
      "+-----------+-------+-----+------+----+--------+---+-------+-----+------------------+-------+\n",
      "|          2|   7.25|    1|     3|22.0|       0|  1|      0|    0|  1302.88905370989|      2|\n",
      "|          2|71.2833|    1|     1|38.0|       1|  0|      1|    0|1198.1026294309308|      4|\n",
      "|          1|  7.925|    0|     3|26.0|       1|  0|      1|    0|1348.7551412703115|      3|\n",
      "|          2|   53.1|    1|     1|35.0|       1|  0|      0|    0| 1104.609165686405|      5|\n",
      "|          1|   8.05|    0|     3|35.0|       0|  1|      1|    0|1345.7895413977471|      3|\n",
      "+-----------+-------+-----+------+----+--------+---+-------+-----+------------------+-------+\n",
      "only showing top 5 rows"
     ]
    }
   ],
   "source": [
    "features_df.show(5)"
   ]
  },
  {
   "cell_type": "code",
   "execution_count": 4,
   "metadata": {},
   "outputs": [
    {
     "name": "stdout",
     "output_type": "stream",
     "text": [
      "root\n",
      " |-- family_size: long (nullable = true)\n",
      " |-- fare: double (nullable = true)\n",
      " |-- sibsp: long (nullable = true)\n",
      " |-- pclass: long (nullable = true)\n",
      " |-- age: double (nullable = true)\n",
      " |-- survived: long (nullable = true)\n",
      " |-- sex: integer (nullable = true)\n",
      " |-- married: integer (nullable = true)\n",
      " |-- parch: long (nullable = true)\n",
      " |-- income: double (nullable = true)\n",
      " |-- country: integer (nullable = true)"
     ]
    }
   ],
   "source": [
    "features_df.printSchema()"
   ]
  },
  {
   "cell_type": "code",
   "execution_count": 5,
   "metadata": {},
   "outputs": [
    {
     "name": "stdout",
     "output_type": "stream",
     "text": [
      "computing descriptive statistics for : titanic_disaster_prediction\n",
      "computing feature correlation for: titanic_disaster_prediction\n",
      "computing feature histograms for: titanic_disaster_prediction\n",
      "computing cluster analysis for: titanic_disaster_prediction"
     ]
    }
   ],
   "source": [
    "td_name = \"titanic_disaster_prediction\"\n",
    "featurestore.create_training_dataset(features_df, td_name)"
   ]
  },
  {
   "cell_type": "markdown",
   "metadata": {},
   "source": [
    "#### Use Training Dataset to Train a Model"
   ]
  },
  {
   "cell_type": "markdown",
   "metadata": {},
   "source": [
    "###### Create Tensorflow Dataset"
   ]
  },
  {
   "cell_type": "code",
   "execution_count": 108,
   "metadata": {},
   "outputs": [],
   "source": [
    "dataset_dir = featurestore.get_training_dataset_path(td_name)\n",
    "input_files = tf.gfile.Glob(dataset_dir + \"/part-r-*\")\n",
    "dataset = tf.data.TFRecordDataset(input_files)"
   ]
  },
  {
   "cell_type": "markdown",
   "metadata": {},
   "source": [
    "###### Parse ProtoBuf files into Tensors"
   ]
  },
  {
   "cell_type": "code",
   "execution_count": 109,
   "metadata": {},
   "outputs": [],
   "source": [
    "tf_record_schema = featurestore.get_training_dataset_tf_record_schema(td_name)"
   ]
  },
  {
   "cell_type": "code",
   "execution_count": 110,
   "metadata": {},
   "outputs": [],
   "source": [
    "def decode(example_proto):\n",
    "    example = tf.parse_single_example(example_proto, tf_record_schema)\n",
    "    x = []\n",
    "    for feature_name in feature_names:\n",
    "        x.append(tf.cast(example[feature_name], tf.float32))\n",
    "    y = [tf.cast(example[label_name], tf.float32)]\n",
    "    return x,y"
   ]
  },
  {
   "cell_type": "code",
   "execution_count": 111,
   "metadata": {},
   "outputs": [],
   "source": [
    "dataset = dataset.map(decode).shuffle(1000).batch(50).repeat(100)"
   ]
  },
  {
   "cell_type": "code",
   "execution_count": 112,
   "metadata": {},
   "outputs": [],
   "source": [
    "model = tf.keras.Sequential([\n",
    "layers.Dense(64, activation='relu', kernel_initializer=\"uniform\"),\n",
    "layers.Dense(64, activation='relu', kernel_initializer=\"uniform\"),\n",
    "layers.Dense(32, activation='relu', kernel_initializer=\"uniform\"),\n",
    "layers.Dense(16, activation='relu', kernel_initializer=\"uniform\"),\n",
    "layers.Dense(8, activation='relu', kernel_initializer=\"uniform\"),\n",
    "layers.Dense(4, activation='relu', kernel_initializer=\"uniform\"),\n",
    "layers.Dense(1, activation='sigmoid', kernel_initializer=\"uniform\"),\n",
    "])\n",
    "model.compile(optimizer=tf.train.AdamOptimizer(0.005), loss='binary_crossentropy', metrics=['accuracy'])"
   ]
  },
  {
   "cell_type": "code",
   "execution_count": 113,
   "metadata": {},
   "outputs": [
    {
     "name": "stdout",
     "output_type": "stream",
     "text": [
      "Epoch 1/100\n",
      "\r",
      "1/5 [=====>........................] - ETA: 5s - loss: 0.6931 - acc: 0.5400\b\b\b\b\b\b\b\b\b\b\b\b\b\b\b\b\b\b\b\b\b\b\b\b\b\b\b\b\b\b\b\b\b\b\b\b\b\b\b\b\b\b\b\b\b\b\b\b\b\b\b\b\b\b\b\b\b\b\b\b\b\b\b\b\b\b\b\b\b\b\b\b\b\b\b\r",
      "5/5 [==============================] - 1s 280ms/step - loss: 0.6917 - acc: 0.6160\n",
      "Epoch 2/100\n",
      "\r",
      "1/5 [=====>........................] - ETA: 0s - loss: 0.6910 - acc: 0.5800\b\b\b\b\b\b\b\b\b\b\b\b\b\b\b\b\b\b\b\b\b\b\b\b\b\b\b\b\b\b\b\b\b\b\b\b\b\b\b\b\b\b\b\b\b\b\b\b\b\b\b\b\b\b\b\b\b\b\b\b\b\b\b\b\b\b\b\b\b\b\b\b\b\b\b\r",
      "5/5 [==============================] - 0s 5ms/step - loss: 0.6850 - acc: 0.6240\n",
      "Epoch 3/100\n",
      "\r",
      "1/5 [=====>........................] - ETA: 0s - loss: 0.6676 - acc: 0.6600\b\b\b\b\b\b\b\b\b\b\b\b\b\b\b\b\b\b\b\b\b\b\b\b\b\b\b\b\b\b\b\b\b\b\b\b\b\b\b\b\b\b\b\b\b\b\b\b\b\b\b\b\b\b\b\b\b\b\b\b\b\b\b\b\b\b\b\b\b\b\b\b\b\b\b\r",
      "5/5 [==============================] - 0s 4ms/step - loss: 0.6755 - acc: 0.6040\n",
      "Epoch 4/100\n",
      "\r",
      "1/5 [=====>........................] - ETA: 0s - loss: 0.6420 - acc: 0.6600\b\b\b\b\b\b\b\b\b\b\b\b\b\b\b\b\b\b\b\b\b\b\b\b\b\b\b\b\b\b\b\b\b\b\b\b\b\b\b\b\b\b\b\b\b\b\b\b\b\b\b\b\b\b\b\b\b\b\b\b\b\b\b\b\b\b\b\b\b\b\b\b\b\b\b\r",
      "4/5 [=======================>......] - ETA: 0s - loss: 0.6445 - acc: 0.6557\b\b\b\b\b\b\b\b\b\b\b\b\b\b\b\b\b\b\b\b\b\b\b\b\b\b\b\b\b\b\b\b\b\b\b\b\b\b\b\b\b\b\b\b\b\b\b\b\b\b\b\b\b\b\b\b\b\b\b\b\b\b\b\b\b\b\b\b\b\b\b\b\b\b\b\r",
      "5/5 [==============================] - 0s 65ms/step - loss: 0.6345 - acc: 0.6726\n",
      "Epoch 5/100\n",
      "\r",
      "1/5 [=====>........................] - ETA: 0s - loss: 0.8072 - acc: 0.4400\b\b\b\b\b\b\b\b\b\b\b\b\b\b\b\b\b\b\b\b\b\b\b\b\b\b\b\b\b\b\b\b\b\b\b\b\b\b\b\b\b\b\b\b\b\b\b\b\b\b\b\b\b\b\b\b\b\b\b\b\b\b\b\b\b\b\b\b\b\b\b\b\b\b\b\r",
      "5/5 [==============================] - 0s 4ms/step - loss: 0.6932 - acc: 0.5840\n",
      "Epoch 6/100\n",
      "\r",
      "1/5 [=====>........................] - ETA: 0s - loss: 0.6760 - acc: 0.5800\b\b\b\b\b\b\b\b\b\b\b\b\b\b\b\b\b\b\b\b\b\b\b\b\b\b\b\b\b\b\b\b\b\b\b\b\b\b\b\b\b\b\b\b\b\b\b\b\b\b\b\b\b\b\b\b\b\b\b\b\b\b\b\b\b\b\b\b\b\b\b\b\b\b\b\r",
      "5/5 [==============================] - 0s 4ms/step - loss: 0.6645 - acc: 0.6200\n",
      "Epoch 7/100\n",
      "\r",
      "1/5 [=====>........................] - ETA: 0s - loss: 0.6813 - acc: 0.5800\b\b\b\b\b\b\b\b\b\b\b\b\b\b\b\b\b\b\b\b\b\b\b\b\b\b\b\b\b\b\b\b\b\b\b\b\b\b\b\b\b\b\b\b\b\b\b\b\b\b\b\b\b\b\b\b\b\b\b\b\b\b\b\b\b\b\b\b\b\b\b\b\b\b\b\r",
      "5/5 [==============================] - 0s 5ms/step - loss: 0.6742 - acc: 0.5920\n",
      "Epoch 8/100\n",
      "\r",
      "1/5 [=====>........................] - ETA: 0s - loss: 0.6581 - acc: 0.6341\b\b\b\b\b\b\b\b\b\b\b\b\b\b\b\b\b\b\b\b\b\b\b\b\b\b\b\b\b\b\b\b\b\b\b\b\b\b\b\b\b\b\b\b\b\b\b\b\b\b\b\b\b\b\b\b\b\b\b\b\b\b\b\b\b\b\b\b\b\b\b\b\b\b\b\r",
      "2/5 [===========>..................] - ETA: 0s - loss: 0.6341 - acc: 0.6971\b\b\b\b\b\b\b\b\b\b\b\b\b\b\b\b\b\b\b\b\b\b\b\b\b\b\b\b\b\b\b\b\b\b\b\b\b\b\b\b\b\b\b\b\b\b\b\b\b\b\b\b\b\b\b\b\b\b\b\b\b\b\b\b\b\b\b\b\b\b\b\b\b\b\b\r",
      "5/5 [==============================] - 0s 53ms/step - loss: 0.6408 - acc: 0.6668\n",
      "Epoch 9/100\n",
      "\r",
      "1/5 [=====>........................] - ETA: 0s - loss: 0.6911 - acc: 0.5800\b\b\b\b\b\b\b\b\b\b\b\b\b\b\b\b\b\b\b\b\b\b\b\b\b\b\b\b\b\b\b\b\b\b\b\b\b\b\b\b\b\b\b\b\b\b\b\b\b\b\b\b\b\b\b\b\b\b\b\b\b\b\b\b\b\b\b\b\b\b\b\b\b\b\b\r",
      "5/5 [==============================] - 0s 4ms/step - loss: 0.6884 - acc: 0.5760\n",
      "Epoch 10/100\n",
      "\r",
      "1/5 [=====>........................] - ETA: 0s - loss: 0.7071 - acc: 0.5200\b\b\b\b\b\b\b\b\b\b\b\b\b\b\b\b\b\b\b\b\b\b\b\b\b\b\b\b\b\b\b\b\b\b\b\b\b\b\b\b\b\b\b\b\b\b\b\b\b\b\b\b\b\b\b\b\b\b\b\b\b\b\b\b\b\b\b\b\b\b\b\b\b\b\b\r",
      "5/5 [==============================] - 0s 4ms/step - loss: 0.6732 - acc: 0.6040\n",
      "Epoch 11/100\n",
      "\r",
      "1/5 [=====>........................] - ETA: 0s - loss: 0.6633 - acc: 0.6400\b\b\b\b\b\b\b\b\b\b\b\b\b\b\b\b\b\b\b\b\b\b\b\b\b\b\b\b\b\b\b\b\b\b\b\b\b\b\b\b\b\b\b\b\b\b\b\b\b\b\b\b\b\b\b\b\b\b\b\b\b\b\b\b\b\b\b\b\b\b\b\b\b\b\b\r",
      "5/5 [==============================] - 0s 61ms/step - loss: 0.6675 - acc: 0.6223\n",
      "Epoch 12/100\n",
      "\r",
      "1/5 [=====>........................] - ETA: 0s - loss: 0.6567 - acc: 0.6400\b\b\b\b\b\b\b\b\b\b\b\b\b\b\b\b\b\b\b\b\b\b\b\b\b\b\b\b\b\b\b\b\b\b\b\b\b\b\b\b\b\b\b\b\b\b\b\b\b\b\b\b\b\b\b\b\b\b\b\b\b\b\b\b\b\b\b\b\b\b\b\b\b\b\b\r",
      "5/5 [==============================] - 0s 5ms/step - loss: 0.6686 - acc: 0.6040\n",
      "Epoch 13/100\n",
      "\r",
      "1/5 [=====>........................] - ETA: 0s - loss: 0.6528 - acc: 0.6400\b\b\b\b\b\b\b\b\b\b\b\b\b\b\b\b\b\b\b\b\b\b\b\b\b\b\b\b\b\b\b\b\b\b\b\b\b\b\b\b\b\b\b\b\b\b\b\b\b\b\b\b\b\b\b\b\b\b\b\b\b\b\b\b\b\b\b\b\b\b\b\b\b\b\b\r",
      "5/5 [==============================] - 0s 4ms/step - loss: 0.6403 - acc: 0.6480\n",
      "Epoch 14/100\n",
      "\r",
      "1/5 [=====>........................] - ETA: 0s - loss: 0.6278 - acc: 0.6600\b\b\b\b\b\b\b\b\b\b\b\b\b\b\b\b\b\b\b\b\b\b\b\b\b\b\b\b\b\b\b\b\b\b\b\b\b\b\b\b\b\b\b\b\b\b\b\b\b\b\b\b\b\b\b\b\b\b\b\b\b\b\b\b\b\b\b\b\b\b\b\b\b\b\b\r",
      "5/5 [==============================] - 0s 5ms/step - loss: 0.6606 - acc: 0.6240\n",
      "Epoch 15/100\n",
      "\r",
      "1/5 [=====>........................] - ETA: 0s - loss: 0.7726 - acc: 0.4400\b\b\b\b\b\b\b\b\b\b\b\b\b\b\b\b\b\b\b\b\b\b\b\b\b\b\b\b\b\b\b\b\b\b\b\b\b\b\b\b\b\b\b\b\b\b\b\b\b\b\b\b\b\b\b\b\b\b\b\b\b\b\b\b\b\b\b\b\b\b\b\b\b\b\b\r",
      "3/5 [=================>............] - ETA: 0s - loss: 0.6898 - acc: 0.5610\b\b\b\b\b\b\b\b\b\b\b\b\b\b\b\b\b\b\b\b\b\b\b\b\b\b\b\b\b\b\b\b\b\b\b\b\b\b\b\b\b\b\b\b\b\b\b\b\b\b\b\b\b\b\b\b\b\b\b\b\b\b\b\b\b\b\b\b\b\b\b\b\b\b\b\r",
      "5/5 [==============================] - 0s 53ms/step - loss: 0.6864 - acc: 0.5606\n",
      "Epoch 16/100\n",
      "\r",
      "1/5 [=====>........................] - ETA: 0s - loss: 0.6655 - acc: 0.6400\b\b\b\b\b\b\b\b\b\b\b\b\b\b\b\b\b\b\b\b\b\b\b\b\b\b\b\b\b\b\b\b\b\b\b\b\b\b\b\b\b\b\b\b\b\b\b\b\b\b\b\b\b\b\b\b\b\b\b\b\b\b\b\b\b\b\b\b\b\b\b\b\b\b\b\r",
      "5/5 [==============================] - 0s 4ms/step - loss: 0.6685 - acc: 0.6240\n",
      "Epoch 17/100\n",
      "\r",
      "1/5 [=====>........................] - ETA: 0s - loss: 0.6680 - acc: 0.6400\b\b\b\b\b\b\b\b\b\b\b\b\b\b\b\b\b\b\b\b\b\b\b\b\b\b\b\b\b\b\b\b\b\b\b\b\b\b\b\b\b\b\b\b\b\b\b\b\b\b\b\b\b\b\b\b\b\b\b\b\b\b\b\b\b\b\b\b\b\b\b\b\b\b\b\r",
      "5/5 [==============================] - 0s 9ms/step - loss: 0.6577 - acc: 0.6760\n",
      "Epoch 18/100\n",
      "\r",
      "1/5 [=====>........................] - ETA: 0s - loss: 0.6764 - acc: 0.5800\b\b\b\b\b\b\b\b\b\b\b\b\b\b\b\b\b\b\b\b\b\b\b\b\b\b\b\b\b\b\b\b\b\b\b\b\b\b\b\b\b\b\b\b\b\b\b\b\b\b\b\b\b\b\b\b\b\b\b\b\b\b\b\b\b\b\b\b\b\b\b\b\b\b\b\r",
      "5/5 [==============================] - 0s 6ms/step - loss: 0.6700 - acc: 0.5802\n",
      "Epoch 19/100\n",
      "\r",
      "1/5 [=====>........................] - ETA: 1s - loss: 0.6358 - acc: 0.6600\b\b\b\b\b\b\b\b\b\b\b\b\b\b\b\b\b\b\b\b\b\b\b\b\b\b\b\b\b\b\b\b\b\b\b\b\b\b\b\b\b\b\b\b\b\b\b\b\b\b\b\b\b\b\b\b\b\b\b\b\b\b\b\b\b\b\b\b\b\b\b\b\b\b\b\r",
      "5/5 [==============================] - 0s 67ms/step - loss: 0.6561 - acc: 0.6040\n",
      "Epoch 20/100\n",
      "\r",
      "1/5 [=====>........................] - ETA: 0s - loss: 0.6118 - acc: 0.6600\b\b\b\b\b\b\b\b\b\b\b\b\b\b\b\b\b\b\b\b\b\b\b\b\b\b\b\b\b\b\b\b\b\b\b\b\b\b\b\b\b\b\b\b\b\b\b\b\b\b\b\b\b\b\b\b\b\b\b\b\b\b\b\b\b\b\b\b\b\b\b\b\b\b\b\r",
      "5/5 [==============================] - 0s 4ms/step - loss: 0.6492 - acc: 0.6280\n",
      "Epoch 21/100\n",
      "\r",
      "1/5 [=====>........................] - ETA: 0s - loss: 0.5479 - acc: 0.7800\b\b\b\b\b\b\b\b\b\b\b\b\b\b\b\b\b\b\b\b\b\b\b\b\b\b\b\b\b\b\b\b\b\b\b\b\b\b\b\b\b\b\b\b\b\b\b\b\b\b\b\b\b\b\b\b\b\b\b\b\b\b\b\b\b\b\b\b\b\b\b\b\b\b\b\r",
      "5/5 [==============================] - 0s 4ms/step - loss: 0.6369 - acc: 0.6360\n",
      "Epoch 22/100\n",
      "\r",
      "1/5 [=====>........................] - ETA: 0s - loss: 0.6632 - acc: 0.5800\b\b\b\b\b\b\b\b\b\b\b\b\b\b\b\b\b\b\b\b\b\b\b\b\b\b\b\b\b\b\b\b\b\b\b\b\b\b\b\b\b\b\b\b\b\b\b\b\b\b\b\b\b\b\b\b\b\b\b\b\b\b\b\b\b\b\b\b\b\b\b\b\b\b\b\r",
      "4/5 [=======================>......] - ETA: 0s - loss: 0.6416 - acc: 0.6052\b\b\b\b\b\b\b\b\b\b\b\b\b\b\b\b\b\b\b\b\b\b\b\b\b\b\b\b\b\b\b\b\b\b\b\b\b\b\b\b\b\b\b\b\b\b\b\b\b\b\b\b\b\b\b\b\b\b\b\b\b\b\b\b\b\b\b\b\b\b\b\b\b\b\b\r",
      "5/5 [==============================] - 0s 47ms/step - loss: 0.6478 - acc: 0.6002\n",
      "Epoch 23/100\n",
      "\r",
      "1/5 [=====>........................] - ETA: 0s - loss: 0.6831 - acc: 0.5200\b\b\b\b\b\b\b\b\b\b\b\b\b\b\b\b\b\b\b\b\b\b\b\b\b\b\b\b\b\b\b\b\b\b\b\b\b\b\b\b\b\b\b\b\b\b\b\b\b\b\b\b\b\b\b\b\b\b\b\b\b\b\b\b\b\b\b\b\b\b\b\b\b\b\b\r",
      "5/5 [==============================] - 0s 4ms/step - loss: 0.6411 - acc: 0.6160\n",
      "Epoch 24/100\n",
      "\r",
      "1/5 [=====>........................] - ETA: 0s - loss: 0.6952 - acc: 0.5200\b\b\b\b\b\b\b\b\b\b\b\b\b\b\b\b\b\b\b\b\b\b\b\b\b\b\b\b\b\b\b\b\b\b\b\b\b\b\b\b\b\b\b\b\b\b\b\b\b\b\b\b\b\b\b\b\b\b\b\b\b\b\b\b\b\b\b\b\b\b\b\b\b\b\b\r",
      "5/5 [==============================] - 0s 4ms/step - loss: 0.6419 - acc: 0.6000\n",
      "Epoch 25/100\n",
      "\r",
      "1/5 [=====>........................] - ETA: 0s - loss: 0.6444 - acc: 0.5800\b\b\b\b\b\b\b\b\b\b\b\b\b\b\b\b\b\b\b\b\b\b\b\b\b\b\b\b\b\b\b\b\b\b\b\b\b\b\b\b\b\b\b\b\b\b\b\b\b\b\b\b\b\b\b\b\b\b\b\b\b\b\b\b\b\b\b\b\b\b\b\b\b\b\b\r",
      "5/5 [==============================] - 0s 4ms/step - loss: 0.6317 - acc: 0.6240\n",
      "Epoch 26/100\n",
      "\r",
      "1/5 [=====>........................] - ETA: 0s - loss: 0.5776 - acc: 0.6341\b\b\b\b\b\b\b\b\b\b\b\b\b\b\b\b\b\b\b\b\b\b\b\b\b\b\b\b\b\b\b\b\b\b\b\b\b\b\b\b\b\b\b\b\b\b\b\b\b\b\b\b\b\b\b\b\b\b\b\b\b\b\b\b\b\b\b\b\b\b\b\b\b\b\b\r",
      "2/5 [===========>..................] - ETA: 0s - loss: 0.5706 - acc: 0.6671\b\b\b\b\b\b\b\b\b\b\b\b\b\b\b\b\b\b\b\b\b\b\b\b\b\b\b\b\b\b\b\b\b\b\b\b\b\b\b\b\b\b\b\b\b\b\b\b\b\b\b\b\b\b\b\b\b\b\b\b\b\b\b\b\b\b\b\b\b\b\b\b\b\b\b\r",
      "5/5 [==============================] - 0s 56ms/step - loss: 0.6272 - acc: 0.6188\n",
      "Epoch 27/100\n",
      "\r",
      "1/5 [=====>........................] - ETA: 0s - loss: 0.6081 - acc: 0.7000\b\b\b\b\b\b\b\b\b\b\b\b\b\b\b\b\b\b\b\b\b\b\b\b\b\b\b\b\b\b\b\b\b\b\b\b\b\b\b\b\b\b\b\b\b\b\b\b\b\b\b\b\b\b\b\b\b\b\b\b\b\b\b\b\b\b\b\b\b\b\b\b\b\b\b\r",
      "5/5 [==============================] - 0s 5ms/step - loss: 0.6224 - acc: 0.6280\n",
      "Epoch 28/100\n",
      "\r",
      "1/5 [=====>........................] - ETA: 0s - loss: 0.6286 - acc: 0.6000\b\b\b\b\b\b\b\b\b\b\b\b\b\b\b\b\b\b\b\b\b\b\b\b\b\b\b\b\b\b\b\b\b\b\b\b\b\b\b\b\b\b\b\b\b\b\b\b\b\b\b\b\b\b\b\b\b\b\b\b\b\b\b\b\b\b\b\b\b\b\b\b\b\b\b\r",
      "5/5 [==============================] - 0s 4ms/step - loss: 0.6002 - acc: 0.6360\n",
      "Epoch 29/100\n",
      "\r",
      "1/5 [=====>........................] - ETA: 0s - loss: 0.7108 - acc: 0.4800\b\b\b\b\b\b\b\b\b\b\b\b\b\b\b\b\b\b\b\b\b\b\b\b\b\b\b\b\b\b\b\b\b\b\b\b\b\b\b\b\b\b\b\b\b\b\b\b\b\b\b\b\b\b\b\b\b\b\b\b\b\b\b\b\b\b\b\b\b\b\b\b\b\b\b\r",
      "5/5 [==============================] - 0s 50ms/step - loss: 0.6522 - acc: 0.5686\n",
      "Epoch 30/100\n",
      "\r",
      "1/5 [=====>........................] - ETA: 0s - loss: 0.6288 - acc: 0.5800\b\b\b\b\b\b\b\b\b\b\b\b\b\b\b\b\b\b\b\b\b\b\b\b\b\b\b\b\b\b\b\b\b\b\b\b\b\b\b\b\b\b\b\b\b\b\b\b\b\b\b\b\b\b\b\b\b\b\b\b\b\b\b\b\b\b\b\b\b\b\b\b\b\b\b\r",
      "5/5 [==============================] - 0s 4ms/step - loss: 0.6204 - acc: 0.5960\n",
      "Epoch 31/100\n",
      "\r",
      "1/5 [=====>........................] - ETA: 0s - loss: 0.5796 - acc: 0.6000\b\b\b\b\b\b\b\b\b\b\b\b\b\b\b\b\b\b\b\b\b\b\b\b\b\b\b\b\b\b\b\b\b\b\b\b\b\b\b\b\b\b\b\b\b\b\b\b\b\b\b\b\b\b\b\b\b\b\b\b\b\b\b\b\b\b\b\b\b\b\b\b\b\b\b\r",
      "5/5 [==============================] - 0s 4ms/step - loss: 0.6027 - acc: 0.6360\n",
      "Epoch 32/100\n",
      "\r",
      "1/5 [=====>........................] - ETA: 0s - loss: 0.6098 - acc: 0.5800\b\b\b\b\b\b\b\b\b\b\b\b\b\b\b\b\b\b\b\b\b\b\b\b\b\b\b\b\b\b\b\b\b\b\b\b\b\b\b\b\b\b\b\b\b\b\b\b\b\b\b\b\b\b\b\b\b\b\b\b\b\b\b\b\b\b\b\b\b\b\b\b\b\b\b\r",
      "5/5 [==============================] - 0s 4ms/step - loss: 0.6150 - acc: 0.6200\n",
      "Epoch 33/100\n",
      "\r",
      "1/5 [=====>........................] - ETA: 0s - loss: 0.6138 - acc: 0.6200\b\b\b\b\b\b\b\b\b\b\b\b\b\b\b\b\b\b\b\b\b\b\b\b\b\b\b\b\b\b\b\b\b\b\b\b\b\b\b\b\b\b\b\b\b\b\b\b\b\b\b\b\b\b\b\b\b\b\b\b\b\b\b\b\b\b\b\b\b\b\b\b\b\b\b\r",
      "3/5 [=================>............] - ETA: 0s - loss: 0.6067 - acc: 0.6891\b\b\b\b\b\b\b\b\b\b\b\b\b\b\b\b\b\b\b\b\b\b\b\b\b\b\b\b\b\b\b\b\b\b\b\b\b\b\b\b\b\b\b\b\b\b\b\b\b\b\b\b\b\b\b\b\b\b\b\b\b\b\b\b\b\b\b\b\b\b\b\b\b\b\b\r",
      "5/5 [==============================] - 0s 49ms/step - loss: 0.6059 - acc: 0.6695\n",
      "Epoch 34/100\n",
      "\r",
      "1/5 [=====>........................] - ETA: 0s - loss: 0.5881 - acc: 0.6200\b\b\b\b\b\b\b\b\b\b\b\b\b\b\b\b\b\b\b\b\b\b\b\b\b\b\b\b\b\b\b\b\b\b\b\b\b\b\b\b\b\b\b\b\b\b\b\b\b\b\b\b\b\b\b\b\b\b\b\b\b\b\b\b\b\b\b\b\b\b\b\b\b\b\b\r",
      "5/5 [==============================] - 0s 3ms/step - loss: 0.5798 - acc: 0.6600\n",
      "Epoch 35/100\n",
      "\r",
      "1/5 [=====>........................] - ETA: 0s - loss: 0.7079 - acc: 0.5200\b\b\b\b\b\b\b\b\b\b\b\b\b\b\b\b\b\b\b\b\b\b\b\b\b\b\b\b\b\b\b\b\b\b\b\b\b\b\b\b\b\b\b\b\b\b\b\b\b\b\b\b\b\b\b\b\b\b\b\b\b\b\b\b\b\b\b\b\b\b\b\b\b\b\b\r",
      "5/5 [==============================] - 0s 4ms/step - loss: 0.6487 - acc: 0.5880\n",
      "Epoch 36/100\n",
      "\r",
      "1/5 [=====>........................] - ETA: 0s - loss: 0.6191 - acc: 0.6600\b\b\b\b\b\b\b\b\b\b\b\b\b\b\b\b\b\b\b\b\b\b\b\b\b\b\b\b\b\b\b\b\b\b\b\b\b\b\b\b\b\b\b\b\b\b\b\b\b\b\b\b\b\b\b\b\b\b\b\b\b\b\b\b\b\b\b\b\b\b\b\b\b\b\b\r",
      "5/5 [==============================] - 0s 3ms/step - loss: 0.6406 - acc: 0.6277\n",
      "Epoch 37/100\n",
      "\r",
      "1/5 [=====>........................] - ETA: 0s - loss: 0.5784 - acc: 0.7800\b\b\b\b\b\b\b\b\b\b\b\b\b\b\b\b\b\b\b\b\b\b\b\b\b\b\b\b\b\b\b\b\b\b\b\b\b\b\b\b\b\b\b\b\b\b\b\b\b\b\b\b\b\b\b\b\b\b\b\b\b\b\b\b\b\b\b\b\b\b\b\b\b\b\b\r",
      "5/5 [==============================] - 0s 52ms/step - loss: 0.5991 - acc: 0.7240\n",
      "Epoch 38/100\n",
      "\r",
      "1/5 [=====>........................] - ETA: 0s - loss: 0.5692 - acc: 0.7200\b\b\b\b\b\b\b\b\b\b\b\b\b\b\b\b\b\b\b\b\b\b\b\b\b\b\b\b\b\b\b\b\b\b\b\b\b\b\b\b\b\b\b\b\b\b\b\b\b\b\b\b\b\b\b\b\b\b\b\b\b\b\b\b\b\b\b\b\b\b\b\b\b\b\b\r",
      "5/5 [==============================] - 0s 4ms/step - loss: 0.6125 - acc: 0.6760\n",
      "Epoch 39/100\n",
      "\r",
      "1/5 [=====>........................] - ETA: 0s - loss: 0.6301 - acc: 0.6200\b\b\b\b\b\b\b\b\b\b\b\b\b\b\b\b\b\b\b\b\b\b\b\b\b\b\b\b\b\b\b\b\b\b\b\b\b\b\b\b\b\b\b\b\b\b\b\b\b\b\b\b\b\b\b\b\b\b\b\b\b\b\b\b\b\b\b\b\b\b\b\b\b\b\b\r",
      "5/5 [==============================] - 0s 5ms/step - loss: 0.6238 - acc: 0.6800\n",
      "Epoch 40/100\n",
      "\r",
      "1/5 [=====>........................] - ETA: 0s - loss: 0.6505 - acc: 0.6200\b\b\b\b\b\b\b\b\b\b\b\b\b\b\b\b\b\b\b\b\b\b\b\b\b\b\b\b\b\b\b\b\b\b\b\b\b\b\b\b\b\b\b\b\b\b\b\b\b\b\b\b\b\b\b\b\b\b\b\b\b\b\b\b\b\b\b\b\b\b\b\b\b\b\b\r",
      "4/5 [=======================>......] - ETA: 0s - loss: 0.6397 - acc: 0.6335\b\b\b\b\b\b\b\b\b\b\b\b\b\b\b\b\b\b\b\b\b\b\b\b\b\b\b\b\b\b\b\b\b\b\b\b\b\b\b\b\b\b\b\b\b\b\b\b\b\b\b\b\b\b\b\b\b\b\b\b\b\b\b\b\b\b\b\b\b\b\b\b\b\b\b\r",
      "5/5 [==============================] - 0s 67ms/step - loss: 0.6322 - acc: 0.6268\n",
      "Epoch 41/100\n",
      "\r",
      "1/5 [=====>........................] - ETA: 0s - loss: 0.6286 - acc: 0.7400\b\b\b\b\b\b\b\b\b\b\b\b\b\b\b\b\b\b\b\b\b\b\b\b\b\b\b\b\b\b\b\b\b\b\b\b\b\b\b\b\b\b\b\b\b\b\b\b\b\b\b\b\b\b\b\b\b\b\b\b\b\b\b\b\b\b\b\b\b\b\b\b\b\b\b\r",
      "5/5 [==============================] - 0s 5ms/step - loss: 0.6239 - acc: 0.6720\n",
      "Epoch 42/100\n",
      "\r",
      "1/5 [=====>........................] - ETA: 0s - loss: 0.5783 - acc: 0.7000\b\b\b\b\b\b\b\b\b\b\b\b\b\b\b\b\b\b\b\b\b\b\b\b\b\b\b\b\b\b\b\b\b\b\b\b\b\b\b\b\b\b\b\b\b\b\b\b\b\b\b\b\b\b\b\b\b\b\b\b\b\b\b\b\b\b\b\b\b\b\b\b\b\b\b\r",
      "5/5 [==============================] - 0s 5ms/step - loss: 0.6063 - acc: 0.6680\n",
      "Epoch 43/100\n",
      "\r",
      "1/5 [=====>........................] - ETA: 0s - loss: 0.6392 - acc: 0.6000\b\b\b\b\b\b\b\b\b\b\b\b\b\b\b\b\b\b\b\b\b\b\b\b\b\b\b\b\b\b\b\b\b\b\b\b\b\b\b\b\b\b\b\b\b\b\b\b\b\b\b\b\b\b\b\b\b\b\b\b\b\b\b\b\b\b\b\b\b\b\b\b\b\b\b\r",
      "5/5 [==============================] - 0s 4ms/step - loss: 0.6006 - acc: 0.6680\n",
      "Epoch 44/100\n",
      "\r",
      "1/5 [=====>........................] - ETA: 0s - loss: 0.5729 - acc: 0.7805\b\b\b\b\b\b\b\b\b\b\b\b\b\b\b\b\b\b\b\b\b\b\b\b\b\b\b\b\b\b\b\b\b\b\b\b\b\b\b\b\b\b\b\b\b\b\b\b\b\b\b\b\b\b\b\b\b\b\b\b\b\b\b\b\b\b\b\b\b\b\b\b\b\b\b\r",
      "2/5 [===========>..................] - ETA: 0s - loss: 0.5450 - acc: 0.7602\b\b\b\b\b\b\b\b\b\b\b\b\b\b\b\b\b\b\b\b\b\b\b\b\b\b\b\b\b\b\b\b\b\b\b\b\b\b\b\b\b\b\b\b\b\b\b\b\b\b\b\b\b\b\b\b\b\b\b\b\b\b\b\b\b\b\b\b\b\b\b\b\b\b\b\r",
      "5/5 [==============================] - 0s 60ms/step - loss: 0.5857 - acc: 0.7001\n",
      "Epoch 45/100\n",
      "\r",
      "1/5 [=====>........................] - ETA: 0s - loss: 0.5495 - acc: 0.7600\b\b\b\b\b\b\b\b\b\b\b\b\b\b\b\b\b\b\b\b\b\b\b\b\b\b\b\b\b\b\b\b\b\b\b\b\b\b\b\b\b\b\b\b\b\b\b\b\b\b\b\b\b\b\b\b\b\b\b\b\b\b\b\b\b\b\b\b\b\b\b\b\b\b\b\r",
      "5/5 [==============================] - 0s 4ms/step - loss: 0.6353 - acc: 0.6560\n",
      "Epoch 46/100\n",
      "\r",
      "1/5 [=====>........................] - ETA: 0s - loss: 0.6247 - acc: 0.7200\b\b\b\b\b\b\b\b\b\b\b\b\b\b\b\b\b\b\b\b\b\b\b\b\b\b\b\b\b\b\b\b\b\b\b\b\b\b\b\b\b\b\b\b\b\b\b\b\b\b\b\b\b\b\b\b\b\b\b\b\b\b\b\b\b\b\b\b\b\b\b\b\b\b\b\r",
      "5/5 [==============================] - 0s 4ms/step - loss: 0.6500 - acc: 0.6760\n",
      "Epoch 47/100\n",
      "\r",
      "1/5 [=====>........................] - ETA: 0s - loss: 0.5582 - acc: 0.7600\b\b\b\b\b\b\b\b\b\b\b\b\b\b\b\b\b\b\b\b\b\b\b\b\b\b\b\b\b\b\b\b\b\b\b\b\b\b\b\b\b\b\b\b\b\b\b\b\b\b\b\b\b\b\b\b\b\b\b\b\b\b\b\b\b\b\b\b\b\b\b\b\b\b\b\r",
      "5/5 [==============================] - 0s 54ms/step - loss: 0.5994 - acc: 0.6877\n",
      "Epoch 48/100\n",
      "\r",
      "1/5 [=====>........................] - ETA: 0s - loss: 0.5059 - acc: 0.8000\b\b\b\b\b\b\b\b\b\b\b\b\b\b\b\b\b\b\b\b\b\b\b\b\b\b\b\b\b\b\b\b\b\b\b\b\b\b\b\b\b\b\b\b\b\b\b\b\b\b\b\b\b\b\b\b\b\b\b\b\b\b\b\b\b\b\b\b\b\b\b\b\b\b\b\r",
      "5/5 [==============================] - 0s 6ms/step - loss: 0.5751 - acc: 0.7240\n",
      "Epoch 49/100\n",
      "\r",
      "1/5 [=====>........................] - ETA: 0s - loss: 0.6451 - acc: 0.6400\b\b\b\b\b\b\b\b\b\b\b\b\b\b\b\b\b\b\b\b\b\b\b\b\b\b\b\b\b\b\b\b\b\b\b\b\b\b\b\b\b\b\b\b\b\b\b\b\b\b\b\b\b\b\b\b\b\b\b\b\b\b\b\b\b\b\b\b\b\b\b\b\b\b\b\r",
      "5/5 [==============================] - 0s 5ms/step - loss: 0.6393 - acc: 0.6200\n",
      "Epoch 50/100\n",
      "\r",
      "1/5 [=====>........................] - ETA: 0s - loss: 0.6269 - acc: 0.6800\b\b\b\b\b\b\b\b\b\b\b\b\b\b\b\b\b\b\b\b\b\b\b\b\b\b\b\b\b\b\b\b\b\b\b\b\b\b\b\b\b\b\b\b\b\b\b\b\b\b\b\b\b\b\b\b\b\b\b\b\b\b\b\b\b\b\b\b\b\b\b\b\b\b\b\r",
      "5/5 [==============================] - 0s 4ms/step - loss: 0.6343 - acc: 0.6960\n",
      "Epoch 51/100\n",
      "\r",
      "1/5 [=====>........................] - ETA: 0s - loss: 0.5918 - acc: 0.7400\b\b\b\b\b\b\b\b\b\b\b\b\b\b\b\b\b\b\b\b\b\b\b\b\b\b\b\b\b\b\b\b\b\b\b\b\b\b\b\b\b\b\b\b\b\b\b\b\b\b\b\b\b\b\b\b\b\b\b\b\b\b\b\b\b\b\b\b\b\b\b\b\b\b\b\r",
      "3/5 [=================>............] - ETA: 0s - loss: 0.5921 - acc: 0.7085\b\b\b\b\b\b\b\b\b\b\b\b\b\b\b\b\b\b\b\b\b\b\b\b\b\b\b\b\b\b\b\b\b\b\b\b\b\b\b\b\b\b\b\b\b\b\b\b\b\b\b\b\b\b\b\b\b\b\b\b\b\b\b\b\b\b\b\b\b\b\b\b\b\b\b\r",
      "5/5 [==============================] - 0s 55ms/step - loss: 0.6357 - acc: 0.6691\n",
      "Epoch 52/100\n",
      "\r",
      "1/5 [=====>........................] - ETA: 0s - loss: 0.6195 - acc: 0.7000\b\b\b\b\b\b\b\b\b\b\b\b\b\b\b\b\b\b\b\b\b\b\b\b\b\b\b\b\b\b\b\b\b\b\b\b\b\b\b\b\b\b\b\b\b\b\b\b\b\b\b\b\b\b\b\b\b\b\b\b\b\b\b\b\b\b\b\b\b\b\b\b\b\b\b\r",
      "5/5 [==============================] - 0s 4ms/step - loss: 0.6114 - acc: 0.6760\n",
      "Epoch 53/100\n",
      "\r",
      "1/5 [=====>........................] - ETA: 0s - loss: 0.6171 - acc: 0.7200\b\b\b\b\b\b\b\b\b\b\b\b\b\b\b\b\b\b\b\b\b\b\b\b\b\b\b\b\b\b\b\b\b\b\b\b\b\b\b\b\b\b\b\b\b\b\b\b\b\b\b\b\b\b\b\b\b\b\b\b\b\b\b\b\b\b\b\b\b\b\b\b\b\b\b\r",
      "5/5 [==============================] - 0s 4ms/step - loss: 0.6094 - acc: 0.6840\n",
      "Epoch 54/100\n",
      "\r",
      "1/5 [=====>........................] - ETA: 0s - loss: 0.5776 - acc: 0.6400\b\b\b\b\b\b\b\b\b\b\b\b\b\b\b\b\b\b\b\b\b\b\b\b\b\b\b\b\b\b\b\b\b\b\b\b\b\b\b\b\b\b\b\b\b\b\b\b\b\b\b\b\b\b\b\b\b\b\b\b\b\b\b\b\b\b\b\b\b\b\b\b\b\b\b\r",
      "5/5 [==============================] - 0s 4ms/step - loss: 0.5988 - acc: 0.6766\n",
      "Epoch 55/100\n",
      "\r",
      "1/5 [=====>........................] - ETA: 0s - loss: 0.5803 - acc: 0.6400\b\b\b\b\b\b\b\b\b\b\b\b\b\b\b\b\b\b\b\b\b\b\b\b\b\b\b\b\b\b\b\b\b\b\b\b\b\b\b\b\b\b\b\b\b\b\b\b\b\b\b\b\b\b\b\b\b\b\b\b\b\b\b\b\b\b\b\b\b\b\b\b\b\b\b\r",
      "5/5 [==============================] - 0s 50ms/step - loss: 0.6079 - acc: 0.6400\n",
      "Epoch 56/100\n",
      "\r",
      "1/5 [=====>........................] - ETA: 0s - loss: 0.6049 - acc: 0.7200\b\b\b\b\b\b\b\b\b\b\b\b\b\b\b\b\b\b\b\b\b\b\b\b\b\b\b\b\b\b\b\b\b\b\b\b\b\b\b\b\b\b\b\b\b\b\b\b\b\b\b\b\b\b\b\b\b\b\b\b\b\b\b\b\b\b\b\b\b\b\b\b\b\b\b\r",
      "5/5 [==============================] - 0s 4ms/step - loss: 0.6015 - acc: 0.6800\n",
      "Epoch 57/100\n",
      "\r",
      "1/5 [=====>........................] - ETA: 0s - loss: 0.6774 - acc: 0.6600\b\b\b\b\b\b\b\b\b\b\b\b\b\b\b\b\b\b\b\b\b\b\b\b\b\b\b\b\b\b\b\b\b\b\b\b\b\b\b\b\b\b\b\b\b\b\b\b\b\b\b\b\b\b\b\b\b\b\b\b\b\b\b\b\b\b\b\b\b\b\b\b\b\b\b\r",
      "5/5 [==============================] - 0s 4ms/step - loss: 0.6230 - acc: 0.6800\n",
      "Epoch 58/100\n",
      "\r",
      "1/5 [=====>........................] - ETA: 0s - loss: 0.5311 - acc: 0.7800\b\b\b\b\b\b\b\b\b\b\b\b\b\b\b\b\b\b\b\b\b\b\b\b\b\b\b\b\b\b\b\b\b\b\b\b\b\b\b\b\b\b\b\b\b\b\b\b\b\b\b\b\b\b\b\b\b\b\b\b\b\b\b\b\b\b\b\b\b\b\b\b\b\b\b\r",
      "4/5 [=======================>......] - ETA: 0s - loss: 0.5565 - acc: 0.7096\b\b\b\b\b\b\b\b\b\b\b\b\b\b\b\b\b\b\b\b\b\b\b\b\b\b\b\b\b\b\b\b\b\b\b\b\b\b\b\b\b\b\b\b\b\b\b\b\b\b\b\b\b\b\b\b\b\b\b\b\b\b\b\b\b\b\b\b\b\b\b\b\b\b\b\r",
      "5/5 [==============================] - 0s 53ms/step - loss: 0.5634 - acc: 0.7117\n",
      "Epoch 59/100\n",
      "\r",
      "1/5 [=====>........................] - ETA: 0s - loss: 0.5229 - acc: 0.7000\b\b\b\b\b\b\b\b\b\b\b\b\b\b\b\b\b\b\b\b\b\b\b\b\b\b\b\b\b\b\b\b\b\b\b\b\b\b\b\b\b\b\b\b\b\b\b\b\b\b\b\b\b\b\b\b\b\b\b\b\b\b\b\b\b\b\b\b\b\b\b\b\b\b\b\r",
      "5/5 [==============================] - 0s 4ms/step - loss: 0.5858 - acc: 0.7120\n",
      "Epoch 60/100\n",
      "\r",
      "1/5 [=====>........................] - ETA: 0s - loss: 0.6032 - acc: 0.7000\b\b\b\b\b\b\b\b\b\b\b\b\b\b\b\b\b\b\b\b\b\b\b\b\b\b\b\b\b\b\b\b\b\b\b\b\b\b\b\b\b\b\b\b\b\b\b\b\b\b\b\b\b\b\b\b\b\b\b\b\b\b\b\b\b\b\b\b\b\b\b\b\b\b\b\r",
      "5/5 [==============================] - 0s 4ms/step - loss: 0.5956 - acc: 0.6920\n",
      "Epoch 61/100\n",
      "\r",
      "1/5 [=====>........................] - ETA: 0s - loss: 0.7718 - acc: 0.6200\b\b\b\b\b\b\b\b\b\b\b\b\b\b\b\b\b\b\b\b\b\b\b\b\b\b\b\b\b\b\b\b\b\b\b\b\b\b\b\b\b\b\b\b\b\b\b\b\b\b\b\b\b\b\b\b\b\b\b\b\b\b\b\b\b\b\b\b\b\b\b\b\b\b\b\r",
      "5/5 [==============================] - 0s 4ms/step - loss: 0.6575 - acc: 0.6320\n",
      "Epoch 62/100\n",
      "\r",
      "1/5 [=====>........................] - ETA: 0s - loss: 0.6290 - acc: 0.7317\b\b\b\b\b\b\b\b\b\b\b\b\b\b\b\b\b\b\b\b\b\b\b\b\b\b\b\b\b\b\b\b\b\b\b\b\b\b\b\b\b\b\b\b\b\b\b\b\b\b\b\b\b\b\b\b\b\b\b\b\b\b\b\b\b\b\b\b\b\b\b\b\b\b\b\r",
      "2/5 [===========>..................] - ETA: 0s - loss: 0.6522 - acc: 0.6559\b\b\b\b\b\b\b\b\b\b\b\b\b\b\b\b\b\b\b\b\b\b\b\b\b\b\b\b\b\b\b\b\b\b\b\b\b\b\b\b\b\b\b\b\b\b\b\b\b\b\b\b\b\b\b\b\b\b\b\b\b\b\b\b\b\b\b\b\b\b\b\b\b\b\b\r",
      "5/5 [==============================] - 0s 58ms/step - loss: 0.6440 - acc: 0.6703\n",
      "Epoch 63/100\n",
      "\r",
      "1/5 [=====>........................] - ETA: 0s - loss: 0.6071 - acc: 0.6600\b\b\b\b\b\b\b\b\b\b\b\b\b\b\b\b\b\b\b\b\b\b\b\b\b\b\b\b\b\b\b\b\b\b\b\b\b\b\b\b\b\b\b\b\b\b\b\b\b\b\b\b\b\b\b\b\b\b\b\b\b\b\b\b\b\b\b\b\b\b\b\b\b\b\b\r",
      "5/5 [==============================] - 0s 5ms/step - loss: 0.6125 - acc: 0.6640\n",
      "Epoch 64/100\n",
      "\r",
      "1/5 [=====>........................] - ETA: 0s - loss: 0.6025 - acc: 0.7200\b\b\b\b\b\b\b\b\b\b\b\b\b\b\b\b\b\b\b\b\b\b\b\b\b\b\b\b\b\b\b\b\b\b\b\b\b\b\b\b\b\b\b\b\b\b\b\b\b\b\b\b\b\b\b\b\b\b\b\b\b\b\b\b\b\b\b\b\b\b\b\b\b\b\b\r",
      "5/5 [==============================] - 0s 5ms/step - loss: 0.5561 - acc: 0.7280\n",
      "Epoch 65/100\n",
      "\r",
      "1/5 [=====>........................] - ETA: 0s - loss: 0.6270 - acc: 0.6400\b\b\b\b\b\b\b\b\b\b\b\b\b\b\b\b\b\b\b\b\b\b\b\b\b\b\b\b\b\b\b\b\b\b\b\b\b\b\b\b\b\b\b\b\b\b\b\b\b\b\b\b\b\b\b\b\b\b\b\b\b\b\b\b\b\b\b\b\b\b\b\b\b\b\b\r",
      "5/5 [==============================] - 0s 54ms/step - loss: 0.6142 - acc: 0.6562\n",
      "Epoch 66/100\n",
      "\r",
      "1/5 [=====>........................] - ETA: 0s - loss: 0.6269 - acc: 0.6000\b\b\b\b\b\b\b\b\b\b\b\b\b\b\b\b\b\b\b\b\b\b\b\b\b\b\b\b\b\b\b\b\b\b\b\b\b\b\b\b\b\b\b\b\b\b\b\b\b\b\b\b\b\b\b\b\b\b\b\b\b\b\b\b\b\b\b\b\b\b\b\b\b\b\b\r",
      "5/5 [==============================] - 0s 5ms/step - loss: 0.6055 - acc: 0.6600\n",
      "Epoch 67/100\n",
      "\r",
      "1/5 [=====>........................] - ETA: 0s - loss: 0.5052 - acc: 0.7200\b\b\b\b\b\b\b\b\b\b\b\b\b\b\b\b\b\b\b\b\b\b\b\b\b\b\b\b\b\b\b\b\b\b\b\b\b\b\b\b\b\b\b\b\b\b\b\b\b\b\b\b\b\b\b\b\b\b\b\b\b\b\b\b\b\b\b\b\b\b\b\b\b\b\b\r",
      "5/5 [==============================] - 0s 4ms/step - loss: 0.5732 - acc: 0.6920\n",
      "Epoch 68/100\n",
      "\r",
      "1/5 [=====>........................] - ETA: 0s - loss: 0.6739 - acc: 0.6600\b\b\b\b\b\b\b\b\b\b\b\b\b\b\b\b\b\b\b\b\b\b\b\b\b\b\b\b\b\b\b\b\b\b\b\b\b\b\b\b\b\b\b\b\b\b\b\b\b\b\b\b\b\b\b\b\b\b\b\b\b\b\b\b\b\b\b\b\b\b\b\b\b\b\b\r",
      "5/5 [==============================] - 0s 4ms/step - loss: 0.6451 - acc: 0.6520\n",
      "Epoch 69/100\n",
      "\r",
      "1/5 [=====>........................] - ETA: 0s - loss: 0.6083 - acc: 0.6400\b\b\b\b\b\b\b\b\b\b\b\b\b\b\b\b\b\b\b\b\b\b\b\b\b\b\b\b\b\b\b\b\b\b\b\b\b\b\b\b\b\b\b\b\b\b\b\b\b\b\b\b\b\b\b\b\b\b\b\b\b\b\b\b\b\b\b\b\b\b\b\b\b\b\b\r",
      "3/5 [=================>............] - ETA: 0s - loss: 0.5811 - acc: 0.7010\b\b\b\b\b\b\b\b\b\b\b\b\b\b\b\b\b\b\b\b\b\b\b\b\b\b\b\b\b\b\b\b\b\b\b\b\b\b\b\b\b\b\b\b\b\b\b\b\b\b\b\b\b\b\b\b\b\b\b\b\b\b\b\b\b\b\b\b\b\b\b\b\b\b\b\r",
      "5/5 [==============================] - 0s 51ms/step - loss: 0.6042 - acc: 0.6766\n",
      "Epoch 70/100\n",
      "\r",
      "1/5 [=====>........................] - ETA: 0s - loss: 0.6560 - acc: 0.6800\b\b\b\b\b\b\b\b\b\b\b\b\b\b\b\b\b\b\b\b\b\b\b\b\b\b\b\b\b\b\b\b\b\b\b\b\b\b\b\b\b\b\b\b\b\b\b\b\b\b\b\b\b\b\b\b\b\b\b\b\b\b\b\b\b\b\b\b\b\b\b\b\b\b\b\r",
      "5/5 [==============================] - 0s 5ms/step - loss: 0.6459 - acc: 0.6120\n",
      "Epoch 71/100\n",
      "\r",
      "1/5 [=====>........................] - ETA: 0s - loss: 0.6527 - acc: 0.7200\b\b\b\b\b\b\b\b\b\b\b\b\b\b\b\b\b\b\b\b\b\b\b\b\b\b\b\b\b\b\b\b\b\b\b\b\b\b\b\b\b\b\b\b\b\b\b\b\b\b\b\b\b\b\b\b\b\b\b\b\b\b\b\b\b\b\b\b\b\b\b\b\b\b\b\r",
      "5/5 [==============================] - 0s 5ms/step - loss: 0.6169 - acc: 0.7040\n",
      "Epoch 72/100\n",
      "\r",
      "1/5 [=====>........................] - ETA: 0s - loss: 0.6718 - acc: 0.6400\b\b\b\b\b\b\b\b\b\b\b\b\b\b\b\b\b\b\b\b\b\b\b\b\b\b\b\b\b\b\b\b\b\b\b\b\b\b\b\b\b\b\b\b\b\b\b\b\b\b\b\b\b\b\b\b\b\b\b\b\b\b\b\b\b\b\b\b\b\b\b\b\b\b\b\r",
      "5/5 [==============================] - 0s 3ms/step - loss: 0.6108 - acc: 0.6748\n",
      "Epoch 73/100\n",
      "\r",
      "1/5 [=====>........................] - ETA: 0s - loss: 0.5542 - acc: 0.6800\b\b\b\b\b\b\b\b\b\b\b\b\b\b\b\b\b\b\b\b\b\b\b\b\b\b\b\b\b\b\b\b\b\b\b\b\b\b\b\b\b\b\b\b\b\b\b\b\b\b\b\b\b\b\b\b\b\b\b\b\b\b\b\b\b\b\b\b\b\b\b\b\b\b\b\r",
      "5/5 [==============================] - 0s 54ms/step - loss: 0.6174 - acc: 0.6320\n",
      "Epoch 74/100\n",
      "\r",
      "1/5 [=====>........................] - ETA: 0s - loss: 0.5727 - acc: 0.7600\b\b\b\b\b\b\b\b\b\b\b\b\b\b\b\b\b\b\b\b\b\b\b\b\b\b\b\b\b\b\b\b\b\b\b\b\b\b\b\b\b\b\b\b\b\b\b\b\b\b\b\b\b\b\b\b\b\b\b\b\b\b\b\b\b\b\b\b\b\b\b\b\b\b\b\r",
      "5/5 [==============================] - 0s 4ms/step - loss: 0.5952 - acc: 0.7360\n",
      "Epoch 75/100\n",
      "\r",
      "1/5 [=====>........................] - ETA: 0s - loss: 0.5741 - acc: 0.7000\b\b\b\b\b\b\b\b\b\b\b\b\b\b\b\b\b\b\b\b\b\b\b\b\b\b\b\b\b\b\b\b\b\b\b\b\b\b\b\b\b\b\b\b\b\b\b\b\b\b\b\b\b\b\b\b\b\b\b\b\b\b\b\b\b\b\b\b\b\b\b\b\b\b\b\r",
      "5/5 [==============================] - 0s 4ms/step - loss: 0.6108 - acc: 0.6960\n",
      "Epoch 76/100\n",
      "\r",
      "1/5 [=====>........................] - ETA: 0s - loss: 0.5662 - acc: 0.6400\b\b\b\b\b\b\b\b\b\b\b\b\b\b\b\b\b\b\b\b\b\b\b\b\b\b\b\b\b\b\b\b\b\b\b\b\b\b\b\b\b\b\b\b\b\b\b\b\b\b\b\b\b\b\b\b\b\b\b\b\b\b\b\b\b\b\b\b\b\b\b\b\b\b\b\r",
      "4/5 [=======================>......] - ETA: 0s - loss: 0.5696 - acc: 0.6896\b\b\b\b\b\b\b\b\b\b\b\b\b\b\b\b\b\b\b\b\b\b\b\b\b\b\b\b\b\b\b\b\b\b\b\b\b\b\b\b\b\b\b\b\b\b\b\b\b\b\b\b\b\b\b\b\b\b\b\b\b\b\b\b\b\b\b\b\b\b\b\b\b\b\b\r",
      "5/5 [==============================] - 0s 63ms/step - loss: 0.5819 - acc: 0.6877\n",
      "Epoch 77/100\n",
      "\r",
      "1/5 [=====>........................] - ETA: 0s - loss: 0.5472 - acc: 0.7200\b\b\b\b\b\b\b\b\b\b\b\b\b\b\b\b\b\b\b\b\b\b\b\b\b\b\b\b\b\b\b\b\b\b\b\b\b\b\b\b\b\b\b\b\b\b\b\b\b\b\b\b\b\b\b\b\b\b\b\b\b\b\b\b\b\b\b\b\b\b\b\b\b\b\b\r",
      "5/5 [==============================] - 0s 5ms/step - loss: 0.5730 - acc: 0.7200\n",
      "Epoch 78/100\n",
      "\r",
      "1/5 [=====>........................] - ETA: 0s - loss: 0.5873 - acc: 0.6400\b\b\b\b\b\b\b\b\b\b\b\b\b\b\b\b\b\b\b\b\b\b\b\b\b\b\b\b\b\b\b\b\b\b\b\b\b\b\b\b\b\b\b\b\b\b\b\b\b\b\b\b\b\b\b\b\b\b\b\b\b\b\b\b\b\b\b\b\b\b\b\b\b\b\b\r",
      "5/5 [==============================] - 0s 6ms/step - loss: 0.6100 - acc: 0.6800\n",
      "Epoch 79/100\n",
      "\r",
      "1/5 [=====>........................] - ETA: 0s - loss: 0.5550 - acc: 0.6800\b\b\b\b\b\b\b\b\b\b\b\b\b\b\b\b\b\b\b\b\b\b\b\b\b\b\b\b\b\b\b\b\b\b\b\b\b\b\b\b\b\b\b\b\b\b\b\b\b\b\b\b\b\b\b\b\b\b\b\b\b\b\b\b\b\b\b\b\b\b\b\b\b\b\b\r",
      "5/5 [==============================] - 0s 4ms/step - loss: 0.5957 - acc: 0.6440\n",
      "Epoch 80/100\n",
      "\r",
      "1/5 [=====>........................] - ETA: 0s - loss: 0.6432 - acc: 0.6341\b\b\b\b\b\b\b\b\b\b\b\b\b\b\b\b\b\b\b\b\b\b\b\b\b\b\b\b\b\b\b\b\b\b\b\b\b\b\b\b\b\b\b\b\b\b\b\b\b\b\b\b\b\b\b\b\b\b\b\b\b\b\b\b\b\b\b\b\b\b\b\b\b\b\b\r",
      "2/5 [===========>..................] - ETA: 0s - loss: 0.5969 - acc: 0.7171\b\b\b\b\b\b\b\b\b\b\b\b\b\b\b\b\b\b\b\b\b\b\b\b\b\b\b\b\b\b\b\b\b\b\b\b\b\b\b\b\b\b\b\b\b\b\b\b\b\b\b\b\b\b\b\b\b\b\b\b\b\b\b\b\b\b\b\b\b\b\b\b\b\b\b\r",
      "5/5 [==============================] - 0s 58ms/step - loss: 0.6146 - acc: 0.6868\n",
      "Epoch 81/100\n",
      "\r",
      "1/5 [=====>........................] - ETA: 0s - loss: 0.5543 - acc: 0.7200\b\b\b\b\b\b\b\b\b\b\b\b\b\b\b\b\b\b\b\b\b\b\b\b\b\b\b\b\b\b\b\b\b\b\b\b\b\b\b\b\b\b\b\b\b\b\b\b\b\b\b\b\b\b\b\b\b\b\b\b\b\b\b\b\b\b\b\b\b\b\b\b\b\b\b\r",
      "5/5 [==============================] - 0s 4ms/step - loss: 0.5916 - acc: 0.6720\n",
      "Epoch 82/100\n",
      "\r",
      "1/5 [=====>........................] - ETA: 0s - loss: 0.5863 - acc: 0.7600\b\b\b\b\b\b\b\b\b\b\b\b\b\b\b\b\b\b\b\b\b\b\b\b\b\b\b\b\b\b\b\b\b\b\b\b\b\b\b\b\b\b\b\b\b\b\b\b\b\b\b\b\b\b\b\b\b\b\b\b\b\b\b\b\b\b\b\b\b\b\b\b\b\b\b\r",
      "5/5 [==============================] - 0s 5ms/step - loss: 0.5761 - acc: 0.6800\n",
      "Epoch 83/100\n",
      "\r",
      "1/5 [=====>........................] - ETA: 0s - loss: 0.5444 - acc: 0.7400\b\b\b\b\b\b\b\b\b\b\b\b\b\b\b\b\b\b\b\b\b\b\b\b\b\b\b\b\b\b\b\b\b\b\b\b\b\b\b\b\b\b\b\b\b\b\b\b\b\b\b\b\b\b\b\b\b\b\b\b\b\b\b\b\b\b\b\b\b\b\b\b\b\b\b\r",
      "5/5 [==============================] - 0s 64ms/step - loss: 0.5834 - acc: 0.6926\n",
      "Epoch 84/100\n",
      "\r",
      "1/5 [=====>........................] - ETA: 0s - loss: 0.5738 - acc: 0.6600\b\b\b\b\b\b\b\b\b\b\b\b\b\b\b\b\b\b\b\b\b\b\b\b\b\b\b\b\b\b\b\b\b\b\b\b\b\b\b\b\b\b\b\b\b\b\b\b\b\b\b\b\b\b\b\b\b\b\b\b\b\b\b\b\b\b\b\b\b\b\b\b\b\b\b\r",
      "5/5 [==============================] - 0s 4ms/step - loss: 0.5827 - acc: 0.6920\n",
      "Epoch 85/100\n",
      "\r",
      "1/5 [=====>........................] - ETA: 0s - loss: 0.6010 - acc: 0.7400\b\b\b\b\b\b\b\b\b\b\b\b\b\b\b\b\b\b\b\b\b\b\b\b\b\b\b\b\b\b\b\b\b\b\b\b\b\b\b\b\b\b\b\b\b\b\b\b\b\b\b\b\b\b\b\b\b\b\b\b\b\b\b\b\b\b\b\b\b\b\b\b\b\b\b\r",
      "5/5 [==============================] - 0s 5ms/step - loss: 0.5607 - acc: 0.7400\n",
      "Epoch 86/100\n",
      "\r",
      "1/5 [=====>........................] - ETA: 0s - loss: 0.5609 - acc: 0.8000\b\b\b\b\b\b\b\b\b\b\b\b\b\b\b\b\b\b\b\b\b\b\b\b\b\b\b\b\b\b\b\b\b\b\b\b\b\b\b\b\b\b\b\b\b\b\b\b\b\b\b\b\b\b\b\b\b\b\b\b\b\b\b\b\b\b\b\b\b\b\b\b\b\b\b\r",
      "5/5 [==============================] - 0s 4ms/step - loss: 0.5843 - acc: 0.7160\n",
      "Epoch 87/100\n",
      "\r",
      "1/5 [=====>........................] - ETA: 0s - loss: 0.6887 - acc: 0.5600\b\b\b\b\b\b\b\b\b\b\b\b\b\b\b\b\b\b\b\b\b\b\b\b\b\b\b\b\b\b\b\b\b\b\b\b\b\b\b\b\b\b\b\b\b\b\b\b\b\b\b\b\b\b\b\b\b\b\b\b\b\b\b\b\b\b\b\b\b\b\b\b\b\b\b\r",
      "3/5 [=================>............] - ETA: 0s - loss: 0.6406 - acc: 0.6158\b\b\b\b\b\b\b\b\b\b\b\b\b\b\b\b\b\b\b\b\b\b\b\b\b\b\b\b\b\b\b\b\b\b\b\b\b\b\b\b\b\b\b\b\b\b\b\b\b\b\b\b\b\b\b\b\b\b\b\b\b\b\b\b\b\b\b\b\b\b\b\b\b\b\b\r",
      "5/5 [==============================] - 0s 53ms/step - loss: 0.6381 - acc: 0.6295\n",
      "Epoch 88/100\n",
      "\r",
      "1/5 [=====>........................] - ETA: 0s - loss: 0.5277 - acc: 0.8400\b\b\b\b\b\b\b\b\b\b\b\b\b\b\b\b\b\b\b\b\b\b\b\b\b\b\b\b\b\b\b\b\b\b\b\b\b\b\b\b\b\b\b\b\b\b\b\b\b\b\b\b\b\b\b\b\b\b\b\b\b\b\b\b\b\b\b\b\b\b\b\b\b\b\b\r",
      "5/5 [==============================] - 0s 6ms/step - loss: 0.5425 - acc: 0.7480\n",
      "Epoch 89/100\n",
      "\r",
      "1/5 [=====>........................] - ETA: 0s - loss: 0.5689 - acc: 0.7200\b\b\b\b\b\b\b\b\b\b\b\b\b\b\b\b\b\b\b\b\b\b\b\b\b\b\b\b\b\b\b\b\b\b\b\b\b\b\b\b\b\b\b\b\b\b\b\b\b\b\b\b\b\b\b\b\b\b\b\b\b\b\b\b\b\b\b\b\b\b\b\b\b\b\b\r",
      "5/5 [==============================] - 0s 4ms/step - loss: 0.5788 - acc: 0.6840\n",
      "Epoch 90/100\n",
      "\r",
      "1/5 [=====>........................] - ETA: 0s - loss: 0.6539 - acc: 0.6000\b\b\b\b\b\b\b\b\b\b\b\b\b\b\b\b\b\b\b\b\b\b\b\b\b\b\b\b\b\b\b\b\b\b\b\b\b\b\b\b\b\b\b\b\b\b\b\b\b\b\b\b\b\b\b\b\b\b\b\b\b\b\b\b\b\b\b\b\b\b\b\b\b\b\b\r",
      "5/5 [==============================] - 0s 4ms/step - loss: 0.6030 - acc: 0.6651\n",
      "Epoch 91/100\n",
      "\r",
      "1/5 [=====>........................] - ETA: 0s - loss: 0.5688 - acc: 0.7400\b\b\b\b\b\b\b\b\b\b\b\b\b\b\b\b\b\b\b\b\b\b\b\b\b\b\b\b\b\b\b\b\b\b\b\b\b\b\b\b\b\b\b\b\b\b\b\b\b\b\b\b\b\b\b\b\b\b\b\b\b\b\b\b\b\b\b\b\b\b\b\b\b\b\b\r",
      "5/5 [==============================] - 0s 46ms/step - loss: 0.5589 - acc: 0.7200\n",
      "Epoch 92/100\n",
      "\r",
      "1/5 [=====>........................] - ETA: 0s - loss: 0.6494 - acc: 0.6000\b\b\b\b\b\b\b\b\b\b\b\b\b\b\b\b\b\b\b\b\b\b\b\b\b\b\b\b\b\b\b\b\b\b\b\b\b\b\b\b\b\b\b\b\b\b\b\b\b\b\b\b\b\b\b\b\b\b\b\b\b\b\b\b\b\b\b\b\b\b\b\b\b\b\b\r",
      "5/5 [==============================] - 0s 4ms/step - loss: 0.5827 - acc: 0.6920\n",
      "Epoch 93/100\n",
      "\r",
      "1/5 [=====>........................] - ETA: 0s - loss: 0.5423 - acc: 0.6800\b\b\b\b\b\b\b\b\b\b\b\b\b\b\b\b\b\b\b\b\b\b\b\b\b\b\b\b\b\b\b\b\b\b\b\b\b\b\b\b\b\b\b\b\b\b\b\b\b\b\b\b\b\b\b\b\b\b\b\b\b\b\b\b\b\b\b\b\b\b\b\b\b\b\b\r",
      "5/5 [==============================] - 0s 4ms/step - loss: 0.5842 - acc: 0.6800\n",
      "Epoch 94/100\n",
      "\r",
      "1/5 [=====>........................] - ETA: 0s - loss: 0.6499 - acc: 0.6600\b\b\b\b\b\b\b\b\b\b\b\b\b\b\b\b\b\b\b\b\b\b\b\b\b\b\b\b\b\b\b\b\b\b\b\b\b\b\b\b\b\b\b\b\b\b\b\b\b\b\b\b\b\b\b\b\b\b\b\b\b\b\b\b\b\b\b\b\b\b\b\b\b\b\b\r",
      "4/5 [=======================>......] - ETA: 0s - loss: 0.6210 - acc: 0.6740\b\b\b\b\b\b\b\b\b\b\b\b\b\b\b\b\b\b\b\b\b\b\b\b\b\b\b\b\b\b\b\b\b\b\b\b\b\b\b\b\b\b\b\b\b\b\b\b\b\b\b\b\b\b\b\b\b\b\b\b\b\b\b\b\b\b\b\b\b\b\b\b\b\b\b\r",
      "5/5 [==============================] - 0s 52ms/step - loss: 0.6115 - acc: 0.6792\n",
      "Epoch 95/100\n",
      "\r",
      "1/5 [=====>........................] - ETA: 0s - loss: 0.6605 - acc: 0.6200\b\b\b\b\b\b\b\b\b\b\b\b\b\b\b\b\b\b\b\b\b\b\b\b\b\b\b\b\b\b\b\b\b\b\b\b\b\b\b\b\b\b\b\b\b\b\b\b\b\b\b\b\b\b\b\b\b\b\b\b\b\b\b\b\b\b\b\b\b\b\b\b\b\b\b\r",
      "5/5 [==============================] - 0s 5ms/step - loss: 0.5762 - acc: 0.7160\n",
      "Epoch 96/100\n",
      "\r",
      "1/5 [=====>........................] - ETA: 0s - loss: 0.5900 - acc: 0.6400\b\b\b\b\b\b\b\b\b\b\b\b\b\b\b\b\b\b\b\b\b\b\b\b\b\b\b\b\b\b\b\b\b\b\b\b\b\b\b\b\b\b\b\b\b\b\b\b\b\b\b\b\b\b\b\b\b\b\b\b\b\b\b\b\b\b\b\b\b\b\b\b\b\b\b\r",
      "5/5 [==============================] - 0s 5ms/step - loss: 0.5333 - acc: 0.7520\n",
      "Epoch 97/100\n",
      "\r",
      "1/5 [=====>........................] - ETA: 0s - loss: 0.6708 - acc: 0.7000\b\b\b\b\b\b\b\b\b\b\b\b\b\b\b\b\b\b\b\b\b\b\b\b\b\b\b\b\b\b\b\b\b\b\b\b\b\b\b\b\b\b\b\b\b\b\b\b\b\b\b\b\b\b\b\b\b\b\b\b\b\b\b\b\b\b\b\b\b\b\b\b\b\b\b\r",
      "5/5 [==============================] - 0s 5ms/step - loss: 0.6134 - acc: 0.6760\n",
      "Epoch 98/100\n",
      "\r",
      "1/5 [=====>........................] - ETA: 0s - loss: 0.5977 - acc: 0.7073\b\b\b\b\b\b\b\b\b\b\b\b\b\b\b\b\b\b\b\b\b\b\b\b\b\b\b\b\b\b\b\b\b\b\b\b\b\b\b\b\b\b\b\b\b\b\b\b\b\b\b\b\b\b\b\b\b\b\b\b\b\b\b\b\b\b\b\b\b\b\b\b\b\b\b\r",
      "2/5 [===========>..................] - ETA: 0s - loss: 0.6182 - acc: 0.6737\b\b\b\b\b\b\b\b\b\b\b\b\b\b\b\b\b\b\b\b\b\b\b\b\b\b\b\b\b\b\b\b\b\b\b\b\b\b\b\b\b\b\b\b\b\b\b\b\b\b\b\b\b\b\b\b\b\b\b\b\b\b\b\b\b\b\b\b\b\b\b\b\b\b\b\r",
      "5/5 [==============================] - 0s 71ms/step - loss: 0.6064 - acc: 0.7015\n",
      "Epoch 99/100\n",
      "\r",
      "1/5 [=====>........................] - ETA: 0s - loss: 0.6305 - acc: 0.6400\b\b\b\b\b\b\b\b\b\b\b\b\b\b\b\b\b\b\b\b\b\b\b\b\b\b\b\b\b\b\b\b\b\b\b\b\b\b\b\b\b\b\b\b\b\b\b\b\b\b\b\b\b\b\b\b\b\b\b\b\b\b\b\b\b\b\b\b\b\b\b\b\b\b\b\r",
      "5/5 [==============================] - 0s 6ms/step - loss: 0.6403 - acc: 0.6520\n",
      "Epoch 100/100\n",
      "\r",
      "1/5 [=====>........................] - ETA: 0s - loss: 0.6145 - acc: 0.6800\b\b\b\b\b\b\b\b\b\b\b\b\b\b\b\b\b\b\b\b\b\b\b\b\b\b\b\b\b\b\b\b\b\b\b\b\b\b\b\b\b\b\b\b\b\b\b\b\b\b\b\b\b\b\b\b\b\b\b\b\b\b\b\b\b\b\b\b\b\b\b\b\b\b\b\r",
      "5/5 [==============================] - 0s 6ms/step - loss: 0.5891 - acc: 0.7200"
     ]
    }
   ],
   "source": [
    "result = model.fit(dataset, epochs=100, steps_per_epoch = 5)"
   ]
  },
  {
   "cell_type": "code",
   "execution_count": 116,
   "metadata": {},
   "outputs": [
    {
     "name": "stdout",
     "output_type": "stream",
     "text": [
      "0.7199999928474426"
     ]
    }
   ],
   "source": [
    "result.history[\"acc\"][-1]"
   ]
  },
  {
   "cell_type": "code",
   "execution_count": null,
   "metadata": {},
   "outputs": [],
   "source": []
  }
 ],
 "metadata": {
  "kernelspec": {
   "display_name": "PySpark",
   "language": "",
   "name": "pysparkkernel"
  },
  "language_info": {
   "codemirror_mode": {
    "name": "python",
    "version": 2
   },
   "mimetype": "text/x-python",
   "name": "pyspark",
   "pygments_lexer": "python2"
  }
 },
 "nbformat": 4,
 "nbformat_minor": 2
}