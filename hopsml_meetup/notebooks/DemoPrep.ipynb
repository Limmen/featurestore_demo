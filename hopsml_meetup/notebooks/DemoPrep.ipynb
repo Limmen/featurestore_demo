{
 "cells": [
  {
   "cell_type": "code",
   "execution_count": 6,
   "metadata": {},
   "outputs": [
    {
     "name": "stdout",
     "output_type": "stream",
     "text": [
      "<pyspark.sql.session.SparkSession object at 0x7f9aa9a2ff60>"
     ]
    }
   ],
   "source": [
    "spark"
   ]
  },
  {
   "cell_type": "code",
   "execution_count": 7,
   "metadata": {},
   "outputs": [],
   "source": [
    "from hops import featurestore\n",
    "from hops import hdfs\n",
    "import numpy as np "
   ]
  },
  {
   "cell_type": "markdown",
   "metadata": {},
   "source": [
    "# Create Feature Groups"
   ]
  },
  {
   "cell_type": "code",
   "execution_count": 8,
   "metadata": {},
   "outputs": [],
   "source": [
    "demographic_passengers = spark.read.format(\"csv\").option(\"header\", True).option(\"inferSchema\", True).load(hdfs.project_path() + \"/Titanic/passenger_demographic.csv\")"
   ]
  },
  {
   "cell_type": "code",
   "execution_count": 11,
   "metadata": {},
   "outputs": [
    {
     "name": "stdout",
     "output_type": "stream",
     "text": [
      "root\n",
      " |-- passenger_id: integer (nullable = true)\n",
      " |-- name: string (nullable = true)\n",
      " |-- sex: integer (nullable = true)\n",
      " |-- age: double (nullable = true)\n",
      " |-- income: double (nullable = true)\n",
      " |-- country: integer (nullable = true)\n",
      " |-- town: integer (nullable = true)\n",
      " |-- married: integer (nullable = true)"
     ]
    }
   ],
   "source": [
    "demographic_passengers.printSchema()"
   ]
  },
  {
   "cell_type": "code",
   "execution_count": 12,
   "metadata": {},
   "outputs": [
    {
     "name": "stdout",
     "output_type": "stream",
     "text": [
      "computing descriptive statistics for : demographic_data\n",
      "computing feature correlation for: demographic_data\n",
      "computing feature histograms for: demographic_data\n",
      "computing cluster analysis for: demographic_data\n",
      "Running sql: use demo_featurestore"
     ]
    }
   ],
   "source": [
    "featurestore.create_featuregroup(demographic_passengers, \"demographic_data\", description=\"demographic data of boat passengers\")"
   ]
  },
  {
   "cell_type": "code",
   "execution_count": 18,
   "metadata": {},
   "outputs": [],
   "source": [
    "#town_lookup = spark.read.format(\"csv\").option(\"header\", True).option(\"inferSchema\", True).load(hdfs.project_path() + \"/Titanic/town_lookup.csv\")"
   ]
  },
  {
   "cell_type": "code",
   "execution_count": 21,
   "metadata": {},
   "outputs": [
    {
     "name": "stdout",
     "output_type": "stream",
     "text": [
      "Running sql: use demo_featurestore"
     ]
    }
   ],
   "source": [
    "#featurestore.create_featuregroup(town_lookup, \"town_int_enc\", description=\"town to integer encoding\", cluster_analysis=False, feature_correlation=False, descriptive_statistics=False, feature_histograms=False)"
   ]
  },
  {
   "cell_type": "code",
   "execution_count": 22,
   "metadata": {},
   "outputs": [],
   "source": [
    "#country_lookup = spark.read.format(\"csv\").option(\"header\", True).option(\"inferSchema\", True).load(hdfs.project_path() + \"/Titanic/country_lookup.csv\")"
   ]
  },
  {
   "cell_type": "code",
   "execution_count": 23,
   "metadata": {},
   "outputs": [
    {
     "name": "stdout",
     "output_type": "stream",
     "text": [
      "Running sql: use demo_featurestore"
     ]
    }
   ],
   "source": [
    "#featurestore.create_featuregroup(town_lookup, \"country_int_enc\", description=\"country to integer encoding\", cluster_analysis=False, feature_correlation=False, descriptive_statistics=False, feature_histograms=False)"
   ]
  },
  {
   "cell_type": "code",
   "execution_count": 30,
   "metadata": {},
   "outputs": [],
   "source": [
    "#arr = np.random.rand(50,10)"
   ]
  },
  {
   "cell_type": "code",
   "execution_count": 31,
   "metadata": {},
   "outputs": [
    {
     "name": "stdout",
     "output_type": "stream",
     "text": [
      "(50, 10)"
     ]
    }
   ],
   "source": [
    "#arr.shape"
   ]
  },
  {
   "cell_type": "code",
   "execution_count": 32,
   "metadata": {},
   "outputs": [
    {
     "name": "stdout",
     "output_type": "stream",
     "text": [
      "computing descriptive statistics for : sample_fg_1\n",
      "computing feature correlation for: sample_fg_1\n",
      "computing feature histograms for: sample_fg_1\n",
      "computing cluster analysis for: sample_fg_1\n",
      "Running sql: use demo_featurestore"
     ]
    }
   ],
   "source": [
    "#featurestore.create_featuregroup(arr, \"sample_fg_1\", description=\"sample feature group for demo\")"
   ]
  },
  {
   "cell_type": "code",
   "execution_count": 33,
   "metadata": {},
   "outputs": [
    {
     "name": "stdout",
     "output_type": "stream",
     "text": [
      "computing descriptive statistics for : sample_fg_2\n",
      "computing feature correlation for: sample_fg_2\n",
      "computing feature histograms for: sample_fg_2\n",
      "computing cluster analysis for: sample_fg_2\n",
      "Running sql: use demo_featurestore"
     ]
    }
   ],
   "source": [
    "#featurestore.create_featuregroup(np.random.rand(20,15), \"sample_fg_2\", description=\"sample feature group 2 for demo\")"
   ]
  },
  {
   "cell_type": "code",
   "execution_count": 4,
   "metadata": {},
   "outputs": [
    {
     "name": "stdout",
     "output_type": "stream",
     "text": [
      "computing descriptive statistics for : sample_fg_2\n",
      "computing feature correlation for: sample_fg_2\n",
      "computing feature histograms for: sample_fg_2\n",
      "computing cluster analysis for: sample_fg_2\n",
      "Running sql: use demo_featurestore"
     ]
    }
   ],
   "source": [
    "#featurestore.create_featuregroup(np.random.rand(20,15), \"sample_fg_2\", description=\"sample feature group 2 for demo, version 2\", featuregroup_version=2)"
   ]
  },
  {
   "cell_type": "code",
   "execution_count": 5,
   "metadata": {},
   "outputs": [
    {
     "name": "stdout",
     "output_type": "stream",
     "text": [
      "computing descriptive statistics for : sample_fg_2\n",
      "computing feature correlation for: sample_fg_2\n",
      "computing feature histograms for: sample_fg_2\n",
      "computing cluster analysis for: sample_fg_2\n",
      "Running sql: use demo_featurestore"
     ]
    }
   ],
   "source": [
    "#featurestore.create_featuregroup(np.random.rand(20,15), \"sample_fg_2\", description=\"sample feature group 2 for demo, version 3\", featuregroup_version=3)"
   ]
  },
  {
   "cell_type": "code",
   "execution_count": 34,
   "metadata": {},
   "outputs": [
    {
     "name": "stdout",
     "output_type": "stream",
     "text": [
      "computing descriptive statistics for : sample_fg_3\n",
      "computing feature correlation for: sample_fg_3\n",
      "computing feature histograms for: sample_fg_3\n",
      "computing cluster analysis for: sample_fg_3\n",
      "Running sql: use demo_featurestore"
     ]
    }
   ],
   "source": [
    "#featurestore.create_featuregroup(np.random.rand(20,10), \"sample_fg_3\", description=\"sample feature group 3 for demo\")"
   ]
  },
  {
   "cell_type": "code",
   "execution_count": 6,
   "metadata": {},
   "outputs": [
    {
     "name": "stdout",
     "output_type": "stream",
     "text": [
      "computing descriptive statistics for : sample_fg_3\n",
      "computing feature correlation for: sample_fg_3\n",
      "computing feature histograms for: sample_fg_3\n",
      "computing cluster analysis for: sample_fg_3\n",
      "Running sql: use demo_featurestore"
     ]
    }
   ],
   "source": [
    "#featurestore.create_featuregroup(np.random.rand(20,10), \"sample_fg_3\", description=\"sample feature group 3 for demo version 2\", featuregroup_version=2)"
   ]
  },
  {
   "cell_type": "markdown",
   "metadata": {},
   "source": [
    "## Create Training Dataset"
   ]
  },
  {
   "cell_type": "code",
   "execution_count": 5,
   "metadata": {},
   "outputs": [
    {
     "name": "stdout",
     "output_type": "stream",
     "text": [
      "computing descriptive statistics for : demo_training_dataset\n",
      "computing feature correlation for: demo_training_dataset\n",
      "computing feature histograms for: demo_training_dataset\n",
      "computing cluster analysis for: demo_training_dataset"
     ]
    }
   ],
   "source": [
    "#featurestore.create_training_dataset(np.random.rand(100, 15), \"demo_training_dataset\", description=\"demo training dataset\")"
   ]
  },
  {
   "cell_type": "code",
   "execution_count": null,
   "metadata": {},
   "outputs": [],
   "source": []
  }
 ],
 "metadata": {
  "kernelspec": {
   "display_name": "PySpark",
   "language": "",
   "name": "pysparkkernel"
  },
  "language_info": {
   "codemirror_mode": {
    "name": "python",
    "version": 2
   },
   "mimetype": "text/x-python",
   "name": "pyspark",
   "pygments_lexer": "python2"
  }
 },
 "nbformat": 4,
 "nbformat_minor": 2
}