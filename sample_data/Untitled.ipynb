{
 "cells": [
  {
   "cell_type": "code",
   "execution_count": 108,
   "metadata": {},
   "outputs": [],
   "source": [
    "from faker import Faker\n",
    "import numpy as np\n",
    "import random\n",
    "import pandas as pd\n",
    "fake = Faker()"
   ]
  },
  {
   "cell_type": "markdown",
   "metadata": {},
   "source": [
    "## Teams\n",
    "\n",
    "teams:\n",
    "\n",
    "- id\n",
    "- position\n",
    "- budget\n",
    "- name\n",
    "- owner\n",
    "\n",
    "Total: 100\n",
    "\n",
    "to:\n",
    "\n",
    "- id\n",
    "- position\n",
    "- budget\n",
    "\n",
    "\n",
    "Total: 100"
   ]
  },
  {
   "cell_type": "code",
   "execution_count": 109,
   "metadata": {},
   "outputs": [],
   "source": [
    "team_ids = list(range(1,51))"
   ]
  },
  {
   "cell_type": "code",
   "execution_count": 110,
   "metadata": {},
   "outputs": [],
   "source": [
    "team_names = []\n",
    "for i in range(len(team_ids)):\n",
    "    team_names.append(\"team\" + str(i))"
   ]
  },
  {
   "cell_type": "code",
   "execution_count": 111,
   "metadata": {},
   "outputs": [],
   "source": [
    "team_budgets = []\n",
    "for i in range(len(team_ids)):\n",
    "    team_budgets.append(abs(np.random.normal()*10000))"
   ]
  },
  {
   "cell_type": "code",
   "execution_count": 112,
   "metadata": {},
   "outputs": [],
   "source": [
    "team_owners = []\n",
    "for i in range(len(team_ids)):\n",
    "    team_owners.append(fake.name())\n",
    "team_owners = list(map(lambda x: x.replace(\",\", \"\"), team_owners))"
   ]
  },
  {
   "cell_type": "code",
   "execution_count": 113,
   "metadata": {},
   "outputs": [],
   "source": [
    "team_positions = []\n",
    "for i in range(len(team_ids)):\n",
    "    team_positions.append(team_ids[i])"
   ]
  },
  {
   "cell_type": "code",
   "execution_count": 114,
   "metadata": {},
   "outputs": [],
   "source": [
    "matrix = np.array([team_ids, team_names, team_budgets, team_owners, team_positions])"
   ]
  },
  {
   "cell_type": "code",
   "execution_count": 115,
   "metadata": {},
   "outputs": [],
   "source": [
    "teams_data = pd.DataFrame({\n",
    "        'team_id':matrix[0,:],\n",
    "        'team_name':matrix[1,:],\n",
    "        'team_budget':matrix[2,:],\n",
    "        'team_owner':matrix[3,:],\n",
    "        \"team_position\": matrix[4,:]\n",
    "    })"
   ]
  },
  {
   "cell_type": "code",
   "execution_count": 116,
   "metadata": {},
   "outputs": [
    {
     "data": {
      "text/html": [
       "<div>\n",
       "<style scoped>\n",
       "    .dataframe tbody tr th:only-of-type {\n",
       "        vertical-align: middle;\n",
       "    }\n",
       "\n",
       "    .dataframe tbody tr th {\n",
       "        vertical-align: top;\n",
       "    }\n",
       "\n",
       "    .dataframe thead th {\n",
       "        text-align: right;\n",
       "    }\n",
       "</style>\n",
       "<table border=\"1\" class=\"dataframe\">\n",
       "  <thead>\n",
       "    <tr style=\"text-align: right;\">\n",
       "      <th></th>\n",
       "      <th>team_budget</th>\n",
       "      <th>team_id</th>\n",
       "      <th>team_name</th>\n",
       "      <th>team_owner</th>\n",
       "      <th>team_position</th>\n",
       "    </tr>\n",
       "  </thead>\n",
       "  <tbody>\n",
       "    <tr>\n",
       "      <th>0</th>\n",
       "      <td>12957.076214208128</td>\n",
       "      <td>1</td>\n",
       "      <td>team0</td>\n",
       "      <td>Heather Johnson</td>\n",
       "      <td>1</td>\n",
       "    </tr>\n",
       "    <tr>\n",
       "      <th>1</th>\n",
       "      <td>2403.370251585694</td>\n",
       "      <td>2</td>\n",
       "      <td>team1</td>\n",
       "      <td>Jennifer Marshall</td>\n",
       "      <td>2</td>\n",
       "    </tr>\n",
       "    <tr>\n",
       "      <th>2</th>\n",
       "      <td>3390.375497286582</td>\n",
       "      <td>3</td>\n",
       "      <td>team2</td>\n",
       "      <td>Derrick Young</td>\n",
       "      <td>3</td>\n",
       "    </tr>\n",
       "    <tr>\n",
       "      <th>3</th>\n",
       "      <td>13547.428394036826</td>\n",
       "      <td>4</td>\n",
       "      <td>team3</td>\n",
       "      <td>Anthony Lewis</td>\n",
       "      <td>4</td>\n",
       "    </tr>\n",
       "    <tr>\n",
       "      <th>4</th>\n",
       "      <td>9678.33337197773</td>\n",
       "      <td>5</td>\n",
       "      <td>team4</td>\n",
       "      <td>Ronald Merritt</td>\n",
       "      <td>5</td>\n",
       "    </tr>\n",
       "  </tbody>\n",
       "</table>\n",
       "</div>"
      ],
      "text/plain": [
       "          team_budget team_id team_name         team_owner team_position\n",
       "0  12957.076214208128       1     team0    Heather Johnson             1\n",
       "1   2403.370251585694       2     team1  Jennifer Marshall             2\n",
       "2   3390.375497286582       3     team2      Derrick Young             3\n",
       "3  13547.428394036826       4     team3      Anthony Lewis             4\n",
       "4    9678.33337197773       5     team4     Ronald Merritt             5"
      ]
     },
     "execution_count": 116,
     "metadata": {},
     "output_type": "execute_result"
    }
   ],
   "source": [
    "teams_data.head()"
   ]
  },
  {
   "cell_type": "code",
   "execution_count": 117,
   "metadata": {},
   "outputs": [],
   "source": [
    "teams_data.to_csv(\"teams.csv\", sep=',', encoding='utf-8',index=False)"
   ]
  },
  {
   "cell_type": "markdown",
   "metadata": {},
   "source": [
    "## Attendance\n",
    "\n",
    "- year\n",
    "- team_id\n",
    "- attendance\n",
    "\n",
    "Total: 1000\n",
    "\n",
    "to:\n",
    "\n",
    "- team_id\n",
    "- average_attendance\n",
    "- sum_attendance\n",
    "\n",
    "Total: 50"
   ]
  },
  {
   "cell_type": "code",
   "execution_count": 118,
   "metadata": {},
   "outputs": [],
   "source": [
    "unique_years = list(range(1,21))"
   ]
  },
  {
   "cell_type": "code",
   "execution_count": 119,
   "metadata": {},
   "outputs": [
    {
     "ename": "SyntaxError",
     "evalue": "unexpected EOF while parsing (<ipython-input-119-3620076c3e6c>, line 8)",
     "output_type": "error",
     "traceback": [
      "\u001b[0;36m  File \u001b[0;32m\"<ipython-input-119-3620076c3e6c>\"\u001b[0;36m, line \u001b[0;32m8\u001b[0m\n\u001b[0;31m    attendances.append(abs(np.random.exponential()*100000/j)\u001b[0m\n\u001b[0m                                                            ^\u001b[0m\n\u001b[0;31mSyntaxError\u001b[0m\u001b[0;31m:\u001b[0m unexpected EOF while parsing\n"
     ]
    }
   ],
   "source": [
    "attendances = []\n",
    "attendance_team_ids = []\n",
    "years = []\n",
    "for i in unique_years:\n",
    "    for j in team_ids:\n",
    "        years.append(i)\n",
    "        attendance_team_ids.append(j)\n",
    "        attendances.append(abs(np.random.exponential()*100000/j)"
   ]
  },
  {
   "cell_type": "code",
   "execution_count": null,
   "metadata": {},
   "outputs": [],
   "source": [
    "matrix = np.array([years, attendance_team_ids, attendances])"
   ]
  },
  {
   "cell_type": "code",
   "execution_count": null,
   "metadata": {},
   "outputs": [],
   "source": [
    "matrix.shape"
   ]
  },
  {
   "cell_type": "code",
   "execution_count": null,
   "metadata": {},
   "outputs": [],
   "source": [
    "attendance_data = pd.DataFrame({\n",
    "        'year':matrix[0,:],\n",
    "        'team_id':matrix[1,:],\n",
    "        'attendance':matrix[2,:]\n",
    "    })"
   ]
  },
  {
   "cell_type": "code",
   "execution_count": null,
   "metadata": {},
   "outputs": [],
   "source": [
    "attendance_data.head()"
   ]
  },
  {
   "cell_type": "code",
   "execution_count": null,
   "metadata": {},
   "outputs": [],
   "source": [
    "attendance_data.team_id = attendance_data.team_id.astype(int)\n",
    "attendance_data.year = attendance_data.year.astype(int)"
   ]
  },
  {
   "cell_type": "code",
   "execution_count": null,
   "metadata": {},
   "outputs": [],
   "source": [
    "attendance_data.head()"
   ]
  },
  {
   "cell_type": "code",
   "execution_count": null,
   "metadata": {},
   "outputs": [],
   "source": [
    "attendance_data.to_csv(\"attendances.csv\", sep=',', encoding='utf-8',index=False)"
   ]
  },
  {
   "cell_type": "markdown",
   "metadata": {},
   "source": [
    "## Season Scores\n",
    "\n",
    "- team_id\n",
    "- year\n",
    "- position\n",
    "\n",
    "Total: 1000\n",
    "\n",
    "to:\n",
    "\n",
    "- team_id\n",
    "- average_position\n",
    "- sum_position\n",
    "\n",
    "Total: 100"
   ]
  },
  {
   "cell_type": "code",
   "execution_count": null,
   "metadata": {},
   "outputs": [],
   "source": [
    "positions = []\n",
    "position_team_ids = []\n",
    "years = []\n",
    "for i in unique_years:\n",
    "    for j in team_ids:\n",
    "        years.append(i)\n",
    "        position_team_ids.append(j)\n",
    "        positions.append(np.random.randint(1, 51)+j)"
   ]
  },
  {
   "cell_type": "code",
   "execution_count": null,
   "metadata": {},
   "outputs": [],
   "source": [
    "matrix = np.array([years, position_team_ids, positions])"
   ]
  },
  {
   "cell_type": "code",
   "execution_count": null,
   "metadata": {},
   "outputs": [],
   "source": [
    "season_score_data = pd.DataFrame({\n",
    "        'year':matrix[0,:],\n",
    "        'team_id':matrix[1,:],\n",
    "        'position':matrix[2,:]\n",
    "    })"
   ]
  },
  {
   "cell_type": "code",
   "execution_count": null,
   "metadata": {},
   "outputs": [],
   "source": [
    "season_score_data.head()"
   ]
  },
  {
   "cell_type": "code",
   "execution_count": null,
   "metadata": {},
   "outputs": [],
   "source": [
    "season_score_data.to_csv(\"season_scores.csv\", sep=',', encoding='utf-8',index=False)"
   ]
  },
  {
   "cell_type": "markdown",
   "metadata": {},
   "source": [
    "## Players\n",
    "\n",
    "- rating\n",
    "- age\n",
    "- worth\n",
    "- team_id\n",
    "\n",
    "to: \n",
    "\n",
    "- team_id\n",
    "- average_player_rating\n",
    "- average_player_age\n",
    "- average_player_worth\n",
    "- sum_player_rating\n",
    "- sum_player_age\n",
    "- sum_player_worth\n",
    "\n",
    "Total: 500, 50 per team"
   ]
  },
  {
   "cell_type": "code",
   "execution_count": null,
   "metadata": {},
   "outputs": [],
   "source": [
    "players = list(range(0, 500))"
   ]
  },
  {
   "cell_type": "code",
   "execution_count": null,
   "metadata": {},
   "outputs": [],
   "source": [
    "ages = []\n",
    "worths = []\n",
    "players_team_ids = []\n",
    "ratings = []\n",
    "for i in team_ids:\n",
    "    for j in list(range(0, 100)):\n",
    "        players_team_ids.append(i)\n",
    "        ages.append(np.random.randint(17, 35))\n",
    "        worths.append(abs(np.random.normal()*10000)/i)\n",
    "        ratings.append(abs(np.random.normal()*10000)/i)"
   ]
  },
  {
   "cell_type": "code",
   "execution_count": null,
   "metadata": {},
   "outputs": [],
   "source": [
    "matrix = np.array([players_team_ids, ages, worths, ratings])"
   ]
  },
  {
   "cell_type": "code",
   "execution_count": null,
   "metadata": {},
   "outputs": [],
   "source": [
    "players_data = pd.DataFrame({\n",
    "        'team_id':matrix[0,:],\n",
    "        'age':matrix[1,:],\n",
    "        'worth':matrix[2,:],\n",
    "        'rating':matrix[3,:]\n",
    "    })"
   ]
  },
  {
   "cell_type": "code",
   "execution_count": null,
   "metadata": {},
   "outputs": [],
   "source": [
    "players_data.head()"
   ]
  },
  {
   "cell_type": "code",
   "execution_count": null,
   "metadata": {},
   "outputs": [],
   "source": [
    "players_data.team_id = players_data.team_id.astype(int)\n",
    "players_data.age = players_data.age.astype(int)"
   ]
  },
  {
   "cell_type": "code",
   "execution_count": null,
   "metadata": {},
   "outputs": [],
   "source": [
    "players_data.head()"
   ]
  },
  {
   "cell_type": "code",
   "execution_count": null,
   "metadata": {},
   "outputs": [],
   "source": [
    "players_data.to_csv(\"players.csv\", sep=',', encoding='utf-8',index=False)"
   ]
  },
  {
   "cell_type": "markdown",
   "metadata": {},
   "source": [
    "## Games \n",
    "\n",
    "- home_team_id\n",
    "- away_team_id\n",
    "- score\n",
    "\n",
    "total: 10000"
   ]
  },
  {
   "cell_type": "code",
   "execution_count": null,
   "metadata": {},
   "outputs": [],
   "source": [
    "scores = []\n",
    "home_teams = []\n",
    "away_teams = []\n",
    "for i in list(range(0, 10000)):\n",
    "    home_team = random.choice(team_ids)\n",
    "    away_team = home_team\n",
    "    while away_team == home_team:\n",
    "          away_team = random.choice(team_ids)\n",
    "    home_teams.append(home_team)\n",
    "    away_teams.append(away_team)\n",
    "    score = 1\n",
    "    if abs(home_team - away_team) < 5:\n",
    "        score = 2\n",
    "    elif away_team > home_team:\n",
    "        score = 3\n",
    "    scores.append(score)"
   ]
  },
  {
   "cell_type": "code",
   "execution_count": null,
   "metadata": {},
   "outputs": [],
   "source": [
    "matrix = np.array([home_teams, away_teams, scores])"
   ]
  },
  {
   "cell_type": "code",
   "execution_count": null,
   "metadata": {},
   "outputs": [],
   "source": [
    "games_data = pd.DataFrame({\n",
    "        'home_team_id':matrix[0,:],\n",
    "        'away_team_id':matrix[1,:],\n",
    "        'score':matrix[2,:]\n",
    "    })"
   ]
  },
  {
   "cell_type": "code",
   "execution_count": 120,
   "metadata": {},
   "outputs": [
    {
     "data": {
      "text/html": [
       "<div>\n",
       "<style scoped>\n",
       "    .dataframe tbody tr th:only-of-type {\n",
       "        vertical-align: middle;\n",
       "    }\n",
       "\n",
       "    .dataframe tbody tr th {\n",
       "        vertical-align: top;\n",
       "    }\n",
       "\n",
       "    .dataframe thead th {\n",
       "        text-align: right;\n",
       "    }\n",
       "</style>\n",
       "<table border=\"1\" class=\"dataframe\">\n",
       "  <thead>\n",
       "    <tr style=\"text-align: right;\">\n",
       "      <th></th>\n",
       "      <th>away_team_id</th>\n",
       "      <th>home_team_id</th>\n",
       "      <th>score</th>\n",
       "    </tr>\n",
       "  </thead>\n",
       "  <tbody>\n",
       "    <tr>\n",
       "      <th>0</th>\n",
       "      <td>11</td>\n",
       "      <td>48</td>\n",
       "      <td>1</td>\n",
       "    </tr>\n",
       "    <tr>\n",
       "      <th>1</th>\n",
       "      <td>46</td>\n",
       "      <td>32</td>\n",
       "      <td>3</td>\n",
       "    </tr>\n",
       "    <tr>\n",
       "      <th>2</th>\n",
       "      <td>15</td>\n",
       "      <td>13</td>\n",
       "      <td>2</td>\n",
       "    </tr>\n",
       "    <tr>\n",
       "      <th>3</th>\n",
       "      <td>11</td>\n",
       "      <td>47</td>\n",
       "      <td>1</td>\n",
       "    </tr>\n",
       "    <tr>\n",
       "      <th>4</th>\n",
       "      <td>50</td>\n",
       "      <td>1</td>\n",
       "      <td>3</td>\n",
       "    </tr>\n",
       "  </tbody>\n",
       "</table>\n",
       "</div>"
      ],
      "text/plain": [
       "   away_team_id  home_team_id  score\n",
       "0            11            48      1\n",
       "1            46            32      3\n",
       "2            15            13      2\n",
       "3            11            47      1\n",
       "4            50             1      3"
      ]
     },
     "execution_count": 120,
     "metadata": {},
     "output_type": "execute_result"
    }
   ],
   "source": [
    "games_data.head()"
   ]
  },
  {
   "cell_type": "code",
   "execution_count": 121,
   "metadata": {},
   "outputs": [],
   "source": [
    "games_data.to_csv(\"games.csv\", sep=',', encoding='utf-8',index=False)"
   ]
  },
  {
   "cell_type": "markdown",
   "metadata": {},
   "source": [
    "## Training Dataset\n",
    "\n",
    "- home_team_average_player_rating\n",
    "- home_team_average_player_age\n",
    "- home_team_average_player_worth\n",
    "- home_team_sum_player_rating\n",
    "- home_team_sum_player_worth\n",
    "- home_team_sum_player_age\n",
    "- home_team_average_position\n",
    "- home_team_sum_position\n",
    "- home_team_average_attendance\n",
    "- home_team_sum_attendance\n",
    "- home_team_position\n",
    "- home_team_budget\n",
    "- away_team_average_player_rating\n",
    "- away_team_average_player_age\n",
    "- away_team_average_player_worth\n",
    "- away_team_sum_player_rating\n",
    "- away_team_sum_player_worth\n",
    "- away_team_sum_player_age\n",
    "- away_team_average_position\n",
    "- away_team_sum_position\n",
    "- away_team_average_attendance\n",
    "- away_team_sum_attendance\n",
    "- away_team_position\n",
    "- away_team_budget\n",
    "- score"
   ]
  },
  {
   "cell_type": "code",
   "execution_count": null,
   "metadata": {},
   "outputs": [],
   "source": []
  }
 ],
 "metadata": {
  "kernelspec": {
   "display_name": "Python 3",
   "language": "python",
   "name": "python3"
  },
  "language_info": {
   "codemirror_mode": {
    "name": "ipython",
    "version": 3
   },
   "file_extension": ".py",
   "mimetype": "text/x-python",
   "name": "python",
   "nbconvert_exporter": "python",
   "pygments_lexer": "ipython3",
   "version": "3.5.6"
  }
 },
 "nbformat": 4,
 "nbformat_minor": 2
}
