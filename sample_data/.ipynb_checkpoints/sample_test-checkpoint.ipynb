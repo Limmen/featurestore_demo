{
 "cells": [
  {
   "cell_type": "code",
   "execution_count": 1,
   "metadata": {},
   "outputs": [],
   "source": [
    "customer_ids = list(range(0,500))"
   ]
  },
  {
   "cell_type": "code",
   "execution_count": 2,
   "metadata": {},
   "outputs": [],
   "source": [
    "transaction_ids = list(range(5000))"
   ]
  },
  {
   "cell_type": "code",
   "execution_count": 5,
   "metadata": {},
   "outputs": [],
   "source": [
    "from faker import Faker"
   ]
  },
  {
   "cell_type": "code",
   "execution_count": 7,
   "metadata": {},
   "outputs": [],
   "source": [
    "fake = Faker()"
   ]
  },
  {
   "cell_type": "code",
   "execution_count": 9,
   "metadata": {},
   "outputs": [
    {
     "data": {
      "text/plain": [
       "'Scott Cabrera'"
      ]
     },
     "execution_count": 9,
     "metadata": {},
     "output_type": "execute_result"
    }
   ],
   "source": [
    "fake.name()"
   ]
  },
  {
   "cell_type": "code",
   "execution_count": 16,
   "metadata": {},
   "outputs": [],
   "source": [
    "customer_names = []\n",
    "for i in range(len(customer_ids)):\n",
    "    customer_names.append(fake.name())"
   ]
  },
  {
   "cell_type": "code",
   "execution_count": 36,
   "metadata": {},
   "outputs": [],
   "source": [
    "join_dates = []\n",
    "for i in range(len(customer_ids)):\n",
    "    join_dates.append(fake.date())"
   ]
  },
  {
   "cell_type": "code",
   "execution_count": 19,
   "metadata": {},
   "outputs": [],
   "source": [
    "customer_types_cat = [\"corporate\", \"private\"]"
   ]
  },
  {
   "cell_type": "code",
   "execution_count": 20,
   "metadata": {},
   "outputs": [],
   "source": [
    "import random\n",
    "customer_types = []\n",
    "for i in range(len(customer_ids)):\n",
    "    customer_types.append(random.choice(customer_types_cat))"
   ]
  },
  {
   "cell_type": "code",
   "execution_count": 59,
   "metadata": {},
   "outputs": [],
   "source": [
    "import numpy as np\n",
    "customer_balance = []\n",
    "for i in range(len(customer_ids)):\n",
    "    customer_balance.append(abs(np.random.normal()*10000))"
   ]
  },
  {
   "cell_type": "code",
   "execution_count": 60,
   "metadata": {},
   "outputs": [],
   "source": [
    "customer_birthdate = []\n",
    "for i in range(len(customer_ids)):\n",
    "    customer_birthdate.append(fake.date())"
   ]
  },
  {
   "cell_type": "code",
   "execution_count": 61,
   "metadata": {},
   "outputs": [],
   "source": [
    "gender_types_cat = [\"male\", \"female\"]"
   ]
  },
  {
   "cell_type": "code",
   "execution_count": 62,
   "metadata": {},
   "outputs": [],
   "source": [
    "customer_gender = []\n",
    "for i in range(len(customer_ids)):\n",
    "    customer_gender.append(random.choice(gender_types_cat))"
   ]
  },
  {
   "cell_type": "code",
   "execution_count": 63,
   "metadata": {},
   "outputs": [],
   "source": [
    "pep_types_cat = [True, False]"
   ]
  },
  {
   "cell_type": "code",
   "execution_count": 64,
   "metadata": {},
   "outputs": [],
   "source": [
    "customer_pep = []\n",
    "for i in range(len(customer_ids)):\n",
    "    customer_pep.append(random.choice(pep_types_cat))"
   ]
  },
  {
   "cell_type": "code",
   "execution_count": 79,
   "metadata": {},
   "outputs": [],
   "source": [
    "number_of_accounts = []\n",
    "for i in range(len(customer_ids)):\n",
    "    number_of_accounts.append(np.random.randint(1, 15))"
   ]
  },
  {
   "cell_type": "code",
   "execution_count": 80,
   "metadata": {},
   "outputs": [],
   "source": [
    "matrix = np.array([customer_names, join_dates, customer_types, customer_balance, customer_birthdate, customer_gender, customer_pep, number_of_accounts])"
   ]
  },
  {
   "cell_type": "code",
   "execution_count": 81,
   "metadata": {},
   "outputs": [
    {
     "data": {
      "text/plain": [
       "(8, 500)"
      ]
     },
     "execution_count": 81,
     "metadata": {},
     "output_type": "execute_result"
    }
   ],
   "source": [
    "matrix.shape"
   ]
  },
  {
   "cell_type": "code",
   "execution_count": 82,
   "metadata": {},
   "outputs": [
    {
     "name": "stdout",
     "output_type": "stream",
     "text": [
      "500\n",
      "500\n",
      "500\n",
      "500\n",
      "500\n",
      "500\n",
      "500\n",
      "500\n"
     ]
    }
   ],
   "source": [
    "for i in range(8):\n",
    "    print(len(matrix[i]))"
   ]
  },
  {
   "cell_type": "code",
   "execution_count": 83,
   "metadata": {},
   "outputs": [],
   "source": [
    "#matrix[0,:]"
   ]
  },
  {
   "cell_type": "code",
   "execution_count": 84,
   "metadata": {},
   "outputs": [],
   "source": [
    "import pandas as pd\n",
    "dataset = pd.DataFrame({\n",
    "        'name':matrix[0,:],\n",
    "        'join_date':matrix[1,:],\n",
    "        'customer_type':matrix[2,:],\n",
    "        'balance':matrix[3,:],\n",
    "        \"birthdate\": matrix[4,:],\n",
    "        \"gender\": matrix[5,:],\n",
    "        \"pep\": matrix[6,:],\n",
    "        \"number_of_accounts\": matrix[7,:]\n",
    "    })"
   ]
  },
  {
   "cell_type": "code",
   "execution_count": 85,
   "metadata": {},
   "outputs": [
    {
     "data": {
      "text/html": [
       "<div>\n",
       "<style scoped>\n",
       "    .dataframe tbody tr th:only-of-type {\n",
       "        vertical-align: middle;\n",
       "    }\n",
       "\n",
       "    .dataframe tbody tr th {\n",
       "        vertical-align: top;\n",
       "    }\n",
       "\n",
       "    .dataframe thead th {\n",
       "        text-align: right;\n",
       "    }\n",
       "</style>\n",
       "<table border=\"1\" class=\"dataframe\">\n",
       "  <thead>\n",
       "    <tr style=\"text-align: right;\">\n",
       "      <th></th>\n",
       "      <th>balance</th>\n",
       "      <th>birthdate</th>\n",
       "      <th>customer_type</th>\n",
       "      <th>gender</th>\n",
       "      <th>join_date</th>\n",
       "      <th>name</th>\n",
       "      <th>number_of_accounts</th>\n",
       "      <th>pep</th>\n",
       "    </tr>\n",
       "  </thead>\n",
       "  <tbody>\n",
       "    <tr>\n",
       "      <th>0</th>\n",
       "      <td>12305.562990729544</td>\n",
       "      <td>1983-04-08</td>\n",
       "      <td>corporate</td>\n",
       "      <td>male</td>\n",
       "      <td>1989-05-25</td>\n",
       "      <td>Michael Williams</td>\n",
       "      <td>14</td>\n",
       "      <td>True</td>\n",
       "    </tr>\n",
       "    <tr>\n",
       "      <th>1</th>\n",
       "      <td>3367.0124706495944</td>\n",
       "      <td>2004-10-20</td>\n",
       "      <td>private</td>\n",
       "      <td>male</td>\n",
       "      <td>2006-03-19</td>\n",
       "      <td>Amanda Dunn</td>\n",
       "      <td>13</td>\n",
       "      <td>True</td>\n",
       "    </tr>\n",
       "    <tr>\n",
       "      <th>2</th>\n",
       "      <td>3482.917778302858</td>\n",
       "      <td>2011-11-20</td>\n",
       "      <td>private</td>\n",
       "      <td>female</td>\n",
       "      <td>1989-07-19</td>\n",
       "      <td>Brittany Bailey</td>\n",
       "      <td>5</td>\n",
       "      <td>False</td>\n",
       "    </tr>\n",
       "    <tr>\n",
       "      <th>3</th>\n",
       "      <td>9319.96819082804</td>\n",
       "      <td>2005-05-10</td>\n",
       "      <td>private</td>\n",
       "      <td>male</td>\n",
       "      <td>2008-08-31</td>\n",
       "      <td>Crystal Mason</td>\n",
       "      <td>13</td>\n",
       "      <td>False</td>\n",
       "    </tr>\n",
       "    <tr>\n",
       "      <th>4</th>\n",
       "      <td>12234.149718600698</td>\n",
       "      <td>1985-01-30</td>\n",
       "      <td>corporate</td>\n",
       "      <td>male</td>\n",
       "      <td>2016-09-03</td>\n",
       "      <td>Todd Jefferson</td>\n",
       "      <td>2</td>\n",
       "      <td>False</td>\n",
       "    </tr>\n",
       "  </tbody>\n",
       "</table>\n",
       "</div>"
      ],
      "text/plain": [
       "              balance   birthdate customer_type  gender   join_date  \\\n",
       "0  12305.562990729544  1983-04-08     corporate    male  1989-05-25   \n",
       "1  3367.0124706495944  2004-10-20       private    male  2006-03-19   \n",
       "2   3482.917778302858  2011-11-20       private  female  1989-07-19   \n",
       "3    9319.96819082804  2005-05-10       private    male  2008-08-31   \n",
       "4  12234.149718600698  1985-01-30     corporate    male  2016-09-03   \n",
       "\n",
       "               name number_of_accounts    pep  \n",
       "0  Michael Williams                 14   True  \n",
       "1       Amanda Dunn                 13   True  \n",
       "2   Brittany Bailey                  5  False  \n",
       "3     Crystal Mason                 13  False  \n",
       "4    Todd Jefferson                  2  False  "
      ]
     },
     "execution_count": 85,
     "metadata": {},
     "output_type": "execute_result"
    }
   ],
   "source": [
    "dataset.head()"
   ]
  },
  {
   "cell_type": "code",
   "execution_count": 86,
   "metadata": {},
   "outputs": [],
   "source": [
    "dataset.to_csv(\"kyc.csv\", sep=',', encoding='utf-8')"
   ]
  },
  {
   "cell_type": "code",
   "execution_count": null,
   "metadata": {},
   "outputs": [],
   "source": []
  },
  {
   "cell_type": "code",
   "execution_count": 87,
   "metadata": {},
   "outputs": [],
   "source": [
    "trx_in_cust_id = []\n",
    "for i in range(len(transaction_ids)):\n"
   ]
  },
  {
   "cell_type": "code",
   "execution_count": 88,
   "metadata": {},
   "outputs": [],
   "source": [
    "trx_dates = []\n",
    "for i in range(len(transaction_ids)):\n",
    "    trx_dates.append(fake.date())"
   ]
  },
  {
   "cell_type": "code",
   "execution_count": 89,
   "metadata": {},
   "outputs": [],
   "source": [
    "trx_type_cat = [\"ATM\", \"INTERNATIONAL\", \"DOMESTIC\", \"SWISH\"]\n",
    "trx_types = []\n",
    "for i in range(len(transaction_ids)):\n",
    "    trx_types.append(random.choice(trx_type_cat))"
   ]
  },
  {
   "cell_type": "code",
   "execution_count": null,
   "metadata": {},
   "outputs": [],
   "source": []
  }
 ],
 "metadata": {
  "kernelspec": {
   "display_name": "Python 3",
   "language": "python",
   "name": "python3"
  },
  "language_info": {
   "codemirror_mode": {
    "name": "ipython",
    "version": 3
   },
   "file_extension": ".py",
   "mimetype": "text/x-python",
   "name": "python",
   "nbconvert_exporter": "python",
   "pygments_lexer": "ipython3",
   "version": "3.5.6"
  }
 },
 "nbformat": 4,
 "nbformat_minor": 2
}
