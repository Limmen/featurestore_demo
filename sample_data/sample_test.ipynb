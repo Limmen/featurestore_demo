{
 "cells": [
  {
   "cell_type": "code",
   "execution_count": 172,
   "metadata": {},
   "outputs": [],
   "source": [
    "customer_ids = list(range(0,500))"
   ]
  },
  {
   "cell_type": "code",
   "execution_count": 173,
   "metadata": {},
   "outputs": [],
   "source": [
    "transaction_ids = list(range(5000))"
   ]
  },
  {
   "cell_type": "code",
   "execution_count": 174,
   "metadata": {},
   "outputs": [],
   "source": [
    "from faker import Faker"
   ]
  },
  {
   "cell_type": "code",
   "execution_count": 175,
   "metadata": {},
   "outputs": [],
   "source": [
    "fake = Faker()"
   ]
  },
  {
   "cell_type": "code",
   "execution_count": 176,
   "metadata": {},
   "outputs": [
    {
     "data": {
      "text/plain": [
       "'Sue Ray'"
      ]
     },
     "execution_count": 176,
     "metadata": {},
     "output_type": "execute_result"
    }
   ],
   "source": [
    "fake.name()"
   ]
  },
  {
   "cell_type": "code",
   "execution_count": 177,
   "metadata": {},
   "outputs": [],
   "source": [
    "customer_names = []\n",
    "for i in range(len(customer_ids)):\n",
    "    customer_names.append(fake.name())"
   ]
  },
  {
   "cell_type": "code",
   "execution_count": 178,
   "metadata": {},
   "outputs": [],
   "source": [
    "join_dates = []\n",
    "for i in range(len(customer_ids)):\n",
    "    join_dates.append(fake.date())"
   ]
  },
  {
   "cell_type": "code",
   "execution_count": 179,
   "metadata": {},
   "outputs": [],
   "source": [
    "customer_types_cat = [\"corporate\", \"private\"]"
   ]
  },
  {
   "cell_type": "code",
   "execution_count": 180,
   "metadata": {},
   "outputs": [],
   "source": [
    "import random\n",
    "customer_types = []\n",
    "for i in range(len(customer_ids)):\n",
    "    customer_types.append(random.choice(customer_types_cat))"
   ]
  },
  {
   "cell_type": "code",
   "execution_count": 181,
   "metadata": {},
   "outputs": [],
   "source": [
    "import numpy as np\n",
    "customer_balance = []\n",
    "for i in range(len(customer_ids)):\n",
    "    customer_balance.append(abs(np.random.normal()*10000))"
   ]
  },
  {
   "cell_type": "code",
   "execution_count": 182,
   "metadata": {},
   "outputs": [],
   "source": [
    "customer_birthdate = []\n",
    "for i in range(len(customer_ids)):\n",
    "    customer_birthdate.append(fake.date())"
   ]
  },
  {
   "cell_type": "code",
   "execution_count": 183,
   "metadata": {},
   "outputs": [],
   "source": [
    "gender_types_cat = [\"male\", \"female\"]"
   ]
  },
  {
   "cell_type": "code",
   "execution_count": 184,
   "metadata": {},
   "outputs": [],
   "source": [
    "customer_gender = []\n",
    "for i in range(len(customer_ids)):\n",
    "    customer_gender.append(random.choice(gender_types_cat))"
   ]
  },
  {
   "cell_type": "code",
   "execution_count": 185,
   "metadata": {},
   "outputs": [],
   "source": [
    "pep_types_cat = [True, False]"
   ]
  },
  {
   "cell_type": "code",
   "execution_count": 186,
   "metadata": {},
   "outputs": [],
   "source": [
    "customer_pep = []\n",
    "for i in range(len(customer_ids)):\n",
    "    customer_pep.append(random.choice(pep_types_cat))"
   ]
  },
  {
   "cell_type": "code",
   "execution_count": 187,
   "metadata": {},
   "outputs": [],
   "source": [
    "number_of_accounts = []\n",
    "for i in range(len(customer_ids)):\n",
    "    number_of_accounts.append(np.random.randint(1, 15))"
   ]
  },
  {
   "cell_type": "code",
   "execution_count": 188,
   "metadata": {},
   "outputs": [],
   "source": [
    "matrix = np.array([customer_names, join_dates, customer_types, customer_balance, customer_birthdate, customer_gender, customer_pep, number_of_accounts, customer_ids])"
   ]
  },
  {
   "cell_type": "code",
   "execution_count": 189,
   "metadata": {},
   "outputs": [
    {
     "data": {
      "text/plain": [
       "(9, 500)"
      ]
     },
     "execution_count": 189,
     "metadata": {},
     "output_type": "execute_result"
    }
   ],
   "source": [
    "matrix.shape"
   ]
  },
  {
   "cell_type": "code",
   "execution_count": 190,
   "metadata": {},
   "outputs": [
    {
     "name": "stdout",
     "output_type": "stream",
     "text": [
      "500\n",
      "500\n",
      "500\n",
      "500\n",
      "500\n",
      "500\n",
      "500\n",
      "500\n"
     ]
    }
   ],
   "source": [
    "for i in range(8):\n",
    "    print(len(matrix[i]))"
   ]
  },
  {
   "cell_type": "code",
   "execution_count": 191,
   "metadata": {},
   "outputs": [],
   "source": [
    "#matrix[0,:]"
   ]
  },
  {
   "cell_type": "code",
   "execution_count": 192,
   "metadata": {},
   "outputs": [],
   "source": [
    "import pandas as pd\n",
    "dataset = pd.DataFrame({\n",
    "        'name':matrix[0,:],\n",
    "        'join_date':matrix[1,:],\n",
    "        'customer_type':matrix[2,:],\n",
    "        'balance':matrix[3,:],\n",
    "        \"birthdate\": matrix[4,:],\n",
    "        \"gender\": matrix[5,:],\n",
    "        \"pep\": matrix[6,:],\n",
    "        \"number_of_accounts\": matrix[7,:],\n",
    "        \"cust_id\": matrix[8,:]\n",
    "    })"
   ]
  },
  {
   "cell_type": "code",
   "execution_count": 193,
   "metadata": {},
   "outputs": [
    {
     "data": {
      "text/html": [
       "<div>\n",
       "<style scoped>\n",
       "    .dataframe tbody tr th:only-of-type {\n",
       "        vertical-align: middle;\n",
       "    }\n",
       "\n",
       "    .dataframe tbody tr th {\n",
       "        vertical-align: top;\n",
       "    }\n",
       "\n",
       "    .dataframe thead th {\n",
       "        text-align: right;\n",
       "    }\n",
       "</style>\n",
       "<table border=\"1\" class=\"dataframe\">\n",
       "  <thead>\n",
       "    <tr style=\"text-align: right;\">\n",
       "      <th></th>\n",
       "      <th>balance</th>\n",
       "      <th>birthdate</th>\n",
       "      <th>cust_id</th>\n",
       "      <th>customer_type</th>\n",
       "      <th>gender</th>\n",
       "      <th>join_date</th>\n",
       "      <th>name</th>\n",
       "      <th>number_of_accounts</th>\n",
       "      <th>pep</th>\n",
       "    </tr>\n",
       "  </thead>\n",
       "  <tbody>\n",
       "    <tr>\n",
       "      <th>0</th>\n",
       "      <td>4591.73932073162</td>\n",
       "      <td>2014-12-09</td>\n",
       "      <td>0</td>\n",
       "      <td>corporate</td>\n",
       "      <td>male</td>\n",
       "      <td>1992-12-21</td>\n",
       "      <td>Gary Johnson</td>\n",
       "      <td>4</td>\n",
       "      <td>False</td>\n",
       "    </tr>\n",
       "    <tr>\n",
       "      <th>1</th>\n",
       "      <td>13533.496311274432</td>\n",
       "      <td>1970-09-26</td>\n",
       "      <td>1</td>\n",
       "      <td>corporate</td>\n",
       "      <td>female</td>\n",
       "      <td>1981-03-25</td>\n",
       "      <td>Kyle Gallegos</td>\n",
       "      <td>10</td>\n",
       "      <td>True</td>\n",
       "    </tr>\n",
       "    <tr>\n",
       "      <th>2</th>\n",
       "      <td>19077.328763693204</td>\n",
       "      <td>2004-11-06</td>\n",
       "      <td>2</td>\n",
       "      <td>corporate</td>\n",
       "      <td>male</td>\n",
       "      <td>1975-10-18</td>\n",
       "      <td>Alexander Cruz</td>\n",
       "      <td>2</td>\n",
       "      <td>True</td>\n",
       "    </tr>\n",
       "    <tr>\n",
       "      <th>3</th>\n",
       "      <td>11765.387088778163</td>\n",
       "      <td>1989-04-07</td>\n",
       "      <td>3</td>\n",
       "      <td>private</td>\n",
       "      <td>female</td>\n",
       "      <td>1978-09-02</td>\n",
       "      <td>Dorothy Thomas</td>\n",
       "      <td>3</td>\n",
       "      <td>True</td>\n",
       "    </tr>\n",
       "    <tr>\n",
       "      <th>4</th>\n",
       "      <td>24.54640376385323</td>\n",
       "      <td>2015-05-15</td>\n",
       "      <td>4</td>\n",
       "      <td>corporate</td>\n",
       "      <td>male</td>\n",
       "      <td>1989-07-19</td>\n",
       "      <td>Chad Hurley</td>\n",
       "      <td>2</td>\n",
       "      <td>False</td>\n",
       "    </tr>\n",
       "  </tbody>\n",
       "</table>\n",
       "</div>"
      ],
      "text/plain": [
       "              balance   birthdate cust_id customer_type  gender   join_date  \\\n",
       "0    4591.73932073162  2014-12-09       0     corporate    male  1992-12-21   \n",
       "1  13533.496311274432  1970-09-26       1     corporate  female  1981-03-25   \n",
       "2  19077.328763693204  2004-11-06       2     corporate    male  1975-10-18   \n",
       "3  11765.387088778163  1989-04-07       3       private  female  1978-09-02   \n",
       "4   24.54640376385323  2015-05-15       4     corporate    male  1989-07-19   \n",
       "\n",
       "             name number_of_accounts    pep  \n",
       "0    Gary Johnson                  4  False  \n",
       "1   Kyle Gallegos                 10   True  \n",
       "2  Alexander Cruz                  2   True  \n",
       "3  Dorothy Thomas                  3   True  \n",
       "4     Chad Hurley                  2  False  "
      ]
     },
     "execution_count": 193,
     "metadata": {},
     "output_type": "execute_result"
    }
   ],
   "source": [
    "dataset.head()"
   ]
  },
  {
   "cell_type": "code",
   "execution_count": 194,
   "metadata": {},
   "outputs": [],
   "source": [
    "dataset.to_csv(\"kyc.csv\", sep=',', encoding='utf-8',index=False)"
   ]
  },
  {
   "cell_type": "code",
   "execution_count": null,
   "metadata": {},
   "outputs": [],
   "source": []
  },
  {
   "cell_type": "code",
   "execution_count": 195,
   "metadata": {},
   "outputs": [],
   "source": [
    "trx_in_cust_id = []\n",
    "for i in range(len(transaction_ids)):\n",
    "    trx_in_cust_id.append(random.choice(customer_ids))"
   ]
  },
  {
   "cell_type": "code",
   "execution_count": 196,
   "metadata": {},
   "outputs": [],
   "source": [
    "trx_dates = []\n",
    "for i in range(len(transaction_ids)):\n",
    "    trx_dates.append(fake.date())"
   ]
  },
  {
   "cell_type": "code",
   "execution_count": 197,
   "metadata": {},
   "outputs": [],
   "source": [
    "trx_type_cat = [\"ATM\", \"INTERNATIONAL\", \"DOMESTIC\", \"SWISH\"]\n",
    "trx_types = []\n",
    "for i in range(len(transaction_ids)):\n",
    "    trx_types.append(random.choice(trx_type_cat))"
   ]
  },
  {
   "cell_type": "code",
   "execution_count": 198,
   "metadata": {},
   "outputs": [],
   "source": [
    "trx_amount = []\n",
    "for i in range(len(transaction_ids)):\n",
    "    trx_amount.append(abs(np.random.normal()*1000))"
   ]
  },
  {
   "cell_type": "code",
   "execution_count": 199,
   "metadata": {},
   "outputs": [],
   "source": [
    "trx_bankid = []\n",
    "for i in range(len(transaction_ids)):\n",
    "    trx_bankid.append(np.random.randint(1, 10000000))"
   ]
  },
  {
   "cell_type": "code",
   "execution_count": 200,
   "metadata": {},
   "outputs": [],
   "source": [
    "trx_out_cust_id = []\n",
    "for i in range(len(transaction_ids)):\n",
    "    counter = trx_in_cust_id[i]\n",
    "    while counter == trx_in_cust_id[i]:\n",
    "        counter = random.choice(customer_ids)\n",
    "    trx_out_cust_id.append(counter)"
   ]
  },
  {
   "cell_type": "code",
   "execution_count": 201,
   "metadata": {},
   "outputs": [],
   "source": [
    "trx_clearingnum = []\n",
    "for i in range(len(transaction_ids)):\n",
    "    trx_clearingnum.append(np.random.randint(1000, 9999))"
   ]
  },
  {
   "cell_type": "code",
   "execution_count": 202,
   "metadata": {},
   "outputs": [],
   "source": [
    "trx_countries_cat = [\"SWEDEN\", \"NORWAY\", \"UK\", \"LATVIA\", \"ESTONIA\", \"FINLAND\", \"RUSSIA\", \"ROMANIA\"]"
   ]
  },
  {
   "cell_type": "code",
   "execution_count": 203,
   "metadata": {},
   "outputs": [],
   "source": [
    "trx_countries = []\n",
    "for i in range(len(transaction_ids)):\n",
    "    trx_countries.append(random.choice(trx_countries_cat))"
   ]
  },
  {
   "cell_type": "code",
   "execution_count": 204,
   "metadata": {},
   "outputs": [],
   "source": [
    "matrix2 = np.array([trx_in_cust_id, trx_dates, trx_types, trx_amount, trx_bankid, trx_out_cust_id, trx_clearingnum, trx_countries, transaction_ids])"
   ]
  },
  {
   "cell_type": "code",
   "execution_count": 205,
   "metadata": {},
   "outputs": [],
   "source": [
    "import pandas as pd\n",
    "dataset2 = pd.DataFrame({\n",
    "        'cust_id_in':matrix2[0,:],\n",
    "        'trx_date':matrix2[1,:],\n",
    "        'trx_type':matrix2[2,:],\n",
    "        'trx_amount':matrix2[3,:],\n",
    "        'trx_bankid':matrix2[4,:],\n",
    "        \"cust_id_out\": matrix2[5,:],\n",
    "        \"trx_clearinnum\": matrix2[6,:],\n",
    "        \"trx_country\": matrix2[7,:],\n",
    "        \"trx_id\": matrix2[8,:]\n",
    "    })"
   ]
  },
  {
   "cell_type": "code",
   "execution_count": 206,
   "metadata": {},
   "outputs": [
    {
     "data": {
      "text/html": [
       "<div>\n",
       "<style scoped>\n",
       "    .dataframe tbody tr th:only-of-type {\n",
       "        vertical-align: middle;\n",
       "    }\n",
       "\n",
       "    .dataframe tbody tr th {\n",
       "        vertical-align: top;\n",
       "    }\n",
       "\n",
       "    .dataframe thead th {\n",
       "        text-align: right;\n",
       "    }\n",
       "</style>\n",
       "<table border=\"1\" class=\"dataframe\">\n",
       "  <thead>\n",
       "    <tr style=\"text-align: right;\">\n",
       "      <th></th>\n",
       "      <th>cust_id_in</th>\n",
       "      <th>cust_id_out</th>\n",
       "      <th>trx_amount</th>\n",
       "      <th>trx_bankid</th>\n",
       "      <th>trx_clearinnum</th>\n",
       "      <th>trx_country</th>\n",
       "      <th>trx_date</th>\n",
       "      <th>trx_id</th>\n",
       "      <th>trx_type</th>\n",
       "    </tr>\n",
       "  </thead>\n",
       "  <tbody>\n",
       "    <tr>\n",
       "      <th>0</th>\n",
       "      <td>169</td>\n",
       "      <td>397</td>\n",
       "      <td>69.50684196648673</td>\n",
       "      <td>7988236</td>\n",
       "      <td>6417</td>\n",
       "      <td>ESTONIA</td>\n",
       "      <td>1992-12-28</td>\n",
       "      <td>0</td>\n",
       "      <td>SWISH</td>\n",
       "    </tr>\n",
       "    <tr>\n",
       "      <th>1</th>\n",
       "      <td>94</td>\n",
       "      <td>496</td>\n",
       "      <td>1560.577013730472</td>\n",
       "      <td>3934900</td>\n",
       "      <td>8601</td>\n",
       "      <td>LATVIA</td>\n",
       "      <td>1976-12-22</td>\n",
       "      <td>1</td>\n",
       "      <td>SWISH</td>\n",
       "    </tr>\n",
       "    <tr>\n",
       "      <th>2</th>\n",
       "      <td>459</td>\n",
       "      <td>49</td>\n",
       "      <td>523.5258060022346</td>\n",
       "      <td>2091286</td>\n",
       "      <td>2194</td>\n",
       "      <td>SWEDEN</td>\n",
       "      <td>2011-05-12</td>\n",
       "      <td>2</td>\n",
       "      <td>INTERNATIONAL</td>\n",
       "    </tr>\n",
       "    <tr>\n",
       "      <th>3</th>\n",
       "      <td>197</td>\n",
       "      <td>185</td>\n",
       "      <td>645.4064391935216</td>\n",
       "      <td>8931714</td>\n",
       "      <td>4976</td>\n",
       "      <td>RUSSIA</td>\n",
       "      <td>1995-11-15</td>\n",
       "      <td>3</td>\n",
       "      <td>SWISH</td>\n",
       "    </tr>\n",
       "    <tr>\n",
       "      <th>4</th>\n",
       "      <td>467</td>\n",
       "      <td>60</td>\n",
       "      <td>73.56774162728976</td>\n",
       "      <td>9475654</td>\n",
       "      <td>9922</td>\n",
       "      <td>ROMANIA</td>\n",
       "      <td>2009-08-29</td>\n",
       "      <td>4</td>\n",
       "      <td>DOMESTIC</td>\n",
       "    </tr>\n",
       "  </tbody>\n",
       "</table>\n",
       "</div>"
      ],
      "text/plain": [
       "  cust_id_in cust_id_out         trx_amount trx_bankid trx_clearinnum  \\\n",
       "0        169         397  69.50684196648673    7988236           6417   \n",
       "1         94         496  1560.577013730472    3934900           8601   \n",
       "2        459          49  523.5258060022346    2091286           2194   \n",
       "3        197         185  645.4064391935216    8931714           4976   \n",
       "4        467          60  73.56774162728976    9475654           9922   \n",
       "\n",
       "  trx_country    trx_date trx_id       trx_type  \n",
       "0     ESTONIA  1992-12-28      0          SWISH  \n",
       "1      LATVIA  1976-12-22      1          SWISH  \n",
       "2      SWEDEN  2011-05-12      2  INTERNATIONAL  \n",
       "3      RUSSIA  1995-11-15      3          SWISH  \n",
       "4     ROMANIA  2009-08-29      4       DOMESTIC  "
      ]
     },
     "execution_count": 206,
     "metadata": {},
     "output_type": "execute_result"
    }
   ],
   "source": [
    "dataset2.head()"
   ]
  },
  {
   "cell_type": "code",
   "execution_count": 207,
   "metadata": {},
   "outputs": [],
   "source": [
    "dataset2.to_csv(\"trx.csv\", sep=',', encoding='utf-8', index=False)"
   ]
  },
  {
   "cell_type": "code",
   "execution_count": 208,
   "metadata": {},
   "outputs": [],
   "source": [
    "reports_ids = list(range(100))"
   ]
  },
  {
   "cell_type": "code",
   "execution_count": 209,
   "metadata": {},
   "outputs": [],
   "source": [
    "report_cust_id = []\n",
    "for i in range(len(reports_ids)):\n",
    "    report_cust_id.append(random.choice(customer_ids))"
   ]
  },
  {
   "cell_type": "code",
   "execution_count": 210,
   "metadata": {},
   "outputs": [],
   "source": [
    "report_dates = []\n",
    "for i in range(len(reports_ids)):\n",
    "    report_dates.append(fake.date())"
   ]
  },
  {
   "cell_type": "code",
   "execution_count": 211,
   "metadata": {},
   "outputs": [],
   "source": [
    "report_description = []\n",
    "for i in range(len(reports_ids)):\n",
    "    report_description.append(\"blablablabla\")"
   ]
  },
  {
   "cell_type": "code",
   "execution_count": 212,
   "metadata": {},
   "outputs": [],
   "source": [
    "matrix3 = np.array([reports_ids, report_cust_id, report_dates, report_description])"
   ]
  },
  {
   "cell_type": "code",
   "execution_count": 213,
   "metadata": {},
   "outputs": [],
   "source": [
    "dataset3 = pd.DataFrame({\n",
    "        'report_id':matrix3[0,:],\n",
    "        'cust_id':matrix3[1,:],\n",
    "        'report_date':matrix3[2,:],\n",
    "        'description':matrix3[3,:]\n",
    "    })"
   ]
  },
  {
   "cell_type": "code",
   "execution_count": 214,
   "metadata": {},
   "outputs": [
    {
     "data": {
      "text/html": [
       "<div>\n",
       "<style scoped>\n",
       "    .dataframe tbody tr th:only-of-type {\n",
       "        vertical-align: middle;\n",
       "    }\n",
       "\n",
       "    .dataframe tbody tr th {\n",
       "        vertical-align: top;\n",
       "    }\n",
       "\n",
       "    .dataframe thead th {\n",
       "        text-align: right;\n",
       "    }\n",
       "</style>\n",
       "<table border=\"1\" class=\"dataframe\">\n",
       "  <thead>\n",
       "    <tr style=\"text-align: right;\">\n",
       "      <th></th>\n",
       "      <th>cust_id</th>\n",
       "      <th>description</th>\n",
       "      <th>report_date</th>\n",
       "      <th>report_id</th>\n",
       "    </tr>\n",
       "  </thead>\n",
       "  <tbody>\n",
       "    <tr>\n",
       "      <th>0</th>\n",
       "      <td>264</td>\n",
       "      <td>blablablabla</td>\n",
       "      <td>2010-09-04</td>\n",
       "      <td>0</td>\n",
       "    </tr>\n",
       "    <tr>\n",
       "      <th>1</th>\n",
       "      <td>9</td>\n",
       "      <td>blablablabla</td>\n",
       "      <td>2011-03-26</td>\n",
       "      <td>1</td>\n",
       "    </tr>\n",
       "    <tr>\n",
       "      <th>2</th>\n",
       "      <td>302</td>\n",
       "      <td>blablablabla</td>\n",
       "      <td>2018-03-09</td>\n",
       "      <td>2</td>\n",
       "    </tr>\n",
       "    <tr>\n",
       "      <th>3</th>\n",
       "      <td>40</td>\n",
       "      <td>blablablabla</td>\n",
       "      <td>1985-07-01</td>\n",
       "      <td>3</td>\n",
       "    </tr>\n",
       "    <tr>\n",
       "      <th>4</th>\n",
       "      <td>408</td>\n",
       "      <td>blablablabla</td>\n",
       "      <td>1992-01-19</td>\n",
       "      <td>4</td>\n",
       "    </tr>\n",
       "  </tbody>\n",
       "</table>\n",
       "</div>"
      ],
      "text/plain": [
       "  cust_id   description report_date report_id\n",
       "0     264  blablablabla  2010-09-04         0\n",
       "1       9  blablablabla  2011-03-26         1\n",
       "2     302  blablablabla  2018-03-09         2\n",
       "3      40  blablablabla  1985-07-01         3\n",
       "4     408  blablablabla  1992-01-19         4"
      ]
     },
     "execution_count": 214,
     "metadata": {},
     "output_type": "execute_result"
    }
   ],
   "source": [
    "dataset3.head()"
   ]
  },
  {
   "cell_type": "code",
   "execution_count": 215,
   "metadata": {},
   "outputs": [],
   "source": [
    "dataset3.to_csv(\"police_reports.csv\", sep=',', encoding='utf-8', index=False)"
   ]
  },
  {
   "cell_type": "code",
   "execution_count": 216,
   "metadata": {},
   "outputs": [],
   "source": [
    "web_ids = list(range(5000))"
   ]
  },
  {
   "cell_type": "code",
   "execution_count": 217,
   "metadata": {},
   "outputs": [],
   "source": [
    "web_cust_id = []\n",
    "for i in range(len(web_ids)):\n",
    "    web_cust_id.append(random.choice(customer_ids))"
   ]
  },
  {
   "cell_type": "code",
   "execution_count": 218,
   "metadata": {},
   "outputs": [],
   "source": [
    "web_seconds = []\n",
    "for i in range(len(web_ids)):\n",
    "    web_seconds.append(np.random.randint(15, 1000))"
   ]
  },
  {
   "cell_type": "code",
   "execution_count": 219,
   "metadata": {},
   "outputs": [],
   "source": [
    "ips = [fake.ipv4() for i in range(50)]\n",
    "#fake.ipv4()"
   ]
  },
  {
   "cell_type": "code",
   "execution_count": 220,
   "metadata": {},
   "outputs": [],
   "source": [
    "web_address = []\n",
    "for i in range(len(web_ids)):\n",
    "    web_address.append(random.choice(ips))"
   ]
  },
  {
   "cell_type": "code",
   "execution_count": 221,
   "metadata": {},
   "outputs": [],
   "source": [
    "web_actions_cat = [\"browse\", \"transactions\", \"update_profile\", \"request_loan\", \"create_account\"]"
   ]
  },
  {
   "cell_type": "code",
   "execution_count": 222,
   "metadata": {},
   "outputs": [],
   "source": [
    "web_actions = []\n",
    "for i in range(len(web_ids)):\n",
    "    web_actions.append(random.choice(web_actions_cat))"
   ]
  },
  {
   "cell_type": "code",
   "execution_count": 223,
   "metadata": {},
   "outputs": [],
   "source": [
    "matrix4 = np.array([web_ids, web_cust_id, web_seconds, web_address, web_actions])"
   ]
  },
  {
   "cell_type": "code",
   "execution_count": 224,
   "metadata": {},
   "outputs": [],
   "source": [
    "dataset4 = pd.DataFrame({\n",
    "        'web_id':matrix4[0,:],\n",
    "        'cust_id':matrix4[1,:],\n",
    "        'time_spent_seconds':matrix4[2,:],\n",
    "        'address':matrix4[3,:],\n",
    "        \"action\": matrix4[4,:]\n",
    "    })"
   ]
  },
  {
   "cell_type": "code",
   "execution_count": 225,
   "metadata": {},
   "outputs": [
    {
     "data": {
      "text/html": [
       "<div>\n",
       "<style scoped>\n",
       "    .dataframe tbody tr th:only-of-type {\n",
       "        vertical-align: middle;\n",
       "    }\n",
       "\n",
       "    .dataframe tbody tr th {\n",
       "        vertical-align: top;\n",
       "    }\n",
       "\n",
       "    .dataframe thead th {\n",
       "        text-align: right;\n",
       "    }\n",
       "</style>\n",
       "<table border=\"1\" class=\"dataframe\">\n",
       "  <thead>\n",
       "    <tr style=\"text-align: right;\">\n",
       "      <th></th>\n",
       "      <th>action</th>\n",
       "      <th>address</th>\n",
       "      <th>cust_id</th>\n",
       "      <th>time_spent_seconds</th>\n",
       "      <th>web_id</th>\n",
       "    </tr>\n",
       "  </thead>\n",
       "  <tbody>\n",
       "    <tr>\n",
       "      <th>0</th>\n",
       "      <td>transactions</td>\n",
       "      <td>192.175.49.88</td>\n",
       "      <td>408</td>\n",
       "      <td>966</td>\n",
       "      <td>0</td>\n",
       "    </tr>\n",
       "    <tr>\n",
       "      <th>1</th>\n",
       "      <td>browse</td>\n",
       "      <td>194.234.19.236</td>\n",
       "      <td>253</td>\n",
       "      <td>90</td>\n",
       "      <td>1</td>\n",
       "    </tr>\n",
       "    <tr>\n",
       "      <th>2</th>\n",
       "      <td>browse</td>\n",
       "      <td>203.0.115.59</td>\n",
       "      <td>66</td>\n",
       "      <td>474</td>\n",
       "      <td>2</td>\n",
       "    </tr>\n",
       "    <tr>\n",
       "      <th>3</th>\n",
       "      <td>update_profile</td>\n",
       "      <td>1.4.197.69</td>\n",
       "      <td>76</td>\n",
       "      <td>587</td>\n",
       "      <td>3</td>\n",
       "    </tr>\n",
       "    <tr>\n",
       "      <th>4</th>\n",
       "      <td>update_profile</td>\n",
       "      <td>198.48.81.188</td>\n",
       "      <td>163</td>\n",
       "      <td>895</td>\n",
       "      <td>4</td>\n",
       "    </tr>\n",
       "  </tbody>\n",
       "</table>\n",
       "</div>"
      ],
      "text/plain": [
       "           action         address cust_id time_spent_seconds web_id\n",
       "0    transactions   192.175.49.88     408                966      0\n",
       "1          browse  194.234.19.236     253                 90      1\n",
       "2          browse    203.0.115.59      66                474      2\n",
       "3  update_profile      1.4.197.69      76                587      3\n",
       "4  update_profile   198.48.81.188     163                895      4"
      ]
     },
     "execution_count": 225,
     "metadata": {},
     "output_type": "execute_result"
    }
   ],
   "source": [
    "dataset4.head()"
   ]
  },
  {
   "cell_type": "code",
   "execution_count": 226,
   "metadata": {},
   "outputs": [],
   "source": [
    "dataset4.to_csv(\"web_logs.csv\", sep=',', encoding='utf-8', index=False)"
   ]
  },
  {
   "cell_type": "code",
   "execution_count": 227,
   "metadata": {},
   "outputs": [],
   "source": [
    "alert_ids = list(range(300))"
   ]
  },
  {
   "cell_type": "code",
   "execution_count": 228,
   "metadata": {},
   "outputs": [],
   "source": [
    "alert_trx_id = []\n",
    "for i in range(len(alert_ids)):\n",
    "    alert_trx_id.append(random.choice(transaction_ids))"
   ]
  },
  {
   "cell_type": "code",
   "execution_count": 229,
   "metadata": {},
   "outputs": [],
   "source": [
    "alert_date = []\n",
    "for i in range(len(alert_ids)):\n",
    "    alert_date.append(fake.date())"
   ]
  },
  {
   "cell_type": "code",
   "execution_count": 230,
   "metadata": {},
   "outputs": [],
   "source": [
    "alert_type_cat = [\"TERRORISM\", \"HIGH_INT_PAYMENT\", \"SMURFING\", \"REPEATED_SWISH\"]"
   ]
  },
  {
   "cell_type": "code",
   "execution_count": 231,
   "metadata": {},
   "outputs": [],
   "source": [
    "alert_types = []\n",
    "for i in range(len(alert_ids)):\n",
    "    alert_types.append(random.choice(alert_type_cat))"
   ]
  },
  {
   "cell_type": "code",
   "execution_count": 232,
   "metadata": {},
   "outputs": [],
   "source": [
    "alert_score = []\n",
    "for i in range(len(alert_ids)):\n",
    "    alert_score.append(abs(np.random.normal()))"
   ]
  },
  {
   "cell_type": "code",
   "execution_count": 233,
   "metadata": {},
   "outputs": [],
   "source": [
    "alert_rule_name_cat = [\"TOOK_OVER_4_LOANS_IN_ONE_DAY\", \"TOOK_LOANS_FROM_MORE_THAN_1_BANK_IN_ONE_DAY\", \"INT_PAYMENT_OVER_5K\", \"SMURFING_OVER_5_ACCOUNTS\", \"SMURFING_OVER_10_ACCOUNTS\", \"REPEATED_SWISH\", \"MANY_SWISH_ACCOUNTS\"]"
   ]
  },
  {
   "cell_type": "code",
   "execution_count": 234,
   "metadata": {},
   "outputs": [],
   "source": [
    "rule_names = []\n",
    "for i in range(len(alert_ids)):\n",
    "    rule_names.append(random.choice(alert_rule_name_cat))"
   ]
  },
  {
   "cell_type": "code",
   "execution_count": 235,
   "metadata": {},
   "outputs": [],
   "source": [
    "alert_description = []\n",
    "for i in range(len(alert_ids)):\n",
    "    alert_description.append(\"blablablablablabla\")"
   ]
  },
  {
   "cell_type": "code",
   "execution_count": 236,
   "metadata": {},
   "outputs": [],
   "source": [
    "matrix5 = np.array([alert_ids, alert_trx_id, alert_date, alert_types, alert_score, rule_names, alert_description])"
   ]
  },
  {
   "cell_type": "code",
   "execution_count": 237,
   "metadata": {},
   "outputs": [],
   "source": [
    "dataset5 = pd.DataFrame({\n",
    "        'alert_id':matrix5[0,:],\n",
    "        'trx_id':matrix5[1,:],\n",
    "        'alert_date':matrix5[2,:],\n",
    "        'alert_type':matrix5[3,:],\n",
    "        \"alert_score\": matrix5[4,:],\n",
    "        \"rule_name\": matrix5[5,:],\n",
    "        \"alert_desc\": matrix5[6,:],  \n",
    "    })"
   ]
  },
  {
   "cell_type": "code",
   "execution_count": 238,
   "metadata": {},
   "outputs": [
    {
     "data": {
      "text/html": [
       "<div>\n",
       "<style scoped>\n",
       "    .dataframe tbody tr th:only-of-type {\n",
       "        vertical-align: middle;\n",
       "    }\n",
       "\n",
       "    .dataframe tbody tr th {\n",
       "        vertical-align: top;\n",
       "    }\n",
       "\n",
       "    .dataframe thead th {\n",
       "        text-align: right;\n",
       "    }\n",
       "</style>\n",
       "<table border=\"1\" class=\"dataframe\">\n",
       "  <thead>\n",
       "    <tr style=\"text-align: right;\">\n",
       "      <th></th>\n",
       "      <th>alert_date</th>\n",
       "      <th>alert_desc</th>\n",
       "      <th>alert_id</th>\n",
       "      <th>alert_score</th>\n",
       "      <th>alert_type</th>\n",
       "      <th>rule_name</th>\n",
       "      <th>trx_id</th>\n",
       "    </tr>\n",
       "  </thead>\n",
       "  <tbody>\n",
       "    <tr>\n",
       "      <th>0</th>\n",
       "      <td>1994-07-04</td>\n",
       "      <td>blablablablablabla</td>\n",
       "      <td>0</td>\n",
       "      <td>0.20622221756593395</td>\n",
       "      <td>HIGH_INT_PAYMENT</td>\n",
       "      <td>MANY_SWISH_ACCOUNTS</td>\n",
       "      <td>731</td>\n",
       "    </tr>\n",
       "    <tr>\n",
       "      <th>1</th>\n",
       "      <td>1998-12-28</td>\n",
       "      <td>blablablablablabla</td>\n",
       "      <td>1</td>\n",
       "      <td>1.5129313342537831</td>\n",
       "      <td>SMURFING</td>\n",
       "      <td>SMURFING_OVER_5_ACCOUNTS</td>\n",
       "      <td>1928</td>\n",
       "    </tr>\n",
       "    <tr>\n",
       "      <th>2</th>\n",
       "      <td>2004-03-15</td>\n",
       "      <td>blablablablablabla</td>\n",
       "      <td>2</td>\n",
       "      <td>0.3703983394400857</td>\n",
       "      <td>HIGH_INT_PAYMENT</td>\n",
       "      <td>INT_PAYMENT_OVER_5K</td>\n",
       "      <td>4265</td>\n",
       "    </tr>\n",
       "    <tr>\n",
       "      <th>3</th>\n",
       "      <td>1982-08-01</td>\n",
       "      <td>blablablablablabla</td>\n",
       "      <td>3</td>\n",
       "      <td>0.6726302326172139</td>\n",
       "      <td>TERRORISM</td>\n",
       "      <td>REPEATED_SWISH</td>\n",
       "      <td>235</td>\n",
       "    </tr>\n",
       "    <tr>\n",
       "      <th>4</th>\n",
       "      <td>2008-02-26</td>\n",
       "      <td>blablablablablabla</td>\n",
       "      <td>4</td>\n",
       "      <td>0.5425701176243393</td>\n",
       "      <td>REPEATED_SWISH</td>\n",
       "      <td>TOOK_LOANS_FROM_MORE_THAN_1_BANK_IN_ONE_DAY</td>\n",
       "      <td>4456</td>\n",
       "    </tr>\n",
       "  </tbody>\n",
       "</table>\n",
       "</div>"
      ],
      "text/plain": [
       "   alert_date          alert_desc alert_id          alert_score  \\\n",
       "0  1994-07-04  blablablablablabla        0  0.20622221756593395   \n",
       "1  1998-12-28  blablablablablabla        1   1.5129313342537831   \n",
       "2  2004-03-15  blablablablablabla        2   0.3703983394400857   \n",
       "3  1982-08-01  blablablablablabla        3   0.6726302326172139   \n",
       "4  2008-02-26  blablablablablabla        4   0.5425701176243393   \n",
       "\n",
       "         alert_type                                    rule_name trx_id  \n",
       "0  HIGH_INT_PAYMENT                          MANY_SWISH_ACCOUNTS    731  \n",
       "1          SMURFING                     SMURFING_OVER_5_ACCOUNTS   1928  \n",
       "2  HIGH_INT_PAYMENT                          INT_PAYMENT_OVER_5K   4265  \n",
       "3         TERRORISM                               REPEATED_SWISH    235  \n",
       "4    REPEATED_SWISH  TOOK_LOANS_FROM_MORE_THAN_1_BANK_IN_ONE_DAY   4456  "
      ]
     },
     "execution_count": 238,
     "metadata": {},
     "output_type": "execute_result"
    }
   ],
   "source": [
    "dataset5.head()"
   ]
  },
  {
   "cell_type": "code",
   "execution_count": 239,
   "metadata": {},
   "outputs": [],
   "source": [
    "dataset5.to_csv(\"alerts.csv\", sep=',', encoding='utf-8', index=False)"
   ]
  },
  {
   "cell_type": "code",
   "execution_count": 240,
   "metadata": {},
   "outputs": [],
   "source": [
    "corporate_ids = list(range(100))"
   ]
  },
  {
   "cell_type": "code",
   "execution_count": 241,
   "metadata": {},
   "outputs": [],
   "source": [
    "indudstry_sector_cat = [\"AGRICULTURE\", \"IT\", \"CONSTRUCTION\", \"ENERGY\", \"AEROSPACE\", \"ENTERTAINMENT\"]"
   ]
  },
  {
   "cell_type": "code",
   "execution_count": 242,
   "metadata": {},
   "outputs": [],
   "source": [
    "industry_sectors = []\n",
    "for i in range(len(corporate_ids)):\n",
    "    industry_sectors.append(random.choice(indudstry_sector_cat))"
   ]
  },
  {
   "cell_type": "code",
   "execution_count": 243,
   "metadata": {},
   "outputs": [],
   "source": [
    "externa_kostnader = []\n",
    "for i in range(len(corporate_ids)):\n",
    "    externa_kostnader.append(abs(np.random.normal()*10000))"
   ]
  },
  {
   "cell_type": "code",
   "execution_count": 244,
   "metadata": {},
   "outputs": [],
   "source": [
    "rente_kostnader = []\n",
    "for i in range(len(corporate_ids)):\n",
    "    rente_kostnader.append(abs(np.random.normal()*1000))"
   ]
  },
  {
   "cell_type": "code",
   "execution_count": 245,
   "metadata": {},
   "outputs": [],
   "source": [
    "netomsettning = []\n",
    "for i in range(len(corporate_ids)):\n",
    "    netomsettning.append(abs(np.random.normal()*100000))"
   ]
  },
  {
   "cell_type": "code",
   "execution_count": 246,
   "metadata": {},
   "outputs": [],
   "source": [
    "netomsettning_3year = []\n",
    "for i in range(len(corporate_ids)):\n",
    "    netomsettning_3year.append(abs(np.random.normal()*10000))"
   ]
  },
  {
   "cell_type": "code",
   "execution_count": 247,
   "metadata": {},
   "outputs": [],
   "source": [
    "netomsettning_2year = []\n",
    "for i in range(len(corporate_ids)):\n",
    "    netomsettning_2year.append(abs(np.random.normal()*1000))"
   ]
  },
  {
   "cell_type": "code",
   "execution_count": 248,
   "metadata": {},
   "outputs": [],
   "source": [
    "netomsettning_1year = []\n",
    "for i in range(len(corporate_ids)):\n",
    "    netomsettning_1year.append(abs(np.random.normal()*100))"
   ]
  },
  {
   "cell_type": "code",
   "execution_count": 249,
   "metadata": {},
   "outputs": [],
   "source": [
    "matrix6 = np.array([corporate_ids, industry_sectors, externa_kostnader, netomsettning, netomsettning_3year, netomsettning_2year, netomsettning_1year])"
   ]
  },
  {
   "cell_type": "code",
   "execution_count": 250,
   "metadata": {},
   "outputs": [],
   "source": [
    "dataset6 = pd.DataFrame({\n",
    "        'corporate_id':matrix6[0,:],\n",
    "        'industry_sector':matrix6[1,:],\n",
    "        'externa_kostnader':matrix6[2,:],\n",
    "        'netomsettning':matrix6[3,:],\n",
    "        \"netomsettning_3year\": matrix6[4,:],\n",
    "        \"netomsettning_2year\": matrix6[5,:],\n",
    "        \"netomsettning_1year\": matrix6[6,:],  \n",
    "    })"
   ]
  },
  {
   "cell_type": "code",
   "execution_count": 251,
   "metadata": {},
   "outputs": [
    {
     "data": {
      "text/html": [
       "<div>\n",
       "<style scoped>\n",
       "    .dataframe tbody tr th:only-of-type {\n",
       "        vertical-align: middle;\n",
       "    }\n",
       "\n",
       "    .dataframe tbody tr th {\n",
       "        vertical-align: top;\n",
       "    }\n",
       "\n",
       "    .dataframe thead th {\n",
       "        text-align: right;\n",
       "    }\n",
       "</style>\n",
       "<table border=\"1\" class=\"dataframe\">\n",
       "  <thead>\n",
       "    <tr style=\"text-align: right;\">\n",
       "      <th></th>\n",
       "      <th>corporate_id</th>\n",
       "      <th>externa_kostnader</th>\n",
       "      <th>industry_sector</th>\n",
       "      <th>netomsettning</th>\n",
       "      <th>netomsettning_1year</th>\n",
       "      <th>netomsettning_2year</th>\n",
       "      <th>netomsettning_3year</th>\n",
       "    </tr>\n",
       "  </thead>\n",
       "  <tbody>\n",
       "    <tr>\n",
       "      <th>0</th>\n",
       "      <td>0</td>\n",
       "      <td>449.29205721128676</td>\n",
       "      <td>AGRICULTURE</td>\n",
       "      <td>163192.38642033347</td>\n",
       "      <td>10.598995115179399</td>\n",
       "      <td>842.668302922688</td>\n",
       "      <td>9173.546321373024</td>\n",
       "    </tr>\n",
       "    <tr>\n",
       "      <th>1</th>\n",
       "      <td>1</td>\n",
       "      <td>1579.5312559880408</td>\n",
       "      <td>CONSTRUCTION</td>\n",
       "      <td>195114.5985781537</td>\n",
       "      <td>129.94035350459342</td>\n",
       "      <td>192.16615739112285</td>\n",
       "      <td>3632.969695827038</td>\n",
       "    </tr>\n",
       "    <tr>\n",
       "      <th>2</th>\n",
       "      <td>2</td>\n",
       "      <td>17032.351396699785</td>\n",
       "      <td>ENERGY</td>\n",
       "      <td>36820.33905167557</td>\n",
       "      <td>7.142173883326393</td>\n",
       "      <td>807.4635688458949</td>\n",
       "      <td>5006.0383531150455</td>\n",
       "    </tr>\n",
       "    <tr>\n",
       "      <th>3</th>\n",
       "      <td>3</td>\n",
       "      <td>299.0185586966942</td>\n",
       "      <td>ENERGY</td>\n",
       "      <td>77173.97896225554</td>\n",
       "      <td>50.92600290339432</td>\n",
       "      <td>338.3867094559434</td>\n",
       "      <td>7849.371539648284</td>\n",
       "    </tr>\n",
       "    <tr>\n",
       "      <th>4</th>\n",
       "      <td>4</td>\n",
       "      <td>3824.857888074236</td>\n",
       "      <td>IT</td>\n",
       "      <td>141517.6969290391</td>\n",
       "      <td>124.8461215967209</td>\n",
       "      <td>941.1219616009537</td>\n",
       "      <td>3985.8699836013607</td>\n",
       "    </tr>\n",
       "  </tbody>\n",
       "</table>\n",
       "</div>"
      ],
      "text/plain": [
       "  corporate_id   externa_kostnader industry_sector       netomsettning  \\\n",
       "0            0  449.29205721128676     AGRICULTURE  163192.38642033347   \n",
       "1            1  1579.5312559880408    CONSTRUCTION   195114.5985781537   \n",
       "2            2  17032.351396699785          ENERGY   36820.33905167557   \n",
       "3            3   299.0185586966942          ENERGY   77173.97896225554   \n",
       "4            4   3824.857888074236              IT   141517.6969290391   \n",
       "\n",
       "  netomsettning_1year netomsettning_2year netomsettning_3year  \n",
       "0  10.598995115179399    842.668302922688   9173.546321373024  \n",
       "1  129.94035350459342  192.16615739112285   3632.969695827038  \n",
       "2   7.142173883326393   807.4635688458949  5006.0383531150455  \n",
       "3   50.92600290339432   338.3867094559434   7849.371539648284  \n",
       "4   124.8461215967209   941.1219616009537  3985.8699836013607  "
      ]
     },
     "execution_count": 251,
     "metadata": {},
     "output_type": "execute_result"
    }
   ],
   "source": [
    "dataset6.head()"
   ]
  },
  {
   "cell_type": "code",
   "execution_count": 252,
   "metadata": {},
   "outputs": [],
   "source": [
    "dataset6.to_csv(\"hipo.csv\", sep=',', encoding='utf-8', index=False)"
   ]
  },
  {
   "cell_type": "code",
   "execution_count": null,
   "metadata": {},
   "outputs": [],
   "source": []
  }
 ],
 "metadata": {
  "kernelspec": {
   "display_name": "Python 3",
   "language": "python",
   "name": "python3"
  },
  "language_info": {
   "codemirror_mode": {
    "name": "ipython",
    "version": 3
   },
   "file_extension": ".py",
   "mimetype": "text/x-python",
   "name": "python",
   "nbconvert_exporter": "python",
   "pygments_lexer": "ipython3",
   "version": "3.5.6"
  }
 },
 "nbformat": 4,
 "nbformat_minor": 2
}
