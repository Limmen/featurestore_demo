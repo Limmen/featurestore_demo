{
 "cells": [
  {
   "cell_type": "code",
   "execution_count": 22,
   "metadata": {},
   "outputs": [],
   "source": [
    "customer_ids = list(range(0,500))"
   ]
  },
  {
   "cell_type": "code",
   "execution_count": 23,
   "metadata": {},
   "outputs": [],
   "source": [
    "transaction_ids = list(range(5000))"
   ]
  },
  {
   "cell_type": "code",
   "execution_count": 24,
   "metadata": {},
   "outputs": [],
   "source": [
    "from faker import Faker"
   ]
  },
  {
   "cell_type": "code",
   "execution_count": 25,
   "metadata": {},
   "outputs": [],
   "source": [
    "fake = Faker()"
   ]
  },
  {
   "cell_type": "code",
   "execution_count": 26,
   "metadata": {},
   "outputs": [
    {
     "data": {
      "text/plain": [
       "'Erika Reed'"
      ]
     },
     "execution_count": 26,
     "metadata": {},
     "output_type": "execute_result"
    }
   ],
   "source": [
    "fake.name()"
   ]
  },
  {
   "cell_type": "code",
   "execution_count": 27,
   "metadata": {},
   "outputs": [],
   "source": [
    "customer_names = []\n",
    "for i in range(len(customer_ids)):\n",
    "    customer_names.append(fake.name())"
   ]
  },
  {
   "cell_type": "code",
   "execution_count": 28,
   "metadata": {},
   "outputs": [],
   "source": [
    "join_dates = []\n",
    "for i in range(len(customer_ids)):\n",
    "    join_dates.append(fake.date())"
   ]
  },
  {
   "cell_type": "code",
   "execution_count": 29,
   "metadata": {},
   "outputs": [],
   "source": [
    "customer_types_cat = [\"corporate\", \"private\"]"
   ]
  },
  {
   "cell_type": "code",
   "execution_count": 30,
   "metadata": {},
   "outputs": [],
   "source": [
    "import random\n",
    "customer_types = []\n",
    "for i in range(len(customer_ids)):\n",
    "    customer_types.append(random.choice(customer_types_cat))"
   ]
  },
  {
   "cell_type": "code",
   "execution_count": 31,
   "metadata": {},
   "outputs": [],
   "source": [
    "import numpy as np\n",
    "customer_balance = []\n",
    "for i in range(len(customer_ids)):\n",
    "    customer_balance.append(abs(np.random.normal()*10000))"
   ]
  },
  {
   "cell_type": "code",
   "execution_count": 32,
   "metadata": {},
   "outputs": [],
   "source": [
    "customer_birthdate = []\n",
    "for i in range(len(customer_ids)):\n",
    "    customer_birthdate.append(fake.date())"
   ]
  },
  {
   "cell_type": "code",
   "execution_count": 33,
   "metadata": {},
   "outputs": [],
   "source": [
    "gender_types_cat = [\"male\", \"female\"]"
   ]
  },
  {
   "cell_type": "code",
   "execution_count": 34,
   "metadata": {},
   "outputs": [],
   "source": [
    "customer_gender = []\n",
    "for i in range(len(customer_ids)):\n",
    "    customer_gender.append(random.choice(gender_types_cat))"
   ]
  },
  {
   "cell_type": "code",
   "execution_count": 35,
   "metadata": {},
   "outputs": [],
   "source": [
    "pep_types_cat = [True, False]"
   ]
  },
  {
   "cell_type": "code",
   "execution_count": 36,
   "metadata": {},
   "outputs": [],
   "source": [
    "customer_pep = []\n",
    "for i in range(len(customer_ids)):\n",
    "    customer_pep.append(random.choice(pep_types_cat))"
   ]
  },
  {
   "cell_type": "code",
   "execution_count": 37,
   "metadata": {},
   "outputs": [],
   "source": [
    "number_of_accounts = []\n",
    "for i in range(len(customer_ids)):\n",
    "    number_of_accounts.append(np.random.randint(1, 15))"
   ]
  },
  {
   "cell_type": "code",
   "execution_count": 38,
   "metadata": {},
   "outputs": [],
   "source": [
    "matrix = np.array([customer_names, join_dates, customer_types, customer_balance, customer_birthdate, customer_gender, customer_pep, number_of_accounts, customer_ids])"
   ]
  },
  {
   "cell_type": "code",
   "execution_count": 39,
   "metadata": {},
   "outputs": [
    {
     "data": {
      "text/plain": [
       "(9, 500)"
      ]
     },
     "execution_count": 39,
     "metadata": {},
     "output_type": "execute_result"
    }
   ],
   "source": [
    "matrix.shape"
   ]
  },
  {
   "cell_type": "code",
   "execution_count": 40,
   "metadata": {},
   "outputs": [
    {
     "name": "stdout",
     "output_type": "stream",
     "text": [
      "500\n",
      "500\n",
      "500\n",
      "500\n",
      "500\n",
      "500\n",
      "500\n",
      "500\n"
     ]
    }
   ],
   "source": [
    "for i in range(8):\n",
    "    print(len(matrix[i]))"
   ]
  },
  {
   "cell_type": "code",
   "execution_count": 41,
   "metadata": {},
   "outputs": [],
   "source": [
    "#matrix[0,:]"
   ]
  },
  {
   "cell_type": "code",
   "execution_count": 42,
   "metadata": {},
   "outputs": [],
   "source": [
    "import pandas as pd\n",
    "dataset = pd.DataFrame({\n",
    "        'name':matrix[0,:],\n",
    "        'join_date':matrix[1,:],\n",
    "        'customer_type':matrix[2,:],\n",
    "        'balance':matrix[3,:],\n",
    "        \"birthdate\": matrix[4,:],\n",
    "        \"gender\": matrix[5,:],\n",
    "        \"pep\": matrix[6,:],\n",
    "        \"number_of_accounts\": matrix[7,:],\n",
    "        \"cust_id\": matrix[8,:]\n",
    "    })"
   ]
  },
  {
   "cell_type": "code",
   "execution_count": 43,
   "metadata": {},
   "outputs": [
    {
     "data": {
      "text/html": [
       "<div>\n",
       "<style scoped>\n",
       "    .dataframe tbody tr th:only-of-type {\n",
       "        vertical-align: middle;\n",
       "    }\n",
       "\n",
       "    .dataframe tbody tr th {\n",
       "        vertical-align: top;\n",
       "    }\n",
       "\n",
       "    .dataframe thead th {\n",
       "        text-align: right;\n",
       "    }\n",
       "</style>\n",
       "<table border=\"1\" class=\"dataframe\">\n",
       "  <thead>\n",
       "    <tr style=\"text-align: right;\">\n",
       "      <th></th>\n",
       "      <th>balance</th>\n",
       "      <th>birthdate</th>\n",
       "      <th>cust_id</th>\n",
       "      <th>customer_type</th>\n",
       "      <th>gender</th>\n",
       "      <th>join_date</th>\n",
       "      <th>name</th>\n",
       "      <th>number_of_accounts</th>\n",
       "      <th>pep</th>\n",
       "    </tr>\n",
       "  </thead>\n",
       "  <tbody>\n",
       "    <tr>\n",
       "      <th>0</th>\n",
       "      <td>13521.64118421771</td>\n",
       "      <td>1970-12-02</td>\n",
       "      <td>0</td>\n",
       "      <td>corporate</td>\n",
       "      <td>male</td>\n",
       "      <td>1977-08-27</td>\n",
       "      <td>Martin Sheppard</td>\n",
       "      <td>12</td>\n",
       "      <td>False</td>\n",
       "    </tr>\n",
       "    <tr>\n",
       "      <th>1</th>\n",
       "      <td>16048.514127641927</td>\n",
       "      <td>2008-01-24</td>\n",
       "      <td>1</td>\n",
       "      <td>private</td>\n",
       "      <td>male</td>\n",
       "      <td>1977-03-29</td>\n",
       "      <td>Daniel Everett</td>\n",
       "      <td>5</td>\n",
       "      <td>False</td>\n",
       "    </tr>\n",
       "    <tr>\n",
       "      <th>2</th>\n",
       "      <td>2695.87666905298</td>\n",
       "      <td>2012-04-03</td>\n",
       "      <td>2</td>\n",
       "      <td>corporate</td>\n",
       "      <td>male</td>\n",
       "      <td>1998-05-12</td>\n",
       "      <td>Rachel Davis</td>\n",
       "      <td>3</td>\n",
       "      <td>False</td>\n",
       "    </tr>\n",
       "    <tr>\n",
       "      <th>3</th>\n",
       "      <td>10420.879276105059</td>\n",
       "      <td>2004-07-10</td>\n",
       "      <td>3</td>\n",
       "      <td>private</td>\n",
       "      <td>male</td>\n",
       "      <td>2004-02-21</td>\n",
       "      <td>Stacey Thompson</td>\n",
       "      <td>14</td>\n",
       "      <td>True</td>\n",
       "    </tr>\n",
       "    <tr>\n",
       "      <th>4</th>\n",
       "      <td>5500.606399475897</td>\n",
       "      <td>1990-01-13</td>\n",
       "      <td>4</td>\n",
       "      <td>corporate</td>\n",
       "      <td>male</td>\n",
       "      <td>1989-12-05</td>\n",
       "      <td>Sara Cross</td>\n",
       "      <td>2</td>\n",
       "      <td>False</td>\n",
       "    </tr>\n",
       "  </tbody>\n",
       "</table>\n",
       "</div>"
      ],
      "text/plain": [
       "              balance   birthdate cust_id customer_type gender   join_date  \\\n",
       "0   13521.64118421771  1970-12-02       0     corporate   male  1977-08-27   \n",
       "1  16048.514127641927  2008-01-24       1       private   male  1977-03-29   \n",
       "2    2695.87666905298  2012-04-03       2     corporate   male  1998-05-12   \n",
       "3  10420.879276105059  2004-07-10       3       private   male  2004-02-21   \n",
       "4   5500.606399475897  1990-01-13       4     corporate   male  1989-12-05   \n",
       "\n",
       "              name number_of_accounts    pep  \n",
       "0  Martin Sheppard                 12  False  \n",
       "1   Daniel Everett                  5  False  \n",
       "2     Rachel Davis                  3  False  \n",
       "3  Stacey Thompson                 14   True  \n",
       "4       Sara Cross                  2  False  "
      ]
     },
     "execution_count": 43,
     "metadata": {},
     "output_type": "execute_result"
    }
   ],
   "source": [
    "dataset.head()"
   ]
  },
  {
   "cell_type": "code",
   "execution_count": 44,
   "metadata": {},
   "outputs": [],
   "source": [
    "dataset.to_csv(\"kyc.csv\", sep=',', encoding='utf-8',index=False)"
   ]
  },
  {
   "cell_type": "code",
   "execution_count": null,
   "metadata": {},
   "outputs": [],
   "source": []
  },
  {
   "cell_type": "code",
   "execution_count": 45,
   "metadata": {},
   "outputs": [],
   "source": [
    "trx_in_cust_id = []\n",
    "for i in range(len(transaction_ids)):\n",
    "    trx_in_cust_id.append(random.choice(customer_ids))"
   ]
  },
  {
   "cell_type": "code",
   "execution_count": 46,
   "metadata": {},
   "outputs": [],
   "source": [
    "trx_dates = []\n",
    "for i in range(len(transaction_ids)):\n",
    "    trx_dates.append(fake.date())"
   ]
  },
  {
   "cell_type": "code",
   "execution_count": 47,
   "metadata": {},
   "outputs": [],
   "source": [
    "trx_type_cat = [\"ATM\", \"INTERNATIONAL\", \"DOMESTIC\", \"SWISH\"]\n",
    "trx_types = []\n",
    "for i in range(len(transaction_ids)):\n",
    "    trx_types.append(random.choice(trx_type_cat))"
   ]
  },
  {
   "cell_type": "code",
   "execution_count": 48,
   "metadata": {},
   "outputs": [],
   "source": [
    "trx_amount = []\n",
    "for i in range(len(transaction_ids)):\n",
    "    trx_amount.append(abs(np.random.normal()*1000))"
   ]
  },
  {
   "cell_type": "code",
   "execution_count": 49,
   "metadata": {},
   "outputs": [],
   "source": [
    "trx_bankid = []\n",
    "for i in range(len(transaction_ids)):\n",
    "    trx_bankid.append(np.random.randint(1, 10000000))"
   ]
  },
  {
   "cell_type": "code",
   "execution_count": 50,
   "metadata": {},
   "outputs": [],
   "source": [
    "trx_out_cust_id = []\n",
    "for i in range(len(transaction_ids)):\n",
    "    counter = trx_in_cust_id[i]\n",
    "    while counter == trx_in_cust_id[i]:\n",
    "        counter = random.choice(customer_ids)\n",
    "    trx_out_cust_id.append(counter)"
   ]
  },
  {
   "cell_type": "code",
   "execution_count": 51,
   "metadata": {},
   "outputs": [],
   "source": [
    "trx_clearingnum = []\n",
    "for i in range(len(transaction_ids)):\n",
    "    trx_clearingnum.append(np.random.randint(1000, 9999))"
   ]
  },
  {
   "cell_type": "code",
   "execution_count": 52,
   "metadata": {},
   "outputs": [],
   "source": [
    "trx_countries_cat = [\"SWEDEN\", \"NORWAY\", \"UK\", \"LATVIA\", \"ESTONIA\", \"FINLAND\", \"RUSSIA\", \"ROMANIA\"]"
   ]
  },
  {
   "cell_type": "code",
   "execution_count": 53,
   "metadata": {},
   "outputs": [],
   "source": [
    "trx_countries = []\n",
    "for i in range(len(transaction_ids)):\n",
    "    trx_countries.append(random.choice(trx_countries_cat))"
   ]
  },
  {
   "cell_type": "code",
   "execution_count": 54,
   "metadata": {},
   "outputs": [],
   "source": [
    "matrix2 = np.array([trx_in_cust_id, trx_dates, trx_types, trx_amount, trx_bankid, trx_out_cust_id, trx_clearingnum, trx_countries])"
   ]
  },
  {
   "cell_type": "code",
   "execution_count": 55,
   "metadata": {},
   "outputs": [],
   "source": [
    "import pandas as pd\n",
    "dataset2 = pd.DataFrame({\n",
    "        'cust_id_in':matrix2[0,:],\n",
    "        'trx_date':matrix2[1,:],\n",
    "        'trx_type':matrix2[2,:],\n",
    "        'trx_amount':matrix2[3,:],\n",
    "        'trx_bankid':matrix2[4,:],\n",
    "        \"cust_id_out\": matrix2[5,:],\n",
    "        \"trx_clearinnum\": matrix2[6,:],\n",
    "        \"trx_country\": matrix2[7,:]\n",
    "    })"
   ]
  },
  {
   "cell_type": "code",
   "execution_count": 56,
   "metadata": {},
   "outputs": [
    {
     "data": {
      "text/html": [
       "<div>\n",
       "<style scoped>\n",
       "    .dataframe tbody tr th:only-of-type {\n",
       "        vertical-align: middle;\n",
       "    }\n",
       "\n",
       "    .dataframe tbody tr th {\n",
       "        vertical-align: top;\n",
       "    }\n",
       "\n",
       "    .dataframe thead th {\n",
       "        text-align: right;\n",
       "    }\n",
       "</style>\n",
       "<table border=\"1\" class=\"dataframe\">\n",
       "  <thead>\n",
       "    <tr style=\"text-align: right;\">\n",
       "      <th></th>\n",
       "      <th>cust_id_in</th>\n",
       "      <th>cust_id_out</th>\n",
       "      <th>trx_amount</th>\n",
       "      <th>trx_bankid</th>\n",
       "      <th>trx_clearinnum</th>\n",
       "      <th>trx_country</th>\n",
       "      <th>trx_date</th>\n",
       "      <th>trx_type</th>\n",
       "    </tr>\n",
       "  </thead>\n",
       "  <tbody>\n",
       "    <tr>\n",
       "      <th>0</th>\n",
       "      <td>261</td>\n",
       "      <td>416</td>\n",
       "      <td>1861.4578334817759</td>\n",
       "      <td>4227176</td>\n",
       "      <td>3556</td>\n",
       "      <td>ROMANIA</td>\n",
       "      <td>1973-11-28</td>\n",
       "      <td>SWISH</td>\n",
       "    </tr>\n",
       "    <tr>\n",
       "      <th>1</th>\n",
       "      <td>483</td>\n",
       "      <td>436</td>\n",
       "      <td>1540.257005828488</td>\n",
       "      <td>2805500</td>\n",
       "      <td>9039</td>\n",
       "      <td>LATVIA</td>\n",
       "      <td>2016-07-16</td>\n",
       "      <td>ATM</td>\n",
       "    </tr>\n",
       "    <tr>\n",
       "      <th>2</th>\n",
       "      <td>32</td>\n",
       "      <td>271</td>\n",
       "      <td>816.234937173446</td>\n",
       "      <td>3056414</td>\n",
       "      <td>9901</td>\n",
       "      <td>SWEDEN</td>\n",
       "      <td>2004-12-08</td>\n",
       "      <td>INTERNATIONAL</td>\n",
       "    </tr>\n",
       "    <tr>\n",
       "      <th>3</th>\n",
       "      <td>274</td>\n",
       "      <td>115</td>\n",
       "      <td>1056.996302407404</td>\n",
       "      <td>8228775</td>\n",
       "      <td>2237</td>\n",
       "      <td>SWEDEN</td>\n",
       "      <td>2004-03-17</td>\n",
       "      <td>SWISH</td>\n",
       "    </tr>\n",
       "    <tr>\n",
       "      <th>4</th>\n",
       "      <td>402</td>\n",
       "      <td>138</td>\n",
       "      <td>1431.0724147989276</td>\n",
       "      <td>9029771</td>\n",
       "      <td>6009</td>\n",
       "      <td>SWEDEN</td>\n",
       "      <td>2015-12-07</td>\n",
       "      <td>SWISH</td>\n",
       "    </tr>\n",
       "  </tbody>\n",
       "</table>\n",
       "</div>"
      ],
      "text/plain": [
       "  cust_id_in cust_id_out          trx_amount trx_bankid trx_clearinnum  \\\n",
       "0        261         416  1861.4578334817759    4227176           3556   \n",
       "1        483         436   1540.257005828488    2805500           9039   \n",
       "2         32         271    816.234937173446    3056414           9901   \n",
       "3        274         115   1056.996302407404    8228775           2237   \n",
       "4        402         138  1431.0724147989276    9029771           6009   \n",
       "\n",
       "  trx_country    trx_date       trx_type  \n",
       "0     ROMANIA  1973-11-28          SWISH  \n",
       "1      LATVIA  2016-07-16            ATM  \n",
       "2      SWEDEN  2004-12-08  INTERNATIONAL  \n",
       "3      SWEDEN  2004-03-17          SWISH  \n",
       "4      SWEDEN  2015-12-07          SWISH  "
      ]
     },
     "execution_count": 56,
     "metadata": {},
     "output_type": "execute_result"
    }
   ],
   "source": [
    "dataset2.head()"
   ]
  },
  {
   "cell_type": "code",
   "execution_count": 57,
   "metadata": {},
   "outputs": [],
   "source": [
    "dataset2.to_csv(\"trx.csv\", sep=',', encoding='utf-8', index=False)"
   ]
  },
  {
   "cell_type": "code",
   "execution_count": 58,
   "metadata": {},
   "outputs": [],
   "source": [
    "reports_ids = list(range(100))"
   ]
  },
  {
   "cell_type": "code",
   "execution_count": 59,
   "metadata": {},
   "outputs": [],
   "source": [
    "report_cust_id = []\n",
    "for i in range(len(reports_ids)):\n",
    "    report_cust_id.append(random.choice(customer_ids))"
   ]
  },
  {
   "cell_type": "code",
   "execution_count": 60,
   "metadata": {},
   "outputs": [],
   "source": [
    "report_dates = []\n",
    "for i in range(len(reports_ids)):\n",
    "    report_dates.append(fake.date())"
   ]
  },
  {
   "cell_type": "code",
   "execution_count": 61,
   "metadata": {},
   "outputs": [],
   "source": [
    "report_description = []\n",
    "for i in range(len(reports_ids)):\n",
    "    report_description.append(\"blablablabla\")"
   ]
  },
  {
   "cell_type": "code",
   "execution_count": 62,
   "metadata": {},
   "outputs": [],
   "source": [
    "matrix3 = np.array([reports_ids, report_cust_id, report_dates, report_description])"
   ]
  },
  {
   "cell_type": "code",
   "execution_count": 63,
   "metadata": {},
   "outputs": [],
   "source": [
    "dataset3 = pd.DataFrame({\n",
    "        'report_id':matrix3[0,:],\n",
    "        'cust_id':matrix3[1,:],\n",
    "        'report_date':matrix3[2,:],\n",
    "        'description':matrix3[3,:]\n",
    "    })"
   ]
  },
  {
   "cell_type": "code",
   "execution_count": 64,
   "metadata": {},
   "outputs": [
    {
     "data": {
      "text/html": [
       "<div>\n",
       "<style scoped>\n",
       "    .dataframe tbody tr th:only-of-type {\n",
       "        vertical-align: middle;\n",
       "    }\n",
       "\n",
       "    .dataframe tbody tr th {\n",
       "        vertical-align: top;\n",
       "    }\n",
       "\n",
       "    .dataframe thead th {\n",
       "        text-align: right;\n",
       "    }\n",
       "</style>\n",
       "<table border=\"1\" class=\"dataframe\">\n",
       "  <thead>\n",
       "    <tr style=\"text-align: right;\">\n",
       "      <th></th>\n",
       "      <th>cust_id</th>\n",
       "      <th>description</th>\n",
       "      <th>report_date</th>\n",
       "      <th>report_id</th>\n",
       "    </tr>\n",
       "  </thead>\n",
       "  <tbody>\n",
       "    <tr>\n",
       "      <th>0</th>\n",
       "      <td>302</td>\n",
       "      <td>blablablabla</td>\n",
       "      <td>2008-03-22</td>\n",
       "      <td>0</td>\n",
       "    </tr>\n",
       "    <tr>\n",
       "      <th>1</th>\n",
       "      <td>445</td>\n",
       "      <td>blablablabla</td>\n",
       "      <td>2015-10-17</td>\n",
       "      <td>1</td>\n",
       "    </tr>\n",
       "    <tr>\n",
       "      <th>2</th>\n",
       "      <td>102</td>\n",
       "      <td>blablablabla</td>\n",
       "      <td>2011-12-31</td>\n",
       "      <td>2</td>\n",
       "    </tr>\n",
       "    <tr>\n",
       "      <th>3</th>\n",
       "      <td>460</td>\n",
       "      <td>blablablabla</td>\n",
       "      <td>1972-07-17</td>\n",
       "      <td>3</td>\n",
       "    </tr>\n",
       "    <tr>\n",
       "      <th>4</th>\n",
       "      <td>362</td>\n",
       "      <td>blablablabla</td>\n",
       "      <td>1991-07-21</td>\n",
       "      <td>4</td>\n",
       "    </tr>\n",
       "  </tbody>\n",
       "</table>\n",
       "</div>"
      ],
      "text/plain": [
       "  cust_id   description report_date report_id\n",
       "0     302  blablablabla  2008-03-22         0\n",
       "1     445  blablablabla  2015-10-17         1\n",
       "2     102  blablablabla  2011-12-31         2\n",
       "3     460  blablablabla  1972-07-17         3\n",
       "4     362  blablablabla  1991-07-21         4"
      ]
     },
     "execution_count": 64,
     "metadata": {},
     "output_type": "execute_result"
    }
   ],
   "source": [
    "dataset3.head()"
   ]
  },
  {
   "cell_type": "code",
   "execution_count": 65,
   "metadata": {},
   "outputs": [],
   "source": [
    "dataset3.to_csv(\"police_reports.csv\", sep=',', encoding='utf-8', index=False)"
   ]
  },
  {
   "cell_type": "code",
   "execution_count": 66,
   "metadata": {},
   "outputs": [],
   "source": [
    "web_ids = list(range(5000))"
   ]
  },
  {
   "cell_type": "code",
   "execution_count": 67,
   "metadata": {},
   "outputs": [],
   "source": [
    "web_cust_id = []\n",
    "for i in range(len(web_ids)):\n",
    "    web_cust_id.append(random.choice(customer_ids))"
   ]
  },
  {
   "cell_type": "code",
   "execution_count": 68,
   "metadata": {},
   "outputs": [],
   "source": [
    "web_seconds = []\n",
    "for i in range(len(web_ids)):\n",
    "    web_seconds.append(np.random.randint(15, 1000))"
   ]
  },
  {
   "cell_type": "code",
   "execution_count": 69,
   "metadata": {},
   "outputs": [],
   "source": [
    "ips = [fake.ipv4() for i in range(50)]\n",
    "#fake.ipv4()"
   ]
  },
  {
   "cell_type": "code",
   "execution_count": 70,
   "metadata": {},
   "outputs": [],
   "source": [
    "web_address = []\n",
    "for i in range(len(web_ids)):\n",
    "    web_address.append(random.choice(ips))"
   ]
  },
  {
   "cell_type": "code",
   "execution_count": 71,
   "metadata": {},
   "outputs": [],
   "source": [
    "web_actions_cat = [\"browse\", \"transactions\", \"update_profile\", \"request_loan\", \"create_account\"]"
   ]
  },
  {
   "cell_type": "code",
   "execution_count": 72,
   "metadata": {},
   "outputs": [],
   "source": [
    "web_actions = []\n",
    "for i in range(len(web_ids)):\n",
    "    web_actions.append(random.choice(web_actions_cat))"
   ]
  },
  {
   "cell_type": "code",
   "execution_count": 73,
   "metadata": {},
   "outputs": [],
   "source": [
    "matrix4 = np.array([web_ids, web_cust_id, web_seconds, web_address, web_actions])"
   ]
  },
  {
   "cell_type": "code",
   "execution_count": 74,
   "metadata": {},
   "outputs": [],
   "source": [
    "dataset4 = pd.DataFrame({\n",
    "        'web_id':matrix4[0,:],\n",
    "        'cust_id':matrix4[1,:],\n",
    "        'time_spent_seconds':matrix4[2,:],\n",
    "        'address':matrix4[3,:],\n",
    "        \"action\": matrix4[4,:]\n",
    "    })"
   ]
  },
  {
   "cell_type": "code",
   "execution_count": 75,
   "metadata": {},
   "outputs": [
    {
     "data": {
      "text/html": [
       "<div>\n",
       "<style scoped>\n",
       "    .dataframe tbody tr th:only-of-type {\n",
       "        vertical-align: middle;\n",
       "    }\n",
       "\n",
       "    .dataframe tbody tr th {\n",
       "        vertical-align: top;\n",
       "    }\n",
       "\n",
       "    .dataframe thead th {\n",
       "        text-align: right;\n",
       "    }\n",
       "</style>\n",
       "<table border=\"1\" class=\"dataframe\">\n",
       "  <thead>\n",
       "    <tr style=\"text-align: right;\">\n",
       "      <th></th>\n",
       "      <th>action</th>\n",
       "      <th>address</th>\n",
       "      <th>cust_id</th>\n",
       "      <th>time_spent_seconds</th>\n",
       "      <th>web_id</th>\n",
       "    </tr>\n",
       "  </thead>\n",
       "  <tbody>\n",
       "    <tr>\n",
       "      <th>0</th>\n",
       "      <td>update_profile</td>\n",
       "      <td>102.13.84.31</td>\n",
       "      <td>283</td>\n",
       "      <td>782</td>\n",
       "      <td>0</td>\n",
       "    </tr>\n",
       "    <tr>\n",
       "      <th>1</th>\n",
       "      <td>update_profile</td>\n",
       "      <td>102.13.84.31</td>\n",
       "      <td>297</td>\n",
       "      <td>793</td>\n",
       "      <td>1</td>\n",
       "    </tr>\n",
       "    <tr>\n",
       "      <th>2</th>\n",
       "      <td>transactions</td>\n",
       "      <td>198.51.109.76</td>\n",
       "      <td>383</td>\n",
       "      <td>306</td>\n",
       "      <td>2</td>\n",
       "    </tr>\n",
       "    <tr>\n",
       "      <th>3</th>\n",
       "      <td>transactions</td>\n",
       "      <td>198.51.116.253</td>\n",
       "      <td>50</td>\n",
       "      <td>79</td>\n",
       "      <td>3</td>\n",
       "    </tr>\n",
       "    <tr>\n",
       "      <th>4</th>\n",
       "      <td>update_profile</td>\n",
       "      <td>198.58.236.158</td>\n",
       "      <td>364</td>\n",
       "      <td>552</td>\n",
       "      <td>4</td>\n",
       "    </tr>\n",
       "  </tbody>\n",
       "</table>\n",
       "</div>"
      ],
      "text/plain": [
       "           action         address cust_id time_spent_seconds web_id\n",
       "0  update_profile    102.13.84.31     283                782      0\n",
       "1  update_profile    102.13.84.31     297                793      1\n",
       "2    transactions   198.51.109.76     383                306      2\n",
       "3    transactions  198.51.116.253      50                 79      3\n",
       "4  update_profile  198.58.236.158     364                552      4"
      ]
     },
     "execution_count": 75,
     "metadata": {},
     "output_type": "execute_result"
    }
   ],
   "source": [
    "dataset4.head()"
   ]
  },
  {
   "cell_type": "code",
   "execution_count": 76,
   "metadata": {},
   "outputs": [],
   "source": [
    "dataset4.to_csv(\"web_logs.csv\", sep=',', encoding='utf-8', index=False)"
   ]
  },
  {
   "cell_type": "code",
   "execution_count": 77,
   "metadata": {},
   "outputs": [],
   "source": [
    "alert_ids = list(range(300))"
   ]
  },
  {
   "cell_type": "code",
   "execution_count": 78,
   "metadata": {},
   "outputs": [],
   "source": [
    "alert_trx_id = []\n",
    "for i in range(len(alert_ids)):\n",
    "    alert_trx_id.append(random.choice(transaction_ids))"
   ]
  },
  {
   "cell_type": "code",
   "execution_count": 79,
   "metadata": {},
   "outputs": [],
   "source": [
    "alert_date = []\n",
    "for i in range(len(alert_ids)):\n",
    "    alert_date.append(fake.date())"
   ]
  },
  {
   "cell_type": "code",
   "execution_count": 80,
   "metadata": {},
   "outputs": [],
   "source": [
    "alert_type_cat = [\"TERRORISM\", \"HIGH_INT_PAYMENT\", \"SMURFING\", \"REPEATED_SWISH\"]"
   ]
  },
  {
   "cell_type": "code",
   "execution_count": 81,
   "metadata": {},
   "outputs": [],
   "source": [
    "alert_types = []\n",
    "for i in range(len(alert_ids)):\n",
    "    alert_types.append(random.choice(alert_type_cat))"
   ]
  },
  {
   "cell_type": "code",
   "execution_count": 82,
   "metadata": {},
   "outputs": [],
   "source": [
    "alert_score = []\n",
    "for i in range(len(alert_ids)):\n",
    "    alert_score.append(abs(np.random.normal()))"
   ]
  },
  {
   "cell_type": "code",
   "execution_count": 83,
   "metadata": {},
   "outputs": [],
   "source": [
    "alert_rule_name_cat = [\"TOOK_OVER_4_LOANS_IN_ONE_DAY\", \"TOOK_LOANS_FROM_MORE_THAN_1_BANK_IN_ONE_DAY\", \"INT_PAYMENT_OVER_5K\", \"SMURFING_OVER_5_ACCOUNTS\", \"SMURFING_OVER_10_ACCOUNTS\", \"REPEATED_SWISH\", \"MANY_SWISH_ACCOUNTS\"]"
   ]
  },
  {
   "cell_type": "code",
   "execution_count": 84,
   "metadata": {},
   "outputs": [],
   "source": [
    "rule_names = []\n",
    "for i in range(len(alert_ids)):\n",
    "    rule_names.append(random.choice(alert_rule_name_cat))"
   ]
  },
  {
   "cell_type": "code",
   "execution_count": 85,
   "metadata": {},
   "outputs": [],
   "source": [
    "alert_description = []\n",
    "for i in range(len(alert_ids)):\n",
    "    alert_description.append(\"blablablablablabla\")"
   ]
  },
  {
   "cell_type": "code",
   "execution_count": 86,
   "metadata": {},
   "outputs": [],
   "source": [
    "matrix5 = np.array([alert_ids, alert_trx_id, alert_date, alert_types, alert_score, rule_names, alert_description])"
   ]
  },
  {
   "cell_type": "code",
   "execution_count": 87,
   "metadata": {},
   "outputs": [],
   "source": [
    "dataset5 = pd.DataFrame({\n",
    "        'alert_id':matrix5[0,:],\n",
    "        'trx_id':matrix5[1,:],\n",
    "        'alert_date':matrix5[2,:],\n",
    "        'alert_type':matrix5[3,:],\n",
    "        \"alert_score\": matrix5[4,:],\n",
    "        \"rule_name\": matrix5[5,:],\n",
    "        \"alert_desc\": matrix5[6,:],  \n",
    "    })"
   ]
  },
  {
   "cell_type": "code",
   "execution_count": 88,
   "metadata": {},
   "outputs": [
    {
     "data": {
      "text/html": [
       "<div>\n",
       "<style scoped>\n",
       "    .dataframe tbody tr th:only-of-type {\n",
       "        vertical-align: middle;\n",
       "    }\n",
       "\n",
       "    .dataframe tbody tr th {\n",
       "        vertical-align: top;\n",
       "    }\n",
       "\n",
       "    .dataframe thead th {\n",
       "        text-align: right;\n",
       "    }\n",
       "</style>\n",
       "<table border=\"1\" class=\"dataframe\">\n",
       "  <thead>\n",
       "    <tr style=\"text-align: right;\">\n",
       "      <th></th>\n",
       "      <th>alert_date</th>\n",
       "      <th>alert_desc</th>\n",
       "      <th>alert_id</th>\n",
       "      <th>alert_score</th>\n",
       "      <th>alert_type</th>\n",
       "      <th>rule_name</th>\n",
       "      <th>trx_id</th>\n",
       "    </tr>\n",
       "  </thead>\n",
       "  <tbody>\n",
       "    <tr>\n",
       "      <th>0</th>\n",
       "      <td>2007-09-06</td>\n",
       "      <td>blablablablablabla</td>\n",
       "      <td>0</td>\n",
       "      <td>0.11363066752159397</td>\n",
       "      <td>HIGH_INT_PAYMENT</td>\n",
       "      <td>INT_PAYMENT_OVER_5K</td>\n",
       "      <td>2676</td>\n",
       "    </tr>\n",
       "    <tr>\n",
       "      <th>1</th>\n",
       "      <td>1992-06-30</td>\n",
       "      <td>blablablablablabla</td>\n",
       "      <td>1</td>\n",
       "      <td>0.39961970097965943</td>\n",
       "      <td>TERRORISM</td>\n",
       "      <td>REPEATED_SWISH</td>\n",
       "      <td>897</td>\n",
       "    </tr>\n",
       "    <tr>\n",
       "      <th>2</th>\n",
       "      <td>2004-11-07</td>\n",
       "      <td>blablablablablabla</td>\n",
       "      <td>2</td>\n",
       "      <td>0.11401844861338346</td>\n",
       "      <td>TERRORISM</td>\n",
       "      <td>SMURFING_OVER_10_ACCOUNTS</td>\n",
       "      <td>403</td>\n",
       "    </tr>\n",
       "    <tr>\n",
       "      <th>3</th>\n",
       "      <td>1985-02-18</td>\n",
       "      <td>blablablablablabla</td>\n",
       "      <td>3</td>\n",
       "      <td>0.04322181874309635</td>\n",
       "      <td>TERRORISM</td>\n",
       "      <td>REPEATED_SWISH</td>\n",
       "      <td>331</td>\n",
       "    </tr>\n",
       "    <tr>\n",
       "      <th>4</th>\n",
       "      <td>2017-03-19</td>\n",
       "      <td>blablablablablabla</td>\n",
       "      <td>4</td>\n",
       "      <td>1.143806671288466</td>\n",
       "      <td>TERRORISM</td>\n",
       "      <td>SMURFING_OVER_10_ACCOUNTS</td>\n",
       "      <td>516</td>\n",
       "    </tr>\n",
       "  </tbody>\n",
       "</table>\n",
       "</div>"
      ],
      "text/plain": [
       "   alert_date          alert_desc alert_id          alert_score  \\\n",
       "0  2007-09-06  blablablablablabla        0  0.11363066752159397   \n",
       "1  1992-06-30  blablablablablabla        1  0.39961970097965943   \n",
       "2  2004-11-07  blablablablablabla        2  0.11401844861338346   \n",
       "3  1985-02-18  blablablablablabla        3  0.04322181874309635   \n",
       "4  2017-03-19  blablablablablabla        4    1.143806671288466   \n",
       "\n",
       "         alert_type                  rule_name trx_id  \n",
       "0  HIGH_INT_PAYMENT        INT_PAYMENT_OVER_5K   2676  \n",
       "1         TERRORISM             REPEATED_SWISH    897  \n",
       "2         TERRORISM  SMURFING_OVER_10_ACCOUNTS    403  \n",
       "3         TERRORISM             REPEATED_SWISH    331  \n",
       "4         TERRORISM  SMURFING_OVER_10_ACCOUNTS    516  "
      ]
     },
     "execution_count": 88,
     "metadata": {},
     "output_type": "execute_result"
    }
   ],
   "source": [
    "dataset5.head()"
   ]
  },
  {
   "cell_type": "code",
   "execution_count": 89,
   "metadata": {},
   "outputs": [],
   "source": [
    "dataset5.to_csv(\"alerts.csv\", sep=',', encoding='utf-8', index=False)"
   ]
  },
  {
   "cell_type": "code",
   "execution_count": 90,
   "metadata": {},
   "outputs": [],
   "source": [
    "corporate_ids = list(range(100))"
   ]
  },
  {
   "cell_type": "code",
   "execution_count": 91,
   "metadata": {},
   "outputs": [],
   "source": [
    "indudstry_sector_cat = [\"AGRICULTURE\", \"IT\", \"CONSTRUCTION\", \"ENERGY\", \"AEROSPACE\", \"ENTERTAINMENT\"]"
   ]
  },
  {
   "cell_type": "code",
   "execution_count": 92,
   "metadata": {},
   "outputs": [],
   "source": [
    "industry_sectors = []\n",
    "for i in range(len(corporate_ids)):\n",
    "    industry_sectors.append(random.choice(indudstry_sector_cat))"
   ]
  },
  {
   "cell_type": "code",
   "execution_count": 93,
   "metadata": {},
   "outputs": [],
   "source": [
    "externa_kostnader = []\n",
    "for i in range(len(corporate_ids)):\n",
    "    externa_kostnader.append(abs(np.random.normal()*10000))"
   ]
  },
  {
   "cell_type": "code",
   "execution_count": 94,
   "metadata": {},
   "outputs": [],
   "source": [
    "rente_kostnader = []\n",
    "for i in range(len(corporate_ids)):\n",
    "    rente_kostnader.append(abs(np.random.normal()*1000))"
   ]
  },
  {
   "cell_type": "code",
   "execution_count": 95,
   "metadata": {},
   "outputs": [],
   "source": [
    "netomsettning = []\n",
    "for i in range(len(corporate_ids)):\n",
    "    netomsettning.append(abs(np.random.normal()*100000))"
   ]
  },
  {
   "cell_type": "code",
   "execution_count": 96,
   "metadata": {},
   "outputs": [],
   "source": [
    "netomsettning_3year = []\n",
    "for i in range(len(corporate_ids)):\n",
    "    netomsettning_3year.append(abs(np.random.normal()*10000))"
   ]
  },
  {
   "cell_type": "code",
   "execution_count": 97,
   "metadata": {},
   "outputs": [],
   "source": [
    "netomsettning_2year = []\n",
    "for i in range(len(corporate_ids)):\n",
    "    netomsettning_2year.append(abs(np.random.normal()*1000))"
   ]
  },
  {
   "cell_type": "code",
   "execution_count": 98,
   "metadata": {},
   "outputs": [],
   "source": [
    "netomsettning_1year = []\n",
    "for i in range(len(corporate_ids)):\n",
    "    netomsettning_1year.append(abs(np.random.normal()*100))"
   ]
  },
  {
   "cell_type": "code",
   "execution_count": 99,
   "metadata": {},
   "outputs": [],
   "source": [
    "matrix6 = np.array([corporate_ids, industry_sectors, externa_kostnader, netomsettning, netomsettning_3year, netomsettning_2year, netomsettning_1year])"
   ]
  },
  {
   "cell_type": "code",
   "execution_count": 100,
   "metadata": {},
   "outputs": [],
   "source": [
    "dataset6 = pd.DataFrame({\n",
    "        'corporate_id':matrix6[0,:],\n",
    "        'industry_sector':matrix6[1,:],\n",
    "        'externa_kostnader':matrix6[2,:],\n",
    "        'netomsettning':matrix6[3,:],\n",
    "        \"netomsettning_3year\": matrix6[4,:],\n",
    "        \"netomsettning_2year\": matrix6[5,:],\n",
    "        \"netomsettning_1year\": matrix6[6,:],  \n",
    "    })"
   ]
  },
  {
   "cell_type": "code",
   "execution_count": 101,
   "metadata": {},
   "outputs": [
    {
     "data": {
      "text/html": [
       "<div>\n",
       "<style scoped>\n",
       "    .dataframe tbody tr th:only-of-type {\n",
       "        vertical-align: middle;\n",
       "    }\n",
       "\n",
       "    .dataframe tbody tr th {\n",
       "        vertical-align: top;\n",
       "    }\n",
       "\n",
       "    .dataframe thead th {\n",
       "        text-align: right;\n",
       "    }\n",
       "</style>\n",
       "<table border=\"1\" class=\"dataframe\">\n",
       "  <thead>\n",
       "    <tr style=\"text-align: right;\">\n",
       "      <th></th>\n",
       "      <th>corporate_id</th>\n",
       "      <th>externa_kostnader</th>\n",
       "      <th>industry_sector</th>\n",
       "      <th>netomsettning</th>\n",
       "      <th>netomsettning_1year</th>\n",
       "      <th>netomsettning_2year</th>\n",
       "      <th>netomsettning_3year</th>\n",
       "    </tr>\n",
       "  </thead>\n",
       "  <tbody>\n",
       "    <tr>\n",
       "      <th>0</th>\n",
       "      <td>0</td>\n",
       "      <td>3235.0867890865097</td>\n",
       "      <td>ENTERTAINMENT</td>\n",
       "      <td>59164.244528402785</td>\n",
       "      <td>83.91500869840873</td>\n",
       "      <td>147.54021266485626</td>\n",
       "      <td>15903.244422098</td>\n",
       "    </tr>\n",
       "    <tr>\n",
       "      <th>1</th>\n",
       "      <td>1</td>\n",
       "      <td>14371.57983631589</td>\n",
       "      <td>ENERGY</td>\n",
       "      <td>53514.41256621461</td>\n",
       "      <td>31.984321662269206</td>\n",
       "      <td>452.56299093105144</td>\n",
       "      <td>14109.433973213429</td>\n",
       "    </tr>\n",
       "    <tr>\n",
       "      <th>2</th>\n",
       "      <td>2</td>\n",
       "      <td>11223.85885322683</td>\n",
       "      <td>CONSTRUCTION</td>\n",
       "      <td>65956.90328945404</td>\n",
       "      <td>87.56489015497613</td>\n",
       "      <td>1656.935619402168</td>\n",
       "      <td>1492.7374809855025</td>\n",
       "    </tr>\n",
       "    <tr>\n",
       "      <th>3</th>\n",
       "      <td>3</td>\n",
       "      <td>9699.994495097277</td>\n",
       "      <td>IT</td>\n",
       "      <td>90657.13854110238</td>\n",
       "      <td>58.764138727997064</td>\n",
       "      <td>209.9214728746534</td>\n",
       "      <td>11804.270560860003</td>\n",
       "    </tr>\n",
       "    <tr>\n",
       "      <th>4</th>\n",
       "      <td>4</td>\n",
       "      <td>13018.1352121905</td>\n",
       "      <td>ENTERTAINMENT</td>\n",
       "      <td>54426.83133736266</td>\n",
       "      <td>72.5161212911848</td>\n",
       "      <td>104.01544926416392</td>\n",
       "      <td>6904.105982823086</td>\n",
       "    </tr>\n",
       "  </tbody>\n",
       "</table>\n",
       "</div>"
      ],
      "text/plain": [
       "  corporate_id   externa_kostnader industry_sector       netomsettning  \\\n",
       "0            0  3235.0867890865097   ENTERTAINMENT  59164.244528402785   \n",
       "1            1   14371.57983631589          ENERGY   53514.41256621461   \n",
       "2            2   11223.85885322683    CONSTRUCTION   65956.90328945404   \n",
       "3            3   9699.994495097277              IT   90657.13854110238   \n",
       "4            4    13018.1352121905   ENTERTAINMENT   54426.83133736266   \n",
       "\n",
       "  netomsettning_1year netomsettning_2year netomsettning_3year  \n",
       "0   83.91500869840873  147.54021266485626     15903.244422098  \n",
       "1  31.984321662269206  452.56299093105144  14109.433973213429  \n",
       "2   87.56489015497613   1656.935619402168  1492.7374809855025  \n",
       "3  58.764138727997064   209.9214728746534  11804.270560860003  \n",
       "4    72.5161212911848  104.01544926416392   6904.105982823086  "
      ]
     },
     "execution_count": 101,
     "metadata": {},
     "output_type": "execute_result"
    }
   ],
   "source": [
    "dataset6.head()"
   ]
  },
  {
   "cell_type": "code",
   "execution_count": 102,
   "metadata": {},
   "outputs": [],
   "source": [
    "dataset6.to_csv(\"hipo.csv\", sep=',', encoding='utf-8', index=False)"
   ]
  },
  {
   "cell_type": "code",
   "execution_count": null,
   "metadata": {},
   "outputs": [],
   "source": []
  }
 ],
 "metadata": {
  "kernelspec": {
   "display_name": "Python 3",
   "language": "python",
   "name": "python3"
  },
  "language_info": {
   "codemirror_mode": {
    "name": "ipython",
    "version": 3
   },
   "file_extension": ".py",
   "mimetype": "text/x-python",
   "name": "python",
   "nbconvert_exporter": "python",
   "pygments_lexer": "ipython3",
   "version": "3.5.6"
  }
 },
 "nbformat": 4,
 "nbformat_minor": 2
}
