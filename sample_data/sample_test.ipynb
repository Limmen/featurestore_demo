{
 "cells": [
  {
   "cell_type": "code",
   "execution_count": 405,
   "metadata": {},
   "outputs": [],
   "source": [
    "customer_ids = list(range(0,500))"
   ]
  },
  {
   "cell_type": "code",
   "execution_count": 406,
   "metadata": {},
   "outputs": [],
   "source": [
    "transaction_ids = list(range(5000))"
   ]
  },
  {
   "cell_type": "code",
   "execution_count": 407,
   "metadata": {},
   "outputs": [],
   "source": [
    "from faker import Faker"
   ]
  },
  {
   "cell_type": "code",
   "execution_count": 408,
   "metadata": {},
   "outputs": [],
   "source": [
    "fake = Faker()"
   ]
  },
  {
   "cell_type": "code",
   "execution_count": 409,
   "metadata": {},
   "outputs": [
    {
     "data": {
      "text/plain": [
       "'Kevin Cruz'"
      ]
     },
     "execution_count": 409,
     "metadata": {},
     "output_type": "execute_result"
    }
   ],
   "source": [
    "fake.name()"
   ]
  },
  {
   "cell_type": "code",
   "execution_count": 410,
   "metadata": {},
   "outputs": [],
   "source": [
    "customer_names = []\n",
    "for i in range(len(customer_ids)):\n",
    "    customer_names.append(fake.name())"
   ]
  },
  {
   "cell_type": "code",
   "execution_count": 411,
   "metadata": {},
   "outputs": [],
   "source": [
    "join_dates = []\n",
    "for i in range(len(customer_ids)):\n",
    "    join_dates.append(fake.date())"
   ]
  },
  {
   "cell_type": "code",
   "execution_count": 412,
   "metadata": {},
   "outputs": [],
   "source": [
    "customer_types_cat = [\"corporate\", \"private\"]"
   ]
  },
  {
   "cell_type": "code",
   "execution_count": 413,
   "metadata": {},
   "outputs": [],
   "source": [
    "import random\n",
    "customer_types = []\n",
    "for i in range(len(customer_ids)):\n",
    "    customer_types.append(random.choice(customer_types_cat))"
   ]
  },
  {
   "cell_type": "code",
   "execution_count": 414,
   "metadata": {},
   "outputs": [],
   "source": [
    "import numpy as np\n",
    "customer_balance = []\n",
    "for i in range(len(customer_ids)):\n",
    "    customer_balance.append(abs(np.random.normal()*10000))"
   ]
  },
  {
   "cell_type": "code",
   "execution_count": 415,
   "metadata": {},
   "outputs": [],
   "source": [
    "customer_birthdate = []\n",
    "for i in range(len(customer_ids)):\n",
    "    customer_birthdate.append(fake.date())"
   ]
  },
  {
   "cell_type": "code",
   "execution_count": 416,
   "metadata": {},
   "outputs": [],
   "source": [
    "gender_types_cat = [\"male\", \"female\"]"
   ]
  },
  {
   "cell_type": "code",
   "execution_count": 417,
   "metadata": {},
   "outputs": [],
   "source": [
    "customer_gender = []\n",
    "for i in range(len(customer_ids)):\n",
    "    customer_gender.append(random.choice(gender_types_cat))"
   ]
  },
  {
   "cell_type": "code",
   "execution_count": 418,
   "metadata": {},
   "outputs": [],
   "source": [
    "pep_types_cat = [True, False]"
   ]
  },
  {
   "cell_type": "code",
   "execution_count": 419,
   "metadata": {},
   "outputs": [],
   "source": [
    "customer_pep = []\n",
    "for i in range(len(customer_ids)):\n",
    "    customer_pep.append(random.choice(pep_types_cat))"
   ]
  },
  {
   "cell_type": "code",
   "execution_count": 420,
   "metadata": {},
   "outputs": [],
   "source": [
    "number_of_accounts = []\n",
    "for i in range(len(customer_ids)):\n",
    "    number_of_accounts.append(np.random.randint(1, 15))"
   ]
  },
  {
   "cell_type": "code",
   "execution_count": 421,
   "metadata": {},
   "outputs": [],
   "source": [
    "matrix = np.array([customer_names, join_dates, customer_types, customer_balance, customer_birthdate, customer_gender, customer_pep, number_of_accounts])"
   ]
  },
  {
   "cell_type": "code",
   "execution_count": 422,
   "metadata": {},
   "outputs": [
    {
     "data": {
      "text/plain": [
       "(8, 500)"
      ]
     },
     "execution_count": 422,
     "metadata": {},
     "output_type": "execute_result"
    }
   ],
   "source": [
    "matrix.shape"
   ]
  },
  {
   "cell_type": "code",
   "execution_count": 423,
   "metadata": {},
   "outputs": [
    {
     "name": "stdout",
     "output_type": "stream",
     "text": [
      "500\n",
      "500\n",
      "500\n",
      "500\n",
      "500\n",
      "500\n",
      "500\n",
      "500\n"
     ]
    }
   ],
   "source": [
    "for i in range(8):\n",
    "    print(len(matrix[i]))"
   ]
  },
  {
   "cell_type": "code",
   "execution_count": 424,
   "metadata": {},
   "outputs": [],
   "source": [
    "#matrix[0,:]"
   ]
  },
  {
   "cell_type": "code",
   "execution_count": 425,
   "metadata": {},
   "outputs": [],
   "source": [
    "import pandas as pd\n",
    "dataset = pd.DataFrame({\n",
    "        'name':matrix[0,:],\n",
    "        'join_date':matrix[1,:],\n",
    "        'customer_type':matrix[2,:],\n",
    "        'balance':matrix[3,:],\n",
    "        \"birthdate\": matrix[4,:],\n",
    "        \"gender\": matrix[5,:],\n",
    "        \"pep\": matrix[6,:],\n",
    "        \"number_of_accounts\": matrix[7,:]\n",
    "    })"
   ]
  },
  {
   "cell_type": "code",
   "execution_count": 426,
   "metadata": {},
   "outputs": [
    {
     "data": {
      "text/html": [
       "<div>\n",
       "<style scoped>\n",
       "    .dataframe tbody tr th:only-of-type {\n",
       "        vertical-align: middle;\n",
       "    }\n",
       "\n",
       "    .dataframe tbody tr th {\n",
       "        vertical-align: top;\n",
       "    }\n",
       "\n",
       "    .dataframe thead th {\n",
       "        text-align: right;\n",
       "    }\n",
       "</style>\n",
       "<table border=\"1\" class=\"dataframe\">\n",
       "  <thead>\n",
       "    <tr style=\"text-align: right;\">\n",
       "      <th></th>\n",
       "      <th>balance</th>\n",
       "      <th>birthdate</th>\n",
       "      <th>customer_type</th>\n",
       "      <th>gender</th>\n",
       "      <th>join_date</th>\n",
       "      <th>name</th>\n",
       "      <th>number_of_accounts</th>\n",
       "      <th>pep</th>\n",
       "    </tr>\n",
       "  </thead>\n",
       "  <tbody>\n",
       "    <tr>\n",
       "      <th>0</th>\n",
       "      <td>5073.531904455142</td>\n",
       "      <td>1976-12-17</td>\n",
       "      <td>corporate</td>\n",
       "      <td>male</td>\n",
       "      <td>1996-02-13</td>\n",
       "      <td>Deborah Suarez</td>\n",
       "      <td>9</td>\n",
       "      <td>False</td>\n",
       "    </tr>\n",
       "    <tr>\n",
       "      <th>1</th>\n",
       "      <td>3723.845865576104</td>\n",
       "      <td>1978-09-25</td>\n",
       "      <td>corporate</td>\n",
       "      <td>female</td>\n",
       "      <td>1971-05-19</td>\n",
       "      <td>Angela Lee</td>\n",
       "      <td>3</td>\n",
       "      <td>True</td>\n",
       "    </tr>\n",
       "    <tr>\n",
       "      <th>2</th>\n",
       "      <td>17679.977215439445</td>\n",
       "      <td>2012-09-03</td>\n",
       "      <td>private</td>\n",
       "      <td>female</td>\n",
       "      <td>1986-10-24</td>\n",
       "      <td>Chad Green</td>\n",
       "      <td>6</td>\n",
       "      <td>True</td>\n",
       "    </tr>\n",
       "    <tr>\n",
       "      <th>3</th>\n",
       "      <td>4712.990764537736</td>\n",
       "      <td>1984-10-23</td>\n",
       "      <td>private</td>\n",
       "      <td>male</td>\n",
       "      <td>1992-09-26</td>\n",
       "      <td>Joshua Thompson</td>\n",
       "      <td>5</td>\n",
       "      <td>True</td>\n",
       "    </tr>\n",
       "    <tr>\n",
       "      <th>4</th>\n",
       "      <td>6224.162834962264</td>\n",
       "      <td>2017-07-20</td>\n",
       "      <td>corporate</td>\n",
       "      <td>male</td>\n",
       "      <td>1983-07-18</td>\n",
       "      <td>Lisa Chang</td>\n",
       "      <td>4</td>\n",
       "      <td>True</td>\n",
       "    </tr>\n",
       "  </tbody>\n",
       "</table>\n",
       "</div>"
      ],
      "text/plain": [
       "              balance   birthdate customer_type  gender   join_date  \\\n",
       "0   5073.531904455142  1976-12-17     corporate    male  1996-02-13   \n",
       "1   3723.845865576104  1978-09-25     corporate  female  1971-05-19   \n",
       "2  17679.977215439445  2012-09-03       private  female  1986-10-24   \n",
       "3   4712.990764537736  1984-10-23       private    male  1992-09-26   \n",
       "4   6224.162834962264  2017-07-20     corporate    male  1983-07-18   \n",
       "\n",
       "              name number_of_accounts    pep  \n",
       "0   Deborah Suarez                  9  False  \n",
       "1       Angela Lee                  3   True  \n",
       "2       Chad Green                  6   True  \n",
       "3  Joshua Thompson                  5   True  \n",
       "4       Lisa Chang                  4   True  "
      ]
     },
     "execution_count": 426,
     "metadata": {},
     "output_type": "execute_result"
    }
   ],
   "source": [
    "dataset.head()"
   ]
  },
  {
   "cell_type": "code",
   "execution_count": 427,
   "metadata": {},
   "outputs": [],
   "source": [
    "dataset.to_csv(\"kyc.csv\", sep=',', encoding='utf-8',index=False)"
   ]
  },
  {
   "cell_type": "code",
   "execution_count": null,
   "metadata": {},
   "outputs": [],
   "source": []
  },
  {
   "cell_type": "code",
   "execution_count": 428,
   "metadata": {},
   "outputs": [],
   "source": [
    "trx_in_cust_id = []\n",
    "for i in range(len(transaction_ids)):\n",
    "    trx_in_cust_id.append(random.choice(customer_ids))"
   ]
  },
  {
   "cell_type": "code",
   "execution_count": 429,
   "metadata": {},
   "outputs": [],
   "source": [
    "trx_dates = []\n",
    "for i in range(len(transaction_ids)):\n",
    "    trx_dates.append(fake.date())"
   ]
  },
  {
   "cell_type": "code",
   "execution_count": 430,
   "metadata": {},
   "outputs": [],
   "source": [
    "trx_type_cat = [\"ATM\", \"INTERNATIONAL\", \"DOMESTIC\", \"SWISH\"]\n",
    "trx_types = []\n",
    "for i in range(len(transaction_ids)):\n",
    "    trx_types.append(random.choice(trx_type_cat))"
   ]
  },
  {
   "cell_type": "code",
   "execution_count": 431,
   "metadata": {},
   "outputs": [],
   "source": [
    "trx_amount = []\n",
    "for i in range(len(transaction_ids)):\n",
    "    trx_amount.append(abs(np.random.normal()*1000))"
   ]
  },
  {
   "cell_type": "code",
   "execution_count": 432,
   "metadata": {},
   "outputs": [],
   "source": [
    "trx_bankid = []\n",
    "for i in range(len(transaction_ids)):\n",
    "    trx_bankid.append(np.random.randint(1, 10000000))"
   ]
  },
  {
   "cell_type": "code",
   "execution_count": 433,
   "metadata": {},
   "outputs": [],
   "source": [
    "trx_out_cust_id = []\n",
    "for i in range(len(transaction_ids)):\n",
    "    counter = trx_in_cust_id[i]\n",
    "    while counter == trx_in_cust_id[i]:\n",
    "        counter = random.choice(customer_ids)\n",
    "    trx_out_cust_id.append(counter)"
   ]
  },
  {
   "cell_type": "code",
   "execution_count": 434,
   "metadata": {},
   "outputs": [],
   "source": [
    "trx_clearingnum = []\n",
    "for i in range(len(transaction_ids)):\n",
    "    trx_clearingnum.append(np.random.randint(1000, 9999))"
   ]
  },
  {
   "cell_type": "code",
   "execution_count": 435,
   "metadata": {},
   "outputs": [],
   "source": [
    "trx_countries_cat = [\"SWEDEN\", \"NORWAY\", \"UK\", \"LATVIA\", \"ESTONIA\", \"FINLAND\", \"RUSSIA\", \"ROMANIA\"]"
   ]
  },
  {
   "cell_type": "code",
   "execution_count": 436,
   "metadata": {},
   "outputs": [],
   "source": [
    "trx_countries = []\n",
    "for i in range(len(transaction_ids)):\n",
    "    trx_countries.append(random.choice(trx_countries_cat))"
   ]
  },
  {
   "cell_type": "code",
   "execution_count": 437,
   "metadata": {},
   "outputs": [],
   "source": [
    "matrix2 = np.array([trx_in_cust_id, trx_dates, trx_types, trx_amount, trx_bankid, trx_out_cust_id, trx_clearingnum, trx_countries])"
   ]
  },
  {
   "cell_type": "code",
   "execution_count": 438,
   "metadata": {},
   "outputs": [],
   "source": [
    "import pandas as pd\n",
    "dataset2 = pd.DataFrame({\n",
    "        'cust_id_in':matrix2[0,:],\n",
    "        'trx_date':matrix2[1,:],\n",
    "        'trx_type':matrix2[2,:],\n",
    "        'trx_amount':matrix2[3,:],\n",
    "        'trx_bankid':matrix2[4,:],\n",
    "        \"cust_id_out\": matrix2[5,:],\n",
    "        \"trx_clearinnum\": matrix2[6,:],\n",
    "        \"trx_country\": matrix2[7,:]\n",
    "    })"
   ]
  },
  {
   "cell_type": "code",
   "execution_count": 439,
   "metadata": {},
   "outputs": [
    {
     "data": {
      "text/html": [
       "<div>\n",
       "<style scoped>\n",
       "    .dataframe tbody tr th:only-of-type {\n",
       "        vertical-align: middle;\n",
       "    }\n",
       "\n",
       "    .dataframe tbody tr th {\n",
       "        vertical-align: top;\n",
       "    }\n",
       "\n",
       "    .dataframe thead th {\n",
       "        text-align: right;\n",
       "    }\n",
       "</style>\n",
       "<table border=\"1\" class=\"dataframe\">\n",
       "  <thead>\n",
       "    <tr style=\"text-align: right;\">\n",
       "      <th></th>\n",
       "      <th>cust_id_in</th>\n",
       "      <th>cust_id_out</th>\n",
       "      <th>trx_amount</th>\n",
       "      <th>trx_bankid</th>\n",
       "      <th>trx_clearinnum</th>\n",
       "      <th>trx_country</th>\n",
       "      <th>trx_date</th>\n",
       "      <th>trx_type</th>\n",
       "    </tr>\n",
       "  </thead>\n",
       "  <tbody>\n",
       "    <tr>\n",
       "      <th>0</th>\n",
       "      <td>185</td>\n",
       "      <td>450</td>\n",
       "      <td>151.90202776566989</td>\n",
       "      <td>5909613</td>\n",
       "      <td>3635</td>\n",
       "      <td>RUSSIA</td>\n",
       "      <td>2005-12-18</td>\n",
       "      <td>SWISH</td>\n",
       "    </tr>\n",
       "    <tr>\n",
       "      <th>1</th>\n",
       "      <td>394</td>\n",
       "      <td>1</td>\n",
       "      <td>758.2610765692442</td>\n",
       "      <td>8164957</td>\n",
       "      <td>4740</td>\n",
       "      <td>ESTONIA</td>\n",
       "      <td>2015-07-06</td>\n",
       "      <td>INTERNATIONAL</td>\n",
       "    </tr>\n",
       "    <tr>\n",
       "      <th>2</th>\n",
       "      <td>377</td>\n",
       "      <td>300</td>\n",
       "      <td>641.9050367978414</td>\n",
       "      <td>9605219</td>\n",
       "      <td>7449</td>\n",
       "      <td>ROMANIA</td>\n",
       "      <td>2003-08-10</td>\n",
       "      <td>ATM</td>\n",
       "    </tr>\n",
       "    <tr>\n",
       "      <th>3</th>\n",
       "      <td>67</td>\n",
       "      <td>417</td>\n",
       "      <td>138.42001362149585</td>\n",
       "      <td>2678521</td>\n",
       "      <td>9198</td>\n",
       "      <td>LATVIA</td>\n",
       "      <td>1976-11-15</td>\n",
       "      <td>DOMESTIC</td>\n",
       "    </tr>\n",
       "    <tr>\n",
       "      <th>4</th>\n",
       "      <td>19</td>\n",
       "      <td>36</td>\n",
       "      <td>251.05080755264058</td>\n",
       "      <td>5091431</td>\n",
       "      <td>7973</td>\n",
       "      <td>SWEDEN</td>\n",
       "      <td>1994-04-14</td>\n",
       "      <td>SWISH</td>\n",
       "    </tr>\n",
       "  </tbody>\n",
       "</table>\n",
       "</div>"
      ],
      "text/plain": [
       "  cust_id_in cust_id_out          trx_amount trx_bankid trx_clearinnum  \\\n",
       "0        185         450  151.90202776566989    5909613           3635   \n",
       "1        394           1   758.2610765692442    8164957           4740   \n",
       "2        377         300   641.9050367978414    9605219           7449   \n",
       "3         67         417  138.42001362149585    2678521           9198   \n",
       "4         19          36  251.05080755264058    5091431           7973   \n",
       "\n",
       "  trx_country    trx_date       trx_type  \n",
       "0      RUSSIA  2005-12-18          SWISH  \n",
       "1     ESTONIA  2015-07-06  INTERNATIONAL  \n",
       "2     ROMANIA  2003-08-10            ATM  \n",
       "3      LATVIA  1976-11-15       DOMESTIC  \n",
       "4      SWEDEN  1994-04-14          SWISH  "
      ]
     },
     "execution_count": 439,
     "metadata": {},
     "output_type": "execute_result"
    }
   ],
   "source": [
    "dataset2.head()"
   ]
  },
  {
   "cell_type": "code",
   "execution_count": 440,
   "metadata": {},
   "outputs": [],
   "source": [
    "dataset2.to_csv(\"trx.csv\", sep=',', encoding='utf-8', index=False)"
   ]
  },
  {
   "cell_type": "code",
   "execution_count": 441,
   "metadata": {},
   "outputs": [],
   "source": [
    "reports_ids = list(range(100))"
   ]
  },
  {
   "cell_type": "code",
   "execution_count": 442,
   "metadata": {},
   "outputs": [],
   "source": [
    "report_cust_id = []\n",
    "for i in range(len(reports_ids)):\n",
    "    report_cust_id.append(random.choice(customer_ids))"
   ]
  },
  {
   "cell_type": "code",
   "execution_count": 443,
   "metadata": {},
   "outputs": [],
   "source": [
    "report_dates = []\n",
    "for i in range(len(reports_ids)):\n",
    "    report_dates.append(fake.date())"
   ]
  },
  {
   "cell_type": "code",
   "execution_count": 444,
   "metadata": {},
   "outputs": [],
   "source": [
    "report_description = []\n",
    "for i in range(len(reports_ids)):\n",
    "    report_description.append(\"blablablabla\")"
   ]
  },
  {
   "cell_type": "code",
   "execution_count": 445,
   "metadata": {},
   "outputs": [],
   "source": [
    "matrix3 = np.array([reports_ids, report_cust_id, report_dates, report_description])"
   ]
  },
  {
   "cell_type": "code",
   "execution_count": 446,
   "metadata": {},
   "outputs": [],
   "source": [
    "dataset3 = pd.DataFrame({\n",
    "        'report_id':matrix3[0,:],\n",
    "        'cust_id':matrix3[1,:],\n",
    "        'report_date':matrix3[2,:],\n",
    "        'description':matrix3[3,:]\n",
    "    })"
   ]
  },
  {
   "cell_type": "code",
   "execution_count": 447,
   "metadata": {},
   "outputs": [
    {
     "data": {
      "text/html": [
       "<div>\n",
       "<style scoped>\n",
       "    .dataframe tbody tr th:only-of-type {\n",
       "        vertical-align: middle;\n",
       "    }\n",
       "\n",
       "    .dataframe tbody tr th {\n",
       "        vertical-align: top;\n",
       "    }\n",
       "\n",
       "    .dataframe thead th {\n",
       "        text-align: right;\n",
       "    }\n",
       "</style>\n",
       "<table border=\"1\" class=\"dataframe\">\n",
       "  <thead>\n",
       "    <tr style=\"text-align: right;\">\n",
       "      <th></th>\n",
       "      <th>cust_id</th>\n",
       "      <th>description</th>\n",
       "      <th>report_date</th>\n",
       "      <th>report_id</th>\n",
       "    </tr>\n",
       "  </thead>\n",
       "  <tbody>\n",
       "    <tr>\n",
       "      <th>0</th>\n",
       "      <td>440</td>\n",
       "      <td>blablablabla</td>\n",
       "      <td>2006-10-18</td>\n",
       "      <td>0</td>\n",
       "    </tr>\n",
       "    <tr>\n",
       "      <th>1</th>\n",
       "      <td>42</td>\n",
       "      <td>blablablabla</td>\n",
       "      <td>1993-04-27</td>\n",
       "      <td>1</td>\n",
       "    </tr>\n",
       "    <tr>\n",
       "      <th>2</th>\n",
       "      <td>207</td>\n",
       "      <td>blablablabla</td>\n",
       "      <td>2001-03-16</td>\n",
       "      <td>2</td>\n",
       "    </tr>\n",
       "    <tr>\n",
       "      <th>3</th>\n",
       "      <td>405</td>\n",
       "      <td>blablablabla</td>\n",
       "      <td>2010-08-16</td>\n",
       "      <td>3</td>\n",
       "    </tr>\n",
       "    <tr>\n",
       "      <th>4</th>\n",
       "      <td>371</td>\n",
       "      <td>blablablabla</td>\n",
       "      <td>2011-07-24</td>\n",
       "      <td>4</td>\n",
       "    </tr>\n",
       "  </tbody>\n",
       "</table>\n",
       "</div>"
      ],
      "text/plain": [
       "  cust_id   description report_date report_id\n",
       "0     440  blablablabla  2006-10-18         0\n",
       "1      42  blablablabla  1993-04-27         1\n",
       "2     207  blablablabla  2001-03-16         2\n",
       "3     405  blablablabla  2010-08-16         3\n",
       "4     371  blablablabla  2011-07-24         4"
      ]
     },
     "execution_count": 447,
     "metadata": {},
     "output_type": "execute_result"
    }
   ],
   "source": [
    "dataset3.head()"
   ]
  },
  {
   "cell_type": "code",
   "execution_count": 448,
   "metadata": {},
   "outputs": [],
   "source": [
    "dataset3.to_csv(\"police_reports.csv\", sep=',', encoding='utf-8', index=False)"
   ]
  },
  {
   "cell_type": "code",
   "execution_count": 449,
   "metadata": {},
   "outputs": [],
   "source": [
    "web_ids = list(range(5000))"
   ]
  },
  {
   "cell_type": "code",
   "execution_count": 450,
   "metadata": {},
   "outputs": [],
   "source": [
    "web_cust_id = []\n",
    "for i in range(len(web_ids)):\n",
    "    web_cust_id.append(random.choice(customer_ids))"
   ]
  },
  {
   "cell_type": "code",
   "execution_count": 451,
   "metadata": {},
   "outputs": [],
   "source": [
    "web_seconds = []\n",
    "for i in range(len(web_ids)):\n",
    "    web_seconds.append(np.random.randint(15, 1000))"
   ]
  },
  {
   "cell_type": "code",
   "execution_count": 452,
   "metadata": {},
   "outputs": [],
   "source": [
    "ips = [fake.ipv4() for i in range(50)]\n",
    "#fake.ipv4()"
   ]
  },
  {
   "cell_type": "code",
   "execution_count": 453,
   "metadata": {},
   "outputs": [],
   "source": [
    "web_address = []\n",
    "for i in range(len(web_ids)):\n",
    "    web_address.append(random.choice(ips))"
   ]
  },
  {
   "cell_type": "code",
   "execution_count": 454,
   "metadata": {},
   "outputs": [],
   "source": [
    "web_actions_cat = [\"browse\", \"transactions\", \"update_profile\", \"request_loan\", \"create_account\"]"
   ]
  },
  {
   "cell_type": "code",
   "execution_count": 455,
   "metadata": {},
   "outputs": [],
   "source": [
    "web_actions = []\n",
    "for i in range(len(web_ids)):\n",
    "    web_actions.append(random.choice(web_actions_cat))"
   ]
  },
  {
   "cell_type": "code",
   "execution_count": 456,
   "metadata": {},
   "outputs": [],
   "source": [
    "matrix4 = np.array([web_ids, web_cust_id, web_seconds, web_address, web_actions])"
   ]
  },
  {
   "cell_type": "code",
   "execution_count": 457,
   "metadata": {},
   "outputs": [],
   "source": [
    "dataset4 = pd.DataFrame({\n",
    "        'web_id':matrix4[0,:],\n",
    "        'cust_id':matrix4[1,:],\n",
    "        'time_spent_seconds':matrix4[2,:],\n",
    "        'address':matrix4[3,:],\n",
    "        \"action\": matrix4[4,:]\n",
    "    })"
   ]
  },
  {
   "cell_type": "code",
   "execution_count": 458,
   "metadata": {},
   "outputs": [
    {
     "data": {
      "text/html": [
       "<div>\n",
       "<style scoped>\n",
       "    .dataframe tbody tr th:only-of-type {\n",
       "        vertical-align: middle;\n",
       "    }\n",
       "\n",
       "    .dataframe tbody tr th {\n",
       "        vertical-align: top;\n",
       "    }\n",
       "\n",
       "    .dataframe thead th {\n",
       "        text-align: right;\n",
       "    }\n",
       "</style>\n",
       "<table border=\"1\" class=\"dataframe\">\n",
       "  <thead>\n",
       "    <tr style=\"text-align: right;\">\n",
       "      <th></th>\n",
       "      <th>action</th>\n",
       "      <th>address</th>\n",
       "      <th>cust_id</th>\n",
       "      <th>time_spent_seconds</th>\n",
       "      <th>web_id</th>\n",
       "    </tr>\n",
       "  </thead>\n",
       "  <tbody>\n",
       "    <tr>\n",
       "      <th>0</th>\n",
       "      <td>browse</td>\n",
       "      <td>10.208.131.79</td>\n",
       "      <td>279</td>\n",
       "      <td>772</td>\n",
       "      <td>0</td>\n",
       "    </tr>\n",
       "    <tr>\n",
       "      <th>1</th>\n",
       "      <td>browse</td>\n",
       "      <td>192.170.227.152</td>\n",
       "      <td>150</td>\n",
       "      <td>500</td>\n",
       "      <td>1</td>\n",
       "    </tr>\n",
       "    <tr>\n",
       "      <th>2</th>\n",
       "      <td>update_profile</td>\n",
       "      <td>192.159.46.227</td>\n",
       "      <td>140</td>\n",
       "      <td>145</td>\n",
       "      <td>2</td>\n",
       "    </tr>\n",
       "    <tr>\n",
       "      <th>3</th>\n",
       "      <td>update_profile</td>\n",
       "      <td>198.243.53.201</td>\n",
       "      <td>491</td>\n",
       "      <td>886</td>\n",
       "      <td>3</td>\n",
       "    </tr>\n",
       "    <tr>\n",
       "      <th>4</th>\n",
       "      <td>transactions</td>\n",
       "      <td>10.208.131.79</td>\n",
       "      <td>307</td>\n",
       "      <td>899</td>\n",
       "      <td>4</td>\n",
       "    </tr>\n",
       "  </tbody>\n",
       "</table>\n",
       "</div>"
      ],
      "text/plain": [
       "           action          address cust_id time_spent_seconds web_id\n",
       "0          browse    10.208.131.79     279                772      0\n",
       "1          browse  192.170.227.152     150                500      1\n",
       "2  update_profile   192.159.46.227     140                145      2\n",
       "3  update_profile   198.243.53.201     491                886      3\n",
       "4    transactions    10.208.131.79     307                899      4"
      ]
     },
     "execution_count": 458,
     "metadata": {},
     "output_type": "execute_result"
    }
   ],
   "source": [
    "dataset4.head()"
   ]
  },
  {
   "cell_type": "code",
   "execution_count": 459,
   "metadata": {},
   "outputs": [],
   "source": [
    "dataset4.to_csv(\"web_logs.csv\", sep=',', encoding='utf-8', index=False)"
   ]
  },
  {
   "cell_type": "code",
   "execution_count": 460,
   "metadata": {},
   "outputs": [],
   "source": [
    "alert_ids = list(range(300))"
   ]
  },
  {
   "cell_type": "code",
   "execution_count": 461,
   "metadata": {},
   "outputs": [],
   "source": [
    "alert_trx_id = []\n",
    "for i in range(len(alert_ids)):\n",
    "    alert_trx_id.append(random.choice(transaction_ids))"
   ]
  },
  {
   "cell_type": "code",
   "execution_count": 462,
   "metadata": {},
   "outputs": [],
   "source": [
    "alert_date = []\n",
    "for i in range(len(alert_ids)):\n",
    "    alert_date.append(fake.date())"
   ]
  },
  {
   "cell_type": "code",
   "execution_count": 463,
   "metadata": {},
   "outputs": [],
   "source": [
    "alert_type_cat = [\"TERRORISM\", \"HIGH_INT_PAYMENT\", \"SMURFING\", \"REPEATED_SWISH\"]"
   ]
  },
  {
   "cell_type": "code",
   "execution_count": 464,
   "metadata": {},
   "outputs": [],
   "source": [
    "alert_types = []\n",
    "for i in range(len(alert_ids)):\n",
    "    alert_types.append(random.choice(alert_type_cat))"
   ]
  },
  {
   "cell_type": "code",
   "execution_count": 465,
   "metadata": {},
   "outputs": [],
   "source": [
    "alert_score = []\n",
    "for i in range(len(alert_ids)):\n",
    "    alert_score.append(abs(np.random.normal()))"
   ]
  },
  {
   "cell_type": "code",
   "execution_count": 466,
   "metadata": {},
   "outputs": [],
   "source": [
    "alert_rule_name_cat = [\"TOOK_OVER_4_LOANS_IN_ONE_DAY\", \"TOOK_LOANS_FROM_MORE_THAN_1_BANK_IN_ONE_DAY\", \"INT_PAYMENT_OVER_5K\", \"SMURFING_OVER_5_ACCOUNTS\", \"SMURFING_OVER_10_ACCOUNTS\", \"REPEATED_SWISH\", \"MANY_SWISH_ACCOUNTS\"]"
   ]
  },
  {
   "cell_type": "code",
   "execution_count": 467,
   "metadata": {},
   "outputs": [],
   "source": [
    "rule_names = []\n",
    "for i in range(len(alert_ids)):\n",
    "    rule_names.append(random.choice(alert_rule_name_cat))"
   ]
  },
  {
   "cell_type": "code",
   "execution_count": 468,
   "metadata": {},
   "outputs": [],
   "source": [
    "alert_description = []\n",
    "for i in range(len(alert_ids)):\n",
    "    alert_description.append(\"blablablablablabla\")"
   ]
  },
  {
   "cell_type": "code",
   "execution_count": 469,
   "metadata": {},
   "outputs": [],
   "source": [
    "matrix5 = np.array([alert_ids, alert_trx_id, alert_date, alert_types, alert_score, rule_names, alert_description])"
   ]
  },
  {
   "cell_type": "code",
   "execution_count": 470,
   "metadata": {},
   "outputs": [],
   "source": [
    "dataset5 = pd.DataFrame({\n",
    "        'alert_id':matrix5[0,:],\n",
    "        'trx_id':matrix5[1,:],\n",
    "        'alert_date':matrix5[2,:],\n",
    "        'alert_type':matrix5[3,:],\n",
    "        \"alert_score\": matrix5[4,:],\n",
    "        \"rule_name\": matrix5[5,:],\n",
    "        \"alert_desc\": matrix5[6,:],  \n",
    "    })"
   ]
  },
  {
   "cell_type": "code",
   "execution_count": 471,
   "metadata": {},
   "outputs": [
    {
     "data": {
      "text/html": [
       "<div>\n",
       "<style scoped>\n",
       "    .dataframe tbody tr th:only-of-type {\n",
       "        vertical-align: middle;\n",
       "    }\n",
       "\n",
       "    .dataframe tbody tr th {\n",
       "        vertical-align: top;\n",
       "    }\n",
       "\n",
       "    .dataframe thead th {\n",
       "        text-align: right;\n",
       "    }\n",
       "</style>\n",
       "<table border=\"1\" class=\"dataframe\">\n",
       "  <thead>\n",
       "    <tr style=\"text-align: right;\">\n",
       "      <th></th>\n",
       "      <th>alert_date</th>\n",
       "      <th>alert_desc</th>\n",
       "      <th>alert_id</th>\n",
       "      <th>alert_score</th>\n",
       "      <th>alert_type</th>\n",
       "      <th>rule_name</th>\n",
       "      <th>trx_id</th>\n",
       "    </tr>\n",
       "  </thead>\n",
       "  <tbody>\n",
       "    <tr>\n",
       "      <th>0</th>\n",
       "      <td>1989-08-05</td>\n",
       "      <td>blablablablablabla</td>\n",
       "      <td>0</td>\n",
       "      <td>0.36532333120607113</td>\n",
       "      <td>REPEATED_SWISH</td>\n",
       "      <td>SMURFING_OVER_10_ACCOUNTS</td>\n",
       "      <td>1125</td>\n",
       "    </tr>\n",
       "    <tr>\n",
       "      <th>1</th>\n",
       "      <td>1975-07-16</td>\n",
       "      <td>blablablablablabla</td>\n",
       "      <td>1</td>\n",
       "      <td>1.2380753312749344</td>\n",
       "      <td>TERRORISM</td>\n",
       "      <td>SMURFING_OVER_10_ACCOUNTS</td>\n",
       "      <td>2777</td>\n",
       "    </tr>\n",
       "    <tr>\n",
       "      <th>2</th>\n",
       "      <td>1983-12-18</td>\n",
       "      <td>blablablablablabla</td>\n",
       "      <td>2</td>\n",
       "      <td>1.6973307463119836</td>\n",
       "      <td>SMURFING</td>\n",
       "      <td>MANY_SWISH_ACCOUNTS</td>\n",
       "      <td>303</td>\n",
       "    </tr>\n",
       "    <tr>\n",
       "      <th>3</th>\n",
       "      <td>1996-01-02</td>\n",
       "      <td>blablablablablabla</td>\n",
       "      <td>3</td>\n",
       "      <td>2.012654805760939</td>\n",
       "      <td>REPEATED_SWISH</td>\n",
       "      <td>TOOK_OVER_4_LOANS_IN_ONE_DAY</td>\n",
       "      <td>211</td>\n",
       "    </tr>\n",
       "    <tr>\n",
       "      <th>4</th>\n",
       "      <td>1989-05-05</td>\n",
       "      <td>blablablablablabla</td>\n",
       "      <td>4</td>\n",
       "      <td>0.04267300582768137</td>\n",
       "      <td>REPEATED_SWISH</td>\n",
       "      <td>TOOK_LOANS_FROM_MORE_THAN_1_BANK_IN_ONE_DAY</td>\n",
       "      <td>2909</td>\n",
       "    </tr>\n",
       "  </tbody>\n",
       "</table>\n",
       "</div>"
      ],
      "text/plain": [
       "   alert_date          alert_desc alert_id          alert_score  \\\n",
       "0  1989-08-05  blablablablablabla        0  0.36532333120607113   \n",
       "1  1975-07-16  blablablablablabla        1   1.2380753312749344   \n",
       "2  1983-12-18  blablablablablabla        2   1.6973307463119836   \n",
       "3  1996-01-02  blablablablablabla        3    2.012654805760939   \n",
       "4  1989-05-05  blablablablablabla        4  0.04267300582768137   \n",
       "\n",
       "       alert_type                                    rule_name trx_id  \n",
       "0  REPEATED_SWISH                    SMURFING_OVER_10_ACCOUNTS   1125  \n",
       "1       TERRORISM                    SMURFING_OVER_10_ACCOUNTS   2777  \n",
       "2        SMURFING                          MANY_SWISH_ACCOUNTS    303  \n",
       "3  REPEATED_SWISH                 TOOK_OVER_4_LOANS_IN_ONE_DAY    211  \n",
       "4  REPEATED_SWISH  TOOK_LOANS_FROM_MORE_THAN_1_BANK_IN_ONE_DAY   2909  "
      ]
     },
     "execution_count": 471,
     "metadata": {},
     "output_type": "execute_result"
    }
   ],
   "source": [
    "dataset5.head()"
   ]
  },
  {
   "cell_type": "code",
   "execution_count": 472,
   "metadata": {},
   "outputs": [],
   "source": [
    "dataset5.to_csv(\"alerts.csv\", sep=',', encoding='utf-8', index=False)"
   ]
  },
  {
   "cell_type": "code",
   "execution_count": 473,
   "metadata": {},
   "outputs": [],
   "source": [
    "corporate_ids = list(range(100))"
   ]
  },
  {
   "cell_type": "code",
   "execution_count": 474,
   "metadata": {},
   "outputs": [],
   "source": [
    "indudstry_sector_cat = [\"AGRICULTURE\", \"IT\", \"CONSTRUCTION\", \"ENERGY\", \"AEROSPACE\", \"ENTERTAINMENT\"]"
   ]
  },
  {
   "cell_type": "code",
   "execution_count": 475,
   "metadata": {},
   "outputs": [],
   "source": [
    "industry_sectors = []\n",
    "for i in range(len(corporate_ids)):\n",
    "    industry_sectors.append(random.choice(indudstry_sector_cat))"
   ]
  },
  {
   "cell_type": "code",
   "execution_count": 476,
   "metadata": {},
   "outputs": [],
   "source": [
    "externa_kostnader = []\n",
    "for i in range(len(corporate_ids)):\n",
    "    externa_kostnader.append(abs(np.random.normal()*10000))"
   ]
  },
  {
   "cell_type": "code",
   "execution_count": 477,
   "metadata": {},
   "outputs": [],
   "source": [
    "rente_kostnader = []\n",
    "for i in range(len(corporate_ids)):\n",
    "    rente_kostnader.append(abs(np.random.normal()*1000))"
   ]
  },
  {
   "cell_type": "code",
   "execution_count": 478,
   "metadata": {},
   "outputs": [],
   "source": [
    "netomsettning = []\n",
    "for i in range(len(corporate_ids)):\n",
    "    netomsettning.append(abs(np.random.normal()*100000))"
   ]
  },
  {
   "cell_type": "code",
   "execution_count": 479,
   "metadata": {},
   "outputs": [],
   "source": [
    "netomsettning_3year = []\n",
    "for i in range(len(corporate_ids)):\n",
    "    netomsettning_3year.append(abs(np.random.normal()*10000))"
   ]
  },
  {
   "cell_type": "code",
   "execution_count": 480,
   "metadata": {},
   "outputs": [],
   "source": [
    "netomsettning_2year = []\n",
    "for i in range(len(corporate_ids)):\n",
    "    netomsettning_2year.append(abs(np.random.normal()*1000))"
   ]
  },
  {
   "cell_type": "code",
   "execution_count": 481,
   "metadata": {},
   "outputs": [],
   "source": [
    "netomsettning_1year = []\n",
    "for i in range(len(corporate_ids)):\n",
    "    netomsettning_1year.append(abs(np.random.normal()*100))"
   ]
  },
  {
   "cell_type": "code",
   "execution_count": 482,
   "metadata": {},
   "outputs": [],
   "source": [
    "matrix6 = np.array([corporate_ids, industry_sectors, externa_kostnader, netomsettning, netomsettning_3year, netomsettning_2year, netomsettning_1year])"
   ]
  },
  {
   "cell_type": "code",
   "execution_count": 483,
   "metadata": {},
   "outputs": [],
   "source": [
    "dataset6 = pd.DataFrame({\n",
    "        'corporate_id':matrix6[0,:],\n",
    "        'industry_sector':matrix6[1,:],\n",
    "        'externa_kostnader':matrix6[2,:],\n",
    "        'netomsettning':matrix6[3,:],\n",
    "        \"netomsettning_3year\": matrix6[4,:],\n",
    "        \"netomsettning_2year\": matrix6[5,:],\n",
    "        \"netomsettning_1year\": matrix6[6,:],  \n",
    "    })"
   ]
  },
  {
   "cell_type": "code",
   "execution_count": 484,
   "metadata": {},
   "outputs": [
    {
     "data": {
      "text/html": [
       "<div>\n",
       "<style scoped>\n",
       "    .dataframe tbody tr th:only-of-type {\n",
       "        vertical-align: middle;\n",
       "    }\n",
       "\n",
       "    .dataframe tbody tr th {\n",
       "        vertical-align: top;\n",
       "    }\n",
       "\n",
       "    .dataframe thead th {\n",
       "        text-align: right;\n",
       "    }\n",
       "</style>\n",
       "<table border=\"1\" class=\"dataframe\">\n",
       "  <thead>\n",
       "    <tr style=\"text-align: right;\">\n",
       "      <th></th>\n",
       "      <th>corporate_id</th>\n",
       "      <th>externa_kostnader</th>\n",
       "      <th>industry_sector</th>\n",
       "      <th>netomsettning</th>\n",
       "      <th>netomsettning_1year</th>\n",
       "      <th>netomsettning_2year</th>\n",
       "      <th>netomsettning_3year</th>\n",
       "    </tr>\n",
       "  </thead>\n",
       "  <tbody>\n",
       "    <tr>\n",
       "      <th>0</th>\n",
       "      <td>0</td>\n",
       "      <td>8984.812470216919</td>\n",
       "      <td>AGRICULTURE</td>\n",
       "      <td>376.6270719531958</td>\n",
       "      <td>7.658985465549133</td>\n",
       "      <td>1051.5445156911144</td>\n",
       "      <td>5737.001849731348</td>\n",
       "    </tr>\n",
       "    <tr>\n",
       "      <th>1</th>\n",
       "      <td>1</td>\n",
       "      <td>1728.2574812642915</td>\n",
       "      <td>CONSTRUCTION</td>\n",
       "      <td>97997.94199212627</td>\n",
       "      <td>71.8541223061984</td>\n",
       "      <td>872.9344074477484</td>\n",
       "      <td>3321.46161890502</td>\n",
       "    </tr>\n",
       "    <tr>\n",
       "      <th>2</th>\n",
       "      <td>2</td>\n",
       "      <td>6321.91016936913</td>\n",
       "      <td>AEROSPACE</td>\n",
       "      <td>58006.93502988875</td>\n",
       "      <td>60.88998219752184</td>\n",
       "      <td>346.87019011433733</td>\n",
       "      <td>15967.146762183433</td>\n",
       "    </tr>\n",
       "    <tr>\n",
       "      <th>3</th>\n",
       "      <td>3</td>\n",
       "      <td>15607.60408688306</td>\n",
       "      <td>AEROSPACE</td>\n",
       "      <td>145510.14811566827</td>\n",
       "      <td>255.95948058250997</td>\n",
       "      <td>719.9988146716439</td>\n",
       "      <td>17819.46581147422</td>\n",
       "    </tr>\n",
       "    <tr>\n",
       "      <th>4</th>\n",
       "      <td>4</td>\n",
       "      <td>18291.264600343216</td>\n",
       "      <td>AGRICULTURE</td>\n",
       "      <td>33542.7847862885</td>\n",
       "      <td>29.381549478785008</td>\n",
       "      <td>701.8299792843386</td>\n",
       "      <td>1911.5965792824215</td>\n",
       "    </tr>\n",
       "  </tbody>\n",
       "</table>\n",
       "</div>"
      ],
      "text/plain": [
       "  corporate_id   externa_kostnader industry_sector       netomsettning  \\\n",
       "0            0   8984.812470216919     AGRICULTURE   376.6270719531958   \n",
       "1            1  1728.2574812642915    CONSTRUCTION   97997.94199212627   \n",
       "2            2    6321.91016936913       AEROSPACE   58006.93502988875   \n",
       "3            3   15607.60408688306       AEROSPACE  145510.14811566827   \n",
       "4            4  18291.264600343216     AGRICULTURE    33542.7847862885   \n",
       "\n",
       "  netomsettning_1year netomsettning_2year netomsettning_3year  \n",
       "0   7.658985465549133  1051.5445156911144   5737.001849731348  \n",
       "1    71.8541223061984   872.9344074477484    3321.46161890502  \n",
       "2   60.88998219752184  346.87019011433733  15967.146762183433  \n",
       "3  255.95948058250997   719.9988146716439   17819.46581147422  \n",
       "4  29.381549478785008   701.8299792843386  1911.5965792824215  "
      ]
     },
     "execution_count": 484,
     "metadata": {},
     "output_type": "execute_result"
    }
   ],
   "source": [
    "dataset6.head()"
   ]
  },
  {
   "cell_type": "code",
   "execution_count": 485,
   "metadata": {},
   "outputs": [],
   "source": [
    "dataset6.to_csv(\"hipo.csv\", sep=',', encoding='utf-8', index=False)"
   ]
  },
  {
   "cell_type": "code",
   "execution_count": null,
   "metadata": {},
   "outputs": [],
   "source": []
  }
 ],
 "metadata": {
  "kernelspec": {
   "display_name": "Python 3",
   "language": "python",
   "name": "python3"
  },
  "language_info": {
   "codemirror_mode": {
    "name": "ipython",
    "version": 3
   },
   "file_extension": ".py",
   "mimetype": "text/x-python",
   "name": "python",
   "nbconvert_exporter": "python",
   "pygments_lexer": "ipython3",
   "version": "3.5.6"
  }
 },
 "nbformat": 4,
 "nbformat_minor": 2
}
