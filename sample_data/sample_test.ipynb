{
 "cells": [
  {
   "cell_type": "code",
   "execution_count": 185,
   "metadata": {},
   "outputs": [],
   "source": [
    "customer_ids = list(range(0,500))"
   ]
  },
  {
   "cell_type": "code",
   "execution_count": 186,
   "metadata": {},
   "outputs": [],
   "source": [
    "transaction_ids = list(range(5000))"
   ]
  },
  {
   "cell_type": "code",
   "execution_count": 187,
   "metadata": {},
   "outputs": [],
   "source": [
    "from faker import Faker"
   ]
  },
  {
   "cell_type": "code",
   "execution_count": 188,
   "metadata": {},
   "outputs": [],
   "source": [
    "fake = Faker()"
   ]
  },
  {
   "cell_type": "code",
   "execution_count": 189,
   "metadata": {},
   "outputs": [
    {
     "data": {
      "text/plain": [
       "'Valerie Williams'"
      ]
     },
     "execution_count": 189,
     "metadata": {},
     "output_type": "execute_result"
    }
   ],
   "source": [
    "fake.name()"
   ]
  },
  {
   "cell_type": "code",
   "execution_count": 190,
   "metadata": {},
   "outputs": [],
   "source": [
    "customer_names = []\n",
    "for i in range(len(customer_ids)):\n",
    "    customer_names.append(fake.name())"
   ]
  },
  {
   "cell_type": "code",
   "execution_count": 191,
   "metadata": {},
   "outputs": [],
   "source": [
    "join_dates = []\n",
    "for i in range(len(customer_ids)):\n",
    "    join_dates.append(fake.date())"
   ]
  },
  {
   "cell_type": "code",
   "execution_count": 192,
   "metadata": {},
   "outputs": [],
   "source": [
    "customer_types_cat = [\"corporate\", \"private\"]"
   ]
  },
  {
   "cell_type": "code",
   "execution_count": 193,
   "metadata": {},
   "outputs": [],
   "source": [
    "import random\n",
    "customer_types = []\n",
    "for i in range(len(customer_ids)):\n",
    "    customer_types.append(random.choice(customer_types_cat))"
   ]
  },
  {
   "cell_type": "code",
   "execution_count": 194,
   "metadata": {},
   "outputs": [],
   "source": [
    "import numpy as np\n",
    "customer_balance = []\n",
    "for i in range(len(customer_ids)):\n",
    "    customer_balance.append(abs(np.random.normal()*10000))"
   ]
  },
  {
   "cell_type": "code",
   "execution_count": 195,
   "metadata": {},
   "outputs": [],
   "source": [
    "customer_birthdate = []\n",
    "for i in range(len(customer_ids)):\n",
    "    customer_birthdate.append(fake.date())"
   ]
  },
  {
   "cell_type": "code",
   "execution_count": 196,
   "metadata": {},
   "outputs": [],
   "source": [
    "gender_types_cat = [\"male\", \"female\"]"
   ]
  },
  {
   "cell_type": "code",
   "execution_count": 197,
   "metadata": {},
   "outputs": [],
   "source": [
    "customer_gender = []\n",
    "for i in range(len(customer_ids)):\n",
    "    customer_gender.append(random.choice(gender_types_cat))"
   ]
  },
  {
   "cell_type": "code",
   "execution_count": 198,
   "metadata": {},
   "outputs": [],
   "source": [
    "pep_types_cat = [True, False]"
   ]
  },
  {
   "cell_type": "code",
   "execution_count": 199,
   "metadata": {},
   "outputs": [],
   "source": [
    "customer_pep = []\n",
    "for i in range(len(customer_ids)):\n",
    "    customer_pep.append(random.choice(pep_types_cat))"
   ]
  },
  {
   "cell_type": "code",
   "execution_count": 200,
   "metadata": {},
   "outputs": [],
   "source": [
    "number_of_accounts = []\n",
    "for i in range(len(customer_ids)):\n",
    "    number_of_accounts.append(np.random.randint(1, 15))"
   ]
  },
  {
   "cell_type": "code",
   "execution_count": 201,
   "metadata": {},
   "outputs": [],
   "source": [
    "matrix = np.array([customer_names, join_dates, customer_types, customer_balance, customer_birthdate, customer_gender, customer_pep, number_of_accounts])"
   ]
  },
  {
   "cell_type": "code",
   "execution_count": 202,
   "metadata": {},
   "outputs": [
    {
     "data": {
      "text/plain": [
       "(8, 500)"
      ]
     },
     "execution_count": 202,
     "metadata": {},
     "output_type": "execute_result"
    }
   ],
   "source": [
    "matrix.shape"
   ]
  },
  {
   "cell_type": "code",
   "execution_count": 203,
   "metadata": {},
   "outputs": [
    {
     "name": "stdout",
     "output_type": "stream",
     "text": [
      "500\n",
      "500\n",
      "500\n",
      "500\n",
      "500\n",
      "500\n",
      "500\n",
      "500\n"
     ]
    }
   ],
   "source": [
    "for i in range(8):\n",
    "    print(len(matrix[i]))"
   ]
  },
  {
   "cell_type": "code",
   "execution_count": 204,
   "metadata": {},
   "outputs": [],
   "source": [
    "#matrix[0,:]"
   ]
  },
  {
   "cell_type": "code",
   "execution_count": 205,
   "metadata": {},
   "outputs": [],
   "source": [
    "import pandas as pd\n",
    "dataset = pd.DataFrame({\n",
    "        'name':matrix[0,:],\n",
    "        'join_date':matrix[1,:],\n",
    "        'customer_type':matrix[2,:],\n",
    "        'balance':matrix[3,:],\n",
    "        \"birthdate\": matrix[4,:],\n",
    "        \"gender\": matrix[5,:],\n",
    "        \"pep\": matrix[6,:],\n",
    "        \"number_of_accounts\": matrix[7,:]\n",
    "    })"
   ]
  },
  {
   "cell_type": "code",
   "execution_count": 206,
   "metadata": {},
   "outputs": [
    {
     "data": {
      "text/html": [
       "<div>\n",
       "<style scoped>\n",
       "    .dataframe tbody tr th:only-of-type {\n",
       "        vertical-align: middle;\n",
       "    }\n",
       "\n",
       "    .dataframe tbody tr th {\n",
       "        vertical-align: top;\n",
       "    }\n",
       "\n",
       "    .dataframe thead th {\n",
       "        text-align: right;\n",
       "    }\n",
       "</style>\n",
       "<table border=\"1\" class=\"dataframe\">\n",
       "  <thead>\n",
       "    <tr style=\"text-align: right;\">\n",
       "      <th></th>\n",
       "      <th>balance</th>\n",
       "      <th>birthdate</th>\n",
       "      <th>customer_type</th>\n",
       "      <th>gender</th>\n",
       "      <th>join_date</th>\n",
       "      <th>name</th>\n",
       "      <th>number_of_accounts</th>\n",
       "      <th>pep</th>\n",
       "    </tr>\n",
       "  </thead>\n",
       "  <tbody>\n",
       "    <tr>\n",
       "      <th>0</th>\n",
       "      <td>3115.0545128937197</td>\n",
       "      <td>2000-10-06</td>\n",
       "      <td>private</td>\n",
       "      <td>male</td>\n",
       "      <td>1997-04-22</td>\n",
       "      <td>Cassidy Stanton</td>\n",
       "      <td>4</td>\n",
       "      <td>False</td>\n",
       "    </tr>\n",
       "    <tr>\n",
       "      <th>1</th>\n",
       "      <td>924.2432885105786</td>\n",
       "      <td>2001-09-14</td>\n",
       "      <td>corporate</td>\n",
       "      <td>male</td>\n",
       "      <td>2017-07-18</td>\n",
       "      <td>Jennifer Morris</td>\n",
       "      <td>4</td>\n",
       "      <td>False</td>\n",
       "    </tr>\n",
       "    <tr>\n",
       "      <th>2</th>\n",
       "      <td>3315.8305904074336</td>\n",
       "      <td>2012-12-16</td>\n",
       "      <td>corporate</td>\n",
       "      <td>male</td>\n",
       "      <td>1998-12-13</td>\n",
       "      <td>Steven Anderson</td>\n",
       "      <td>8</td>\n",
       "      <td>False</td>\n",
       "    </tr>\n",
       "    <tr>\n",
       "      <th>3</th>\n",
       "      <td>2157.433626673071</td>\n",
       "      <td>2006-05-20</td>\n",
       "      <td>private</td>\n",
       "      <td>male</td>\n",
       "      <td>2010-11-14</td>\n",
       "      <td>William Barajas</td>\n",
       "      <td>10</td>\n",
       "      <td>True</td>\n",
       "    </tr>\n",
       "    <tr>\n",
       "      <th>4</th>\n",
       "      <td>7277.6426620343245</td>\n",
       "      <td>1993-04-27</td>\n",
       "      <td>corporate</td>\n",
       "      <td>male</td>\n",
       "      <td>1974-11-08</td>\n",
       "      <td>Brittany Martin</td>\n",
       "      <td>6</td>\n",
       "      <td>True</td>\n",
       "    </tr>\n",
       "  </tbody>\n",
       "</table>\n",
       "</div>"
      ],
      "text/plain": [
       "              balance   birthdate customer_type gender   join_date  \\\n",
       "0  3115.0545128937197  2000-10-06       private   male  1997-04-22   \n",
       "1   924.2432885105786  2001-09-14     corporate   male  2017-07-18   \n",
       "2  3315.8305904074336  2012-12-16     corporate   male  1998-12-13   \n",
       "3   2157.433626673071  2006-05-20       private   male  2010-11-14   \n",
       "4  7277.6426620343245  1993-04-27     corporate   male  1974-11-08   \n",
       "\n",
       "              name number_of_accounts    pep  \n",
       "0  Cassidy Stanton                  4  False  \n",
       "1  Jennifer Morris                  4  False  \n",
       "2  Steven Anderson                  8  False  \n",
       "3  William Barajas                 10   True  \n",
       "4  Brittany Martin                  6   True  "
      ]
     },
     "execution_count": 206,
     "metadata": {},
     "output_type": "execute_result"
    }
   ],
   "source": [
    "dataset.head()"
   ]
  },
  {
   "cell_type": "code",
   "execution_count": 207,
   "metadata": {},
   "outputs": [],
   "source": [
    "dataset.to_csv(\"kyc.csv\", sep=',', encoding='utf-8',index=False)"
   ]
  },
  {
   "cell_type": "code",
   "execution_count": null,
   "metadata": {},
   "outputs": [],
   "source": []
  },
  {
   "cell_type": "code",
   "execution_count": 208,
   "metadata": {},
   "outputs": [],
   "source": [
    "trx_in_cust_id = []\n",
    "for i in range(len(transaction_ids)):\n",
    "    trx_in_cust_id.append(random.choice(customer_ids))"
   ]
  },
  {
   "cell_type": "code",
   "execution_count": 209,
   "metadata": {},
   "outputs": [],
   "source": [
    "trx_dates = []\n",
    "for i in range(len(transaction_ids)):\n",
    "    trx_dates.append(fake.date())"
   ]
  },
  {
   "cell_type": "code",
   "execution_count": 210,
   "metadata": {},
   "outputs": [],
   "source": [
    "trx_type_cat = [\"ATM\", \"INTERNATIONAL\", \"DOMESTIC\", \"SWISH\"]\n",
    "trx_types = []\n",
    "for i in range(len(transaction_ids)):\n",
    "    trx_types.append(random.choice(trx_type_cat))"
   ]
  },
  {
   "cell_type": "code",
   "execution_count": 211,
   "metadata": {},
   "outputs": [],
   "source": [
    "trx_amount = []\n",
    "for i in range(len(transaction_ids)):\n",
    "    trx_amount.append(abs(np.random.normal()*1000))"
   ]
  },
  {
   "cell_type": "code",
   "execution_count": 212,
   "metadata": {},
   "outputs": [],
   "source": [
    "trx_bankid = []\n",
    "for i in range(len(transaction_ids)):\n",
    "    trx_bankid.append(np.random.randint(1, 10000000))"
   ]
  },
  {
   "cell_type": "code",
   "execution_count": 213,
   "metadata": {},
   "outputs": [],
   "source": [
    "trx_out_cust_id = []\n",
    "for i in range(len(transaction_ids)):\n",
    "    counter = trx_in_cust_id[i]\n",
    "    while counter == trx_in_cust_id[i]:\n",
    "        counter = random.choice(customer_ids)\n",
    "    trx_out_cust_id.append(counter)"
   ]
  },
  {
   "cell_type": "code",
   "execution_count": 214,
   "metadata": {},
   "outputs": [],
   "source": [
    "trx_clearingnum = []\n",
    "for i in range(len(transaction_ids)):\n",
    "    trx_clearingnum.append(np.random.randint(1000, 9999))"
   ]
  },
  {
   "cell_type": "code",
   "execution_count": 215,
   "metadata": {},
   "outputs": [],
   "source": [
    "trx_countries = []\n",
    "for i in range(len(transaction_ids)):\n",
    "    trx_countries.append(fake.bank_country())"
   ]
  },
  {
   "cell_type": "code",
   "execution_count": 216,
   "metadata": {},
   "outputs": [],
   "source": [
    "matrix2 = np.array([trx_in_cust_id, trx_dates, trx_types, trx_amount, trx_bankid, trx_out_cust_id, trx_clearingnum, trx_countries])"
   ]
  },
  {
   "cell_type": "code",
   "execution_count": 217,
   "metadata": {},
   "outputs": [],
   "source": [
    "import pandas as pd\n",
    "dataset2 = pd.DataFrame({\n",
    "        'cust_id_in':matrix2[0,:],\n",
    "        'trx_date':matrix2[1,:],\n",
    "        'trx_amount':matrix2[2,:],\n",
    "        'trx_bankid':matrix2[3,:],\n",
    "        \"cust_id_out\": matrix2[4,:],\n",
    "        \"trx_clearinnum\": matrix2[5,:],\n",
    "        \"trx_country\": matrix2[6,:]\n",
    "    })"
   ]
  },
  {
   "cell_type": "code",
   "execution_count": 218,
   "metadata": {},
   "outputs": [
    {
     "data": {
      "text/html": [
       "<div>\n",
       "<style scoped>\n",
       "    .dataframe tbody tr th:only-of-type {\n",
       "        vertical-align: middle;\n",
       "    }\n",
       "\n",
       "    .dataframe tbody tr th {\n",
       "        vertical-align: top;\n",
       "    }\n",
       "\n",
       "    .dataframe thead th {\n",
       "        text-align: right;\n",
       "    }\n",
       "</style>\n",
       "<table border=\"1\" class=\"dataframe\">\n",
       "  <thead>\n",
       "    <tr style=\"text-align: right;\">\n",
       "      <th></th>\n",
       "      <th>cust_id_in</th>\n",
       "      <th>cust_id_out</th>\n",
       "      <th>trx_amount</th>\n",
       "      <th>trx_bankid</th>\n",
       "      <th>trx_clearinnum</th>\n",
       "      <th>trx_country</th>\n",
       "      <th>trx_date</th>\n",
       "    </tr>\n",
       "  </thead>\n",
       "  <tbody>\n",
       "    <tr>\n",
       "      <th>0</th>\n",
       "      <td>427</td>\n",
       "      <td>7332998</td>\n",
       "      <td>SWISH</td>\n",
       "      <td>1994.4532910946255</td>\n",
       "      <td>355</td>\n",
       "      <td>5285</td>\n",
       "      <td>2013-12-11</td>\n",
       "    </tr>\n",
       "    <tr>\n",
       "      <th>1</th>\n",
       "      <td>273</td>\n",
       "      <td>2647435</td>\n",
       "      <td>ATM</td>\n",
       "      <td>1547.3871808040797</td>\n",
       "      <td>312</td>\n",
       "      <td>6621</td>\n",
       "      <td>1983-05-09</td>\n",
       "    </tr>\n",
       "    <tr>\n",
       "      <th>2</th>\n",
       "      <td>235</td>\n",
       "      <td>5437112</td>\n",
       "      <td>ATM</td>\n",
       "      <td>947.8322011794437</td>\n",
       "      <td>290</td>\n",
       "      <td>1424</td>\n",
       "      <td>1988-02-14</td>\n",
       "    </tr>\n",
       "    <tr>\n",
       "      <th>3</th>\n",
       "      <td>171</td>\n",
       "      <td>9966726</td>\n",
       "      <td>INTERNATIONAL</td>\n",
       "      <td>921.6919021244516</td>\n",
       "      <td>480</td>\n",
       "      <td>6000</td>\n",
       "      <td>2010-05-18</td>\n",
       "    </tr>\n",
       "    <tr>\n",
       "      <th>4</th>\n",
       "      <td>269</td>\n",
       "      <td>5092368</td>\n",
       "      <td>ATM</td>\n",
       "      <td>362.52243192238035</td>\n",
       "      <td>246</td>\n",
       "      <td>9545</td>\n",
       "      <td>2009-06-01</td>\n",
       "    </tr>\n",
       "  </tbody>\n",
       "</table>\n",
       "</div>"
      ],
      "text/plain": [
       "  cust_id_in cust_id_out     trx_amount          trx_bankid trx_clearinnum  \\\n",
       "0        427     7332998          SWISH  1994.4532910946255            355   \n",
       "1        273     2647435            ATM  1547.3871808040797            312   \n",
       "2        235     5437112            ATM   947.8322011794437            290   \n",
       "3        171     9966726  INTERNATIONAL   921.6919021244516            480   \n",
       "4        269     5092368            ATM  362.52243192238035            246   \n",
       "\n",
       "  trx_country    trx_date  \n",
       "0        5285  2013-12-11  \n",
       "1        6621  1983-05-09  \n",
       "2        1424  1988-02-14  \n",
       "3        6000  2010-05-18  \n",
       "4        9545  2009-06-01  "
      ]
     },
     "execution_count": 218,
     "metadata": {},
     "output_type": "execute_result"
    }
   ],
   "source": [
    "dataset2.head()"
   ]
  },
  {
   "cell_type": "code",
   "execution_count": 219,
   "metadata": {},
   "outputs": [],
   "source": [
    "dataset2.to_csv(\"trx.csv\", sep=',', encoding='utf-8', index=False)"
   ]
  },
  {
   "cell_type": "code",
   "execution_count": 220,
   "metadata": {},
   "outputs": [],
   "source": [
    "reports_ids = list(range(100))"
   ]
  },
  {
   "cell_type": "code",
   "execution_count": 221,
   "metadata": {},
   "outputs": [],
   "source": [
    "report_cust_id = []\n",
    "for i in range(len(reports_ids)):\n",
    "    report_cust_id.append(random.choice(customer_ids))"
   ]
  },
  {
   "cell_type": "code",
   "execution_count": 222,
   "metadata": {},
   "outputs": [],
   "source": [
    "report_dates = []\n",
    "for i in range(len(reports_ids)):\n",
    "    report_dates.append(fake.date())"
   ]
  },
  {
   "cell_type": "code",
   "execution_count": 223,
   "metadata": {},
   "outputs": [],
   "source": [
    "report_description = []\n",
    "for i in range(len(reports_ids)):\n",
    "    report_description.append(fake.text())"
   ]
  },
  {
   "cell_type": "code",
   "execution_count": 224,
   "metadata": {},
   "outputs": [],
   "source": [
    "matrix3 = np.array([reports_ids, report_cust_id, report_dates, report_description])"
   ]
  },
  {
   "cell_type": "code",
   "execution_count": 225,
   "metadata": {},
   "outputs": [],
   "source": [
    "dataset3 = pd.DataFrame({\n",
    "        'report_id':matrix3[0,:],\n",
    "        'cust_id':matrix3[1,:],\n",
    "        'report_date':matrix3[2,:],\n",
    "        'description':matrix3[3,:]\n",
    "    })"
   ]
  },
  {
   "cell_type": "code",
   "execution_count": 226,
   "metadata": {},
   "outputs": [
    {
     "data": {
      "text/html": [
       "<div>\n",
       "<style scoped>\n",
       "    .dataframe tbody tr th:only-of-type {\n",
       "        vertical-align: middle;\n",
       "    }\n",
       "\n",
       "    .dataframe tbody tr th {\n",
       "        vertical-align: top;\n",
       "    }\n",
       "\n",
       "    .dataframe thead th {\n",
       "        text-align: right;\n",
       "    }\n",
       "</style>\n",
       "<table border=\"1\" class=\"dataframe\">\n",
       "  <thead>\n",
       "    <tr style=\"text-align: right;\">\n",
       "      <th></th>\n",
       "      <th>cust_id</th>\n",
       "      <th>description</th>\n",
       "      <th>report_date</th>\n",
       "      <th>report_id</th>\n",
       "    </tr>\n",
       "  </thead>\n",
       "  <tbody>\n",
       "    <tr>\n",
       "      <th>0</th>\n",
       "      <td>470</td>\n",
       "      <td>Threat similar technology step station out whi...</td>\n",
       "      <td>2012-10-02</td>\n",
       "      <td>0</td>\n",
       "    </tr>\n",
       "    <tr>\n",
       "      <th>1</th>\n",
       "      <td>71</td>\n",
       "      <td>What without general national high early score...</td>\n",
       "      <td>1974-12-04</td>\n",
       "      <td>1</td>\n",
       "    </tr>\n",
       "    <tr>\n",
       "      <th>2</th>\n",
       "      <td>130</td>\n",
       "      <td>Me maintain suddenly practice ten prepare. Sta...</td>\n",
       "      <td>1988-11-20</td>\n",
       "      <td>2</td>\n",
       "    </tr>\n",
       "    <tr>\n",
       "      <th>3</th>\n",
       "      <td>407</td>\n",
       "      <td>Range tend mouth both. Billion low career. Sto...</td>\n",
       "      <td>1974-01-02</td>\n",
       "      <td>3</td>\n",
       "    </tr>\n",
       "    <tr>\n",
       "      <th>4</th>\n",
       "      <td>426</td>\n",
       "      <td>National shake scene focus. Still according mi...</td>\n",
       "      <td>1973-11-21</td>\n",
       "      <td>4</td>\n",
       "    </tr>\n",
       "  </tbody>\n",
       "</table>\n",
       "</div>"
      ],
      "text/plain": [
       "  cust_id                                        description report_date  \\\n",
       "0     470  Threat similar technology step station out whi...  2012-10-02   \n",
       "1      71  What without general national high early score...  1974-12-04   \n",
       "2     130  Me maintain suddenly practice ten prepare. Sta...  1988-11-20   \n",
       "3     407  Range tend mouth both. Billion low career. Sto...  1974-01-02   \n",
       "4     426  National shake scene focus. Still according mi...  1973-11-21   \n",
       "\n",
       "  report_id  \n",
       "0         0  \n",
       "1         1  \n",
       "2         2  \n",
       "3         3  \n",
       "4         4  "
      ]
     },
     "execution_count": 226,
     "metadata": {},
     "output_type": "execute_result"
    }
   ],
   "source": [
    "dataset3.head()"
   ]
  },
  {
   "cell_type": "code",
   "execution_count": 227,
   "metadata": {},
   "outputs": [],
   "source": [
    "dataset3.to_csv(\"police_reports.csv\", sep=',', encoding='utf-8', index=False)"
   ]
  },
  {
   "cell_type": "code",
   "execution_count": 228,
   "metadata": {},
   "outputs": [],
   "source": [
    "web_ids = list(range(5000))"
   ]
  },
  {
   "cell_type": "code",
   "execution_count": 229,
   "metadata": {},
   "outputs": [],
   "source": [
    "web_cust_id = []\n",
    "for i in range(len(web_ids)):\n",
    "    web_cust_id.append(random.choice(customer_ids))"
   ]
  },
  {
   "cell_type": "code",
   "execution_count": 230,
   "metadata": {},
   "outputs": [],
   "source": [
    "web_seconds = []\n",
    "for i in range(len(web_ids)):\n",
    "    web_seconds.append(np.random.randint(15, 1000))"
   ]
  },
  {
   "cell_type": "code",
   "execution_count": 231,
   "metadata": {},
   "outputs": [],
   "source": [
    "ips = [fake.ipv4() for i in range(50)]\n",
    "#fake.ipv4()"
   ]
  },
  {
   "cell_type": "code",
   "execution_count": 232,
   "metadata": {},
   "outputs": [],
   "source": [
    "web_address = []\n",
    "for i in range(len(web_ids)):\n",
    "    web_address.append(random.choice(ips))"
   ]
  },
  {
   "cell_type": "code",
   "execution_count": 233,
   "metadata": {},
   "outputs": [],
   "source": [
    "web_actions_cat = [\"browse\", \"transactions\", \"update_profile\", \"request_loan\", \"create_account\"]"
   ]
  },
  {
   "cell_type": "code",
   "execution_count": 234,
   "metadata": {},
   "outputs": [],
   "source": [
    "web_actions = []\n",
    "for i in range(len(web_ids)):\n",
    "    web_actions.append(random.choice(web_actions_cat))"
   ]
  },
  {
   "cell_type": "code",
   "execution_count": 235,
   "metadata": {},
   "outputs": [],
   "source": [
    "matrix4 = np.array([web_ids, web_cust_id, web_seconds, web_address, web_actions])"
   ]
  },
  {
   "cell_type": "code",
   "execution_count": 236,
   "metadata": {},
   "outputs": [],
   "source": [
    "dataset4 = pd.DataFrame({\n",
    "        'web_id':matrix4[0,:],\n",
    "        'cust_id':matrix4[1,:],\n",
    "        'time_spent_seconds':matrix4[2,:],\n",
    "        'action':matrix4[3,:],\n",
    "        \"address\": matrix4[4,:]\n",
    "    })"
   ]
  },
  {
   "cell_type": "code",
   "execution_count": 237,
   "metadata": {},
   "outputs": [
    {
     "data": {
      "text/html": [
       "<div>\n",
       "<style scoped>\n",
       "    .dataframe tbody tr th:only-of-type {\n",
       "        vertical-align: middle;\n",
       "    }\n",
       "\n",
       "    .dataframe tbody tr th {\n",
       "        vertical-align: top;\n",
       "    }\n",
       "\n",
       "    .dataframe thead th {\n",
       "        text-align: right;\n",
       "    }\n",
       "</style>\n",
       "<table border=\"1\" class=\"dataframe\">\n",
       "  <thead>\n",
       "    <tr style=\"text-align: right;\">\n",
       "      <th></th>\n",
       "      <th>action</th>\n",
       "      <th>address</th>\n",
       "      <th>cust_id</th>\n",
       "      <th>time_spent_seconds</th>\n",
       "      <th>web_id</th>\n",
       "    </tr>\n",
       "  </thead>\n",
       "  <tbody>\n",
       "    <tr>\n",
       "      <th>0</th>\n",
       "      <td>198.58.46.214</td>\n",
       "      <td>update_profile</td>\n",
       "      <td>136</td>\n",
       "      <td>772</td>\n",
       "      <td>0</td>\n",
       "    </tr>\n",
       "    <tr>\n",
       "      <th>1</th>\n",
       "      <td>192.0.47.236</td>\n",
       "      <td>transactions</td>\n",
       "      <td>164</td>\n",
       "      <td>592</td>\n",
       "      <td>1</td>\n",
       "    </tr>\n",
       "    <tr>\n",
       "      <th>2</th>\n",
       "      <td>192.52.166.132</td>\n",
       "      <td>create_account</td>\n",
       "      <td>9</td>\n",
       "      <td>962</td>\n",
       "      <td>2</td>\n",
       "    </tr>\n",
       "    <tr>\n",
       "      <th>3</th>\n",
       "      <td>198.51.123.1</td>\n",
       "      <td>update_profile</td>\n",
       "      <td>230</td>\n",
       "      <td>67</td>\n",
       "      <td>3</td>\n",
       "    </tr>\n",
       "    <tr>\n",
       "      <th>4</th>\n",
       "      <td>202.11.79.229</td>\n",
       "      <td>transactions</td>\n",
       "      <td>6</td>\n",
       "      <td>311</td>\n",
       "      <td>4</td>\n",
       "    </tr>\n",
       "  </tbody>\n",
       "</table>\n",
       "</div>"
      ],
      "text/plain": [
       "           action         address cust_id time_spent_seconds web_id\n",
       "0   198.58.46.214  update_profile     136                772      0\n",
       "1    192.0.47.236    transactions     164                592      1\n",
       "2  192.52.166.132  create_account       9                962      2\n",
       "3    198.51.123.1  update_profile     230                 67      3\n",
       "4   202.11.79.229    transactions       6                311      4"
      ]
     },
     "execution_count": 237,
     "metadata": {},
     "output_type": "execute_result"
    }
   ],
   "source": [
    "dataset4.head()"
   ]
  },
  {
   "cell_type": "code",
   "execution_count": 238,
   "metadata": {},
   "outputs": [],
   "source": [
    "dataset4.to_csv(\"web_logs.csv\", sep=',', encoding='utf-8', index=False)"
   ]
  },
  {
   "cell_type": "code",
   "execution_count": 239,
   "metadata": {},
   "outputs": [],
   "source": [
    "alert_ids = list(range(300))"
   ]
  },
  {
   "cell_type": "code",
   "execution_count": 240,
   "metadata": {},
   "outputs": [],
   "source": [
    "alert_trx_id = []\n",
    "for i in range(len(alert_ids)):\n",
    "    alert_trx_id.append(random.choice(transaction_ids))"
   ]
  },
  {
   "cell_type": "code",
   "execution_count": 241,
   "metadata": {},
   "outputs": [],
   "source": [
    "alert_date = []\n",
    "for i in range(len(alert_ids)):\n",
    "    alert_date.append(fake.date())"
   ]
  },
  {
   "cell_type": "code",
   "execution_count": 242,
   "metadata": {},
   "outputs": [],
   "source": [
    "alert_type_cat = [\"TERRORISM\", \"HIGH_INT_PAYMENT\", \"SMURFING\", \"REPEATED_SWISH\"]"
   ]
  },
  {
   "cell_type": "code",
   "execution_count": 243,
   "metadata": {},
   "outputs": [],
   "source": [
    "alert_types = []\n",
    "for i in range(len(alert_ids)):\n",
    "    alert_types.append(random.choice(alert_type_cat))"
   ]
  },
  {
   "cell_type": "code",
   "execution_count": 244,
   "metadata": {},
   "outputs": [],
   "source": [
    "alert_score = []\n",
    "for i in range(len(alert_ids)):\n",
    "    alert_score.append(abs(np.random.normal()))"
   ]
  },
  {
   "cell_type": "code",
   "execution_count": 245,
   "metadata": {},
   "outputs": [],
   "source": [
    "alert_rule_name_cat = [\"TOOK_OVER_4_LOANS_IN_ONE_DAY\", \"TOOK_LOANS_FROM_MORE_THAN_1_BANK_IN_ONE_DAY\", \"INT_PAYMENT_OVER_5K\", \"SMURFING_OVER_5_ACCOUNTS\", \"SMURFING_OVER_10_ACCOUNTS\", \"REPEATED_SWISH\", \"MANY_SWISH_ACCOUNTS\"]"
   ]
  },
  {
   "cell_type": "code",
   "execution_count": 246,
   "metadata": {},
   "outputs": [],
   "source": [
    "rule_names = []\n",
    "for i in range(len(alert_ids)):\n",
    "    rule_names.append(random.choice(alert_rule_name_cat))"
   ]
  },
  {
   "cell_type": "code",
   "execution_count": 247,
   "metadata": {},
   "outputs": [],
   "source": [
    "alert_description = []\n",
    "for i in range(len(alert_ids)):\n",
    "    alert_description.append(fake.text())"
   ]
  },
  {
   "cell_type": "code",
   "execution_count": 248,
   "metadata": {},
   "outputs": [],
   "source": [
    "matrix5 = np.array([alert_ids, alert_trx_id, alert_date, alert_types, alert_score, rule_names, alert_description])"
   ]
  },
  {
   "cell_type": "code",
   "execution_count": 249,
   "metadata": {},
   "outputs": [],
   "source": [
    "dataset5 = pd.DataFrame({\n",
    "        'alert_id':matrix5[0,:],\n",
    "        'trx_id':matrix5[1,:],\n",
    "        'alert_date':matrix5[2,:],\n",
    "        'alert_type':matrix5[3,:],\n",
    "        \"alert_score\": matrix5[4,:],\n",
    "        \"rule_name\": matrix5[5,:],\n",
    "        \"alert_desc\": matrix5[6,:],  \n",
    "    })"
   ]
  },
  {
   "cell_type": "code",
   "execution_count": 250,
   "metadata": {},
   "outputs": [
    {
     "data": {
      "text/html": [
       "<div>\n",
       "<style scoped>\n",
       "    .dataframe tbody tr th:only-of-type {\n",
       "        vertical-align: middle;\n",
       "    }\n",
       "\n",
       "    .dataframe tbody tr th {\n",
       "        vertical-align: top;\n",
       "    }\n",
       "\n",
       "    .dataframe thead th {\n",
       "        text-align: right;\n",
       "    }\n",
       "</style>\n",
       "<table border=\"1\" class=\"dataframe\">\n",
       "  <thead>\n",
       "    <tr style=\"text-align: right;\">\n",
       "      <th></th>\n",
       "      <th>alert_date</th>\n",
       "      <th>alert_desc</th>\n",
       "      <th>alert_id</th>\n",
       "      <th>alert_score</th>\n",
       "      <th>alert_type</th>\n",
       "      <th>rule_name</th>\n",
       "      <th>trx_id</th>\n",
       "    </tr>\n",
       "  </thead>\n",
       "  <tbody>\n",
       "    <tr>\n",
       "      <th>0</th>\n",
       "      <td>1984-03-19</td>\n",
       "      <td>Particular along hear soldier growth vote coll...</td>\n",
       "      <td>0</td>\n",
       "      <td>0.8487305279596796</td>\n",
       "      <td>SMURFING</td>\n",
       "      <td>TOOK_OVER_4_LOANS_IN_ONE_DAY</td>\n",
       "      <td>2753</td>\n",
       "    </tr>\n",
       "    <tr>\n",
       "      <th>1</th>\n",
       "      <td>2012-05-29</td>\n",
       "      <td>Face green he career. Unit officer accept wher...</td>\n",
       "      <td>1</td>\n",
       "      <td>1.9902632495046184</td>\n",
       "      <td>REPEATED_SWISH</td>\n",
       "      <td>TOOK_LOANS_FROM_MORE_THAN_1_BANK_IN_ONE_DAY</td>\n",
       "      <td>1300</td>\n",
       "    </tr>\n",
       "    <tr>\n",
       "      <th>2</th>\n",
       "      <td>2007-02-27</td>\n",
       "      <td>Consider machine particular do argue back born...</td>\n",
       "      <td>2</td>\n",
       "      <td>0.1410329373440852</td>\n",
       "      <td>HIGH_INT_PAYMENT</td>\n",
       "      <td>REPEATED_SWISH</td>\n",
       "      <td>2095</td>\n",
       "    </tr>\n",
       "    <tr>\n",
       "      <th>3</th>\n",
       "      <td>2017-08-19</td>\n",
       "      <td>Now before study. From anything property altho...</td>\n",
       "      <td>3</td>\n",
       "      <td>1.0285542680763176</td>\n",
       "      <td>SMURFING</td>\n",
       "      <td>SMURFING_OVER_10_ACCOUNTS</td>\n",
       "      <td>2772</td>\n",
       "    </tr>\n",
       "    <tr>\n",
       "      <th>4</th>\n",
       "      <td>1998-10-07</td>\n",
       "      <td>Member program southern scientist. Side day te...</td>\n",
       "      <td>4</td>\n",
       "      <td>0.3959946998435622</td>\n",
       "      <td>HIGH_INT_PAYMENT</td>\n",
       "      <td>TOOK_LOANS_FROM_MORE_THAN_1_BANK_IN_ONE_DAY</td>\n",
       "      <td>2189</td>\n",
       "    </tr>\n",
       "  </tbody>\n",
       "</table>\n",
       "</div>"
      ],
      "text/plain": [
       "   alert_date                                         alert_desc alert_id  \\\n",
       "0  1984-03-19  Particular along hear soldier growth vote coll...        0   \n",
       "1  2012-05-29  Face green he career. Unit officer accept wher...        1   \n",
       "2  2007-02-27  Consider machine particular do argue back born...        2   \n",
       "3  2017-08-19  Now before study. From anything property altho...        3   \n",
       "4  1998-10-07  Member program southern scientist. Side day te...        4   \n",
       "\n",
       "          alert_score        alert_type  \\\n",
       "0  0.8487305279596796          SMURFING   \n",
       "1  1.9902632495046184    REPEATED_SWISH   \n",
       "2  0.1410329373440852  HIGH_INT_PAYMENT   \n",
       "3  1.0285542680763176          SMURFING   \n",
       "4  0.3959946998435622  HIGH_INT_PAYMENT   \n",
       "\n",
       "                                     rule_name trx_id  \n",
       "0                 TOOK_OVER_4_LOANS_IN_ONE_DAY   2753  \n",
       "1  TOOK_LOANS_FROM_MORE_THAN_1_BANK_IN_ONE_DAY   1300  \n",
       "2                               REPEATED_SWISH   2095  \n",
       "3                    SMURFING_OVER_10_ACCOUNTS   2772  \n",
       "4  TOOK_LOANS_FROM_MORE_THAN_1_BANK_IN_ONE_DAY   2189  "
      ]
     },
     "execution_count": 250,
     "metadata": {},
     "output_type": "execute_result"
    }
   ],
   "source": [
    "dataset5.head()"
   ]
  },
  {
   "cell_type": "code",
   "execution_count": 251,
   "metadata": {},
   "outputs": [],
   "source": [
    "dataset5.to_csv(\"alerts.csv\", sep=',', encoding='utf-8', index=False)"
   ]
  },
  {
   "cell_type": "code",
   "execution_count": 252,
   "metadata": {},
   "outputs": [],
   "source": [
    "corporate_ids = list(range(100))"
   ]
  },
  {
   "cell_type": "code",
   "execution_count": 253,
   "metadata": {},
   "outputs": [],
   "source": [
    "indudstry_sector_cat = [\"AGRICULTURE\", \"IT\", \"CONSTRUCTION\", \"ENERGY\", \"AEROSPACE\", \"ENTERTAINMENT\"]"
   ]
  },
  {
   "cell_type": "code",
   "execution_count": 254,
   "metadata": {},
   "outputs": [],
   "source": [
    "industry_sectors = []\n",
    "for i in range(len(corporate_ids)):\n",
    "    industry_sectors.append(random.choice(indudstry_sector_cat))"
   ]
  },
  {
   "cell_type": "code",
   "execution_count": 255,
   "metadata": {},
   "outputs": [],
   "source": [
    "externa_kostnader = []\n",
    "for i in range(len(corporate_ids)):\n",
    "    externa_kostnader.append(abs(np.random.normal()*10000))"
   ]
  },
  {
   "cell_type": "code",
   "execution_count": 256,
   "metadata": {},
   "outputs": [],
   "source": [
    "rente_kostnader = []\n",
    "for i in range(len(corporate_ids)):\n",
    "    rente_kostnader.append(abs(np.random.normal()*1000))"
   ]
  },
  {
   "cell_type": "code",
   "execution_count": 257,
   "metadata": {},
   "outputs": [],
   "source": [
    "netomsettning = []\n",
    "for i in range(len(corporate_ids)):\n",
    "    netomsettning.append(abs(np.random.normal()*100000))"
   ]
  },
  {
   "cell_type": "code",
   "execution_count": 258,
   "metadata": {},
   "outputs": [],
   "source": [
    "netomsettning_3year = []\n",
    "for i in range(len(corporate_ids)):\n",
    "    netomsettning_3year.append(abs(np.random.normal()*10000))"
   ]
  },
  {
   "cell_type": "code",
   "execution_count": 259,
   "metadata": {},
   "outputs": [],
   "source": [
    "netomsettning_2year = []\n",
    "for i in range(len(corporate_ids)):\n",
    "    netomsettning_2year.append(abs(np.random.normal()*1000))"
   ]
  },
  {
   "cell_type": "code",
   "execution_count": 260,
   "metadata": {},
   "outputs": [],
   "source": [
    "netomsettning_1year = []\n",
    "for i in range(len(corporate_ids)):\n",
    "    netomsettning_1year.append(abs(np.random.normal()*100))"
   ]
  },
  {
   "cell_type": "code",
   "execution_count": 261,
   "metadata": {},
   "outputs": [],
   "source": [
    "matrix6 = np.array([corporate_ids, industry_sectors, externa_kostnader, netomsettning, netomsettning_3year, netomsettning_2year, netomsettning_1year])"
   ]
  },
  {
   "cell_type": "code",
   "execution_count": 262,
   "metadata": {},
   "outputs": [],
   "source": [
    "dataset6 = pd.DataFrame({\n",
    "        'corporate_id':matrix6[0,:],\n",
    "        'industry_sector':matrix6[1,:],\n",
    "        'externa_kostnader':matrix6[2,:],\n",
    "        'netomsettning':matrix6[3,:],\n",
    "        \"netomsettning_3year\": matrix6[4,:],\n",
    "        \"netomsettning_2year\": matrix6[5,:],\n",
    "        \"netomsettning_1year\": matrix6[6,:],  \n",
    "    })"
   ]
  },
  {
   "cell_type": "code",
   "execution_count": 263,
   "metadata": {},
   "outputs": [
    {
     "data": {
      "text/html": [
       "<div>\n",
       "<style scoped>\n",
       "    .dataframe tbody tr th:only-of-type {\n",
       "        vertical-align: middle;\n",
       "    }\n",
       "\n",
       "    .dataframe tbody tr th {\n",
       "        vertical-align: top;\n",
       "    }\n",
       "\n",
       "    .dataframe thead th {\n",
       "        text-align: right;\n",
       "    }\n",
       "</style>\n",
       "<table border=\"1\" class=\"dataframe\">\n",
       "  <thead>\n",
       "    <tr style=\"text-align: right;\">\n",
       "      <th></th>\n",
       "      <th>corporate_id</th>\n",
       "      <th>externa_kostnader</th>\n",
       "      <th>industry_sector</th>\n",
       "      <th>netomsettning</th>\n",
       "      <th>netomsettning_1year</th>\n",
       "      <th>netomsettning_2year</th>\n",
       "      <th>netomsettning_3year</th>\n",
       "    </tr>\n",
       "  </thead>\n",
       "  <tbody>\n",
       "    <tr>\n",
       "      <th>0</th>\n",
       "      <td>0</td>\n",
       "      <td>4037.106472487839</td>\n",
       "      <td>ENTERTAINMENT</td>\n",
       "      <td>93832.27840824955</td>\n",
       "      <td>44.82092947565074</td>\n",
       "      <td>2022.326251954515</td>\n",
       "      <td>1086.0504833302182</td>\n",
       "    </tr>\n",
       "    <tr>\n",
       "      <th>1</th>\n",
       "      <td>1</td>\n",
       "      <td>4675.853425048626</td>\n",
       "      <td>IT</td>\n",
       "      <td>107949.47508358999</td>\n",
       "      <td>88.95741350650822</td>\n",
       "      <td>2016.095213676858</td>\n",
       "      <td>12535.33486043136</td>\n",
       "    </tr>\n",
       "    <tr>\n",
       "      <th>2</th>\n",
       "      <td>2</td>\n",
       "      <td>12159.568710998507</td>\n",
       "      <td>IT</td>\n",
       "      <td>50991.56497305206</td>\n",
       "      <td>100.1288353843411</td>\n",
       "      <td>731.9809550995709</td>\n",
       "      <td>1217.4062242438217</td>\n",
       "    </tr>\n",
       "    <tr>\n",
       "      <th>3</th>\n",
       "      <td>3</td>\n",
       "      <td>12272.605896410878</td>\n",
       "      <td>ENERGY</td>\n",
       "      <td>54172.17864237209</td>\n",
       "      <td>9.592615488049496</td>\n",
       "      <td>1195.033557934268</td>\n",
       "      <td>2969.9986286433623</td>\n",
       "    </tr>\n",
       "    <tr>\n",
       "      <th>4</th>\n",
       "      <td>4</td>\n",
       "      <td>9631.313412510488</td>\n",
       "      <td>CONSTRUCTION</td>\n",
       "      <td>81737.14429032378</td>\n",
       "      <td>53.37891257773608</td>\n",
       "      <td>189.82505752033074</td>\n",
       "      <td>3332.130888767439</td>\n",
       "    </tr>\n",
       "  </tbody>\n",
       "</table>\n",
       "</div>"
      ],
      "text/plain": [
       "  corporate_id   externa_kostnader industry_sector       netomsettning  \\\n",
       "0            0   4037.106472487839   ENTERTAINMENT   93832.27840824955   \n",
       "1            1   4675.853425048626              IT  107949.47508358999   \n",
       "2            2  12159.568710998507              IT   50991.56497305206   \n",
       "3            3  12272.605896410878          ENERGY   54172.17864237209   \n",
       "4            4   9631.313412510488    CONSTRUCTION   81737.14429032378   \n",
       "\n",
       "  netomsettning_1year netomsettning_2year netomsettning_3year  \n",
       "0   44.82092947565074   2022.326251954515  1086.0504833302182  \n",
       "1   88.95741350650822   2016.095213676858   12535.33486043136  \n",
       "2   100.1288353843411   731.9809550995709  1217.4062242438217  \n",
       "3   9.592615488049496   1195.033557934268  2969.9986286433623  \n",
       "4   53.37891257773608  189.82505752033074   3332.130888767439  "
      ]
     },
     "execution_count": 263,
     "metadata": {},
     "output_type": "execute_result"
    }
   ],
   "source": [
    "dataset6.head()"
   ]
  },
  {
   "cell_type": "code",
   "execution_count": 264,
   "metadata": {},
   "outputs": [],
   "source": [
    "dataset6.to_csv(\"hipo.csv\", sep=',', encoding='utf-8', index=False)"
   ]
  },
  {
   "cell_type": "code",
   "execution_count": null,
   "metadata": {},
   "outputs": [],
   "source": []
  }
 ],
 "metadata": {
  "kernelspec": {
   "display_name": "Python 3",
   "language": "python",
   "name": "python3"
  },
  "language_info": {
   "codemirror_mode": {
    "name": "ipython",
    "version": 3
   },
   "file_extension": ".py",
   "mimetype": "text/x-python",
   "name": "python",
   "nbconvert_exporter": "python",
   "pygments_lexer": "ipython3",
   "version": "3.5.6"
  }
 },
 "nbformat": 4,
 "nbformat_minor": 2
}
