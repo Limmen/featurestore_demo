{
 "cells": [
  {
   "cell_type": "code",
   "execution_count": 1,
   "metadata": {},
   "outputs": [
    {
     "name": "stdout",
     "output_type": "stream",
     "text": [
      "Starting Spark application\n"
     ]
    },
    {
     "data": {
      "text/html": [
       "<table>\n",
       "<tr><th>ID</th><th>YARN Application ID</th><th>Kind</th><th>State</th><th>Spark UI</th><th>Driver log</th><th>Current session?</th></tr><tr><td>7</td><td>application_1543406631159_0027</td><td>pyspark</td><td>idle</td><td><a target=\"_blank\" href=\"http://hopsworks0.logicalclocks.com:8088/proxy/application_1543406631159_0027/\">Link</a></td><td><a target=\"_blank\" href=\"http://hopsworks0.logicalclocks.com:8042/node/containerlogs/container_e01_1543406631159_0027_01_000001/fs_demo__meb10000\">Link</a></td><td>✔</td></tr></table>"
      ],
      "text/plain": [
       "<IPython.core.display.HTML object>"
      ]
     },
     "metadata": {},
     "output_type": "display_data"
    },
    {
     "name": "stdout",
     "output_type": "stream",
     "text": [
      "SparkSession available as 'spark'.\n"
     ]
    }
   ],
   "source": [
    "from hops import featurestore"
   ]
  },
  {
   "cell_type": "code",
   "execution_count": 2,
   "metadata": {},
   "outputs": [
    {
     "name": "stdout",
     "output_type": "stream",
     "text": [
      "Running sql: use fs_demo_featurestore\n",
      "Running sql: SELECT * FROM trx_summary_features_1\n",
      "computing descriptive statistics for : trx_summary_features\n",
      "computing feature corr for: trx_summary_features\n",
      "computing feature histograms for: trx_summary_features\n",
      "computing cluster analysis for: trx_summary_features"
     ]
    }
   ],
   "source": [
    "featurestore.update_featuregroup_stats(\"trx_summary_features\")"
   ]
  },
  {
   "cell_type": "code",
   "execution_count": 2,
   "metadata": {},
   "outputs": [
    {
     "name": "stdout",
     "output_type": "stream",
     "text": [
      "Running sql: use fs_demo_featurestore\n",
      "Running sql: SELECT * FROM alert_features_1\n",
      "computing descriptive statistics for : alert_features\n",
      "computing feature corr for: alert_features\n",
      "computing feature histograms for: alert_features\n",
      "computing cluster analysis for: alert_features"
     ]
    }
   ],
   "source": [
    "featurestore.update_featuregroup_stats(\"alert_features\")"
   ]
  },
  {
   "cell_type": "code",
   "execution_count": 3,
   "metadata": {},
   "outputs": [
    {
     "name": "stdout",
     "output_type": "stream",
     "text": [
      "Running sql: use fs_demo_featurestore\n",
      "Running sql: SELECT * FROM demographic_features_1\n",
      "computing descriptive statistics for : demographic_features\n",
      "computing feature corr for: demographic_features\n",
      "computing feature histograms for: demographic_features\n",
      "computing cluster analysis for: demographic_features"
     ]
    }
   ],
   "source": [
    "featurestore.update_featuregroup_stats(\"demographic_features\")"
   ]
  },
  {
   "cell_type": "code",
   "execution_count": 4,
   "metadata": {},
   "outputs": [
    {
     "name": "stdout",
     "output_type": "stream",
     "text": [
      "Running sql: use fs_demo_featurestore\n",
      "Running sql: SELECT * FROM hipo_features_1\n",
      "computing descriptive statistics for : hipo_features\n",
      "computing feature corr for: hipo_features\n",
      "computing feature histograms for: hipo_features\n",
      "computing cluster analysis for: hipo_features"
     ]
    }
   ],
   "source": [
    "featurestore.update_featuregroup_stats(\"hipo_features\")"
   ]
  },
  {
   "cell_type": "code",
   "execution_count": 5,
   "metadata": {},
   "outputs": [
    {
     "name": "stdout",
     "output_type": "stream",
     "text": [
      "Running sql: use fs_demo_featurestore\n",
      "Running sql: SELECT * FROM police_report_features_1\n",
      "computing descriptive statistics for : police_report_features\n",
      "computing feature corr for: police_report_features\n",
      "computing feature histograms for: police_report_features\n",
      "computing cluster analysis for: police_report_features"
     ]
    }
   ],
   "source": [
    "featurestore.update_featuregroup_stats(\"police_report_features\")"
   ]
  },
  {
   "cell_type": "code",
   "execution_count": 6,
   "metadata": {},
   "outputs": [
    {
     "name": "stdout",
     "output_type": "stream",
     "text": [
      "Running sql: use fs_demo_featurestore\n",
      "Running sql: SELECT * FROM trx_graph_summary_features_1\n",
      "computing descriptive statistics for : trx_graph_summary_features\n",
      "computing feature corr for: trx_graph_summary_features\n",
      "computing feature histograms for: trx_graph_summary_features\n",
      "computing cluster analysis for: trx_graph_summary_features"
     ]
    }
   ],
   "source": [
    "featurestore.update_featuregroup_stats(\"trx_graph_summary_features\")"
   ]
  },
  {
   "cell_type": "code",
   "execution_count": 7,
   "metadata": {},
   "outputs": [
    {
     "name": "stdout",
     "output_type": "stream",
     "text": [
      "Running sql: use fs_demo_featurestore\n",
      "Running sql: SELECT * FROM trx_features_1\n",
      "computing descriptive statistics for : trx_features\n",
      "computing feature corr for: trx_features\n",
      "computing feature histograms for: trx_features\n",
      "computing cluster analysis for: trx_features"
     ]
    }
   ],
   "source": [
    "featurestore.update_featuregroup_stats(\"trx_features\")"
   ]
  },
  {
   "cell_type": "code",
   "execution_count": 8,
   "metadata": {},
   "outputs": [
    {
     "name": "stdout",
     "output_type": "stream",
     "text": [
      "Running sql: use fs_demo_featurestore\n",
      "Running sql: SELECT * FROM web_logs_features_1\n",
      "computing descriptive statistics for : web_logs_features\n",
      "computing feature corr for: web_logs_features\n",
      "computing feature histograms for: web_logs_features\n",
      "computing cluster analysis for: web_logs_features"
     ]
    }
   ],
   "source": [
    "featurestore.update_featuregroup_stats(\"web_logs_features\")"
   ]
  },
  {
   "cell_type": "code",
   "execution_count": 9,
   "metadata": {},
   "outputs": [
    {
     "name": "stdout",
     "output_type": "stream",
     "text": [
      "Running sql: use fs_demo_featurestore\n",
      "Running sql: SELECT * FROM customer_type_lookup_1\n",
      "computing descriptive statistics for : customer_type_lookup\n",
      "computing feature histograms for: customer_type_lookup"
     ]
    }
   ],
   "source": [
    "featurestore.update_featuregroup_stats(\"customer_type_lookup\", feature_correlation=False, cluster_analysis=False)"
   ]
  },
  {
   "cell_type": "code",
   "execution_count": 10,
   "metadata": {},
   "outputs": [
    {
     "name": "stdout",
     "output_type": "stream",
     "text": [
      "Running sql: use fs_demo_featurestore\n",
      "Running sql: SELECT * FROM pep_lookup_1\n",
      "computing descriptive statistics for : pep_lookup\n",
      "computing feature histograms for: pep_lookup"
     ]
    }
   ],
   "source": [
    "featurestore.update_featuregroup_stats(\"pep_lookup\", feature_correlation=False, cluster_analysis=False)"
   ]
  },
  {
   "cell_type": "code",
   "execution_count": 11,
   "metadata": {},
   "outputs": [
    {
     "name": "stdout",
     "output_type": "stream",
     "text": [
      "Running sql: use fs_demo_featurestore\n",
      "Running sql: SELECT * FROM gender_lookup_1\n",
      "computing descriptive statistics for : gender_lookup\n",
      "computing feature histograms for: gender_lookup"
     ]
    }
   ],
   "source": [
    "featurestore.update_featuregroup_stats(\"gender_lookup\", feature_correlation=False, cluster_analysis=False)"
   ]
  },
  {
   "cell_type": "code",
   "execution_count": 12,
   "metadata": {},
   "outputs": [
    {
     "name": "stdout",
     "output_type": "stream",
     "text": [
      "Running sql: use fs_demo_featurestore\n",
      "Running sql: SELECT * FROM trx_type_lookup_1\n",
      "computing descriptive statistics for : trx_type_lookup\n",
      "computing feature histograms for: trx_type_lookup"
     ]
    }
   ],
   "source": [
    "featurestore.update_featuregroup_stats(\"trx_type_lookup\", feature_correlation=False, cluster_analysis=False)"
   ]
  },
  {
   "cell_type": "code",
   "execution_count": 13,
   "metadata": {},
   "outputs": [
    {
     "name": "stdout",
     "output_type": "stream",
     "text": [
      "Running sql: use fs_demo_featurestore\n",
      "Running sql: SELECT * FROM country_lookup_1\n",
      "computing descriptive statistics for : country_lookup\n",
      "computing feature histograms for: country_lookup"
     ]
    }
   ],
   "source": [
    "featurestore.update_featuregroup_stats(\"country_lookup\", feature_correlation=False, cluster_analysis=False)"
   ]
  },
  {
   "cell_type": "code",
   "execution_count": 14,
   "metadata": {},
   "outputs": [
    {
     "name": "stdout",
     "output_type": "stream",
     "text": [
      "Running sql: use fs_demo_featurestore\n",
      "Running sql: SELECT * FROM trx_type_lookup_1\n",
      "computing descriptive statistics for : trx_type_lookup\n",
      "computing feature histograms for: trx_type_lookup"
     ]
    }
   ],
   "source": [
    "featurestore.update_featuregroup_stats(\"trx_type_lookup\", feature_correlation=False, cluster_analysis=False)"
   ]
  },
  {
   "cell_type": "code",
   "execution_count": 15,
   "metadata": {},
   "outputs": [
    {
     "name": "stdout",
     "output_type": "stream",
     "text": [
      "Running sql: use fs_demo_featurestore\n",
      "Running sql: SELECT * FROM industry_sector_lookup_1\n",
      "computing descriptive statistics for : industry_sector_lookup\n",
      "computing feature histograms for: industry_sector_lookup"
     ]
    }
   ],
   "source": [
    "featurestore.update_featuregroup_stats(\"industry_sector_lookup\", feature_correlation=False, cluster_analysis=False)"
   ]
  },
  {
   "cell_type": "code",
   "execution_count": 16,
   "metadata": {},
   "outputs": [
    {
     "name": "stdout",
     "output_type": "stream",
     "text": [
      "Running sql: use fs_demo_featurestore\n",
      "Running sql: SELECT * FROM alert_type_lookup_1\n",
      "computing descriptive statistics for : alert_type_lookup\n",
      "computing feature histograms for: alert_type_lookup"
     ]
    }
   ],
   "source": [
    "featurestore.update_featuregroup_stats(\"alert_type_lookup\", feature_correlation=False, cluster_analysis=False)"
   ]
  },
  {
   "cell_type": "code",
   "execution_count": 17,
   "metadata": {},
   "outputs": [
    {
     "name": "stdout",
     "output_type": "stream",
     "text": [
      "Running sql: use fs_demo_featurestore\n",
      "Running sql: SELECT * FROM rule_name_lookup_1\n",
      "computing descriptive statistics for : rule_name_lookup\n",
      "computing feature histograms for: rule_name_lookup"
     ]
    }
   ],
   "source": [
    "featurestore.update_featuregroup_stats(\"rule_name_lookup\", feature_correlation=False, cluster_analysis=False)"
   ]
  },
  {
   "cell_type": "code",
   "execution_count": 18,
   "metadata": {},
   "outputs": [
    {
     "name": "stdout",
     "output_type": "stream",
     "text": [
      "Running sql: use fs_demo_featurestore\n",
      "Running sql: SELECT * FROM web_address_lookup_1\n",
      "computing descriptive statistics for : web_address_lookup\n",
      "computing feature histograms for: web_address_lookup"
     ]
    }
   ],
   "source": [
    "featurestore.update_featuregroup_stats(\"web_address_lookup\", feature_correlation=False, cluster_analysis=False)"
   ]
  },
  {
   "cell_type": "code",
   "execution_count": 19,
   "metadata": {},
   "outputs": [
    {
     "name": "stdout",
     "output_type": "stream",
     "text": [
      "Running sql: use fs_demo_featurestore\n",
      "Running sql: SELECT * FROM browser_action_lookup_1\n",
      "computing descriptive statistics for : browser_action_lookup\n",
      "computing feature histograms for: browser_action_lookup"
     ]
    }
   ],
   "source": [
    "featurestore.update_featuregroup_stats(\"browser_action_lookup\", feature_correlation=False, cluster_analysis=False)"
   ]
  },
  {
   "cell_type": "code",
   "execution_count": 20,
   "metadata": {},
   "outputs": [
    {
     "name": "stdout",
     "output_type": "stream",
     "text": [
      "Running sql: use fs_demo_featurestore\n",
      "Running sql: SELECT * FROM trx_graph_edge_list_1\n",
      "computing descriptive statistics for : trx_graph_edge_list\n",
      "computing feature histograms for: trx_graph_edge_list"
     ]
    }
   ],
   "source": [
    "featurestore.update_featuregroup_stats(\"trx_graph_edge_list\", feature_correlation=False, cluster_analysis=False)"
   ]
  }
 ],
 "metadata": {
  "kernelspec": {
   "display_name": "PySpark",
   "language": "",
   "name": "pysparkkernel"
  },
  "language_info": {
   "codemirror_mode": {
    "name": "python",
    "version": 2
   },
   "mimetype": "text/x-python",
   "name": "pyspark",
   "pygments_lexer": "python2"
  }
 },
 "nbformat": 4,
 "nbformat_minor": 2
}
