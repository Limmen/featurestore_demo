{
 "cells": [
  {
   "cell_type": "markdown",
   "metadata": {},
   "source": [
    "## Imports"
   ]
  },
  {
   "cell_type": "code",
   "execution_count": 1,
   "metadata": {},
   "outputs": [
    {
     "name": "stdout",
     "output_type": "stream",
     "text": [
      "Starting Spark application\n"
     ]
    },
    {
     "data": {
      "text/html": [
       "<table>\n",
       "<tr><th>ID</th><th>YARN Application ID</th><th>Kind</th><th>State</th><th>Spark UI</th><th>Driver log</th><th>Current session?</th></tr><tr><td>41</td><td>application_1541520526880_0073</td><td>pyspark</td><td>idle</td><td><a target=\"_blank\" href=\"http://hopsworks0.logicalclocks.com:8088/proxy/application_1541520526880_0073/\">Link</a></td><td><a target=\"_blank\" href=\"http://hopsworks0.logicalclocks.com:8042/node/containerlogs/container_e01_1541520526880_0073_01_000001/hopsworksdemo__meb10000\">Link</a></td><td>✔</td></tr></table>"
      ],
      "text/plain": [
       "<IPython.core.display.HTML object>"
      ]
     },
     "metadata": {},
     "output_type": "display_data"
    },
    {
     "name": "stdout",
     "output_type": "stream",
     "text": [
      "SparkSession available as 'spark'.\n"
     ]
    }
   ],
   "source": [
    "from hops import featurestore"
   ]
  },
  {
   "cell_type": "markdown",
   "metadata": {},
   "source": [
    "## Get Project Featurestore\n",
    "\n",
    "Each project with the featurestore enabled gets its own Hive database for the featurestore, the name of the featurestore database is 'projectname_featurestore' and can be retrieved from the hops-util-py featurestore API"
   ]
  },
  {
   "cell_type": "code",
   "execution_count": 2,
   "metadata": {},
   "outputs": [
    {
     "name": "stdout",
     "output_type": "stream",
     "text": [
      "'hopsworksdemo_featurestore'"
     ]
    }
   ],
   "source": [
    "featurestore.project_featurestore()"
   ]
  },
  {
   "cell_type": "markdown",
   "metadata": {},
   "source": [
    "## Get Individual Feature"
   ]
  },
  {
   "cell_type": "markdown",
   "metadata": {},
   "source": [
    "When retrieving a single feature from the featurestore, the hops-util-py library will infer which featuregroup the feature belongs to by querying the metastore, but you can also explicitly specify which featuregroup and version to query. If there are multiple features of the same name in the featurestore, it is required to specify enough information to uniquely identify the feature (e.g which featuregroup and which version).  If no featurestore is provided it will default to the project's featurestore."
   ]
  },
  {
   "cell_type": "markdown",
   "metadata": {},
   "source": [
    "Without specifying featuregroup:"
   ]
  },
  {
   "cell_type": "code",
   "execution_count": 3,
   "metadata": {},
   "outputs": [
    {
     "name": "stdout",
     "output_type": "stream",
     "text": [
      "Running sql: use hopsworksdemo_featurestore\n",
      "Running sql: SELECT action FROM web_logs_features_1\n",
      "+------+\n",
      "|action|\n",
      "+------+\n",
      "|     0|\n",
      "|     0|\n",
      "|     0|\n",
      "|     0|\n",
      "|     0|\n",
      "+------+\n",
      "only showing top 5 rows"
     ]
    }
   ],
   "source": [
    "featurestore.get_feature(\"action\").show(5)"
   ]
  },
  {
   "cell_type": "markdown",
   "metadata": {},
   "source": [
    "With specifed featuregroup:"
   ]
  },
  {
   "cell_type": "code",
   "execution_count": 4,
   "metadata": {},
   "outputs": [
    {
     "name": "stdout",
     "output_type": "stream",
     "text": [
      "Running sql: use hopsworksdemo_featurestore\n",
      "Running sql: SELECT action FROM web_logs_features_1\n",
      "+------+\n",
      "|action|\n",
      "+------+\n",
      "|     0|\n",
      "|     0|\n",
      "|     0|\n",
      "|     0|\n",
      "|     0|\n",
      "+------+\n",
      "only showing top 5 rows"
     ]
    }
   ],
   "source": [
    "featurestore.get_feature(\"action\", \n",
    "                         featurestore=featurestore.project_featurestore(), \n",
    "                         featuregroup=\"web_logs_features\", \n",
    "                         featuregroup_version = 1).show(5)"
   ]
  },
  {
   "cell_type": "markdown",
   "metadata": {},
   "source": [
    "## Get Featuregroup"
   ]
  },
  {
   "cell_type": "markdown",
   "metadata": {},
   "source": [
    "You can get an entire featuregroup from the API. If no featurestore is provided the API will default to the project's featurestore, if no version is provided it will default to version 1 of the featuregroup."
   ]
  },
  {
   "cell_type": "code",
   "execution_count": 5,
   "metadata": {},
   "outputs": [
    {
     "name": "stdout",
     "output_type": "stream",
     "text": [
      "Running sql: use hopsworksdemo_featurestore\n",
      "Running sql: SELECT * FROM trx_summary_features_1\n",
      "+-------+---------+---------+---------+---------+\n",
      "|cust_id|  min_trx|  max_trx|  avg_trx|count_trx|\n",
      "+-------+---------+---------+---------+---------+\n",
      "|    148| 390.4109|2094.9958| 1090.509|       16|\n",
      "|    496| 9.235389|1464.5397| 738.1404|       16|\n",
      "|    463|33.797318|1828.2426|899.89594|       30|\n",
      "|    471|578.16833|636.18713|607.17773|        4|\n",
      "|    243|119.73669| 1582.427| 698.5791|       28|\n",
      "+-------+---------+---------+---------+---------+\n",
      "only showing top 5 rows"
     ]
    }
   ],
   "source": [
    "featurestore.get_featuregroup(\"trx_summary_features\").show(5)"
   ]
  },
  {
   "cell_type": "code",
   "execution_count": 6,
   "metadata": {},
   "outputs": [
    {
     "name": "stdout",
     "output_type": "stream",
     "text": [
      "Running sql: use hopsworksdemo_featurestore\n",
      "Running sql: SELECT * FROM trx_summary_features_1\n",
      "+-------+---------+---------+---------+---------+\n",
      "|cust_id|  min_trx|  max_trx|  avg_trx|count_trx|\n",
      "+-------+---------+---------+---------+---------+\n",
      "|    148| 390.4109|2094.9958| 1090.509|       16|\n",
      "|    496| 9.235389|1464.5397| 738.1404|       16|\n",
      "|    463|33.797318|1828.2426|899.89594|       30|\n",
      "|    471|578.16833|636.18713|607.17773|        4|\n",
      "|    243|119.73669| 1582.427| 698.5791|       28|\n",
      "+-------+---------+---------+---------+---------+\n",
      "only showing top 5 rows"
     ]
    }
   ],
   "source": [
    "featurestore.get_featuregroup(\"trx_summary_features\", \n",
    "                              featurestore=featurestore.project_featurestore(), \n",
    "                              featuregroup_version = 1).show(5)"
   ]
  },
  {
   "cell_type": "markdown",
   "metadata": {},
   "source": [
    "## Get Set of Features"
   ]
  },
  {
   "cell_type": "markdown",
   "metadata": {},
   "source": [
    "When retrieving a list of features from the featurestore, the hops-util-py library will infer which featuregroup the features belongs to by querying the metastore. If the features reside in different featuregroups, the library will also **try** to infer how to join the features together based on common columns. If the JOIN query cannot be inferred due to existence of multiple features with the same name or non-obvious JOIN query, the user need to supply enough information to the API call to be able to query the featurestore. If the user already knows the JOIN query it can also run `featurestore.query(joinQuery)` directly. If no featurestore is provided it will default to the project's featurestore."
   ]
  },
  {
   "cell_type": "markdown",
   "metadata": {},
   "source": [
    "Without specifying featuregroups and join key:"
   ]
  },
  {
   "cell_type": "code",
   "execution_count": 7,
   "metadata": {},
   "outputs": [
    {
     "name": "stdout",
     "output_type": "stream",
     "text": [
      "Running sql: use hopsworksdemo_featurestore\n",
      "Running sql: SELECT pagerank, avg_trx, triangle_count FROM trx_graph_summary_features_1 JOIN trx_summary_features_1 ON trx_graph_summary_features_1.`cust_id`=trx_summary_features_1.`cust_id`\n",
      "+--------+---------+--------------+\n",
      "|pagerank|  avg_trx|triangle_count|\n",
      "+--------+---------+--------------+\n",
      "|     1.0|963.64233|           3.0|\n",
      "|     1.0| 746.5783|          12.0|\n",
      "|     1.0|687.91376|           7.0|\n",
      "|     1.0| 732.6695|          12.0|\n",
      "|     1.0|  641.785|           4.0|\n",
      "+--------+---------+--------------+\n",
      "only showing top 5 rows"
     ]
    }
   ],
   "source": [
    "featurestore.get_features([\"pagerank\", \"triangle_count\", \"avg_trx\"], \n",
    "             featurestore=featurestore.project_featurestore()).show(5)"
   ]
  },
  {
   "cell_type": "markdown",
   "metadata": {},
   "source": [
    "Without specifying the join key but specifying featuregroups:"
   ]
  },
  {
   "cell_type": "code",
   "execution_count": 8,
   "metadata": {},
   "outputs": [
    {
     "name": "stdout",
     "output_type": "stream",
     "text": [
      "Running sql: use hopsworksdemo_featurestore\n",
      "Running sql: SELECT pagerank, avg_trx, triangle_count FROM trx_graph_summary_features_1 JOIN trx_summary_features_1 ON trx_graph_summary_features_1.`cust_id`=trx_summary_features_1.`cust_id`\n",
      "+--------+---------+--------------+\n",
      "|pagerank|  avg_trx|triangle_count|\n",
      "+--------+---------+--------------+\n",
      "|     1.0|963.64233|           3.0|\n",
      "|     1.0| 746.5783|          12.0|\n",
      "|     1.0|687.91376|           7.0|\n",
      "|     1.0| 732.6695|          12.0|\n",
      "|     1.0|  641.785|           4.0|\n",
      "+--------+---------+--------------+\n",
      "only showing top 5 rows"
     ]
    }
   ],
   "source": [
    "featurestore.get_features([\"pagerank\", \"triangle_count\", \"avg_trx\"], \n",
    "             featurestore=featurestore.project_featurestore(), \n",
    "             featuregroups_version_dict={\n",
    "                 \"trx_graph_summary_features\": 1, \n",
    "                \"trx_summary_features\": 1\n",
    "             }).show(5)"
   ]
  },
  {
   "cell_type": "markdown",
   "metadata": {},
   "source": [
    "Specifying both featuregroups and join key:"
   ]
  },
  {
   "cell_type": "code",
   "execution_count": 9,
   "metadata": {},
   "outputs": [
    {
     "name": "stdout",
     "output_type": "stream",
     "text": [
      "Running sql: use hopsworksdemo_featurestore\n",
      "Running sql: SELECT pagerank, avg_trx, triangle_count FROM trx_graph_summary_features_1 JOIN trx_summary_features_1 ON trx_graph_summary_features_1.`cust_id`=trx_summary_features_1.`cust_id`\n",
      "+--------+---------+--------------+\n",
      "|pagerank|  avg_trx|triangle_count|\n",
      "+--------+---------+--------------+\n",
      "|     1.0|963.64233|           3.0|\n",
      "|     1.0| 746.5783|          12.0|\n",
      "|     1.0|687.91376|           7.0|\n",
      "|     1.0| 732.6695|          12.0|\n",
      "|     1.0|  641.785|           4.0|\n",
      "+--------+---------+--------------+\n",
      "only showing top 5 rows"
     ]
    }
   ],
   "source": [
    "featurestore.get_features([\"pagerank\", \"triangle_count\", \"avg_trx\"], \n",
    "             featurestore=featurestore.project_featurestore(), \n",
    "             featuregroups_version_dict={\n",
    "                 \"trx_graph_summary_features\": 1, \n",
    "                \"trx_summary_features\": 1\n",
    "             }, \n",
    "             join_key=\"cust_id\").show(5)"
   ]
  },
  {
   "cell_type": "markdown",
   "metadata": {},
   "source": [
    "### Advanced examples"
   ]
  },
  {
   "cell_type": "markdown",
   "metadata": {},
   "source": [
    "Getting 10 features from two different featuregroups without specifying the featuregroups"
   ]
  },
  {
   "cell_type": "code",
   "execution_count": 10,
   "metadata": {},
   "outputs": [
    {
     "name": "stdout",
     "output_type": "stream",
     "text": [
      "Running sql: use hopsworksdemo_featurestore\n",
      "Running sql: SELECT pagerank, count_trx, avg_trx, min_trx, join_date, triangle_count, number_of_accounts, max_trx, balance, birthdate FROM trx_graph_summary_features_1 JOIN trx_summary_features_1 JOIN demographic_features_1 ON trx_graph_summary_features_1.`cust_id`=trx_summary_features_1.`cust_id` AND trx_graph_summary_features_1.`cust_id`=demographic_features_1.`cust_id`\n",
      "+--------+---------+---------+---------+-------------------+--------------+------------------+---------+---------+-------------------+\n",
      "|pagerank|count_trx|  avg_trx|  min_trx|          join_date|triangle_count|number_of_accounts|  max_trx|  balance|          birthdate|\n",
      "+--------+---------+---------+---------+-------------------+--------------+------------------+---------+---------+-------------------+\n",
      "|     1.0|       16| 1090.509| 390.4109|1998-09-06 00:00:00|           5.0|                10|2094.9958|12920.496|2003-04-12 00:00:00|\n",
      "|     1.0|       16| 1090.509| 390.4109|1998-09-06 00:00:00|           5.0|                10|2094.9958|12920.496|2003-04-12 00:00:00|\n",
      "|     1.0|       16| 738.1404| 9.235389|2016-07-06 00:00:00|           5.0|                 7|1464.5397| 11096.28|1985-09-14 00:00:00|\n",
      "|     1.0|       16| 738.1404| 9.235389|2016-07-06 00:00:00|           5.0|                 7|1464.5397| 11096.28|1985-09-14 00:00:00|\n",
      "|     1.0|       30|899.89594|33.797318|1973-02-13 00:00:00|           6.0|                14|1828.2426|1868.0168|2006-09-07 00:00:00|\n",
      "+--------+---------+---------+---------+-------------------+--------------+------------------+---------+---------+-------------------+\n",
      "only showing top 5 rows"
     ]
    }
   ],
   "source": [
    "featurestore.get_features(\n",
    "    [\"pagerank\", \"triangle_count\", \"avg_trx\", \"count_trx\", \"max_trx\", \"min_trx\",\n",
    "    \"balance\", \"birthdate\", \"join_date\", \"number_of_accounts\"], \n",
    "             featurestore=featurestore.project_featurestore()).show(5)"
   ]
  },
  {
   "cell_type": "markdown",
   "metadata": {},
   "source": [
    "If you try to get features that exist in multiple featuregroups, the library will not be able to infer from which featuregroup to get the features, so you must specify the featuregroups explicitly as an argument"
   ]
  },
  {
   "cell_type": "code",
   "execution_count": 11,
   "metadata": {},
   "outputs": [
    {
     "name": "stderr",
     "output_type": "stream",
     "text": [
      "Found the feature with name 'pep' in more than one of the featuregroups of the featurestore: 'hopsworksdemo_featurestore', please specify the optional argument 'featuregroup=', the matched featuregroups were: pep_lookup_1,demographic_features_1\n",
      "Traceback (most recent call last):\n",
      "  File \"/srv/hops/anaconda/anaconda/envs/hopsworksdemo/lib/python3.6/site-packages/hops/featurestore.py\", line 325, in get_features\n",
      "    featuregroup_matched = _find_feature(feature, featurestore, featuregroups_parsed)\n",
      "  File \"/srv/hops/anaconda/anaconda/envs/hopsworksdemo/lib/python3.6/site-packages/hops/featurestore.py\", line 171, in _find_feature\n",
      "    featuregroups_matched_str))\n",
      "AssertionError: Found the feature with name 'pep' in more than one of the featuregroups of the featurestore: 'hopsworksdemo_featurestore', please specify the optional argument 'featuregroup=', the matched featuregroups were: pep_lookup_1,demographic_features_1\n",
      "\n"
     ]
    }
   ],
   "source": [
    "featurestore.get_features(\n",
    "    [\"pagerank\", \"triangle_count\", \"avg_trx\", \"count_trx\", \"max_trx\", \"min_trx\",\n",
    "    \"balance\", \"birthdate\", \"join_date\", \"number_of_accounts\", \"pep\"], \n",
    "             featurestore=featurestore.project_featurestore()).show(5)"
   ]
  },
  {
   "cell_type": "markdown",
   "metadata": {},
   "source": [
    "If we specify the featuregroup to get the feature where that exists in multiple featuregroups, the library can infer how to get the features:"
   ]
  },
  {
   "cell_type": "code",
   "execution_count": 12,
   "metadata": {},
   "outputs": [
    {
     "name": "stdout",
     "output_type": "stream",
     "text": [
      "Running sql: use hopsworksdemo_featurestore\n",
      "Running sql: SELECT pagerank, count_trx, avg_trx, min_trx, join_date, triangle_count, number_of_accounts, max_trx, pep, balance, birthdate FROM demographic_features_1 JOIN trx_graph_summary_features_1 JOIN trx_summary_features_1 ON demographic_features_1.`cust_id`=trx_graph_summary_features_1.`cust_id` AND demographic_features_1.`cust_id`=trx_summary_features_1.`cust_id`\n",
      "+--------+---------+---------+---------+-------------------+--------------+------------------+---------+-------------+---------+-------------------+\n",
      "|pagerank|count_trx|  avg_trx|  min_trx|          join_date|triangle_count|number_of_accounts|  max_trx|          pep|  balance|          birthdate|\n",
      "+--------+---------+---------+---------+-------------------+--------------+------------------+---------+-------------+---------+-------------------+\n",
      "|     1.0|       16|963.64233|166.16486|1994-11-18 00:00:00|           3.0|                11|1853.4875|1331439861760|13078.942|1987-06-08 00:00:00|\n",
      "|     1.0|       16|963.64233|166.16486|1994-11-18 00:00:00|           3.0|                11|1853.4875|1331439861760|13078.942|1987-06-08 00:00:00|\n",
      "|     1.0|       18| 746.5783| 94.94206|1977-09-14 00:00:00|          12.0|                13|1599.1217| 309237645312|12765.917|1993-03-27 00:00:00|\n",
      "|     1.0|       18| 746.5783| 94.94206|1977-09-14 00:00:00|          12.0|                13|1599.1217| 309237645312|12765.917|1993-03-27 00:00:00|\n",
      "|     1.0|       10|687.91376|31.980515|2016-01-12 00:00:00|           7.0|                11|1880.6052| 309237645312|10834.513|1976-05-15 00:00:00|\n",
      "+--------+---------+---------+---------+-------------------+--------------+------------------+---------+-------------+---------+-------------------+\n",
      "only showing top 5 rows"
     ]
    }
   ],
   "source": [
    "featurestore.get_features(\n",
    "    [\"pagerank\", \"triangle_count\", \"avg_trx\", \"count_trx\", \"max_trx\", \"min_trx\",\n",
    "    \"balance\", \"birthdate\", \"join_date\", \"number_of_accounts\", \"pep\"], \n",
    "             featurestore=featurestore.project_featurestore(),\n",
    "    featuregroups_version_dict={\n",
    "                \"trx_graph_summary_features\": 1, \n",
    "                \"trx_summary_features\": 1,\n",
    "                \"demographic_features\": 1\n",
    "             }).show(5)"
   ]
  },
  {
   "cell_type": "markdown",
   "metadata": {},
   "source": [
    "Example of getting 19 features from 5 different featuregroups: "
   ]
  },
  {
   "cell_type": "code",
   "execution_count": 13,
   "metadata": {},
   "outputs": [
    {
     "name": "stdout",
     "output_type": "stream",
     "text": [
      "Running sql: use hopsworksdemo_featurestore\n",
      "Running sql: SELECT pagerank, report_date, report_id, gender, count_trx, avg_trx, customer_type, address, time_spent_seconds, web_id, min_trx, join_date, triangle_count, number_of_accounts, action, max_trx, pep, balance, birthdate FROM demographic_features_1 JOIN trx_graph_summary_features_1 JOIN trx_summary_features_1 JOIN police_report_features_1 JOIN web_logs_features_1 ON demographic_features_1.`cust_id`=trx_graph_summary_features_1.`cust_id` AND demographic_features_1.`cust_id`=trx_summary_features_1.`cust_id` AND demographic_features_1.`cust_id`=police_report_features_1.`cust_id` AND demographic_features_1.`cust_id`=web_logs_features_1.`cust_id`\n",
      "+--------+-------------------+---------+------------+---------+--------+-------------+-------+------------------+------+--------+-------------------+--------------+------------------+------+---------+-------------+--------+-------------------+\n",
      "|pagerank|        report_date|report_id|      gender|count_trx| avg_trx|customer_type|address|time_spent_seconds|web_id| min_trx|          join_date|triangle_count|number_of_accounts|action|  max_trx|          pep| balance|          birthdate|\n",
      "+--------+-------------------+---------+------------+---------+--------+-------------+-------+------------------+------+--------+-------------------+--------------+------------------+------+---------+-------------+--------+-------------------+\n",
      "|     1.0|2004-06-03 00:00:00|       82|566935683072|       22|807.1568| 893353197568|      0|                91|  4926|64.92407|1996-05-24 00:00:00|           2.0|                12|     0|1913.4316|1331439861760|4366.695|1994-04-14 00:00:00|\n",
      "|     1.0|2004-06-03 00:00:00|       82|566935683072|       22|807.1568| 893353197568|      0|               520|  4549|64.92407|1996-05-24 00:00:00|           2.0|                12|     0|1913.4316|1331439861760|4366.695|1994-04-14 00:00:00|\n",
      "|     1.0|2004-06-03 00:00:00|       82|566935683072|       22|807.1568| 893353197568|      0|               811|  4505|64.92407|1996-05-24 00:00:00|           2.0|                12|     0|1913.4316|1331439861760|4366.695|1994-04-14 00:00:00|\n",
      "|     1.0|2004-06-03 00:00:00|       82|566935683072|       22|807.1568| 893353197568|      0|               935|  3255|64.92407|1996-05-24 00:00:00|           2.0|                12|     0|1913.4316|1331439861760|4366.695|1994-04-14 00:00:00|\n",
      "|     1.0|2004-06-03 00:00:00|       82|566935683072|       22|807.1568| 893353197568|      0|               251|  3096|64.92407|1996-05-24 00:00:00|           2.0|                12|     0|1913.4316|1331439861760|4366.695|1994-04-14 00:00:00|\n",
      "+--------+-------------------+---------+------------+---------+--------+-------------+-------+------------------+------+--------+-------------------+--------------+------------------+------+---------+-------------+--------+-------------------+\n",
      "only showing top 5 rows"
     ]
    }
   ],
   "source": [
    "featurestore.get_features(\n",
    "    [\"pagerank\", \"triangle_count\", \"avg_trx\", \"count_trx\", \"max_trx\", \"min_trx\",\n",
    "    \"balance\", \"birthdate\", \"join_date\", \"number_of_accounts\", \"pep\", \"customer_type\", \"gender\", \"web_id\",\n",
    "    \"time_spent_seconds\", \"address\", \"action\", \"report_date\", \"report_id\"], \n",
    "             featurestore=featurestore.project_featurestore(),\n",
    "    featuregroups_version_dict={\n",
    "                \"trx_graph_summary_features\": 1, \n",
    "                \"trx_summary_features\": 1,\n",
    "                \"demographic_features\": 1,\n",
    "                \"web_logs_features\": 1,\n",
    "                \"police_report_features\": 1\n",
    "             }).show(5)"
   ]
  },
  {
   "cell_type": "markdown",
   "metadata": {},
   "source": [
    "Sometimes you might want to get a feature that exist in multiple featuregroups and you want to include all of these featuregroups in your query, then you can specify from which of the featuregroup to get the feature by prepending the feature-name with the featuregroup name + '\\_version', e.g: 'demographic\\_features_1.cust_id'. If you don't specify this the query will fail as the library won't know from which of your specified featuregroups to get the feature: "
   ]
  },
  {
   "cell_type": "code",
   "execution_count": 14,
   "metadata": {},
   "outputs": [
    {
     "name": "stderr",
     "output_type": "stream",
     "text": [
      "\"Reference 'cust_id' is ambiguous, could be: demographic_features_1.cust_id, trx_graph_summary_features_1.cust_id, trx_summary_features_1.cust_id, police_report_features_1.cust_id, web_logs_features_1.cust_id.; line 1 pos 219\"\n",
      "Traceback (most recent call last):\n",
      "  File \"/srv/hops/anaconda/anaconda/envs/hopsworksdemo/lib/python3.6/site-packages/hops/featurestore.py\", line 315, in get_features\n",
      "    return _run_and_log_sql(spark, sql_str)\n",
      "  File \"/srv/hops/anaconda/anaconda/envs/hopsworksdemo/lib/python3.6/site-packages/hops/featurestore.py\", line 29, in _run_and_log_sql\n",
      "    return spark.sql(sql_str)\n",
      "  File \"/srv/hops/hopsdata/tmp/nm-local-dir/usercache/wmHx4l6IX6DR5AHnPc6B-vkoG-kzfSsDlfaLhxExZn0/appcache/application_1541520526880_0073/container_e01_1541520526880_0073_01_000001/pyspark.zip/pyspark/sql/session.py\", line 710, in sql\n",
      "    return DataFrame(self._jsparkSession.sql(sqlQuery), self._wrapped)\n",
      "  File \"/srv/hops/hopsdata/tmp/nm-local-dir/usercache/wmHx4l6IX6DR5AHnPc6B-vkoG-kzfSsDlfaLhxExZn0/appcache/application_1541520526880_0073/container_e01_1541520526880_0073_01_000001/py4j-0.10.7-src.zip/py4j/java_gateway.py\", line 1257, in __call__\n",
      "    answer, self.gateway_client, self.target_id, self.name)\n",
      "  File \"/srv/hops/hopsdata/tmp/nm-local-dir/usercache/wmHx4l6IX6DR5AHnPc6B-vkoG-kzfSsDlfaLhxExZn0/appcache/application_1541520526880_0073/container_e01_1541520526880_0073_01_000001/pyspark.zip/pyspark/sql/utils.py\", line 69, in deco\n",
      "    raise AnalysisException(s.split(': ', 1)[1], stackTrace)\n",
      "pyspark.sql.utils.AnalysisException: \"Reference 'cust_id' is ambiguous, could be: demographic_features_1.cust_id, trx_graph_summary_features_1.cust_id, trx_summary_features_1.cust_id, police_report_features_1.cust_id, web_logs_features_1.cust_id.; line 1 pos 219\"\n",
      "\n"
     ]
    }
   ],
   "source": [
    "featurestore.get_features(\n",
    "    [\"pagerank\", \"triangle_count\", \"avg_trx\", \"count_trx\", \"max_trx\", \"min_trx\",\n",
    "    \"balance\", \"birthdate\", \"join_date\", \"number_of_accounts\", \"pep\", \"customer_type\", \"gender\", \"web_id\",\n",
    "    \"time_spent_seconds\", \"address\", \"action\", \"report_date\", \"report_id\", \"cust_id\"], \n",
    "             featurestore=featurestore.project_featurestore(),\n",
    "    featuregroups_version_dict={\n",
    "                \"trx_graph_summary_features\": 1, \n",
    "                \"trx_summary_features\": 1,\n",
    "                \"demographic_features\": 1,\n",
    "                \"web_logs_features\": 1,\n",
    "                \"police_report_features\": 1\n",
    "             }).show(5)"
   ]
  },
  {
   "cell_type": "markdown",
   "metadata": {},
   "source": [
    "If we change 'cust\\_id' to 'featuregroupname\\_version.cust\\_id' it works: "
   ]
  },
  {
   "cell_type": "code",
   "execution_count": 15,
   "metadata": {},
   "outputs": [
    {
     "name": "stdout",
     "output_type": "stream",
     "text": [
      "Running sql: use hopsworksdemo_featurestore\n",
      "Running sql: SELECT pagerank, report_date, report_id, gender, demographic_features_1.cust_id, count_trx, avg_trx, customer_type, address, time_spent_seconds, web_id, min_trx, join_date, triangle_count, number_of_accounts, action, max_trx, pep, balance, birthdate FROM demographic_features_1 JOIN trx_graph_summary_features_1 JOIN trx_summary_features_1 JOIN police_report_features_1 JOIN web_logs_features_1 ON demographic_features_1.`cust_id`=trx_graph_summary_features_1.`cust_id` AND demographic_features_1.`cust_id`=trx_summary_features_1.`cust_id` AND demographic_features_1.`cust_id`=police_report_features_1.`cust_id` AND demographic_features_1.`cust_id`=web_logs_features_1.`cust_id`\n",
      "+--------+-------------------+---------+------------+-------+---------+--------+-------------+-------+------------------+------+--------+-------------------+--------------+------------------+------+---------+-------------+--------+-------------------+\n",
      "|pagerank|        report_date|report_id|      gender|cust_id|count_trx| avg_trx|customer_type|address|time_spent_seconds|web_id| min_trx|          join_date|triangle_count|number_of_accounts|action|  max_trx|          pep| balance|          birthdate|\n",
      "+--------+-------------------+---------+------------+-------+---------+--------+-------------+-------+------------------+------+--------+-------------------+--------------+------------------+------+---------+-------------+--------+-------------------+\n",
      "|     1.0|2004-06-03 00:00:00|       82|566935683072|    418|       22|807.1568| 893353197568|      0|                91|  4926|64.92407|1996-05-24 00:00:00|           2.0|                12|     0|1913.4316|1331439861760|4366.695|1994-04-14 00:00:00|\n",
      "|     1.0|2004-06-03 00:00:00|       82|566935683072|    418|       22|807.1568| 893353197568|      0|               520|  4549|64.92407|1996-05-24 00:00:00|           2.0|                12|     0|1913.4316|1331439861760|4366.695|1994-04-14 00:00:00|\n",
      "|     1.0|2004-06-03 00:00:00|       82|566935683072|    418|       22|807.1568| 893353197568|      0|               811|  4505|64.92407|1996-05-24 00:00:00|           2.0|                12|     0|1913.4316|1331439861760|4366.695|1994-04-14 00:00:00|\n",
      "|     1.0|2004-06-03 00:00:00|       82|566935683072|    418|       22|807.1568| 893353197568|      0|               935|  3255|64.92407|1996-05-24 00:00:00|           2.0|                12|     0|1913.4316|1331439861760|4366.695|1994-04-14 00:00:00|\n",
      "|     1.0|2004-06-03 00:00:00|       82|566935683072|    418|       22|807.1568| 893353197568|      0|               251|  3096|64.92407|1996-05-24 00:00:00|           2.0|                12|     0|1913.4316|1331439861760|4366.695|1994-04-14 00:00:00|\n",
      "+--------+-------------------+---------+------------+-------+---------+--------+-------------+-------+------------------+------+--------+-------------------+--------------+------------------+------+---------+-------------+--------+-------------------+\n",
      "only showing top 5 rows"
     ]
    }
   ],
   "source": [
    "featurestore.get_features(\n",
    "    [\"pagerank\", \"triangle_count\", \"avg_trx\", \"count_trx\", \"max_trx\", \"min_trx\",\n",
    "    \"balance\", \"birthdate\", \"join_date\", \"number_of_accounts\", \"pep\", \"customer_type\", \"gender\", \"web_id\",\n",
    "    \"time_spent_seconds\", \"address\", \"action\", \"report_date\", \"report_id\", \"demographic_features_1.cust_id\"], \n",
    "             featurestore=featurestore.project_featurestore(),\n",
    "    featuregroups_version_dict={\n",
    "                \"trx_graph_summary_features\": 1, \n",
    "                \"trx_summary_features\": 1,\n",
    "                \"demographic_features\": 1,\n",
    "                \"web_logs_features\": 1,\n",
    "                \"police_report_features\": 1\n",
    "             }).show(5)"
   ]
  },
  {
   "cell_type": "markdown",
   "metadata": {},
   "source": [
    "## Free Query Feature Store"
   ]
  },
  {
   "cell_type": "markdown",
   "metadata": {},
   "source": [
    "For complex queries that cannot be inferred by the helper functions, enter the sql directly to the method `featurestore.sql()` it will default to the project specific feature store but you can also specify it explicitly."
   ]
  },
  {
   "cell_type": "markdown",
   "metadata": {},
   "source": [
    "Without specifying the featurestore it will default to the project-specific featurestore:"
   ]
  },
  {
   "cell_type": "code",
   "execution_count": 16,
   "metadata": {},
   "outputs": [
    {
     "name": "stdout",
     "output_type": "stream",
     "text": [
      "Running sql: use hopsworksdemo_featurestore\n",
      "Running sql: SELECT * FROM trx_graph_summary_features_1 WHERE triangle_count > 5\n",
      "+-------+--------+--------------+\n",
      "|cust_id|pagerank|triangle_count|\n",
      "+-------+--------+--------------+\n",
      "|     29|     1.0|          12.0|\n",
      "|    474|     1.0|           7.0|\n",
      "|     65|     1.0|          12.0|\n",
      "|    222|     1.0|          13.0|\n",
      "|    270|     1.0|           8.0|\n",
      "+-------+--------+--------------+\n",
      "only showing top 5 rows"
     ]
    }
   ],
   "source": [
    "featurestore.sql(\"SELECT * FROM trx_graph_summary_features_1 WHERE triangle_count > 5\").show(5)"
   ]
  },
  {
   "cell_type": "markdown",
   "metadata": {},
   "source": [
    "You can also specify the featurestore to query explicitly:"
   ]
  },
  {
   "cell_type": "code",
   "execution_count": 17,
   "metadata": {},
   "outputs": [
    {
     "name": "stdout",
     "output_type": "stream",
     "text": [
      "Running sql: use hopsworksdemo_featurestore\n",
      "Running sql: SELECT * FROM trx_graph_summary_features_1 WHERE triangle_count > 5\n",
      "+-------+--------+--------------+\n",
      "|cust_id|pagerank|triangle_count|\n",
      "+-------+--------+--------------+\n",
      "|     29|     1.0|          12.0|\n",
      "|    474|     1.0|           7.0|\n",
      "|     65|     1.0|          12.0|\n",
      "|    222|     1.0|          13.0|\n",
      "|    270|     1.0|           8.0|\n",
      "+-------+--------+--------------+\n",
      "only showing top 5 rows"
     ]
    }
   ],
   "source": [
    "featurestore.sql(\"SELECT * FROM trx_graph_summary_features_1 WHERE triangle_count > 5\", \n",
    "                 featurestore=featurestore.project_featurestore()).show(5)"
   ]
  },
  {
   "cell_type": "markdown",
   "metadata": {},
   "source": [
    "## Write to the Feature Store"
   ]
  },
  {
   "cell_type": "markdown",
   "metadata": {},
   "source": [
    "Lets first get some sample data to insert"
   ]
  },
  {
   "cell_type": "code",
   "execution_count": 18,
   "metadata": {},
   "outputs": [],
   "source": [
    "from pyspark.sql import SQLContext\n",
    "import pandas as pd\n",
    "from pyspark.sql.types import StructType, StructField, StringType, TimestampType, LongType\n",
    "sqlContext = SQLContext(sc)\n",
    "schema = StructType([StructField(\"id\", LongType(), True),\n",
    "                         StructField(\"customer_type\", StringType(), True)\n",
    "                        ])\n",
    "sampleDf = sqlContext.createDataFrame([(3, \"hops_customer_1\"), (4, \"hops_customer_2\")], schema)"
   ]
  },
  {
   "cell_type": "code",
   "execution_count": 19,
   "metadata": {},
   "outputs": [
    {
     "name": "stdout",
     "output_type": "stream",
     "text": [
      "+---+---------------+\n",
      "| id|  customer_type|\n",
      "+---+---------------+\n",
      "|  3|hops_customer_1|\n",
      "|  4|hops_customer_2|\n",
      "+---+---------------+"
     ]
    }
   ],
   "source": [
    "sampleDf.show()"
   ]
  },
  {
   "cell_type": "markdown",
   "metadata": {},
   "source": [
    "Lets inspect the contents of the featuregroup 'customer_type_lookup' that we are going to insert the sample data into"
   ]
  },
  {
   "cell_type": "code",
   "execution_count": 20,
   "metadata": {},
   "outputs": [
    {
     "name": "stdout",
     "output_type": "stream",
     "text": [
      "Running sql: use hopsworksdemo_featurestore\n",
      "Running sql: SELECT * FROM customer_type_lookup_1"
     ]
    }
   ],
   "source": [
    "sparkDf = featurestore.get_featuregroup(\"customer_type_lookup\")"
   ]
  },
  {
   "cell_type": "code",
   "execution_count": 21,
   "metadata": {},
   "outputs": [
    {
     "name": "stdout",
     "output_type": "stream",
     "text": [
      "+-------------+------------+\n",
      "|customer_type|          id|\n",
      "+-------------+------------+\n",
      "|    corporate|420906795008|\n",
      "|      private|893353197568|\n",
      "+-------------+------------+"
     ]
    }
   ],
   "source": [
    "sparkDf.show()"
   ]
  },
  {
   "cell_type": "code",
   "execution_count": 22,
   "metadata": {},
   "outputs": [
    {
     "name": "stdout",
     "output_type": "stream",
     "text": [
      "2"
     ]
    }
   ],
   "source": [
    "sparkDf.count()"
   ]
  },
  {
   "cell_type": "markdown",
   "metadata": {},
   "source": [
    "Now we can insert the sample data and verify the new contents of the featuregroup. By default the insert mode is \"append\", the featurestore is the project's featurestore and the version is 1"
   ]
  },
  {
   "cell_type": "code",
   "execution_count": 23,
   "metadata": {},
   "outputs": [
    {
     "name": "stdout",
     "output_type": "stream",
     "text": [
      "Running sql: use hopsworksdemo_featurestore"
     ]
    }
   ],
   "source": [
    "featurestore.insert_into_featuregroup(sampleDf, \"customer_type_lookup\")"
   ]
  },
  {
   "cell_type": "code",
   "execution_count": 24,
   "metadata": {},
   "outputs": [
    {
     "name": "stdout",
     "output_type": "stream",
     "text": [
      "Running sql: use hopsworksdemo_featurestore\n",
      "Running sql: SELECT * FROM customer_type_lookup_1\n",
      "+---------------+------------+\n",
      "|  customer_type|          id|\n",
      "+---------------+------------+\n",
      "|hops_customer_1|           3|\n",
      "|hops_customer_2|           4|\n",
      "|      corporate|420906795008|\n",
      "|        private|893353197568|\n",
      "+---------------+------------+"
     ]
    }
   ],
   "source": [
    "featurestore.get_featuregroup(\"customer_type_lookup\").show()"
   ]
  },
  {
   "cell_type": "code",
   "execution_count": 25,
   "metadata": {},
   "outputs": [
    {
     "name": "stdout",
     "output_type": "stream",
     "text": [
      "Running sql: use hopsworksdemo_featurestore\n",
      "Running sql: SELECT * FROM customer_type_lookup_1\n",
      "4"
     ]
    }
   ],
   "source": [
    "featurestore.get_featuregroup(\"customer_type_lookup\").count()"
   ]
  },
  {
   "cell_type": "markdown",
   "metadata": {},
   "source": [
    "You can also explicitly specify featurestore, featuregroup version, and the insert mode:"
   ]
  },
  {
   "cell_type": "code",
   "execution_count": 26,
   "metadata": {},
   "outputs": [
    {
     "name": "stdout",
     "output_type": "stream",
     "text": [
      "Running sql: use hopsworksdemo_featurestore"
     ]
    }
   ],
   "source": [
    "featurestore.insert_into_featuregroup(sampleDf, \n",
    "                         \"customer_type_lookup\", \n",
    "                         featurestore=featurestore.project_featurestore(), \n",
    "                         featuregroup_version=1, \n",
    "                         mode=\"append\")"
   ]
  },
  {
   "cell_type": "code",
   "execution_count": 27,
   "metadata": {},
   "outputs": [
    {
     "name": "stdout",
     "output_type": "stream",
     "text": [
      "Running sql: use hopsworksdemo_featurestore\n",
      "Running sql: SELECT * FROM customer_type_lookup_1\n",
      "+---------------+------------+\n",
      "|  customer_type|          id|\n",
      "+---------------+------------+\n",
      "|hops_customer_1|           3|\n",
      "|hops_customer_1|           3|\n",
      "|hops_customer_2|           4|\n",
      "|hops_customer_2|           4|\n",
      "|      corporate|420906795008|\n",
      "|        private|893353197568|\n",
      "+---------------+------------+"
     ]
    }
   ],
   "source": [
    "featurestore.get_featuregroup(\"customer_type_lookup\").show()"
   ]
  },
  {
   "cell_type": "markdown",
   "metadata": {},
   "source": [
    "The two supported insert modes are \"append\" and \"overwrite\""
   ]
  },
  {
   "cell_type": "code",
   "execution_count": 28,
   "metadata": {},
   "outputs": [
    {
     "name": "stdout",
     "output_type": "stream",
     "text": [
      "Running sql: use hopsworksdemo_featurestore"
     ]
    }
   ],
   "source": [
    "featurestore.insert_into_featuregroup(sampleDf, \n",
    "                         \"customer_type_lookup\", \n",
    "                         featurestore=featurestore.project_featurestore(), \n",
    "                         featuregroup_version=1, \n",
    "                         mode=\"overwrite\")"
   ]
  },
  {
   "cell_type": "code",
   "execution_count": 29,
   "metadata": {},
   "outputs": [
    {
     "name": "stdout",
     "output_type": "stream",
     "text": [
      "Running sql: use hopsworksdemo_featurestore\n",
      "Running sql: SELECT * FROM customer_type_lookup_1\n",
      "+---------------+---+\n",
      "|  customer_type| id|\n",
      "+---------------+---+\n",
      "|hops_customer_1|  3|\n",
      "|hops_customer_2|  4|\n",
      "+---------------+---+"
     ]
    }
   ],
   "source": [
    "featurestore.get_featuregroup(\"customer_type_lookup\").show()"
   ]
  },
  {
   "cell_type": "markdown",
   "metadata": {},
   "source": [
    "## Get Featurestore Metadata\n",
    "To explore the contents of the featurestore we recommend using the featurestore page in the Hopsworks UI but you can also get the metadata programmatically from the REST API with the following method"
   ]
  },
  {
   "cell_type": "code",
   "execution_count": 30,
   "metadata": {},
   "outputs": [
    {
     "name": "stdout",
     "output_type": "stream",
     "text": [
      "[{'featuregroupId': 46, 'featuregroupName': 'customer_type_lookup', 'featurestoreId': 1, 'featurestoreName': 'hopsworksdemo_featurestore', 'description': 'lookup table for id to customer type, used when converting from numeric to categrorical representation and vice verse', 'inputDataset': 'hdfs:///Projects/hopsworksdemo/sample_data/kyc.csv', 'hdfsStorePaths': ['hdfs://10.0.2.15:8020/apps/hive/warehouse/hopsworksdemo_featurestore.db/customer_type_lookup_1'], 'created': '2018-11-08-09:55:23', 'creator': 'admin@kth.se', 'features': [{'name': 'customer_type', 'type': 'string', 'description': 'The categorical customer_type', 'primary': False}, {'name': 'id', 'type': 'bigint', 'description': 'The numeric id of the customer_type', 'primary': True}], 'jobId': 20, 'jobName': 'customer_type_lookup_job', 'lastComputed': '2018-11-08-09:51:10', 'jobStatus': 'Succeeded', 'version': 1}, {'featuregroupId': 21, 'featuregroupName': 'pep_lookup', 'featurestoreId': 1, 'featurestoreName': 'hopsworksdemo_featurestore', 'description': 'lookup table for id to pep type, used when converting from numeric to categrorical representation and vice verse', 'inputDataset': 'hdfs:///Projects/hopsworksdemo/sample_data/kyc.csv', 'hdfsStorePaths': ['hdfs://10.0.2.15:8020/apps/hive/warehouse/hopsworksdemo_featurestore.db/pep_lookup_1'], 'created': '2018-11-06-05:48:10', 'creator': 'admin@kth.se', 'features': [{'name': 'id', 'type': 'bigint', 'description': 'The numeric id of the pep_lookup', 'primary': True}, {'name': 'pep', 'type': 'string', 'description': 'The categorical pep', 'primary': False}], 'jobId': 21, 'jobName': 'pep_lookup_job', 'lastComputed': '2018-11-06-06:09:18', 'jobStatus': 'Succeeded', 'version': 1}, {'featuregroupId': 22, 'featuregroupName': 'gender_lookup', 'featurestoreId': 1, 'featurestoreName': 'hopsworksdemo_featurestore', 'description': 'lookup table for id to gender type, used when converting from numeric to categrorical representation and vice verse', 'inputDataset': 'hdfs:///Projects/hopsworksdemo/sample_data/kyc.csv', 'hdfsStorePaths': ['hdfs://10.0.2.15:8020/apps/hive/warehouse/hopsworksdemo_featurestore.db/gender_lookup_1'], 'created': '2018-11-06-05:48:12', 'creator': 'admin@kth.se', 'features': [{'name': 'gender', 'type': 'string', 'description': 'The categorical gender', 'primary': False}, {'name': 'id', 'type': 'bigint', 'description': 'The numeric id of the gender', 'primary': True}], 'jobId': 22, 'jobName': 'gender_lookup_job', 'lastComputed': '2018-11-06-06:08:28', 'jobStatus': 'Succeeded', 'version': 1}, {'featuregroupId': 23, 'featuregroupName': 'trx_type_lookup', 'featurestoreId': 1, 'featurestoreName': 'hopsworksdemo_featurestore', 'description': 'lookup table for id to trx_type type, used when converting from numeric to categorical representation and vice verse', 'inputDataset': 'hdfs:///Projects/hopsworksdemo/sample_data/trx.csv', 'hdfsStorePaths': ['hdfs://10.0.2.15:8020/apps/hive/warehouse/hopsworksdemo_featurestore.db/trx_type_lookup_1'], 'created': '2018-11-06-05:48:14', 'creator': 'admin@kth.se', 'features': [{'name': 'id', 'type': 'bigint', 'description': 'The numeric id of the transaction type', 'primary': True}, {'name': 'trx_type', 'type': 'string', 'description': 'The categorical transaction type', 'primary': False}], 'jobId': 23, 'jobName': 'trx_type_lookup_job', 'lastComputed': '2018-11-06-06:07:21', 'jobStatus': 'Succeeded', 'version': 1}, {'featuregroupId': 24, 'featuregroupName': 'country_lookup', 'featurestoreId': 1, 'featurestoreName': 'hopsworksdemo_featurestore', 'description': 'lookup table for id to country, used when converting from numeric to categorical representation and vice verse', 'inputDataset': 'hdfs:///Projects/hopsworksdemo/sample_data/trx.csv', 'hdfsStorePaths': ['hdfs://10.0.2.15:8020/apps/hive/warehouse/hopsworksdemo_featurestore.db/country_lookup_1'], 'created': '2018-11-06-05:48:16', 'creator': 'admin@kth.se', 'features': [{'name': 'id', 'type': 'bigint', 'description': 'The numeric id of the country', 'primary': True}, {'name': 'trx_country', 'type': 'string', 'description': 'The categorical country', 'primary': False}], 'jobId': 24, 'jobName': 'country_lookup_job', 'lastComputed': '2018-11-06-06:06:31', 'jobStatus': 'Succeeded', 'version': 1}, {'featuregroupId': 25, 'featuregroupName': 'industry_sector_lookup', 'featurestoreId': 1, 'featurestoreName': 'hopsworksdemo_featurestore', 'description': 'lookup table for id to industry_sector, used when converting from numeric to categorical representation and vice verse', 'inputDataset': 'hdfs:///Projects/hopsworksdemo/sample_data/hipo.csv', 'hdfsStorePaths': ['hdfs://10.0.2.15:8020/apps/hive/warehouse/hopsworksdemo_featurestore.db/industry_sector_lookup_1'], 'created': '2018-11-06-05:48:18', 'creator': 'admin@kth.se', 'features': [{'name': 'id', 'type': 'bigint', 'description': 'The numeric id of the industry_sector', 'primary': True}, {'name': 'industry_sector', 'type': 'string', 'description': 'The categorical industry_sector', 'primary': False}], 'jobId': 25, 'jobName': 'industry_sector_lookup_job', 'lastComputed': '2018-11-06-06:00:41', 'jobStatus': 'Succeeded', 'version': 1}, {'featuregroupId': 26, 'featuregroupName': 'alert_type_lookup', 'featurestoreId': 1, 'featurestoreName': 'hopsworksdemo_featurestore', 'description': 'lookup table for id to alert_type, used when converting from numeric to categorical representation and vice verse', 'inputDataset': 'hdfs:///Projects/hopsworksdemo/sample_data/alerts.csv', 'hdfsStorePaths': ['hdfs://10.0.2.15:8020/apps/hive/warehouse/hopsworksdemo_featurestore.db/alert_type_lookup_1'], 'created': '2018-11-06-05:48:20', 'creator': 'admin@kth.se', 'features': [{'name': 'alert_type', 'type': 'string', 'description': 'The categorical alert_type', 'primary': False}, {'name': 'id', 'type': 'bigint', 'description': 'The numeric id of the alert_type', 'primary': True}], 'jobId': 26, 'jobName': 'alert_type_lookup_job', 'lastComputed': '2018-11-06-05:59:09', 'jobStatus': 'Succeeded', 'version': 1}, {'featuregroupId': 27, 'featuregroupName': 'rule_name_lookup', 'featurestoreId': 1, 'featurestoreName': 'hopsworksdemo_featurestore', 'description': 'lookup table for id to rule_name of an alert, used when converting from numeric to categorical representation and vice verse', 'inputDataset': 'hdfs:///Projects/hopsworksdemo/sample_data/alerts.csv', 'hdfsStorePaths': ['hdfs://10.0.2.15:8020/apps/hive/warehouse/hopsworksdemo_featurestore.db/rule_name_lookup_1'], 'created': '2018-11-06-05:48:22', 'creator': 'admin@kth.se', 'features': [{'name': 'id', 'type': 'bigint', 'description': 'The numeric id of the rule_name', 'primary': True}, {'name': 'rule_name', 'type': 'string', 'description': 'The categorical rule_name', 'primary': False}], 'jobId': 27, 'jobName': 'rule_name_lookup_job', 'lastComputed': '2018-11-06-05:56:46', 'jobStatus': 'Succeeded', 'version': 1}, {'featuregroupId': 28, 'featuregroupName': 'web_address_lookup', 'featurestoreId': 1, 'featurestoreName': 'hopsworksdemo_featurestore', 'description': 'lookup table for id to web_address, used when converting from numeric to categorical representation and vice verse', 'inputDataset': 'hdfs:///Projects/hopsworksdemo/sample_data/web_logs.csv', 'hdfsStorePaths': ['hdfs://10.0.2.15:8020/apps/hive/warehouse/hopsworksdemo_featurestore.db/web_address_lookup_1'], 'created': '2018-11-06-05:48:24', 'creator': 'admin@kth.se', 'features': [{'name': 'id', 'type': 'bigint', 'description': 'The numeric id of the web_address', 'primary': True}, {'name': 'web_address', 'type': 'string', 'description': 'The categorical web_address', 'primary': False}], 'jobId': 28, 'jobName': 'web_address_lookup_job', 'lastComputed': '2018-11-07-11:20:14', 'jobStatus': 'Succeeded', 'version': 1}, {'featuregroupId': 29, 'featuregroupName': 'browser_action_lookup', 'featurestoreId': 1, 'featurestoreName': 'hopsworksdemo_featurestore', 'description': 'lookup table for id to browser_action, used when converting from numeric to categorical representation and vice verse', 'inputDataset': 'hdfs:///Projects/hopsworksdemo/sample_data/web_logs.csv', 'hdfsStorePaths': ['hdfs://10.0.2.15:8020/apps/hive/warehouse/hopsworksdemo_featurestore.db/browser_action_lookup_1'], 'created': '2018-11-06-05:48:26', 'creator': 'admin@kth.se', 'features': [{'name': 'browser_action', 'type': 'string', 'description': 'The categorical browser_action', 'primary': False}, {'name': 'id', 'type': 'bigint', 'description': 'The numeric id of the browser_action', 'primary': True}], 'jobId': 29, 'jobName': 'browser_action_lookup_job', 'lastComputed': '2018-11-07-12:22:26', 'jobStatus': 'Succeeded', 'version': 1}, {'featuregroupId': 30, 'featuregroupName': 'demographic_features', 'featurestoreId': 1, 'featurestoreName': 'hopsworksdemo_featurestore', 'description': 'preprocessed features from the KYC table', 'inputDataset': 'hdfs:///Projects/hopsworksdemo/sample_data/kyc.csv', 'hdfsStorePaths': ['hdfs://10.0.2.15:8020/apps/hive/warehouse/hopsworksdemo_featurestore.db/demographic_features_1'], 'created': '2018-11-06-05:48:28', 'creator': 'admin@kth.se', 'features': [{'name': 'balance', 'type': 'float', 'description': 'the balance of the customer', 'primary': False}, {'name': 'birthdate', 'type': 'timestamp', 'description': 'the birthdate of the customer', 'primary': False}, {'name': 'customer_type', 'type': 'bigint', 'description': 'the type of customer', 'primary': False}, {'name': 'cust_id', 'type': 'int', 'description': 'The id of the customer', 'primary': True}, {'name': 'gender', 'type': 'bigint', 'description': 'the gender of the customer', 'primary': False}, {'name': 'join_date', 'type': 'timestamp', 'description': 'the date that the customer joined Swedbank', 'primary': False}, {'name': 'number_of_accounts', 'type': 'int', 'description': 'the number of Swedbank accounts of the customer', 'primary': False}, {'name': 'pep', 'type': 'bigint', 'description': 'whether the person is a PEP or not', 'primary': False}], 'jobId': 30, 'jobName': 'demographic_features_job', 'lastComputed': '2018-11-07-07:53:59', 'jobStatus': 'Succeeded', 'version': 1}, {'featuregroupId': 31, 'featuregroupName': 'trx_graph_edge_list', 'featurestoreId': 1, 'featurestoreName': 'hopsworksdemo_featurestore', 'description': 'The edge list of the transactions graph', 'inputDataset': 'hdfs:///Projects/hopsworksdemo/sample_data/trx.csv', 'hdfsStorePaths': ['hdfs://10.0.2.15:8020/apps/hive/warehouse/hopsworksdemo_featurestore.db/trx_graph_edge_list_1'], 'created': '2018-11-06-05:48:30', 'creator': 'admin@kth.se', 'features': [{'name': 'amount', 'type': 'float', 'description': 'The amount transferred in the transaction', 'primary': False}, {'name': 'cust_id_1', 'type': 'int', 'description': 'The customer making the transaction', 'primary': True}, {'name': 'cust_id_2', 'type': 'int', 'description': 'The customer receiving the transaction', 'primary': False}], 'jobId': 31, 'jobName': 'trx_graph_edge_list_job', 'lastComputed': '2018-11-06-06:13:56', 'jobStatus': 'Succeeded', 'version': 1}, {'featuregroupId': 32, 'featuregroupName': 'trx_graph_summary_features', 'featurestoreId': 1, 'featurestoreName': 'hopsworksdemo_featurestore', 'description': 'Contain aggregate graph features of a customers transactions', 'inputDataset': 'hdfs:///Projects/hopsworksdemo/sample_data/trx.csv', 'hdfsStorePaths': ['hdfs://10.0.2.15:8020/apps/hive/warehouse/hopsworksdemo_featurestore.db/trx_graph_summary_features_1'], 'created': '2018-11-06-05:48:32', 'creator': 'admin@kth.se', 'features': [{'name': 'cust_id', 'type': 'int', 'description': 'Id of the customer', 'primary': True}, {'name': 'pagerank', 'type': 'float', 'description': 'The pagerank of the customer in the transaction graph', 'primary': False}, {'name': 'triangle_count', 'type': 'float', 'description': 'The triangle count of the customer in the transaction graph', 'primary': False}], 'jobId': 32, 'jobName': 'trx_graph_summary_features_job', 'lastComputed': '2018-11-06-06:30:02', 'jobStatus': 'Succeeded', 'version': 1}, {'featuregroupId': 33, 'featuregroupName': 'trx_features', 'featurestoreId': 1, 'featurestoreName': 'hopsworksdemo_featurestore', 'description': 'Features for single transactions', 'inputDataset': 'hdfs:///Projects/hopsworksdemo/sample_data/trx.csv', 'hdfsStorePaths': ['hdfs://10.0.2.15:8020/apps/hive/warehouse/hopsworksdemo_featurestore.db/trx_features_1'], 'created': '2018-11-06-05:48:34', 'creator': 'admin@kth.se', 'features': [{'name': 'cust_id_in', 'type': 'int', 'description': 'The cust_id of the customer making the transaction', 'primary': False}, {'name': 'cust_id_out', 'type': 'int', 'description': 'The id of the customer receiving the transaction', 'primary': False}, {'name': 'trx_amount', 'type': 'float', 'description': 'The amount of money transferred in the transaction', 'primary': False}, {'name': 'trx_bankid', 'type': 'int', 'description': 'The bankid of the customer making the transaction', 'primary': False}, {'name': 'trx_clearingnum', 'type': 'int', 'description': 'The clearingnumber of the customer making the transaction', 'primary': False}, {'name': 'trx_country', 'type': 'bigint', 'description': 'The country of the customer making the transaction', 'primary': False}, {'name': 'trx_date', 'type': 'timestamp', 'description': 'The date of the transaction', 'primary': False}, {'name': 'trx_id', 'type': 'int', 'description': 'The id of the transaction', 'primary': True}, {'name': 'trx_type', 'type': 'bigint', 'description': 'The type of the transaction', 'primary': False}], 'jobId': 33, 'jobName': 'trx_features_job', 'lastComputed': '2018-11-06-06:18:42', 'jobStatus': 'Succeeded', 'version': 1}, {'featuregroupId': 34, 'featuregroupName': 'trx_summary_features', 'featurestoreId': 1, 'featurestoreName': 'hopsworksdemo_featurestore', 'description': 'Aggregate of transactions for customers', 'inputDataset': 'hdfs:///Projects/hopsworksdemo/sample_data/trx.csv', 'hdfsStorePaths': ['hdfs://10.0.2.15:8020/apps/hive/warehouse/hopsworksdemo_featurestore.db/trx_summary_features_1'], 'created': '2018-11-06-05:48:36', 'creator': 'admin@kth.se', 'features': [{'name': 'avg_trx', 'type': 'float', 'description': 'The average transaction amount of the customer', 'primary': False}, {'name': 'count_trx', 'type': 'bigint', 'description': 'The number of transactions made by the customer', 'primary': False}, {'name': 'cust_id', 'type': 'int', 'description': 'Id of the customer', 'primary': True}, {'name': 'max_trx', 'type': 'float', 'description': 'The maximum transaction amount made by the customer', 'primary': False}, {'name': 'min_trx', 'type': 'float', 'description': 'The minimum transaction amount made by the customer', 'primary': False}], 'jobId': 34, 'jobName': 'trx_summary_features_job', 'lastComputed': '2018-11-06-06:28:19', 'jobStatus': 'Succeeded', 'version': 1}, {'featuregroupId': 35, 'featuregroupName': 'hipo_features', 'featurestoreId': 1, 'featurestoreName': 'hopsworksdemo_featurestore', 'description': 'Features on corporate customers', 'inputDataset': 'hdfs:///Projects/hopsworksdemo/sample_data/hipo.csv', 'hdfsStorePaths': ['hdfs://10.0.2.15:8020/apps/hive/warehouse/hopsworksdemo_featurestore.db/hipo_features_1'], 'created': '2018-11-06-05:48:38', 'creator': 'admin@kth.se', 'features': [{'name': 'corporate_id', 'type': 'int', 'description': 'id of the corporate customer', 'primary': True}, {'name': 'externa_kostnader', 'type': 'float', 'description': 'The amount paid to external accounts by the corporate', 'primary': False}, {'name': 'industry_sector', 'type': 'int', 'description': 'The line of business of the corporate', 'primary': False}, {'name': 'netomsettning_1year', 'type': 'float', 'description': 'The net turnover for the first year of the corporate', 'primary': False}, {'name': 'netomsettning_2year', 'type': 'float', 'description': 'The net turnover for the frist two years of the corporate', 'primary': False}, {'name': 'netomsettning_3year', 'type': 'float', 'description': 'The net turnover for the first three years of the corporate', 'primary': False}], 'jobId': 35, 'jobName': 'hipo_features_job', 'lastComputed': '2018-11-06-06:17:56', 'jobStatus': 'Succeeded', 'version': 1}, {'featuregroupId': 36, 'featuregroupName': 'alert_features', 'featurestoreId': 1, 'featurestoreName': 'hopsworksdemo_featurestore', 'description': 'Features from transaction alerts', 'inputDataset': 'hdfs:///Projects/hopsworksdemo/sample_data/alerts.csv', 'hdfsStorePaths': ['hdfs://10.0.2.15:8020/apps/hive/warehouse/hopsworksdemo_featurestore.db/alert_features_1'], 'created': '2018-11-06-05:48:40', 'creator': 'admin@kth.se', 'features': [{'name': 'alert_date', 'type': 'timestamp', 'description': 'The date of the alert', 'primary': False}, {'name': 'alert_id', 'type': 'int', 'description': 'The id of the alert', 'primary': True}, {'name': 'alert_score', 'type': 'float', 'description': 'The score of the alert indicating how severe the alert was', 'primary': False}, {'name': 'alert_type', 'type': 'int', 'description': 'The type of the alert, e.g TERRORISM', 'primary': False}, {'name': 'rule_name', 'type': 'int', 'description': 'The name of the rule that fired the alert', 'primary': False}, {'name': 'trx_id', 'type': 'int', 'description': 'The id of the transaction that was alerted', 'primary': False}], 'jobId': 36, 'jobName': 'alert_features_job', 'lastComputed': '2018-11-06-06:17:12', 'jobStatus': 'Succeeded', 'version': 1}, {'featuregroupId': 37, 'featuregroupName': 'police_report_features', 'featurestoreId': 1, 'featurestoreName': 'hopsworksdemo_featurestore', 'description': 'Features on customers reported to the police', 'inputDataset': 'hdfs:///Projects/hopsworksdemo/sample_data/police_reports.csv', 'hdfsStorePaths': ['hdfs://10.0.2.15:8020/apps/hive/warehouse/hopsworksdemo_featurestore.db/police_report_features_1'], 'created': '2018-11-06-05:48:43', 'creator': 'admin@kth.se', 'features': [{'name': 'cust_id', 'type': 'int', 'description': 'The id of the reported customer', 'primary': False}, {'name': 'report_date', 'type': 'timestamp', 'description': 'The date the customer was reported', 'primary': False}, {'name': 'report_id', 'type': 'int', 'description': 'The id of the report', 'primary': True}], 'jobId': 37, 'jobName': 'police_report_features_job', 'lastComputed': '2018-11-06-06:14:53', 'jobStatus': 'Succeeded', 'version': 1}, {'featuregroupId': 38, 'featuregroupName': 'web_logs_features', 'featurestoreId': 1, 'featurestoreName': 'hopsworksdemo_featurestore', 'description': 'Features on web logs recording customers activity with the internet bank', 'inputDataset': 'hdfs:///Projects/hopsworksdemo/sample_data/web_logs.csv', 'hdfsStorePaths': ['hdfs://10.0.2.15:8020/apps/hive/warehouse/hopsworksdemo_featurestore.db/web_logs_features_1'], 'created': '2018-11-06-05:48:45', 'creator': 'admin@kth.se', 'features': [{'name': 'action', 'type': 'int', 'description': 'The type of web action', 'primary': False}, {'name': 'address', 'type': 'int', 'description': 'IP address used by the customer', 'primary': False}, {'name': 'cust_id', 'type': 'int', 'description': 'Id of the customer', 'primary': False}, {'name': 'time_spent_seconds', 'type': 'int', 'description': 'Number of seconds the web session was active', 'primary': False}, {'name': 'web_id', 'type': 'int', 'description': 'Id of the web activity', 'primary': True}], 'jobId': 38, 'jobName': 'web_logs_features_job', 'lastComputed': '2018-11-06-06:12:33', 'jobStatus': 'Succeeded', 'version': 1}]"
     ]
    }
   ],
   "source": [
    "featurestore.get_featurestore_metadata()"
   ]
  },
  {
   "cell_type": "code",
   "execution_count": 31,
   "metadata": {},
   "outputs": [
    {
     "name": "stdout",
     "output_type": "stream",
     "text": [
      "[{'featuregroupId': 46, 'featuregroupName': 'customer_type_lookup', 'featurestoreId': 1, 'featurestoreName': 'hopsworksdemo_featurestore', 'description': 'lookup table for id to customer type, used when converting from numeric to categrorical representation and vice verse', 'inputDataset': 'hdfs:///Projects/hopsworksdemo/sample_data/kyc.csv', 'hdfsStorePaths': ['hdfs://10.0.2.15:8020/apps/hive/warehouse/hopsworksdemo_featurestore.db/customer_type_lookup_1'], 'created': '2018-11-08-09:55:23', 'creator': 'admin@kth.se', 'features': [{'name': 'customer_type', 'type': 'string', 'description': 'The categorical customer_type', 'primary': False}, {'name': 'id', 'type': 'bigint', 'description': 'The numeric id of the customer_type', 'primary': True}], 'jobId': 20, 'jobName': 'customer_type_lookup_job', 'lastComputed': '2018-11-08-09:51:10', 'jobStatus': 'Succeeded', 'version': 1}, {'featuregroupId': 21, 'featuregroupName': 'pep_lookup', 'featurestoreId': 1, 'featurestoreName': 'hopsworksdemo_featurestore', 'description': 'lookup table for id to pep type, used when converting from numeric to categrorical representation and vice verse', 'inputDataset': 'hdfs:///Projects/hopsworksdemo/sample_data/kyc.csv', 'hdfsStorePaths': ['hdfs://10.0.2.15:8020/apps/hive/warehouse/hopsworksdemo_featurestore.db/pep_lookup_1'], 'created': '2018-11-06-05:48:10', 'creator': 'admin@kth.se', 'features': [{'name': 'id', 'type': 'bigint', 'description': 'The numeric id of the pep_lookup', 'primary': True}, {'name': 'pep', 'type': 'string', 'description': 'The categorical pep', 'primary': False}], 'jobId': 21, 'jobName': 'pep_lookup_job', 'lastComputed': '2018-11-06-06:09:18', 'jobStatus': 'Succeeded', 'version': 1}, {'featuregroupId': 22, 'featuregroupName': 'gender_lookup', 'featurestoreId': 1, 'featurestoreName': 'hopsworksdemo_featurestore', 'description': 'lookup table for id to gender type, used when converting from numeric to categrorical representation and vice verse', 'inputDataset': 'hdfs:///Projects/hopsworksdemo/sample_data/kyc.csv', 'hdfsStorePaths': ['hdfs://10.0.2.15:8020/apps/hive/warehouse/hopsworksdemo_featurestore.db/gender_lookup_1'], 'created': '2018-11-06-05:48:12', 'creator': 'admin@kth.se', 'features': [{'name': 'gender', 'type': 'string', 'description': 'The categorical gender', 'primary': False}, {'name': 'id', 'type': 'bigint', 'description': 'The numeric id of the gender', 'primary': True}], 'jobId': 22, 'jobName': 'gender_lookup_job', 'lastComputed': '2018-11-06-06:08:28', 'jobStatus': 'Succeeded', 'version': 1}, {'featuregroupId': 23, 'featuregroupName': 'trx_type_lookup', 'featurestoreId': 1, 'featurestoreName': 'hopsworksdemo_featurestore', 'description': 'lookup table for id to trx_type type, used when converting from numeric to categorical representation and vice verse', 'inputDataset': 'hdfs:///Projects/hopsworksdemo/sample_data/trx.csv', 'hdfsStorePaths': ['hdfs://10.0.2.15:8020/apps/hive/warehouse/hopsworksdemo_featurestore.db/trx_type_lookup_1'], 'created': '2018-11-06-05:48:14', 'creator': 'admin@kth.se', 'features': [{'name': 'id', 'type': 'bigint', 'description': 'The numeric id of the transaction type', 'primary': True}, {'name': 'trx_type', 'type': 'string', 'description': 'The categorical transaction type', 'primary': False}], 'jobId': 23, 'jobName': 'trx_type_lookup_job', 'lastComputed': '2018-11-06-06:07:21', 'jobStatus': 'Succeeded', 'version': 1}, {'featuregroupId': 24, 'featuregroupName': 'country_lookup', 'featurestoreId': 1, 'featurestoreName': 'hopsworksdemo_featurestore', 'description': 'lookup table for id to country, used when converting from numeric to categorical representation and vice verse', 'inputDataset': 'hdfs:///Projects/hopsworksdemo/sample_data/trx.csv', 'hdfsStorePaths': ['hdfs://10.0.2.15:8020/apps/hive/warehouse/hopsworksdemo_featurestore.db/country_lookup_1'], 'created': '2018-11-06-05:48:16', 'creator': 'admin@kth.se', 'features': [{'name': 'id', 'type': 'bigint', 'description': 'The numeric id of the country', 'primary': True}, {'name': 'trx_country', 'type': 'string', 'description': 'The categorical country', 'primary': False}], 'jobId': 24, 'jobName': 'country_lookup_job', 'lastComputed': '2018-11-06-06:06:31', 'jobStatus': 'Succeeded', 'version': 1}, {'featuregroupId': 25, 'featuregroupName': 'industry_sector_lookup', 'featurestoreId': 1, 'featurestoreName': 'hopsworksdemo_featurestore', 'description': 'lookup table for id to industry_sector, used when converting from numeric to categorical representation and vice verse', 'inputDataset': 'hdfs:///Projects/hopsworksdemo/sample_data/hipo.csv', 'hdfsStorePaths': ['hdfs://10.0.2.15:8020/apps/hive/warehouse/hopsworksdemo_featurestore.db/industry_sector_lookup_1'], 'created': '2018-11-06-05:48:18', 'creator': 'admin@kth.se', 'features': [{'name': 'id', 'type': 'bigint', 'description': 'The numeric id of the industry_sector', 'primary': True}, {'name': 'industry_sector', 'type': 'string', 'description': 'The categorical industry_sector', 'primary': False}], 'jobId': 25, 'jobName': 'industry_sector_lookup_job', 'lastComputed': '2018-11-06-06:00:41', 'jobStatus': 'Succeeded', 'version': 1}, {'featuregroupId': 26, 'featuregroupName': 'alert_type_lookup', 'featurestoreId': 1, 'featurestoreName': 'hopsworksdemo_featurestore', 'description': 'lookup table for id to alert_type, used when converting from numeric to categorical representation and vice verse', 'inputDataset': 'hdfs:///Projects/hopsworksdemo/sample_data/alerts.csv', 'hdfsStorePaths': ['hdfs://10.0.2.15:8020/apps/hive/warehouse/hopsworksdemo_featurestore.db/alert_type_lookup_1'], 'created': '2018-11-06-05:48:20', 'creator': 'admin@kth.se', 'features': [{'name': 'alert_type', 'type': 'string', 'description': 'The categorical alert_type', 'primary': False}, {'name': 'id', 'type': 'bigint', 'description': 'The numeric id of the alert_type', 'primary': True}], 'jobId': 26, 'jobName': 'alert_type_lookup_job', 'lastComputed': '2018-11-06-05:59:09', 'jobStatus': 'Succeeded', 'version': 1}, {'featuregroupId': 27, 'featuregroupName': 'rule_name_lookup', 'featurestoreId': 1, 'featurestoreName': 'hopsworksdemo_featurestore', 'description': 'lookup table for id to rule_name of an alert, used when converting from numeric to categorical representation and vice verse', 'inputDataset': 'hdfs:///Projects/hopsworksdemo/sample_data/alerts.csv', 'hdfsStorePaths': ['hdfs://10.0.2.15:8020/apps/hive/warehouse/hopsworksdemo_featurestore.db/rule_name_lookup_1'], 'created': '2018-11-06-05:48:22', 'creator': 'admin@kth.se', 'features': [{'name': 'id', 'type': 'bigint', 'description': 'The numeric id of the rule_name', 'primary': True}, {'name': 'rule_name', 'type': 'string', 'description': 'The categorical rule_name', 'primary': False}], 'jobId': 27, 'jobName': 'rule_name_lookup_job', 'lastComputed': '2018-11-06-05:56:46', 'jobStatus': 'Succeeded', 'version': 1}, {'featuregroupId': 28, 'featuregroupName': 'web_address_lookup', 'featurestoreId': 1, 'featurestoreName': 'hopsworksdemo_featurestore', 'description': 'lookup table for id to web_address, used when converting from numeric to categorical representation and vice verse', 'inputDataset': 'hdfs:///Projects/hopsworksdemo/sample_data/web_logs.csv', 'hdfsStorePaths': ['hdfs://10.0.2.15:8020/apps/hive/warehouse/hopsworksdemo_featurestore.db/web_address_lookup_1'], 'created': '2018-11-06-05:48:24', 'creator': 'admin@kth.se', 'features': [{'name': 'id', 'type': 'bigint', 'description': 'The numeric id of the web_address', 'primary': True}, {'name': 'web_address', 'type': 'string', 'description': 'The categorical web_address', 'primary': False}], 'jobId': 28, 'jobName': 'web_address_lookup_job', 'lastComputed': '2018-11-07-11:20:14', 'jobStatus': 'Succeeded', 'version': 1}, {'featuregroupId': 29, 'featuregroupName': 'browser_action_lookup', 'featurestoreId': 1, 'featurestoreName': 'hopsworksdemo_featurestore', 'description': 'lookup table for id to browser_action, used when converting from numeric to categorical representation and vice verse', 'inputDataset': 'hdfs:///Projects/hopsworksdemo/sample_data/web_logs.csv', 'hdfsStorePaths': ['hdfs://10.0.2.15:8020/apps/hive/warehouse/hopsworksdemo_featurestore.db/browser_action_lookup_1'], 'created': '2018-11-06-05:48:26', 'creator': 'admin@kth.se', 'features': [{'name': 'browser_action', 'type': 'string', 'description': 'The categorical browser_action', 'primary': False}, {'name': 'id', 'type': 'bigint', 'description': 'The numeric id of the browser_action', 'primary': True}], 'jobId': 29, 'jobName': 'browser_action_lookup_job', 'lastComputed': '2018-11-07-12:22:26', 'jobStatus': 'Succeeded', 'version': 1}, {'featuregroupId': 30, 'featuregroupName': 'demographic_features', 'featurestoreId': 1, 'featurestoreName': 'hopsworksdemo_featurestore', 'description': 'preprocessed features from the KYC table', 'inputDataset': 'hdfs:///Projects/hopsworksdemo/sample_data/kyc.csv', 'hdfsStorePaths': ['hdfs://10.0.2.15:8020/apps/hive/warehouse/hopsworksdemo_featurestore.db/demographic_features_1'], 'created': '2018-11-06-05:48:28', 'creator': 'admin@kth.se', 'features': [{'name': 'balance', 'type': 'float', 'description': 'the balance of the customer', 'primary': False}, {'name': 'birthdate', 'type': 'timestamp', 'description': 'the birthdate of the customer', 'primary': False}, {'name': 'customer_type', 'type': 'bigint', 'description': 'the type of customer', 'primary': False}, {'name': 'cust_id', 'type': 'int', 'description': 'The id of the customer', 'primary': True}, {'name': 'gender', 'type': 'bigint', 'description': 'the gender of the customer', 'primary': False}, {'name': 'join_date', 'type': 'timestamp', 'description': 'the date that the customer joined Swedbank', 'primary': False}, {'name': 'number_of_accounts', 'type': 'int', 'description': 'the number of Swedbank accounts of the customer', 'primary': False}, {'name': 'pep', 'type': 'bigint', 'description': 'whether the person is a PEP or not', 'primary': False}], 'jobId': 30, 'jobName': 'demographic_features_job', 'lastComputed': '2018-11-07-07:53:59', 'jobStatus': 'Succeeded', 'version': 1}, {'featuregroupId': 31, 'featuregroupName': 'trx_graph_edge_list', 'featurestoreId': 1, 'featurestoreName': 'hopsworksdemo_featurestore', 'description': 'The edge list of the transactions graph', 'inputDataset': 'hdfs:///Projects/hopsworksdemo/sample_data/trx.csv', 'hdfsStorePaths': ['hdfs://10.0.2.15:8020/apps/hive/warehouse/hopsworksdemo_featurestore.db/trx_graph_edge_list_1'], 'created': '2018-11-06-05:48:30', 'creator': 'admin@kth.se', 'features': [{'name': 'amount', 'type': 'float', 'description': 'The amount transferred in the transaction', 'primary': False}, {'name': 'cust_id_1', 'type': 'int', 'description': 'The customer making the transaction', 'primary': True}, {'name': 'cust_id_2', 'type': 'int', 'description': 'The customer receiving the transaction', 'primary': False}], 'jobId': 31, 'jobName': 'trx_graph_edge_list_job', 'lastComputed': '2018-11-06-06:13:56', 'jobStatus': 'Succeeded', 'version': 1}, {'featuregroupId': 32, 'featuregroupName': 'trx_graph_summary_features', 'featurestoreId': 1, 'featurestoreName': 'hopsworksdemo_featurestore', 'description': 'Contain aggregate graph features of a customers transactions', 'inputDataset': 'hdfs:///Projects/hopsworksdemo/sample_data/trx.csv', 'hdfsStorePaths': ['hdfs://10.0.2.15:8020/apps/hive/warehouse/hopsworksdemo_featurestore.db/trx_graph_summary_features_1'], 'created': '2018-11-06-05:48:32', 'creator': 'admin@kth.se', 'features': [{'name': 'cust_id', 'type': 'int', 'description': 'Id of the customer', 'primary': True}, {'name': 'pagerank', 'type': 'float', 'description': 'The pagerank of the customer in the transaction graph', 'primary': False}, {'name': 'triangle_count', 'type': 'float', 'description': 'The triangle count of the customer in the transaction graph', 'primary': False}], 'jobId': 32, 'jobName': 'trx_graph_summary_features_job', 'lastComputed': '2018-11-06-06:30:02', 'jobStatus': 'Succeeded', 'version': 1}, {'featuregroupId': 33, 'featuregroupName': 'trx_features', 'featurestoreId': 1, 'featurestoreName': 'hopsworksdemo_featurestore', 'description': 'Features for single transactions', 'inputDataset': 'hdfs:///Projects/hopsworksdemo/sample_data/trx.csv', 'hdfsStorePaths': ['hdfs://10.0.2.15:8020/apps/hive/warehouse/hopsworksdemo_featurestore.db/trx_features_1'], 'created': '2018-11-06-05:48:34', 'creator': 'admin@kth.se', 'features': [{'name': 'cust_id_in', 'type': 'int', 'description': 'The cust_id of the customer making the transaction', 'primary': False}, {'name': 'cust_id_out', 'type': 'int', 'description': 'The id of the customer receiving the transaction', 'primary': False}, {'name': 'trx_amount', 'type': 'float', 'description': 'The amount of money transferred in the transaction', 'primary': False}, {'name': 'trx_bankid', 'type': 'int', 'description': 'The bankid of the customer making the transaction', 'primary': False}, {'name': 'trx_clearingnum', 'type': 'int', 'description': 'The clearingnumber of the customer making the transaction', 'primary': False}, {'name': 'trx_country', 'type': 'bigint', 'description': 'The country of the customer making the transaction', 'primary': False}, {'name': 'trx_date', 'type': 'timestamp', 'description': 'The date of the transaction', 'primary': False}, {'name': 'trx_id', 'type': 'int', 'description': 'The id of the transaction', 'primary': True}, {'name': 'trx_type', 'type': 'bigint', 'description': 'The type of the transaction', 'primary': False}], 'jobId': 33, 'jobName': 'trx_features_job', 'lastComputed': '2018-11-06-06:18:42', 'jobStatus': 'Succeeded', 'version': 1}, {'featuregroupId': 34, 'featuregroupName': 'trx_summary_features', 'featurestoreId': 1, 'featurestoreName': 'hopsworksdemo_featurestore', 'description': 'Aggregate of transactions for customers', 'inputDataset': 'hdfs:///Projects/hopsworksdemo/sample_data/trx.csv', 'hdfsStorePaths': ['hdfs://10.0.2.15:8020/apps/hive/warehouse/hopsworksdemo_featurestore.db/trx_summary_features_1'], 'created': '2018-11-06-05:48:36', 'creator': 'admin@kth.se', 'features': [{'name': 'avg_trx', 'type': 'float', 'description': 'The average transaction amount of the customer', 'primary': False}, {'name': 'count_trx', 'type': 'bigint', 'description': 'The number of transactions made by the customer', 'primary': False}, {'name': 'cust_id', 'type': 'int', 'description': 'Id of the customer', 'primary': True}, {'name': 'max_trx', 'type': 'float', 'description': 'The maximum transaction amount made by the customer', 'primary': False}, {'name': 'min_trx', 'type': 'float', 'description': 'The minimum transaction amount made by the customer', 'primary': False}], 'jobId': 34, 'jobName': 'trx_summary_features_job', 'lastComputed': '2018-11-06-06:28:19', 'jobStatus': 'Succeeded', 'version': 1}, {'featuregroupId': 35, 'featuregroupName': 'hipo_features', 'featurestoreId': 1, 'featurestoreName': 'hopsworksdemo_featurestore', 'description': 'Features on corporate customers', 'inputDataset': 'hdfs:///Projects/hopsworksdemo/sample_data/hipo.csv', 'hdfsStorePaths': ['hdfs://10.0.2.15:8020/apps/hive/warehouse/hopsworksdemo_featurestore.db/hipo_features_1'], 'created': '2018-11-06-05:48:38', 'creator': 'admin@kth.se', 'features': [{'name': 'corporate_id', 'type': 'int', 'description': 'id of the corporate customer', 'primary': True}, {'name': 'externa_kostnader', 'type': 'float', 'description': 'The amount paid to external accounts by the corporate', 'primary': False}, {'name': 'industry_sector', 'type': 'int', 'description': 'The line of business of the corporate', 'primary': False}, {'name': 'netomsettning_1year', 'type': 'float', 'description': 'The net turnover for the first year of the corporate', 'primary': False}, {'name': 'netomsettning_2year', 'type': 'float', 'description': 'The net turnover for the frist two years of the corporate', 'primary': False}, {'name': 'netomsettning_3year', 'type': 'float', 'description': 'The net turnover for the first three years of the corporate', 'primary': False}], 'jobId': 35, 'jobName': 'hipo_features_job', 'lastComputed': '2018-11-06-06:17:56', 'jobStatus': 'Succeeded', 'version': 1}, {'featuregroupId': 36, 'featuregroupName': 'alert_features', 'featurestoreId': 1, 'featurestoreName': 'hopsworksdemo_featurestore', 'description': 'Features from transaction alerts', 'inputDataset': 'hdfs:///Projects/hopsworksdemo/sample_data/alerts.csv', 'hdfsStorePaths': ['hdfs://10.0.2.15:8020/apps/hive/warehouse/hopsworksdemo_featurestore.db/alert_features_1'], 'created': '2018-11-06-05:48:40', 'creator': 'admin@kth.se', 'features': [{'name': 'alert_date', 'type': 'timestamp', 'description': 'The date of the alert', 'primary': False}, {'name': 'alert_id', 'type': 'int', 'description': 'The id of the alert', 'primary': True}, {'name': 'alert_score', 'type': 'float', 'description': 'The score of the alert indicating how severe the alert was', 'primary': False}, {'name': 'alert_type', 'type': 'int', 'description': 'The type of the alert, e.g TERRORISM', 'primary': False}, {'name': 'rule_name', 'type': 'int', 'description': 'The name of the rule that fired the alert', 'primary': False}, {'name': 'trx_id', 'type': 'int', 'description': 'The id of the transaction that was alerted', 'primary': False}], 'jobId': 36, 'jobName': 'alert_features_job', 'lastComputed': '2018-11-06-06:17:12', 'jobStatus': 'Succeeded', 'version': 1}, {'featuregroupId': 37, 'featuregroupName': 'police_report_features', 'featurestoreId': 1, 'featurestoreName': 'hopsworksdemo_featurestore', 'description': 'Features on customers reported to the police', 'inputDataset': 'hdfs:///Projects/hopsworksdemo/sample_data/police_reports.csv', 'hdfsStorePaths': ['hdfs://10.0.2.15:8020/apps/hive/warehouse/hopsworksdemo_featurestore.db/police_report_features_1'], 'created': '2018-11-06-05:48:43', 'creator': 'admin@kth.se', 'features': [{'name': 'cust_id', 'type': 'int', 'description': 'The id of the reported customer', 'primary': False}, {'name': 'report_date', 'type': 'timestamp', 'description': 'The date the customer was reported', 'primary': False}, {'name': 'report_id', 'type': 'int', 'description': 'The id of the report', 'primary': True}], 'jobId': 37, 'jobName': 'police_report_features_job', 'lastComputed': '2018-11-06-06:14:53', 'jobStatus': 'Succeeded', 'version': 1}, {'featuregroupId': 38, 'featuregroupName': 'web_logs_features', 'featurestoreId': 1, 'featurestoreName': 'hopsworksdemo_featurestore', 'description': 'Features on web logs recording customers activity with the internet bank', 'inputDataset': 'hdfs:///Projects/hopsworksdemo/sample_data/web_logs.csv', 'hdfsStorePaths': ['hdfs://10.0.2.15:8020/apps/hive/warehouse/hopsworksdemo_featurestore.db/web_logs_features_1'], 'created': '2018-11-06-05:48:45', 'creator': 'admin@kth.se', 'features': [{'name': 'action', 'type': 'int', 'description': 'The type of web action', 'primary': False}, {'name': 'address', 'type': 'int', 'description': 'IP address used by the customer', 'primary': False}, {'name': 'cust_id', 'type': 'int', 'description': 'Id of the customer', 'primary': False}, {'name': 'time_spent_seconds', 'type': 'int', 'description': 'Number of seconds the web session was active', 'primary': False}, {'name': 'web_id', 'type': 'int', 'description': 'Id of the web activity', 'primary': True}], 'jobId': 38, 'jobName': 'web_logs_features_job', 'lastComputed': '2018-11-06-06:12:33', 'jobStatus': 'Succeeded', 'version': 1}]"
     ]
    }
   ],
   "source": [
    "featurestore.get_featurestore_metadata(featurestore=featurestore.project_featurestore())"
   ]
  }
 ],
 "metadata": {
  "kernelspec": {
   "display_name": "PySpark",
   "language": "",
   "name": "pysparkkernel"
  },
  "language_info": {
   "codemirror_mode": {
    "name": "python",
    "version": 2
   },
   "mimetype": "text/x-python",
   "name": "pyspark",
   "pygments_lexer": "python2"
  }
 },
 "nbformat": 4,
 "nbformat_minor": 2
}
