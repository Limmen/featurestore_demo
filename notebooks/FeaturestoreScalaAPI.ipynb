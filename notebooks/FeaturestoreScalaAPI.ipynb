{
 "cells": [
  {
   "cell_type": "markdown",
   "metadata": {},
   "source": [
    "## Imports"
   ]
  },
  {
   "cell_type": "code",
   "execution_count": 1,
   "metadata": {},
   "outputs": [
    {
     "name": "stdout",
     "output_type": "stream",
     "text": [
      "Starting Spark application\n"
     ]
    },
    {
     "data": {
      "text/html": [
       "<table>\n",
       "<tr><th>ID</th><th>YARN Application ID</th><th>Kind</th><th>State</th><th>Spark UI</th><th>Driver log</th><th>Current session?</th></tr><tr><td>45</td><td>application_1545231463715_0065</td><td>spark</td><td>idle</td><td><a target=\"_blank\" href=\"http://hopsworks0.logicalclocks.com:8088/proxy/application_1545231463715_0065/\">Link</a></td><td><a target=\"_blank\" href=\"http://hopsworks0.logicalclocks.com:8042/node/containerlogs/container_e01_1545231463715_0065_01_000001/fs_demo__meb10000\">Link</a></td><td>✔</td></tr></table>"
      ],
      "text/plain": [
       "<IPython.core.display.HTML object>"
      ]
     },
     "metadata": {},
     "output_type": "display_data"
    },
    {
     "name": "stdout",
     "output_type": "stream",
     "text": [
      "SparkSession available as 'spark'.\n",
      "import io.hops.util.Hops\n",
      "import scala.collection.JavaConversions._\n",
      "import collection.JavaConverters._\n"
     ]
    }
   ],
   "source": [
    "import io.hops.util.Hops\n",
    "import scala.collection.JavaConversions._\n",
    "import collection.JavaConverters._"
   ]
  },
  {
   "cell_type": "markdown",
   "metadata": {},
   "source": [
    "## Get Project Featurestore\n",
    "\n",
    "Each project with the featurestore enabled gets its own Hive database for the featurestore, the name of the featurestore database is 'projectname_featurestore' and can be retrieved from the hops-util-py featurestore API"
   ]
  },
  {
   "cell_type": "code",
   "execution_count": null,
   "metadata": {},
   "outputs": [],
   "source": [
    "Hops.getProjectFeaturestore"
   ]
  },
  {
   "cell_type": "markdown",
   "metadata": {},
   "source": [
    "## Get all Featurestores Accessible in the Current Project\n",
    "\n",
    "Feature stores can be shared across projects just like other Hopsworks datasets. You can use this API function to list all the featurestores accessible in the project programmatically."
   ]
  },
  {
   "cell_type": "code",
   "execution_count": null,
   "metadata": {},
   "outputs": [],
   "source": [
    "Hops.getProjectFeaturestores"
   ]
  },
  {
   "cell_type": "markdown",
   "metadata": {},
   "source": [
    "## Get Individual Feature\n",
    "\n",
    "When retrieving a single feature from the featurestore, the hops-util-py library will infer which featuregroup the feature belongs to by querying the metastore, but you can also explicitly specify which featuregroup and version to query. If there are multiple features of the same name in the featurestore, it is required to specify enough information to uniquely identify the feature (e.g which featuregroup and which version).  If no featurestore is provided it will default to the project's featurestore."
   ]
  },
  {
   "cell_type": "markdown",
   "metadata": {},
   "source": [
    "Without specifying featuregroup:"
   ]
  },
  {
   "cell_type": "code",
   "execution_count": null,
   "metadata": {},
   "outputs": [],
   "source": [
    "Hops.getFeature(spark, \"action\", Hops.getProjectFeaturestore).show(5)"
   ]
  },
  {
   "cell_type": "markdown",
   "metadata": {},
   "source": [
    "With specifed featuregroup and version:"
   ]
  },
  {
   "cell_type": "code",
   "execution_count": null,
   "metadata": {},
   "outputs": [],
   "source": [
    "Hops.getFeature(spark, \"action\", Hops.getProjectFeaturestore, \"web_logs_features\", 1).show(5)"
   ]
  },
  {
   "cell_type": "markdown",
   "metadata": {},
   "source": [
    "## Get Featuregroup\n",
    "\n",
    "You can get an entire featuregroup from the API. If no featurestore is provided the API will default to the project's featurestore, if no version is provided it will default to version 1 of the featuregroup."
   ]
  },
  {
   "cell_type": "code",
   "execution_count": null,
   "metadata": {},
   "outputs": [],
   "source": [
    "Hops.getFeaturegroup(spark, \"trx_summary_features\", Hops.getProjectFeaturestore, 1).show(5)"
   ]
  },
  {
   "cell_type": "markdown",
   "metadata": {},
   "source": [
    "## Get Set of Features\n",
    "\n",
    "When retrieving a list of features from the featurestore, the hops-util-py library will infer which featuregroup the features belongs to by querying the metastore. If the features reside in different featuregroups, the library will also **try** to infer how to join the features together based on common columns. If the JOIN query cannot be inferred due to existence of multiple features with the same name or non-obvious JOIN query, the user need to supply enough information to the API call to be able to query the featurestore. If the user already knows the JOIN query it can also run `Hops.queryFeaturestore(joinQuery)` directly (an example of using this approach is shown further down in this notebook). If no featurestore is provided it will default to the project's featurestore."
   ]
  },
  {
   "cell_type": "code",
   "execution_count": null,
   "metadata": {},
   "outputs": [],
   "source": [
    "val features = List(\"pagerank\", \"triangle_count\", \"avg_trx\")"
   ]
  },
  {
   "cell_type": "code",
   "execution_count": null,
   "metadata": {},
   "outputs": [],
   "source": [
    "Hops.getFeatures(spark, features, Hops.getProjectFeaturestore).show(5)"
   ]
  },
  {
   "cell_type": "markdown",
   "metadata": {},
   "source": [
    "Without specifying the join key but specifying featuregroups:"
   ]
  },
  {
   "cell_type": "code",
   "execution_count": null,
   "metadata": {},
   "outputs": [],
   "source": [
    "val featuregroupsMap = Map[String, Integer](\"trx_graph_summary_features\"->1,\"trx_summary_features\"->1)\n",
    "val javaFeaturegroupsMap = new java.util.HashMap[String, Integer](featuregroupsMap)"
   ]
  },
  {
   "cell_type": "code",
   "execution_count": null,
   "metadata": {},
   "outputs": [],
   "source": [
    "Hops.getFeatures(spark, features, Hops.getProjectFeaturestore, javaFeaturegroupsMap).show(5)"
   ]
  },
  {
   "cell_type": "markdown",
   "metadata": {},
   "source": [
    "Specifying both featuregroups and join key:"
   ]
  },
  {
   "cell_type": "code",
   "execution_count": null,
   "metadata": {},
   "outputs": [],
   "source": [
    "Hops.getFeatures(spark, features, Hops.getProjectFeaturestore, javaFeaturegroupsMap, \"cust_id\").show(5)"
   ]
  },
  {
   "cell_type": "markdown",
   "metadata": {},
   "source": [
    "### Advanced examples"
   ]
  },
  {
   "cell_type": "markdown",
   "metadata": {},
   "source": [
    "Getting 10 features from two different featuregroups without specifying the featuregroups"
   ]
  },
  {
   "cell_type": "code",
   "execution_count": null,
   "metadata": {},
   "outputs": [],
   "source": [
    "val features1 = List(\"pagerank\", \"triangle_count\", \"avg_trx\", \"count_trx\", \"max_trx\", \"min_trx\", \"balance\", \"birthdate\", \"join_date\", \"number_of_accounts\")\n",
    "Hops.getFeatures(spark, features1, Hops.getProjectFeaturestore).show(5)"
   ]
  },
  {
   "cell_type": "markdown",
   "metadata": {},
   "source": [
    "If you try to get features that exist in multiple featuregroups, the library will not be able to infer from which featuregroup to get the features, so you must specify the featuregroups explicitly as an argument"
   ]
  },
  {
   "cell_type": "code",
   "execution_count": null,
   "metadata": {},
   "outputs": [],
   "source": [
    "val features2 = List(\"pagerank\", \"triangle_count\", \"avg_trx\", \"count_trx\", \"max_trx\", \"min_trx\", \"balance\", \"birthdate\", \"join_date\", \"number_of_accounts\", \"pep\")\n",
    "Hops.getFeatures(spark, features2, Hops.getProjectFeaturestore).show(5)"
   ]
  },
  {
   "cell_type": "markdown",
   "metadata": {},
   "source": [
    "If we specify the featuregroup to get the feature that exists in multiple featuregroups, the library can infer how to get the features:"
   ]
  },
  {
   "cell_type": "code",
   "execution_count": null,
   "metadata": {},
   "outputs": [],
   "source": [
    "val featuregroupsMap1 = Map[String, Integer](\n",
    "    \"trx_graph_summary_features\"->1,\n",
    "    \"trx_summary_features\"->1,\n",
    "    \"demographic_features\" ->1\n",
    ")\n",
    "val javaFeaturegroupsMap1 = new java.util.HashMap[String, Integer](featuregroupsMap1)\n",
    "Hops.getFeatures(spark, features2, Hops.getProjectFeaturestore, javaFeaturegroupsMap1).show(5)"
   ]
  },
  {
   "cell_type": "markdown",
   "metadata": {},
   "source": [
    "Example of getting 19 features from 5 different featuregroups:"
   ]
  },
  {
   "cell_type": "code",
   "execution_count": null,
   "metadata": {},
   "outputs": [],
   "source": [
    "val features3 = List(\"pagerank\", \"triangle_count\", \"avg_trx\", \"count_trx\", \"max_trx\", \"min_trx\",\n",
    "    \"balance\", \"birthdate\", \"join_date\", \"number_of_accounts\", \"pep\", \"customer_type\", \"gender\", \"web_id\",\n",
    "    \"time_spent_seconds\", \"address\", \"action\", \"report_date\", \"report_id\")\n",
    "val featuregroupsMap2 = Map[String, Integer](\n",
    "    \"trx_graph_summary_features\"->1,\n",
    "    \"trx_summary_features\"->1,\n",
    "    \"demographic_features\" ->1,\n",
    "    \"web_logs_features\" -> 1,\n",
    "    \"police_report_features\" -> 1\n",
    ")\n",
    "val javaFeaturegroupsMap2 = new java.util.HashMap[String, Integer](featuregroupsMap2)\n",
    "Hops.getFeatures(spark, features3, Hops.getProjectFeaturestore, javaFeaturegroupsMap2).show(5)"
   ]
  },
  {
   "cell_type": "markdown",
   "metadata": {},
   "source": [
    "Sometimes you might want to get a feature that exist in multiple featuregroups and you want to include all of these featuregroups in your query, then you can specify from which of the featuregroup to get the feature by prepending the feature-name with the featuregroup name + '_version', e.g: 'demographic_features_1.cust_id'. If you don't specify this the query will fail as the library won't know from which of your specified featuregroups to get the feature:"
   ]
  },
  {
   "cell_type": "code",
   "execution_count": null,
   "metadata": {},
   "outputs": [],
   "source": [
    "val features4 = List(\"pagerank\", \"triangle_count\", \"avg_trx\", \"count_trx\", \"max_trx\", \"min_trx\",\n",
    "    \"balance\", \"birthdate\", \"join_date\", \"number_of_accounts\", \"pep\", \"customer_type\", \"gender\", \"web_id\",\n",
    "    \"time_spent_seconds\", \"address\", \"action\", \"report_date\", \"report_id\", \"cust_id\")\n",
    "Hops.getFeatures(spark, features4, Hops.getProjectFeaturestore, javaFeaturegroupsMap2).show(5)"
   ]
  },
  {
   "cell_type": "markdown",
   "metadata": {},
   "source": [
    "If we change 'cust_id' to 'featuregroupname_version.cust_id' the library knows where to get the feature from and the query works:"
   ]
  },
  {
   "cell_type": "code",
   "execution_count": null,
   "metadata": {},
   "outputs": [],
   "source": [
    "val features5 = List(\"pagerank\", \"triangle_count\", \"avg_trx\", \"count_trx\", \"max_trx\", \"min_trx\",\n",
    "    \"balance\", \"birthdate\", \"join_date\", \"number_of_accounts\", \"pep\", \"customer_type\", \"gender\", \"web_id\",\n",
    "    \"time_spent_seconds\", \"address\", \"action\", \"report_date\", \"report_id\", \"demographic_features_1.cust_id\")\n",
    "Hops.getFeatures(spark, features5, Hops.getProjectFeaturestore, javaFeaturegroupsMap2).show(5)"
   ]
  },
  {
   "cell_type": "markdown",
   "metadata": {},
   "source": [
    "## Free Text Query from Feature Store"
   ]
  },
  {
   "cell_type": "markdown",
   "metadata": {},
   "source": [
    "For complex queries that cannot be inferred by the helper functions, enter the sql directly to the method `Hops.queryFeaturestore()` it will default to the project specific feature store but you can also specify it explicitly."
   ]
  },
  {
   "cell_type": "markdown",
   "metadata": {},
   "source": [
    "Without specifying the featurestore it will default to the project-specific featurestore:"
   ]
  },
  {
   "cell_type": "code",
   "execution_count": null,
   "metadata": {},
   "outputs": [],
   "source": [
    "Hops.queryFeaturestore(\n",
    "    spark,\n",
    "    \"SELECT * FROM trx_graph_summary_features_1 WHERE triangle_count > 5\",\n",
    "    null\n",
    ").show(5)"
   ]
  },
  {
   "cell_type": "markdown",
   "metadata": {},
   "source": [
    "You can also specify the featurestore to query explicitly:"
   ]
  },
  {
   "cell_type": "code",
   "execution_count": null,
   "metadata": {},
   "outputs": [],
   "source": [
    "Hops.queryFeaturestore(\n",
    "    spark,\n",
    "    \"SELECT * FROM trx_graph_summary_features_1 WHERE triangle_count > 5\",\n",
    "    Hops.getProjectFeaturestore\n",
    ").show(5)"
   ]
  },
  {
   "cell_type": "markdown",
   "metadata": {},
   "source": [
    "## Write to the Feature Store"
   ]
  },
  {
   "cell_type": "markdown",
   "metadata": {},
   "source": [
    "Lets first get some sample data to insert"
   ]
  },
  {
   "cell_type": "code",
   "execution_count": null,
   "metadata": {},
   "outputs": [],
   "source": [
    "val sampleDataMap = Map(\"hops_customer_1\"-> 3, \"hops_customer_2\"-> 4)\n",
    "val sampleDataDf = sampleDataMap.toSeq.toDF(\"customer_type\", \"id\")"
   ]
  },
  {
   "cell_type": "code",
   "execution_count": null,
   "metadata": {},
   "outputs": [],
   "source": [
    "sampleDataDf.show()"
   ]
  },
  {
   "cell_type": "markdown",
   "metadata": {},
   "source": [
    "Lets inspect the contents of the featuregroup 'customer_type_lookup' that we are going to insert the sample data into"
   ]
  },
  {
   "cell_type": "code",
   "execution_count": null,
   "metadata": {},
   "outputs": [],
   "source": [
    "val sparkDf = Hops.getFeaturegroup(spark, \"customer_type_lookup\", Hops.getProjectFeaturestore, 1)"
   ]
  },
  {
   "cell_type": "code",
   "execution_count": null,
   "metadata": {},
   "outputs": [],
   "source": [
    "sparkDf.show()"
   ]
  },
  {
   "cell_type": "code",
   "execution_count": null,
   "metadata": {},
   "outputs": [],
   "source": [
    "sparkDf.count()"
   ]
  },
  {
   "cell_type": "markdown",
   "metadata": {},
   "source": [
    "Now we can insert the sample data and verify the new contents of the featuregroup. By default the insert mode is \"append\", the featurestore is the project's featurestore and the version is 1 (the statistics part will be covered later in the notebook)"
   ]
  },
  {
   "cell_type": "code",
   "execution_count": null,
   "metadata": {},
   "outputs": [],
   "source": [
    "val featuregroup = \"customer_type_lookup\"\n",
    "val featurestore = Hops.getProjectFeaturestore \n",
    "val featuregroupVersion = 1 \n",
    "val mode = \"append\"\n",
    "val descriptiveStats = false\n",
    "val featureCorr = false\n",
    "val featureHistograms = false\n",
    "val clusterAnalysis = false\n",
    "val statColumns = List[String]().asJava\n",
    "val numBins = null\n",
    "val corrMethod = null\n",
    "val numClusters = null\n",
    "val description = \"trx_summary_features without the column count_trx\""
   ]
  },
  {
   "cell_type": "code",
   "execution_count": null,
   "metadata": {},
   "outputs": [],
   "source": [
    "Hops.insertIntoFeaturegroup(\n",
    "    sampleDataDf, \n",
    "    spark, \n",
    "    featuregroup,\n",
    "    featurestore,\n",
    "    featuregroupVersion,\n",
    "    mode,\n",
    "    descriptiveStats, \n",
    "    featureCorr,\n",
    "    featureHistograms, \n",
    "    clusterAnalysis, \n",
    "    statColumns, \n",
    "    numBins,\n",
    "    corrMethod, \n",
    "    numClusters\n",
    ")"
   ]
  },
  {
   "cell_type": "code",
   "execution_count": null,
   "metadata": {},
   "outputs": [],
   "source": [
    "Hops.getFeaturegroup(spark, \"customer_type_lookup\", Hops.getProjectFeaturestore, 1).show()"
   ]
  },
  {
   "cell_type": "code",
   "execution_count": null,
   "metadata": {},
   "outputs": [],
   "source": [
    "Hops.getFeaturegroup(spark, \"customer_type_lookup\", Hops.getProjectFeaturestore, 1).count"
   ]
  },
  {
   "cell_type": "markdown",
   "metadata": {},
   "source": [
    "The two supported insert modes are \"append\" and \"overwrite\""
   ]
  },
  {
   "cell_type": "code",
   "execution_count": null,
   "metadata": {},
   "outputs": [],
   "source": [
    "val mode = \"overwrite\""
   ]
  },
  {
   "cell_type": "code",
   "execution_count": null,
   "metadata": {},
   "outputs": [],
   "source": [
    "Hops.insertIntoFeaturegroup(\n",
    "    sampleDataDf, \n",
    "    spark, \n",
    "    featuregroup,\n",
    "    featurestore,\n",
    "    featuregroupVersion,\n",
    "    mode,\n",
    "    descriptiveStats, \n",
    "    featureCorr,\n",
    "    featureHistograms, \n",
    "    clusterAnalysis, \n",
    "    statColumns, \n",
    "    numBins,\n",
    "    corrMethod, \n",
    "    numClusters\n",
    ")"
   ]
  },
  {
   "cell_type": "code",
   "execution_count": null,
   "metadata": {},
   "outputs": [],
   "source": [
    "Hops.getFeaturegroup(spark, \"customer_type_lookup\", Hops.getProjectFeaturestore, 1).show()"
   ]
  },
  {
   "cell_type": "code",
   "execution_count": null,
   "metadata": {},
   "outputs": [],
   "source": [
    "Hops.getFeaturegroup(spark, \"customer_type_lookup\", Hops.getProjectFeaturestore, 1).count"
   ]
  },
  {
   "cell_type": "markdown",
   "metadata": {},
   "source": [
    "## Create a Featuregroup From a Spark Dataframe"
   ]
  },
  {
   "cell_type": "markdown",
   "metadata": {},
   "source": [
    "In most cases it is recommended that featuregroups are created in the UI on Hopsworks and that care is taken in documenting the featuregroup. However, sometimes it is practical to create a featuregroup directly from a spark dataframe and fill in the metadata about the featuregroup later in the UI. This can be done through the create_featuregroup API function.\n",
    "\n",
    "Lets create a new featuregroup that contains the same contents as the featuregroup trx_summary except the the column count_trx is dropped"
   ]
  },
  {
   "cell_type": "code",
   "execution_count": null,
   "metadata": {},
   "outputs": [],
   "source": [
    "val trxSummaryDf = Hops.getFeaturegroup(spark, \"trx_summary_features\", Hops.getProjectFeaturestore, 1)\n",
    "val trxSummaryDf1 = trxSummaryDf.drop(\"count_trx\")"
   ]
  },
  {
   "cell_type": "code",
   "execution_count": null,
   "metadata": {},
   "outputs": [],
   "source": [
    "trxSummaryDf1.show(5)"
   ]
  },
  {
   "cell_type": "markdown",
   "metadata": {},
   "source": [
    "When a feature group is created you can specify metadata about the feature group or set it to null and fill it in later in the feature registry UI. (The statistics part will be explained later on in this notebook)"
   ]
  },
  {
   "cell_type": "code",
   "execution_count": null,
   "metadata": {},
   "outputs": [],
   "source": [
    "val jobId = null\n",
    "val dependencies = List[String]().asJava\n",
    "val primaryKey = null\n",
    "val descriptiveStats = false\n",
    "val featureCorr = false\n",
    "val featureHistograms = false\n",
    "val clusterAnalysis = false\n",
    "val statColumns = List[String]().asJava\n",
    "val numBins = null\n",
    "val corrMethod = null\n",
    "val numClusters = null\n",
    "val description = \"trx_summary_features without the column count_trx\""
   ]
  },
  {
   "cell_type": "markdown",
   "metadata": {},
   "source": [
    "Lets now create a new featuregroup using the transformed dataframe"
   ]
  },
  {
   "cell_type": "code",
   "execution_count": null,
   "metadata": {},
   "outputs": [],
   "source": [
    "Hops.createFeaturegroup(\n",
    "    spark, trxSummaryDf1, \"trx_summary_features_2\", Hops.getProjectFeaturestore,\n",
    "    1, description, jobId,\n",
    "    dependencies, primaryKey, descriptiveStats, featureCorr,\n",
    "      featureHistograms, clusterAnalysis, statColumns, numBins,\n",
    "      corrMethod, numClusters)"
   ]
  },
  {
   "cell_type": "markdown",
   "metadata": {},
   "source": [
    "## Compute Featuregroup Statistics"
   ]
  },
  {
   "cell_type": "markdown",
   "metadata": {},
   "source": [
    "Statistics about a featuregroup can be useful in the stage of feature engineering and when deciding which features to use for training.\n",
    "\n",
    "To compute statistics about an existing featuregroup (that should not be empty of course), you can use the API call update_featuregroup_stats. By default it will compute all statistics (descriptive, feature correlation, histograms, and cluster analysis), use the project's featurestore, use version 1 of the featuregroup and use all columns for computing statistics:"
   ]
  },
  {
   "cell_type": "code",
   "execution_count": null,
   "metadata": {},
   "outputs": [],
   "source": [
    "val featuregroup = \"trx_summary_features\"\n",
    "val featurestore = Hops.getProjectFeaturestore\n",
    "val featuregroupVersion = 1\n",
    "val descriptiveStats = true\n",
    "val featureCorr = true\n",
    "val featureHistograms = true\n",
    "val clusterAnalysis = true\n",
    "val statColumns = null // null means all columns will be used\n",
    "val numBins = 20\n",
    "val corrMethod = \"pearson\"\n",
    "val numClusters = 5"
   ]
  },
  {
   "cell_type": "code",
   "execution_count": null,
   "metadata": {},
   "outputs": [],
   "source": [
    "Hops.updateFeaturegroupStats(\n",
    "    spark, featuregroup, Hops.getProjectFeaturestore, featuregroupVersion,\n",
    "    descriptiveStats, featureCorr, featureHistograms, clusterAnalysis, statColumns,\n",
    "    numBins, corrMethod, numClusters\n",
    ")"
   ]
  },
  {
   "cell_type": "markdown",
   "metadata": {},
   "source": [
    "## Create Managed Training Datasets From Sets of Features"
   ]
  },
  {
   "cell_type": "markdown",
   "metadata": {},
   "source": [
    "After you have found the features you need in the featurestore you can materialize the features into a training dataset so that you can train a machine learning model using the features. Just as for featuregroups, it is useful to version and document training datasets, for this reason HopsML supports **managed training datasets** which enables you to easily version, document and automate the materialization of training datasets.\n",
    "\n",
    "Metadata for a training dataset can be created from the Hopsworks UI or directly from the API with the function create_training_dataset. The training datasets in a project are stored in a top-level dataset called Training_Datasets, (i.e `hdfs:///Projects/<ProjectName>/Training_Datasets`.\n",
    "\n",
    "Once a training dataset have been created you can find it in the featurestore UI in hopsworks under the tab Training datasets, from there you can also edit the metadata if necessary. After a training dataset have been created with the necessary metadata you can save the actual data in the training dataset by using the API function insert_into_training_dataset."
   ]
  },
  {
   "cell_type": "markdown",
   "metadata": {},
   "source": [
    "Lets create a dataset called `AML_dataset` by using a set of relevant features from the featurestore."
   ]
  },
  {
   "cell_type": "markdown",
   "metadata": {},
   "source": [
    "First we select the features (and/or labels) that we want"
   ]
  },
  {
   "cell_type": "code",
   "execution_count": null,
   "metadata": {},
   "outputs": [],
   "source": [
    "val features = List(\"pagerank\", \n",
    "                    \"triangle_count\", \n",
    "                    \"avg_trx\", \n",
    "                    \"count_trx\", \n",
    "                    \"max_trx\", \n",
    "                    \"min_trx\", \n",
    "                    \"balance\", \n",
    "                    \"number_of_accounts\", \n",
    "                    \"pep\")\n",
    "val featuregroupsToVersionMap = Map[String, Integer](\n",
    "    \"trx_graph_summary_features\"->1,\n",
    "    \"trx_summary_features\"->1,\n",
    "    \"demographic_features\" ->1\n",
    ")\n",
    "val javaFeaturegroupsMap = new java.util.HashMap[String, Integer](featuregroupsToVersionMap)"
   ]
  },
  {
   "cell_type": "code",
   "execution_count": null,
   "metadata": {},
   "outputs": [],
   "source": [
    "val datasetDf = Hops.getFeatures(spark, features, Hops.getProjectFeaturestore, javaFeaturegroupsMap)"
   ]
  },
  {
   "cell_type": "code",
   "execution_count": null,
   "metadata": {},
   "outputs": [],
   "source": [
    "datasetDf.show(5)"
   ]
  },
  {
   "cell_type": "markdown",
   "metadata": {},
   "source": [
    "When a training dataset is created you can specify metadata about the training dataset or set it to null and fill it in later in the feature registry UI."
   ]
  },
  {
   "cell_type": "code",
   "execution_count": null,
   "metadata": {},
   "outputs": [],
   "source": [
    "val trainingDatasetName = \"AML_dataset\"\n",
    "val jobId = null\n",
    "val dependencies = List[String]().asJava\n",
    "val primaryKey = null\n",
    "val dataFormat = \"tfrecords\"\n",
    "val descriptiveStats = false\n",
    "val featureCorr = false\n",
    "val featureHistograms = false\n",
    "val clusterAnalysis = false\n",
    "val statColumns = List[String]().asJava\n",
    "val numBins = null\n",
    "val corrMethod = null\n",
    "val numClusters = null\n",
    "val description = \"Dataset with features for training an AML model\""
   ]
  },
  {
   "cell_type": "code",
   "execution_count": null,
   "metadata": {},
   "outputs": [],
   "source": [
    "Hops.createTrainingDataset(\n",
    "    spark, datasetDf, trainingDatasetName, Hops.getProjectFeaturestore,\n",
    "    1, description, jobId, dataFormat,\n",
    "    dependencies, descriptiveStats, featureCorr,\n",
    "      featureHistograms, clusterAnalysis, statColumns, numBins,\n",
    "      corrMethod, numClusters)"
   ]
  },
  {
   "cell_type": "code",
   "execution_count": null,
   "metadata": {},
   "outputs": [],
   "source": [
    "val trainingDatasetName = \"TestDataset\"\n",
    "val jobId = null\n",
    "val dependencies = List[String]().asJava\n",
    "val primaryKey = null\n",
    "val dataFormat = \"csv\"\n",
    "val descriptiveStats = false\n",
    "val featureCorr = false\n",
    "val featureHistograms = false\n",
    "val clusterAnalysis = false\n",
    "val statColumns = List[String]().asJava\n",
    "val numBins = null\n",
    "val corrMethod = null\n",
    "val numClusters = null\n",
    "val description = \"Dataset for Demo purposes\""
   ]
  },
  {
   "cell_type": "code",
   "execution_count": null,
   "metadata": {},
   "outputs": [],
   "source": [
    "Hops.createTrainingDataset(\n",
    "    spark, datasetDf, trainingDatasetName, Hops.getProjectFeaturestore,\n",
    "    1, description, jobId, dataFormat,\n",
    "    dependencies, descriptiveStats, featureCorr,\n",
    "      featureHistograms, clusterAnalysis, statColumns, numBins,\n",
    "      corrMethod, numClusters)"
   ]
  },
  {
   "cell_type": "markdown",
   "metadata": {},
   "source": [
    "## Inserting Into an Existing Training Dataset"
   ]
  },
  {
   "cell_type": "markdown",
   "metadata": {},
   "source": [
    "Once a dataset have been created, its metadata is browsable in the featurestore registry in the Hopsworks UI. If you don't want to create a new training dataset but just overwrite new data into an existing training dataset (training datasets are immutable and generally stored in binary formats, modifying an existing traning dataset is not supported), you can use the API function `insertIntoTrainingDataset`"
   ]
  },
  {
   "cell_type": "code",
   "execution_count": null,
   "metadata": {},
   "outputs": [],
   "source": [
    "val trainingDataset = \"TestDataset\"\n",
    "val featurestore = Hops.getProjectFeaturestore \n",
    "val trainingDatasetVersion = 1 \n",
    "val mode = \"append\"\n",
    "val descriptiveStats = false\n",
    "val featureCorr = false\n",
    "val featureHistograms = false\n",
    "val clusterAnalysis = false\n",
    "val statColumns = List[String]().asJava\n",
    "val numBins = null\n",
    "val corrMethod = null\n",
    "val numClusters = null\n",
    "val description = \"trx_summary_features without the column count_trx\""
   ]
  },
  {
   "cell_type": "code",
   "execution_count": null,
   "metadata": {},
   "outputs": [],
   "source": [
    "Hops.insertIntoTrainingDataset(\n",
    "    datasetDf, \n",
    "    spark,\n",
    "    trainingDataset,\n",
    "    featurestore,\n",
    "    trainingDatasetVersion,\n",
    "    descriptiveStats, \n",
    "    featureCorr,\n",
    "    featureHistograms, \n",
    "    clusterAnalysis, \n",
    "    statColumns, \n",
    "    numBins,\n",
    "    corrMethod, \n",
    "    numClusters)"
   ]
  },
  {
   "cell_type": "markdown",
   "metadata": {},
   "source": [
    "## Get Training Dataset Path"
   ]
  },
  {
   "cell_type": "markdown",
   "metadata": {},
   "source": [
    "After a **managed** dataset have been created, it is easy to share it and re-use it for training various models. For example if the dataset have been materialized in tf-records format you can call the method `getTrainingDatasetPath(training_dataset)` to get the HDFS path and read it directly in your tensorflow/keras/pytorch code. By default the library will look for the training dataset in the project's featurestore and use version 1"
   ]
  },
  {
   "cell_type": "code",
   "execution_count": 2,
   "metadata": {},
   "outputs": [
    {
     "name": "stdout",
     "output_type": "stream",
     "text": [
      "res1: String = /Projects/fs_demo/Training_Datasets/AML_dataset_1/AML_dataset\n"
     ]
    }
   ],
   "source": [
    "Hops.getTrainingDatasetPath(\"AML_dataset\", Hops.getProjectFeaturestore, 1)"
   ]
  },
  {
   "cell_type": "markdown",
   "metadata": {},
   "source": [
    "## Get Featurestore Metadata\n",
    "\n",
    "To explore the contents of the featurestore we recommend using the featurestore page in the Hopsworks UI but you can also get the metadata programmatically from the REST API"
   ]
  },
  {
   "cell_type": "markdown",
   "metadata": {},
   "source": [
    "### List all Feature Stores Accessible In the Project"
   ]
  },
  {
   "cell_type": "code",
   "execution_count": null,
   "metadata": {},
   "outputs": [],
   "source": [
    "Hops.getProjectFeaturestores()"
   ]
  },
  {
   "cell_type": "markdown",
   "metadata": {},
   "source": [
    "### List all Feature Groups in a Feature Store"
   ]
  },
  {
   "cell_type": "code",
   "execution_count": null,
   "metadata": {},
   "outputs": [],
   "source": [
    "Hops.getFeaturegroups(Hops.getProjectFeaturestore)"
   ]
  },
  {
   "cell_type": "markdown",
   "metadata": {},
   "source": [
    "### List all Training Datasets in a Feature Store"
   ]
  },
  {
   "cell_type": "code",
   "execution_count": null,
   "metadata": {},
   "outputs": [],
   "source": [
    "Hops.getTrainingDatasets(Hops.getProjectFeaturestore)"
   ]
  },
  {
   "cell_type": "markdown",
   "metadata": {},
   "source": [
    "### Get All Metadata (Features, Feature groups, Training Datasets) for a Feature Store"
   ]
  },
  {
   "cell_type": "code",
   "execution_count": null,
   "metadata": {},
   "outputs": [],
   "source": [
    "Hops.getFeaturestoreMetadata(Hops.getProjectFeaturestore)"
   ]
  },
  {
   "cell_type": "code",
   "execution_count": null,
   "metadata": {},
   "outputs": [],
   "source": []
  }
 ],
 "metadata": {
  "kernelspec": {
   "display_name": "Spark",
   "language": "",
   "name": "sparkkernel"
  },
  "language_info": {
   "codemirror_mode": "text/x-scala",
   "mimetype": "text/x-scala",
   "name": "scala",
   "pygments_lexer": "scala"
  }
 },
 "nbformat": 4,
 "nbformat_minor": 2
}